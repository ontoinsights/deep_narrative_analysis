{
 "cells": [
  {
   "cell_type": "markdown",
   "id": "e4266746",
   "metadata": {},
   "source": [
    "# Create TTL Reflecting the WordNet Analysis to Match New Nouns/Verbs"
   ]
  },
  {
   "cell_type": "code",
   "execution_count": 1,
   "id": "77bc691a",
   "metadata": {
    "ExecuteTime": {
     "end_time": "2022-08-21T18:01:15.989436Z",
     "start_time": "2022-08-21T18:01:15.979345Z"
    }
   },
   "outputs": [],
   "source": [
    "# Map all the nouns and verbs associated with only 1 class (noun-sing.txt and verb-sing.txt) into TTL\n",
    "def get_turtle(file_text: str, is_verb: bool) -> list:\n",
    "    word_maps = file_text.split(\"\\n\")\n",
    "    new_turtle = []\n",
    "    for wmap in word_maps:\n",
    "        word = wmap.split(\" ['\")[0]\n",
    "        class_name = wmap.split(\"['\")[1]\n",
    "        class_name = class_name.split(\"']\")[0]\n",
    "        if is_verb:\n",
    "            new_turtle.append(f'<{class_name}> :verb_synonym \"{word}\" .')\n",
    "        else:\n",
    "            new_turtle.append(f'<{class_name}> :noun_synonym \"{word}\" .')\n",
    "    return new_turtle\n",
    "    \n",
    "with open('new_synonyms.ttl', 'w') as out_file:\n",
    "    with open(\"verb-sing.txt\", \"r\") as f:   # Mapping of verb to DNA class name\n",
    "        f_text = f.read()\n",
    "    out_file.write('\\n'.join(get_turtle(f_text, True)))\n",
    "    with open(\"noun-sing.txt\", \"r\") as f:   # Mapping of noun to DNA class name\n",
    "        f_text = f.read()\n",
    "    out_file.write('\\n'.join(get_turtle(f_text, False)))"
   ]
  },
  {
   "cell_type": "code",
   "execution_count": 5,
   "id": "82afbb66",
   "metadata": {
    "ExecuteTime": {
     "end_time": "2022-10-01T02:30:08.632095Z",
     "start_time": "2022-10-01T02:30:08.623207Z"
    }
   },
   "outputs": [],
   "source": [
    "# Map all the multiple choice and/or multiple type nouns/verbs (noun-multi.txt and verb-multi.txt)\n",
    "#   into a dictionary format and then pickle the dictionary\n",
    "import pickle\n",
    "\n",
    "def get_mappings(file_text: str, is_verb: bool, word_dict: dict):\n",
    "    word_maps = file_text.split(\"\\n\")\n",
    "    for wmap in word_maps:\n",
    "        word = wmap.split(\" ['\")[0]\n",
    "        class_names = wmap.split(\"['\")[1].split(\"']\")[0]\n",
    "        class_names = class_names.split(\"', '\")\n",
    "        for class_name in class_names:\n",
    "            if not class_name.startswith('urn:'):\n",
    "                print(word, class_name)\n",
    "            if word in word_dict.keys():\n",
    "                print('dup term: ', word)\n",
    "            break\n",
    "        word_dict[word] = class_names\n",
    "\n",
    "verbs_multiple = dict()\n",
    "with open(\"verb-multi.txt\", \"r\") as f:   # Mapping of verb to DNA class names\n",
    "    f_text = f.read()\n",
    "get_mappings(f_text, True, verbs_multiple)   \n",
    "nouns_multiple = dict()\n",
    "with open(\"noun-multi.txt\", \"r\") as f:   # Mapping of verb to DNA class names\n",
    "    f_text = f.read()\n",
    "get_mappings(f_text, True, nouns_multiple) \n"
   ]
  },
  {
   "cell_type": "code",
   "execution_count": 6,
   "id": "2f59a236",
   "metadata": {
    "ExecuteTime": {
     "end_time": "2022-10-01T02:30:12.409808Z",
     "start_time": "2022-10-01T02:30:12.406299Z"
    },
    "scrolled": false
   },
   "outputs": [
    {
     "name": "stdout",
     "output_type": "stream",
     "text": [
      "{'order': ['urn:ontoinsights:dna:Alignment', 'urn:ontoinsights:dna:CommandAndDemand', 'urn:ontoinsights:dna:PurchaseAndSale'], 'set up': ['urn:ontoinsights:dna:ProductionManufactureAndCreation', 'urn:ontoinsights:dna:Betrayal'], 'expire': ['urn:ontoinsights:dna:End', 'urn:ontoinsights:dna:Death'], 'close': ['urn:ontoinsights:dna:End', 'urn:ontoinsights:dna:EndOfBusiness'], 'run off': ['urn:ontoinsights:dna:MovementTravelAndTransportation+urn:ontoinsights:dna:BodyMovement'], 'endorse': ['urn:ontoinsights:dna:FriendlyOrSupportiveAct+urn:ontoinsights:dna:CommunicationAndSpeechAct'], 'record': ['urn:ontoinsights:dna:ProductionManufactureAndCreation+urn:ontoinsights:dna:InformationSource'], 'vitiate': ['urn:ontoinsights:dna:Decrease+urn:ontoinsights:dna:StateAndPhysicalChange'], 'indorse': ['urn:ontoinsights:dna:FriendlyOrSupportiveAct+urn:ontoinsights:dna:CommunicationAndSpeechAct'], 'deport': ['urn:ontoinsights:dna:MovementTravelAndTransportation+urn:ontoinsights:dna:CoercionAndIntimidation'], 'evict': ['urn:ontoinsights:dna:MovementTravelAndTransportation+urn:ontoinsights:dna:CoercionAndIntimidation'], 'employ': ['urn:ontoinsights:dna:EmploymentAndRelatedEvent', 'urn:ontoinsights:dna:UtilizationAndConsumption'], 'flounder': ['urn:ontoinsights:dna:BodyMovement', 'urn:ontoinsights:dna:ConfusionAndDoubt'], 'run into': ['urn:ontoinsights:dna:MeetingAndEncounter', 'urn:ontoinsights:dna:ImpactAndContact'], 'take the field': ['urn:ontoinsights:dna:Battle', 'urn:ontoinsights:dna:Competition'], 'bomb': ['urn:ontoinsights:dna:AttackDamageAndAssault', 'urn:ontoinsights:dna:Failure'], 'adopt': ['urn:ontoinsights:dna:CaringForDependents+urn:ontoinsights:dna:Person', 'urn:ontoinsights:dna:DecisionMakingAndChoice'], 'go along': ['urn:ontoinsights:dna:MovementTravelAndTransportation', 'urn:ontoinsights:dna:Agreement'], 'take care': ['urn:ontoinsights:dna:AttentionAndFocus', 'urn:ontoinsights:dna:CaringForDependents+urn:ontoinsights:dna:Person'], 'deal': ['urn:ontoinsights:dna:GamblingAndWagering', 'urn:ontoinsights:dna:CriminalBusiness'], 'treat': ['urn:ontoinsights:dna:HealthAndDiseaseRelated', 'urn:ontoinsights:dna:GiftAndDonation'], 'cast': ['urn:ontoinsights:dna:StateOrPhysicalChange', 'urn:ontoinsights:dna:RecreationEvent'], 'snipe': ['urn:ontoinsights:dna:SarcasmSlanderAndDerision', 'urn:ontoinsights:dna:AttackDamageAndAssault'], 'distort': ['urn:ontoinsights:dna:DeceptionAndDishonesty', 'urn:ontoinsights:dna:IncrementalMovement'], 'miss': ['urn:ontoinsights:dna:LongingAndPassion', 'urn:ontoinsights:dna:IgnoringAndOverlooking'], 'cut off': ['urn:ontoinsights:dna:End', 'urn:ontoinsights:dna:Separation'], 'polish off': ['urn:ontoinsights:dna:End', 'urn:ontoinsights:dna:MurderAndHomicide+urn:ontoinsights:dna:Person'], 'subscribe': ['urn:ontoinsights:dna:Belief', 'urn:ontoinsights:dna:PurchaseAndSale+urn:ontoinsights:dna:Publication'], 'get down': ['urn:ontoinsights:dna:SadnessAndDisappointment', 'urn:ontoinsights:dna:IncrementalMovement'], 'lay out': ['urn:ontoinsights:dna:AssertionAndDeclaration', 'urn:ontoinsights:dna:IncrementalMovement'], 'corrupt': ['urn:ontoinsights:dna:Decrease+urn:ontoinsights:dna:StateAndPhysicalChange', 'urn:ontoinsights:dna:Bribe'], 'spin': ['urn:ontoinsights:dna:AssertionAndDeclaration', 'urn:ontoinsights:dna:BodyMovement'], 'observe': ['urn:ontoinsights:dna:AssertionAndDeclaration', 'urn:ontoinsights:dna:AttentionAndFocus'], 'issue': ['urn:ontoinsights:dna:ActOfPublishing', 'urn:ontoinsights:dna:IncrementalMovement', 'urn:ontoinsights:dna:DistributionAndSupply'], 'administer': ['urn:ontoinsights:dna:Supervision', 'urn:ontoinsights:dna:DistributionAndSupply'], 'punctuate': ['urn:ontoinsights:dna:AssertionAndDeclaration', '+do'], 'turn over': ['urn:ontoinsights:dna:RemovalAndRestriction', 'urn:ontoinsights:dna:BodyMovement'], 'press': ['urn:ontoinsights:dna:RequestAndAppeal', 'urn:ontoinsights:dna:ImpactAndContact'], 'fill up': ['urn:ontoinsights:dna:Increase', 'urn:ontoinsights:dna:IncrementalMovement'], 'clot': ['urn:ontoinsights:dna:StateAndPhysicalChange', 'urn:ontoinsights:dna:HealthAndDiseaseRelated'], 'scrape': ['urn:ontoinsights:dna:BodilyInjury', 'urn:ontoinsights:dna:ImpactOrContact'], 'mount': ['urn:ontoinsights:dna:Increase', 'urn:ontoinsights:dna:BodyMovement', 'urn:ontoinsights:dna:ProjectAndCampaign'], 'fold': ['urn:ontoinsights:dna:StateAndPhysicalChange', 'urn:ontoinsights:dna:EndOfBusiness'], 'put down': ['urn:ontoinsights:dna:SarcasmSlanderAndDerision', 'urn:ontoinsights:dna:IncrementalMovement'], 'fall': ['urn:ontoinsights:dna:Decrease', 'urn:ontoinsights:dna:Failure', 'urn:ontoinsights:dna:IncrementalMovement'], 'assign': ['urn:ontoinsights:dna:DistributionAndSupply', 'urn:ontoinsights:dna:LearningAndEducation'], 'stir up': ['urn:ontoinsights:dna:TroubleAndProblem', 'urn:ontoinsights:dna:IncrementalMovement'], 'tap': ['urn:ontoinsights:dna:RequestAndAppeal', 'urn:ontoinsights:dna:ImpactAndContact'], 'grow': ['urn:ontoinsights:dna:AgricultureApicultureAndAquacultureEvent', 'urn:ontoinsights:dna:Increase'], 'touch': ['urn:ontoinsights:dna:ImpactAndContact', 'urn:ontoinsights:dna:SensoryPerception'], 'protest': ['urn:ontoinsights:dna:Complaint', 'urn:ontoinsights:dna:RefusalAndRejection'], 'round': ['urn:ontoinsights:dna:MovementTravelAndTransportation', 'urn:ontoinsights:dna:StateAndPhysicalChange'], 'whirl': ['urn:ontoinsights:dna:BodyMovement', 'urn:ontoinsights:dna:IncrementalMovement'], 'occur': ['urn:ontoinsights:dna:StartAndBeginning', 'urn:ontoinsights:dna:Cognition', 'urn:ontoinsights:dna:EnvironmentAndCondition'], 'happen': ['urn:ontoinsights:dna:StartAndBeginning', 'urn:ontoinsights:dna:Acquisition'], 'strike': ['urn:ontoinsights:dna:ImpactAndContact', 'urn:ontoinsights:dna:DemonstrationStrikeAndRally'], 'perform': ['urn:ontoinsights:dna:ArtAndEntertainment', '+do'], 'act': ['urn:ontoinsights:dna:ArtAndEntertainment', '+do'], 'execute': ['urn:ontoinsights:dna:MurderAndHomicide+urn:ontoinsights:dna:Person', '+do'], 'pursue': ['urn:ontoinsights:dna:AggressiveOrHostileAct', '+do'], 'maintain': ['urn:ontoinsights:dna:MaintenanceAndRepair', 'urn:ontoinsights:dna:Continuation+do'], 'stage': ['urn:ontoinsights:dna:ArtAndEntertainment', 'urn:ontoinsights:dna:DeceptionAndDishonesty'], 'put on': ['urn:ontoinsights:dna:ArtAndEntertainment', 'urn:ontoinsights:dna:DeceptionAndDishonesty', 'urn:ontoinsights:dna:Grooming'], 'examine': ['urn:ontoinsights:dna:Inquiry', 'urn:ontoinsights:dna:AttentionAndFocus'], 'stop': ['urn:ontoinsights:dna:End', 'urn:ontoinsights:dna:Prevention'], 'wrestle': ['urn:ontoinsights:dna:AttentionAndFocus', 'urn:ontoinsights:dna:Competition'], 'cluster': ['urn:ontoinsights:dna:MeetingAndEncounter', 'urn:ontoinsights:dna:Alignment'], 'advance': ['urn:ontoinsights:dna:EmploymentAndRelatedEvent', 'urn:ontoinsights:dna:MovementTravelAndTransportation'], 'gain': ['urn:ontoinsights:dna:Income', 'urn:ontoinsights:dna:Increase'], 'climb': ['urn:ontoinsights:dna:Increase', 'urn:ontoinsights:dna:BodyMovement'], 'bring up': ['urn:ontoinsights:dna:CaringForDependents+urn:ontoinsights:dna:Person', 'urn:ontoinsights:dna:Cognition'], 'draw': ['urn:ontoinsights:dna:BodilyAct', 'urn:ontoinsights:dna:IncrementalMovement'], 'ride': ['urn:ontoinsights:dna:SarcasmSlanderAndDerision+urn:ontoinsights:dna:Person', 'urn:ontoinsights:dna:MovementTravelAndTransportation'], 'turn up': ['urn:ontoinsights:dna:ReturnRecoveryAndRelease', 'urn:ontoinsights:dna:Increase', 'urn:ontoinsights:dna:MovementTravelAndTransportation'], 'beat': ['urn:ontoinsights:dna:ImpactAndContact', 'urn:ontoinsights:dna:Exhaustion'], 'hurl': ['urn:ontoinsights:dna:BodilyAct', 'urn:ontoinsights:dna:IncrementalMovement'], 'wave': ['urn:ontoinsights:dna:BodyMovement', 'urn:ontoinsights:dna:Grooming', 'urn:ontoinsights:dna:IncrementalMovement'], 'turn back': ['urn:ontoinsights:dna:Change', 'urn:ontoinsights:dna:Prevention', 'urn:ontoinsights:dna:MovementTravelAndTransportation'], 'lick': ['urn:ontoinsights:dna:ImpactAndContact', 'urn:ontoinsights:dna:Eating'], 'struggle': ['urn:ontoinsights:dna:Battle', 'urn:ontoinsights:dna:Attempt'], 'cry': ['urn:ontoinsights:dna:ExpressiveAndExclamation', 'urn:ontoinsights:dna:SadnessAndDisappointment'], 'down': ['urn:ontoinsights:dna:AttackDamageAndAssault', 'urn:ontoinsights:dna:UtilizationAndConsumption'], 'slip': ['urn:ontoinsights:dna:Decrease', 'urn:ontoinsights:dna:IncrementalMovement', 'urn:ontoinsights:dna:EscapeAndEvasion'], 'go down': ['urn:ontoinsights:dna:Decrease', 'urn:ontoinsights:dna:MovementTravelAndTransportation'], 'strike down': ['urn:ontoinsights:dna:AttackDamageAndAssault', 'urn:ontoinsights:dna:RefusalAndRejection'], 'shave': ['urn:ontoinsights:dna:Grooming', 'urn:ontoinsights:dna:Separation'], 'warm up': ['urn:ontoinsights:dna:StateAndPhysicalChange', 'urn:ontoinsights:dna:Increase'], 'converge': ['urn:ontoinsights:dna:InclusionAttachmentAndUnification', 'urn:ontoinsights:dna:MeetingAndEncounter'], 'divest': ['urn:ontoinsights:dna:Prevention', 'urn:ontoinsights:dna:RemovalAndRestriction'], 'prescribe': ['urn:ontoinsights:dna:CommandAndDemand', 'urn:ontoinsights:dna:HealthAndDiseaseRelated'], 'provide': ['urn:ontoinsights:dna:AidAndAssistance', 'urn:ontoinsights:dna:DistributionAndSupply'], 'distill': ['urn:ontoinsights:dna:StateAndPhysicalChange', 'urn:ontoinsights:dna:MeaningImplicationAndInference'], 'sequester': ['urn:ontoinsights:dna:Separation', 'urn:ontoinsights:dna:CaptureAndSeizure'], 'stretch': ['urn:ontoinsights:dna:Increase', 'urn:ontoinsights:dna:BodyMovement'], 'pass': ['urn:ontoinsights:dna:Permission', 'urn:ontoinsights:dna:MovementTravelAndTransportation'], 'arise': ['urn:ontoinsights:dna:BodyMovement', 'urn:ontoinsights:dna:StartAndBeginning'], 'oblige': ['urn:ontoinsights:dna:RequirementAndDependence', 'urn:ontoinsights:dna:CommandAndDemand'], 'quit': ['urn:ontoinsights:dna:End', 'urn:ontoinsights:dna:EmploymentAndRelatedEvent'], 'tumble': ['urn:ontoinsights:dna:BodyMovement', 'urn:ontoinsights:dna:IncrementalMovement'], 'spoil': ['urn:ontoinsights:dna:StateAndPhysicalChange', 'urn:ontoinsights:dna:Prevention'], 'get off': ['urn:ontoinsights:dna:MovementTravelAndTransportation', 'urn:ontoinsights:dna:EscapeAndEvasion'], 'retire': ['urn:ontoinsights:dna:MovementTravelAndTransportation', 'urn:ontoinsights:dna:EmploymentAndRelatedEvent'], 'check': ['urn:ontoinsights:dna:AttentionAndFocus', 'urn:ontoinsights:dna:End'], 'reach': ['urn:ontoinsights:dna:Success', 'urn:ontoinsights:dna:BodyMovement'], 'upset': ['urn:ontoinsights:dna:ImpactAndContact', 'urn:ontoinsights:dna:Anxiety'], 'waste': ['urn:ontoinsights:dna:UtilizationAndConsumption', 'urn:ontoinsights:dna:Loss'], 'give out': ['urn:ontoinsights:dna:DistributionAndSupply', 'urn:ontoinsights:dna:Exhaustion', 'urn:ontoinsights:dna:Failure', 'urn:ontoinsights:dna:UtilizationAndConsumption'], 'rot': ['urn:ontoinsights:dna:Decrease', 'urn:ontoinsights:dna:StateAndPhysicalChange'], 'void': ['urn:ontoinsights:dna:BodilyAct', 'urn:ontoinsights:dna:RefusalAndRejection'], 'weave': ['urn:ontoinsights:dna:InclusionAttachmentAndUnification', 'urn:ontoinsights:dna:ProductionManufactureAndCreation'], 'close up': ['urn:ontoinsights:dna:EndOfBusiness', 'urn:ontoinsights:dna:StateAndPhysicalChange', 'urn:ontoinsights:dna:StateAndPhysicalChange+negation'], 'pull out': ['urn:ontoinsights:dna:RemovalAndRestriction', 'urn:ontoinsights:dna:End'], 'charge': ['urn:ontoinsights:dna:PurchaseAndSale', 'urn:ontoinsights:dna:LegalEvent'], 'range': ['urn:ontoinsights:dna:MovementTravelAndTransportation', 'urn:ontoinsights:dna:Alignment'], 'follow': ['urn:ontoinsights:dna:Compliance', 'urn:ontoinsights:dna:MovementTravelAndTransportation'], 'come down': ['urn:ontoinsights:dna:Decrease', 'urn:ontoinsights:dna:MovementTravelAndTransportation'], 'go up': ['urn:ontoinsights:dna:Increase', 'urn:ontoinsights:dna:StateAndPhysicalChange', 'urn:ontoinsights:dna:ProductionManufactureAndCreation'], 'lighten': ['urn:ontoinsights:dna:Increase', 'urn:ontoinsights:dna:Decrease', 'urn:ontoinsights:dna:StateAndPhysicalChange'], 'call': ['urn:ontoinsights:dna:CommandAndDemand', 'urn:ontoinsights:dna:GamblingAndWagering'], 'knock': ['urn:ontoinsights:dna:Complaint', 'urn:ontoinsights:dna:ImpactAndContact', 'urn:ontoinsights:dna:BodyMovement'], 'screw': ['urn:ontoinsights:dna:BodilyAct', 'urn:ontoinsights:dna:IncrementalMovement'], 'hook': ['urn:ontoinsights:dna:CaptureAndSeizure', 'urn:ontoinsights:dna:AttentionAndFocus'], 'freeze': ['urn:ontoinsights:dna:StateAndPhysicalChange', 'urn:ontoinsights:dna:RemovalAndRestriction'], 'plead': ['urn:ontoinsights:dna:LegalEvent', 'urn:ontoinsights:dna:RequestAndAppeal'], 'decline': ['urn:ontoinsights:dna:Decrease', 'urn:ontoinsights:dna:RefusalAndRejection']}\n"
     ]
    }
   ],
   "source": [
    "print(verbs_multiple)"
   ]
  },
  {
   "cell_type": "code",
   "execution_count": 7,
   "id": "bd023990",
   "metadata": {
    "ExecuteTime": {
     "end_time": "2022-10-01T02:30:16.044757Z",
     "start_time": "2022-10-01T02:30:16.039756Z"
    }
   },
   "outputs": [],
   "source": [
    "with open('nouns-multiple.pickle', 'wb') as out_file:\n",
    "    pickle.dump(nouns_multiple, out_file)\n",
    "with open('verbs-multiple.pickle', 'wb') as out_file:\n",
    "    pickle.dump(verbs_multiple, out_file)"
   ]
  },
  {
   "cell_type": "markdown",
   "id": "4b01c602",
   "metadata": {},
   "source": [
    "# Check for Duplicates in Multi-Type Nouns and Verbs"
   ]
  },
  {
   "cell_type": "code",
   "execution_count": 5,
   "id": "719ced75",
   "metadata": {
    "ExecuteTime": {
     "end_time": "2022-08-23T04:54:53.787914Z",
     "start_time": "2022-08-23T04:54:53.706899Z"
    }
   },
   "outputs": [],
   "source": [
    "import stardog\n",
    "\n",
    "sd_conn_details = {'endpoint': 'http://localhost:5820',\n",
    "                   'username': 'admin',\n",
    "                   'password': 'admin'}\n",
    "\n",
    "query_noun_syn = 'prefix : <urn:ontoinsights:dna:> select ?class where {?class :noun_synonym \"term\" }'\n",
    "query_verb_syn = 'prefix urn: <urn:ontoinsights:dna:> select ?class where {?class :verb_synonym \"term\" }'\n",
    "\n",
    "dna_conn = stardog.Connection(\"dna\", **sd_conn_details)"
   ]
  },
  {
   "cell_type": "code",
   "execution_count": 6,
   "id": "fcd95f5c",
   "metadata": {
    "ExecuteTime": {
     "end_time": "2022-08-23T04:54:55.007542Z",
     "start_time": "2022-08-23T04:54:54.625768Z"
    }
   },
   "outputs": [],
   "source": [
    "with open('verb-multi.txt', 'r') as in_file:\n",
    "    f_text = in_file.read()\n",
    "multi_records = f_text.split('\\n')\n",
    "for rec in multi_records:\n",
    "    texts = rec.split(\" ['\")\n",
    "    syn_results = dna_conn.select(query_verb_syn.replace(\"term\", texts[0]), \n",
    "                                  content_type='application/sparql-results+json')\n",
    "    for syn_result in syn_results['results']['bindings']:\n",
    "        class_name = syn_result['class']['value']\n",
    "        print('text: ', texts[0], 'class: ', class_name, 'mapping: ', texts[1])\n",
    "     "
   ]
  },
  {
   "cell_type": "code",
   "execution_count": 7,
   "id": "f2469d0f",
   "metadata": {
    "ExecuteTime": {
     "end_time": "2022-08-23T04:54:58.135479Z",
     "start_time": "2022-08-23T04:54:56.740910Z"
    }
   },
   "outputs": [],
   "source": [
    "with open('noun-multi.txt', 'r') as in_file:\n",
    "    f_text = in_file.read()\n",
    "multi_records = f_text.split('\\n')\n",
    "for rec in multi_records:\n",
    "    texts = rec.split(\" ['\")\n",
    "    syn_results = dna_conn.select(query_noun_syn.replace(\"term\", texts[0]), \n",
    "                                  content_type='application/sparql-results+json')\n",
    "    for syn_result in syn_results['results']['bindings']:\n",
    "        class_name = syn_result['class']['value']\n",
    "        print('text: ', texts[0], 'class: ', class_name, 'mapping: ', texts[1])"
   ]
  },
  {
   "cell_type": "code",
   "execution_count": null,
   "id": "91a0f3ac",
   "metadata": {},
   "outputs": [],
   "source": []
  }
 ],
 "metadata": {
  "kernelspec": {
   "display_name": "Python 3 (ipykernel)",
   "language": "python",
   "name": "python3"
  },
  "language_info": {
   "codemirror_mode": {
    "name": "ipython",
    "version": 3
   },
   "file_extension": ".py",
   "mimetype": "text/x-python",
   "name": "python",
   "nbconvert_exporter": "python",
   "pygments_lexer": "ipython3",
   "version": "3.8.8"
  },
  "varInspector": {
   "cols": {
    "lenName": 16,
    "lenType": 16,
    "lenVar": 40
   },
   "kernels_config": {
    "python": {
     "delete_cmd_postfix": "",
     "delete_cmd_prefix": "del ",
     "library": "var_list.py",
     "varRefreshCmd": "print(var_dic_list())"
    },
    "r": {
     "delete_cmd_postfix": ") ",
     "delete_cmd_prefix": "rm(",
     "library": "var_list.r",
     "varRefreshCmd": "cat(var_dic_list()) "
    }
   },
   "types_to_exclude": [
    "module",
    "function",
    "builtin_function_or_method",
    "instance",
    "_Feature"
   ],
   "window_display": true
  }
 },
 "nbformat": 4,
 "nbformat_minor": 5
}
