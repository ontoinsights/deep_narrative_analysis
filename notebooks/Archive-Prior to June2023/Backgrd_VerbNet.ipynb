{
 "cells": [
  {
   "cell_type": "markdown",
   "id": "022e3d81",
   "metadata": {},
   "source": [
    "# Collecting VerbNet Semantics\n",
    "\n",
    "This notebook parses all the VerbNet .XML definitions - extracting the verbs (from VNCLASS ID and MEMBER names, including SUBCLASS MEMBER names), and each of the applicable frame details (both thematic roles and semantics). \n",
    "\n",
    "The results are very similar to the VerbNet API (v0.3.1 at https://hexdocs.pm/verbnet/VerbNet.html#content) but are focused on the thematic roles (vs the Part-of-Speech parse).\n",
    "\n",
    "The following dictionaries are created and saved as pickle files:\n",
    "* Dictionary of verb class IDs as keys with each value = a set (to avoid duplicates) of sentence syntax patterns\n",
    "  * Class IDs extracted from VNCLASS ID or VNSUBCLASS ID attribute\n",
    "  * Syntax pattern assembled (in order) from each FRAME SYNTAX element's value attribute\n",
    "    * This pattern will be aligned with the dependency parse from spaCy for the ROOT verb\n",
    "* Dictionary of verb text as keys with each value = an array of possible class ID keys\n",
    "  * Verb text extracted from the text portion of the VNCLASS or VNSUBCLASS ID or the MEMBER name attributes\n",
    "* Dictionary of verb class ID + syntax pattern (concatenated to create a key) with each value = a dictionary of the SEMANTICS PRED value (the key) and an array of ARG type-value tuples (for that PRED value) \n",
    "\n",
    "The pickle files are then moved to the dna/resources directory for use in the application.\n",
    "    \n",
    "An example XML structure is:\n",
    "```\n",
    "<VNCLASS xmlns:xsi=\"http://www.w3.org/2001/XMLSchema-instance\" ID=\"dedicate-79\" ...> \n",
    "    <MEMBERS>\n",
    "        <MEMBER name=\"dedicate\" wn=\"dedicate%2:32:00\" grouping=\"dedicate.01\"/>\n",
    "        <MEMBER name=\"devote\" wn=\"devote%2:32:00\" grouping=\"devote.01\"/>\n",
    "        <MEMBER name=\"commit\" wn=\"commit%2:32:01 commit%2:40:00\" grouping=\"commit.02\"/>\n",
    "    </MEMBERS>\n",
    "    <THEMROLES>\n",
    "        ...\n",
    "    </THEMROLES>\n",
    "    <FRAMES>\n",
    "        <FRAME>\n",
    "            <DESCRIPTION descriptionNumber=\"8.1\" primary=\"NP V NP S_ING\" secondary=\"NP-P-ING-SC; to-PP\" .../>\n",
    "            <EXAMPLES>\n",
    "                <EXAMPLE>I dedicated myself to the cause.</EXAMPLE>\n",
    "            </EXAMPLES>\n",
    "            <SYNTAX>\n",
    "                <NP value=\"Agent\">\n",
    "                    <SYNRESTRS/>\n",
    "                </NP>\n",
    "                <VERB/>\n",
    "                <NP value=\"Theme\">\n",
    "                    <SYNRESTRS/>\n",
    "                </NP>\n",
    "                <PREP value=\"to\">\n",
    "                    <SYNRESTRS/>\n",
    "                </PREP>\n",
    "                <NP value=\"Goal\">\n",
    "                    <SYNRESTRS/>\n",
    "                </NP>\n",
    "            </SYNTAX>\n",
    "            <SEMANTICS>\n",
    "                <PRED value=\"dedicate\">\n",
    "                    <ARGS>\n",
    "                        <ARG type=\"Event\" value=\"during(E)\"/>\n",
    "                        <ARG type=\"ThemRole\" value=\"Agent\"/>\n",
    "                        <ARG type=\"ThemRole\" value=\"Theme\"/>\n",
    "                        <ARG type=\"ThemRole\" value=\"Goal\"/>\n",
    "                    </ARGS>\n",
    "                </PRED>\n",
    "            </SEMANTICS>\n",
    "        </FRAME>\n",
    "        <FRAME>\n",
    "            <DESCRIPTION descriptionNumber=\"0.2\" primary=\"NP V NP PP.goal\" secondary=\"NP-PP; to-PP\" .../>\n",
    "            <EXAMPLES>\n",
    "                <EXAMPLE>I dedicated myself to the cause.</EXAMPLE>\n",
    "            </EXAMPLES>\n",
    "            <SYNTAX>\n",
    "                <NP value=\"Agent\">\n",
    "                    <SYNRESTRS/>\n",
    "                </NP>\n",
    "                <VERB/>\n",
    "                <NP value=\"Theme\">\n",
    "                    <SYNRESTRS/>\n",
    "                </NP>\n",
    "                <PREP value=\"to\">\n",
    "                    <SELRESTRS/>\n",
    "                </PREP>\n",
    "                <NP value=\"Goal\">\n",
    "                    <SYNRESTRS>\n",
    "                        <SYNRESTR Value=\"-\" type=\"sentential\"/>\n",
    "                    </SYNRESTRS>\n",
    "                </NP>\n",
    "            </SYNTAX>\n",
    "            <SEMANTICS>\n",
    "                <PRED value=\"dedicate\">\n",
    "                    <ARGS>\n",
    "                        <ARG type=\"Event\" value=\"during(E)\"/>\n",
    "                        <ARG type=\"ThemRole\" value=\"Agent\"/>\n",
    "                        <ARG type=\"ThemRole\" value=\"Theme\"/>\n",
    "                        <ARG type=\"ThemRole\" value=\"Goal\"/>\n",
    "                    </ARGS>\n",
    "                </PRED>\n",
    "            </SEMANTICS>\n",
    "        </FRAME>\n",
    "    </FRAMES>\n",
    "    <SUBCLASSES/>\n",
    "</VNCLASS>\n",
    "```\n",
    "\n",
    "The above results in the following dictionary entries:\n",
    "* Dictionary of verb class IDs as keys with each value = an array of sentence syntax patterns\n",
    "  * Key = 'dedicate-79', Value = set with 1 tuple consisting of 'Agent', 'VERB', 'Theme', 'to', 'Goal'\n",
    "* Dictionary of verb text as keys with each value = an array of possible class ID keys\n",
    "  * Key = 'dedicate', Value = 'dedicate-79'\n",
    "  * Key = 'devote', Value = 'dedicate-79'\n",
    "  * Key = 'commit', Value = 'dedicate-79'\n",
    "* Dictionary of verb class ID + syntax pattern (concatenated to create a key) with each value = a dictionary of the semantic PRED (the key) and an array of ARG type-value tuples\n",
    "  * Key = \"dedicate-79 Agent V Theme 'to' Goal\", Value = dictionary with members:\n",
    "    * Key = 'dedicate' and Value = array of ('Event','during(E)'), ('ThemRole', 'Agent'), ('ThemRole', 'Theme'), ('ThemRole', 'Goal')"
   ]
  },
  {
   "cell_type": "code",
   "execution_count": 1,
   "id": "c24fabc7",
   "metadata": {
    "ExecuteTime": {
     "end_time": "2021-05-05T03:09:36.139251Z",
     "start_time": "2021-05-05T03:09:36.132279Z"
    }
   },
   "outputs": [],
   "source": [
    "# Imports\n",
    "import json\n",
    "from pathlib import Path\n",
    "import pickle\n",
    "import xml.etree.ElementTree as ET"
   ]
  },
  {
   "cell_type": "code",
   "execution_count": 2,
   "id": "31002093",
   "metadata": {
    "ExecuteTime": {
     "end_time": "2021-05-05T03:09:37.044925Z",
     "start_time": "2021-05-05T03:09:37.042796Z"
    }
   },
   "outputs": [],
   "source": [
    "# Constants\n",
    "verbnet_dir = '/Users/andreaw/Documents/VerbNet3.4'"
   ]
  },
  {
   "cell_type": "code",
   "execution_count": 4,
   "id": "cd68dffe",
   "metadata": {
    "ExecuteTime": {
     "end_time": "2021-05-05T03:11:52.947533Z",
     "start_time": "2021-05-05T03:11:52.936786Z"
    }
   },
   "outputs": [],
   "source": [
    "# Functions\n",
    "def add_to_dict(dictionary: dict, key: str, value):\n",
    "    # Deal with a dictionary differently since it is not hashable (and so can't remove duplicates using a set)\n",
    "    if isinstance(value, dict):\n",
    "        if key in dictionary.keys():\n",
    "            dict_values = dictionary[key]\n",
    "            dict_set = set()\n",
    "            for dict_value in dict_values:\n",
    "                # Turn the current (dict) value into JSON strings and add them to a set\n",
    "                dict_set.add(json.dumps(dict_value))  \n",
    "            # Check if the 'new' value (as a JSON string) is already in the set\n",
    "            if json.dumps(value) not in dict_set:\n",
    "                # Value is not in the set, so add it and update the dictionary\n",
    "                dict_values.append(value)\n",
    "                dictionary[key] = dict_values\n",
    "        else:\n",
    "            dictionary[key] = [value]\n",
    "        # Finished with processing an array of dictionaries\n",
    "        return\n",
    "            \n",
    "    # Deal with other value types\n",
    "    values = set()      \n",
    "    if isinstance(value, list):\n",
    "        new_value = tuple(value)\n",
    "    else:\n",
    "        new_value = value\n",
    "    if key in dictionary.keys():\n",
    "        values = dictionary[key]\n",
    "    values.add(new_value)\n",
    "    dictionary[key] = values\n",
    "\n",
    "\n",
    "def extract_frame_syntax(etree) -> list:\n",
    "    syn_list = list()\n",
    "    for child in etree:\n",
    "        if 'value' not in child.attrib:\n",
    "            value = child.tag\n",
    "        else:\n",
    "            value = child.attrib['value']\n",
    "        syn_list.append(value)\n",
    "    return syn_list\n",
    "\n",
    "\n",
    "def extract_frame_semantics(etree) -> dict:\n",
    "    sem_dict = dict()\n",
    "    for pred in etree.findall('PRED'):\n",
    "        arg_list = list()\n",
    "        for arg in pred.findall('./ARGS/ARG'):\n",
    "            arg_list.append((arg.attrib['type'], arg.attrib['value']))\n",
    "        sem_dict[pred.attrib['value']] = arg_list\n",
    "    return sem_dict\n",
    "\n",
    "\n",
    "def get_verb_details(etree) -> list:\n",
    "    # Get the class ID\n",
    "    verb_id = etree.attrib['ID']\n",
    "    # Add vn class verb to the verb_text_dict\n",
    "    add_to_dict(verb_text_dict, verb_id.split('-')[0], verb_id)\n",
    "    # Add the member (similar) verbs to the verb_text_dict\n",
    "    for member in get_verbs_with_similar_structure(etree):\n",
    "        add_to_dict(verb_text_dict, member, verb_id)\n",
    "    \n",
    "    for frame in etree.findall('./FRAMES/FRAME'):\n",
    "        # Add the syntax pattern to the verb ID in the verb_pattern_dict\n",
    "        syn_pattern = extract_frame_syntax(frame.find('SYNTAX'))\n",
    "        add_to_dict(verb_pattern_dict, verb_id, syn_pattern)\n",
    "        # Get the semantic details for the pattern and add it to the verb_sem_dict\n",
    "        add_to_dict(verb_sem_dict, f'{verb_id} {\" \".join(syn_pattern)}', \n",
    "                    extract_frame_semantics(frame.find('SEMANTICS')))\n",
    "    \n",
    "    # Recursively process the subclasses\n",
    "    for subclass in etree.findall('./SUBCLASSES/VNSUBCLASS'):\n",
    "        get_verb_details(subclass)\n",
    "        \n",
    "\n",
    "def get_verbs_with_similar_structure(etree) -> list:\n",
    "    member_list = list()\n",
    "    for member in etree.findall('./MEMBERS/MEMBER'):\n",
    "        member_list.append(member.attrib['name'])\n",
    "    return member_list\n"
   ]
  },
  {
   "cell_type": "code",
   "execution_count": 5,
   "id": "0bfd9604",
   "metadata": {
    "ExecuteTime": {
     "end_time": "2021-05-05T03:11:57.140023Z",
     "start_time": "2021-05-05T03:11:56.945014Z"
    }
   },
   "outputs": [],
   "source": [
    "# Dictionaries to be created\n",
    "verb_pattern_dict = dict()\n",
    "verb_text_dict = dict()\n",
    "verb_sem_dict = dict()\n",
    "\n",
    "# Process each of the VerbNet files\n",
    "file_list = Path(verbnet_dir).glob('**/*.xml')\n",
    "for file_path in file_list:\n",
    "    file_str = str(file_path)\n",
    "    with open(file_str, 'r') as xml_file:\n",
    "        xml_in = xml_file.read()\n",
    "        \n",
    "    # Create the tree\n",
    "    vn_class = ET.fromstring(xml_in)\n",
    "    # Process from the top down, recursively\n",
    "    get_verb_details(vn_class)"
   ]
  },
  {
   "cell_type": "code",
   "execution_count": 6,
   "id": "21656edf",
   "metadata": {
    "ExecuteTime": {
     "end_time": "2021-05-05T03:23:08.354026Z",
     "start_time": "2021-05-05T03:23:08.338160Z"
    }
   },
   "outputs": [],
   "source": [
    "with open('verb_ids_to_patterns.pickle', 'wb') as out_file:\n",
    "    pickle.dump(verb_pattern_dict, out_file)\n",
    "with open('verb_texts_to_ids.pickle', 'wb') as out_file:\n",
    "    pickle.dump(verb_text_dict, out_file)\n",
    "with open('verb_idpattern_to_semantics.pickle', 'wb') as out_file:\n",
    "    pickle.dump(verb_sem_dict, out_file)"
   ]
  },
  {
   "cell_type": "code",
   "execution_count": null,
   "id": "678b5e40",
   "metadata": {},
   "outputs": [],
   "source": []
  }
 ],
 "metadata": {
  "kernelspec": {
   "display_name": "Python 3",
   "language": "python",
   "name": "python3"
  },
  "language_info": {
   "codemirror_mode": {
    "name": "ipython",
    "version": 3
   },
   "file_extension": ".py",
   "mimetype": "text/x-python",
   "name": "python",
   "nbconvert_exporter": "python",
   "pygments_lexer": "ipython3",
   "version": "3.8.9"
  },
  "varInspector": {
   "cols": {
    "lenName": 16,
    "lenType": 16,
    "lenVar": 40
   },
   "kernels_config": {
    "python": {
     "delete_cmd_postfix": "",
     "delete_cmd_prefix": "del ",
     "library": "var_list.py",
     "varRefreshCmd": "print(var_dic_list())"
    },
    "r": {
     "delete_cmd_postfix": ") ",
     "delete_cmd_prefix": "rm(",
     "library": "var_list.r",
     "varRefreshCmd": "cat(var_dic_list()) "
    }
   },
   "oldHeight": 122,
   "position": {
    "height": "40px",
    "left": "1383px",
    "right": "20px",
    "top": "120px",
    "width": "250px"
   },
   "types_to_exclude": [
    "module",
    "function",
    "builtin_function_or_method",
    "instance",
    "_Feature"
   ],
   "varInspector_section_display": "none",
   "window_display": true
  }
 },
 "nbformat": 4,
 "nbformat_minor": 5
}
