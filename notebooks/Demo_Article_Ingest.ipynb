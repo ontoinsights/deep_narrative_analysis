{
 "cells": [
  {
   "cell_type": "markdown",
   "id": "80c27981",
   "metadata": {},
   "source": [
    "## Input news articles into the Stardog DNA repositories\n",
    "\n",
    "There are 8 articles from different sources on the 2024 presidential election results. They are stored in the directory, articles/election.\n",
    "\n",
    "A repository (\"election\") is created with background data. Then, the articles' sentences are converted to RDF, using the DNA Ontology, and ingested into the 'dna' Stardog Cloud repository.\n",
    "\n",
    "To execute this notebook, make sure that: \n",
    "* The DNA application's flask server is running (execute 'flask run' from the dna directory)"
   ]
  },
  {
   "cell_type": "code",
   "execution_count": 1,
   "id": "3e740c1b",
   "metadata": {
    "ExecuteTime": {
     "end_time": "2024-06-06T00:03:04.444571Z",
     "start_time": "2024-06-06T00:03:04.377741Z"
    }
   },
   "outputs": [],
   "source": [
    "import json\n",
    "import requests"
   ]
  },
  {
   "cell_type": "code",
   "execution_count": 2,
   "id": "5ed2299c",
   "metadata": {
    "ExecuteTime": {
     "end_time": "2024-06-05T04:33:45.184287Z",
     "start_time": "2024-06-05T04:33:41.431924Z"
    }
   },
   "outputs": [
    {
     "name": "stdout",
     "output_type": "stream",
     "text": [
      "200 [{'created': '2024-12-16T03:04:51', 'repository': 'election'}]\n"
     ]
    }
   ],
   "source": [
    "# Delete the previous repositories to guarantee a clean slate\n",
    "response = requests.delete('http://127.0.0.1:5000/dna/v1/repositories?repository=election')\n",
    "# Delete the test repository, foo\n",
    "response = requests.delete('http://127.0.0.1:5000/dna/v1/repositories?repository=foo')\n",
    "\n",
    "# Create the repositories for the news articles\n",
    "response = requests.post('http://127.0.0.1:5000/dna/v1/repositories?repository=election')\n",
    "# Verify that the repository is created\n",
    "response = requests.get('http://127.0.0.1:5000/dna/v1/repositories')\n",
    "print(response.status_code, response.json()) "
   ]
  },
  {
   "cell_type": "code",
   "execution_count": 3,
   "id": "c47bd8b2-3624-49d8-b06d-a50604cd7da0",
   "metadata": {},
   "outputs": [
    {
     "name": "stdout",
     "output_type": "stream",
     "text": [
      "201 {'processedNames': [{'isCollection': False, 'name': 'Kamala Harris', 'type': 'person'}, {'isCollection': False, 'name': 'Joe Biden', 'type': 'person'}, {'isCollection': False, 'name': 'Donald Trump', 'type': 'person'}, {'isCollection': False, 'name': 'JD Vance', 'type': 'person'}, {'isCollection': False, 'name': 'Tim Walz', 'type': 'person'}, {'alsoKnownAs': ['Roe', 'Roe v Wade'], 'isCollection': False, 'name': 'Roe vs Wade', 'type': 'law'}, {'isCollection': False, 'name': 'Democratic Party', 'type': 'norp'}, {'isCollection': False, 'name': 'Republican Party', 'type': 'norp'}, {'isCollection': True, 'name': 'blue States', 'type': 'place'}, {'isCollection': True, 'name': 'red States', 'type': 'place'}], 'repository': 'election', 'skippedNames': []}\n"
     ]
    }
   ],
   "source": [
    "# Add background data\n",
    "election_background = {\n",
    "  \"backgroundNames\": [\n",
    "    {\"name\": \"Kamala Harris\", \"type\": \"person\", \"isCollection\": False},  \n",
    "    {\"name\": \"Joe Biden\", \"type\": \"person\", \"isCollection\": False},  \n",
    "    {\"name\": \"Donald Trump\", \"type\": \"person\", \"isCollection\": False}, \n",
    "    {\"name\": \"JD Vance\", \"type\": \"person\", \"isCollection\": False},   \n",
    "    {\"name\": \"Tim Walz\", \"type\": \"person\", \"isCollection\": False},  \n",
    "    {\"name\": \"Roe vs Wade\", \"type\": \"law\", \"alsoKnownAs\": [\"Roe\", \"Roe v Wade\"], \"isCollection\": False},  \n",
    "    {\"name\": \"Democratic Party\", \"type\": \"norp\", \"isCollection\": False},  \n",
    "    {\"name\": \"Republican Party\", \"type\": \"norp\", \"isCollection\": False},  \n",
    "    {\"name\": \"blue States\", \"type\": \"place\", \"isCollection\": True},   \n",
    "    {\"name\": \"red States\", \"type\": \"place\", \"isCollection\": True}\n",
    "  ]\n",
    "}\n",
    "response = requests.post(f'http://127.0.0.1:5000/dna/v1/repositories/background?repository=election', \n",
    "                         json=election_background)\n",
    "print(response.status_code, response.json()) \n"
   ]
  },
  {
   "cell_type": "code",
   "execution_count": 4,
   "id": "ecfab3c4-b191-496d-9a23-206b5bfcade1",
   "metadata": {},
   "outputs": [],
   "source": [
    "file_names = ('Al Jazeera', 'Breitbart', 'Christian Science Monitor', 'Economist', 'Financial Express', 'Fox News', 'Globe and Mail',\n",
    "              'Guardian', 'Hindustan Times', 'Huffington Post', 'Indo-Asian News Service', 'Irish Times', 'Namibian', 'New York Times', \n",
    "              'Toronto Star', 'USA Today', 'Wall Street Journal', 'Washington Post', 'Washington Times')\n",
    "\n",
    "international = ('Al Jazeera', 'Economist', 'Financial Express', 'Globe and Mail', 'Guardian', \n",
    "                 'Hindustan Times', 'Indo-Asian News Service', 'Irish Times', 'Namibian', 'Toronto Star')\n",
    "# Classification for news (not editorials)\n",
    "center = ('Christian Science Monitor', 'Wall Street Journal', 'Economist')\n",
    "conservative = ('Breitbart', 'Fox News', 'Washington Times')\n",
    "liberal = ('Huffington Post', 'New York Times', 'USA Today', 'Washington Post')"
   ]
  },
  {
   "cell_type": "code",
   "execution_count": 5,
   "id": "4027a3f0",
   "metadata": {
    "ExecuteTime": {
     "end_time": "2024-06-05T04:33:48.875566Z",
     "start_time": "2024-06-05T04:33:48.870768Z"
    },
    "code_folding": [],
    "scrolled": true
   },
   "outputs": [],
   "source": [
    "# Function to ingest each news article, up to 100 sentences\n",
    "def ingest_articles(repository: str): \n",
    "    for file_name in file_names:\n",
    "        try: \n",
    "            with open(f'articles/{repository}-articles/{file_name}.txt', 'r') as article:\n",
    "                article_details = article.read()  \n",
    "        except:\n",
    "            continue\n",
    "        req_dict = dict()\n",
    "        req_dict['title'] = article_details.split('Title: ')[1].split('\\n')[0]\n",
    "        req_dict['source'] = file_name\n",
    "        print(file_name)\n",
    "        req_dict['published'] = article_details.split('Published: ')[1].split('\\n')[0]\n",
    "        req_dict['url'] = article_details.split('URL: ')[1].split('\\n')[0]\n",
    "        req_dict['text'] = article_details.split('Text: ')[1]\n",
    "        response = requests.post(\n",
    "            f'http://127.0.0.1:5000/dna/v1/repositories/narratives?repository={repository}&sentences=100',\n",
    "            json=req_dict)"
   ]
  },
  {
   "cell_type": "code",
   "execution_count": 6,
   "id": "94250cb7",
   "metadata": {
    "ExecuteTime": {
     "end_time": "2024-06-05T05:24:24.071818Z",
     "start_time": "2024-06-05T04:34:00.264697Z"
    }
   },
   "outputs": [
    {
     "name": "stdout",
     "output_type": "stream",
     "text": [
      "Breitbart\n",
      "Economist\n",
      "Fox News\n",
      "Huffington Post\n",
      "New York Times\n",
      "USA Today\n",
      "Wall Street Journal\n",
      "Washington Times\n",
      "CPU times: user 124 ms, sys: 55.7 ms, total: 180 ms\n",
      "Wall time: 44min 24s\n"
     ]
    }
   ],
   "source": [
    "%%time\n",
    "\n",
    "ingest_articles(\"election\")"
   ]
  },
  {
   "cell_type": "code",
   "execution_count": 7,
   "id": "afc29f63-aeef-45d5-8aee-1d2ca6b873aa",
   "metadata": {
    "scrolled": true
   },
   "outputs": [
    {
     "name": "stdout",
     "output_type": "stream",
     "text": [
      "200 {\n",
      " \"narratives\": [\n",
      "  {\n",
      "   \"narrativeId\": \"372e5b83\",\n",
      "   \"narrativeMetadata\": {\n",
      "    \"published\": \"2024-11-05T00:00:00\",\n",
      "    \"source\": \"Breitbart\",\n",
      "    \"title\": \"Donald Trump Wins the Presidency; Greatest Comeback in American History\",\n",
      "    \"url\": \"https://www.breitbart.com/2024-election/2024/11/05/donald-trump-wins-the-presidency-greatest-comeback-in-american-history/\"\n",
      "   },\n",
      "   \"numberIngested\": 23,\n",
      "   \"numberOfSentences\": 23,\n",
      "   \"numberOfTriples\": 962,\n",
      "   \"processed\": \"2024-12-16T03:05:08\"\n",
      "  },\n",
      "  {\n",
      "   \"narrativeId\": \"6c64aa09\",\n",
      "   \"narrativeMetadata\": {\n",
      "    \"published\": \"2024-11-06T00:00:00\",\n",
      "    \"source\": \"Economist\",\n",
      "    \"title\": \"Donald Trump wins big and fast\",\n",
      "    \"url\": \"https://www.economist.com/united-states/2024/11/06/donald-trump-wins-big-and-fast\"\n",
      "   },\n",
      "   \"numberIngested\": 33,\n",
      "   \"numberOfSentences\": 33,\n",
      "   \"numberOfTriples\": 1206,\n",
      "   \"processed\": \"2024-12-16T03:09:11\"\n",
      "  },\n",
      "  {\n",
      "   \"narrativeId\": \"d43647ec\",\n",
      "   \"narrativeMetadata\": {\n",
      "    \"published\": \"2024-11-06T00:00:00\",\n",
      "    \"source\": \"Fox News\",\n",
      "    \"title\": \"Trump claims victory, Harris skips party: The biggest surprises of election night\",\n",
      "    \"url\": \"https://www.foxnews.com/politics/trump-claims-victory-harris-skips-party-biggest-surprises-election-night\"\n",
      "   },\n",
      "   \"numberIngested\": 52,\n",
      "   \"numberOfSentences\": 52,\n",
      "   \"numberOfTriples\": 1240,\n",
      "   \"processed\": \"2024-12-16T03:13:44\"\n",
      "  },\n",
      "  {\n",
      "   \"narrativeId\": \"0d720c1e\",\n",
      "   \"narrativeMetadata\": {\n",
      "    \"published\": \"2024-11-06T00:00:00\",\n",
      "    \"source\": \"Huffington Post\",\n",
      "    \"title\": \"America Puts Coup-Attempting Convicted Criminal Back Into The White House\",\n",
      "    \"url\": \"https://www.huffpost.com/entry/trump-wins-presidency-again_n_671ac837e4b07a680747186e\"\n",
      "   },\n",
      "   \"numberIngested\": 30,\n",
      "   \"numberOfSentences\": 30,\n",
      "   \"numberOfTriples\": 1012,\n",
      "   \"processed\": \"2024-12-16T03:19:08\"\n",
      "  },\n",
      "  {\n",
      "   \"narrativeId\": \"47126fd1\",\n",
      "   \"narrativeMetadata\": {\n",
      "    \"published\": \"2024-11-06T00:00:00\",\n",
      "    \"source\": \"New York Times\",\n",
      "    \"title\": \"Donald Trump Returns to Power, Ushering in New Era of Uncertainty\",\n",
      "    \"url\": \"https://www.nytimes.com/2024/11/06/us/politics/trump-wins-presidency.html\"\n",
      "   },\n",
      "   \"numberIngested\": 75,\n",
      "   \"numberOfSentences\": 75,\n",
      "   \"numberOfTriples\": 2065,\n",
      "   \"processed\": \"2024-12-16T03:23:37\"\n",
      "  },\n",
      "  {\n",
      "   \"narrativeId\": \"4f73a18a\",\n",
      "   \"narrativeMetadata\": {\n",
      "    \"published\": \"2024-11-06T00:00:00\",\n",
      "    \"source\": \"USA Today\",\n",
      "    \"title\": \"Daily Briefing: Trump wins.\",\n",
      "    \"url\": \"https://www.usatoday.com/story/news/2024/11/06/election-harris-trump-senate-abortion-nfl-hurricane-inflation/76086957007/\"\n",
      "   },\n",
      "   \"numberIngested\": 20,\n",
      "   \"numberOfSentences\": 20,\n",
      "   \"numberOfTriples\": 721,\n",
      "   \"processed\": \"2024-12-16T03:31:45\"\n",
      "  },\n",
      "  {\n",
      "   \"narrativeId\": \"d53da686\",\n",
      "   \"narrativeMetadata\": {\n",
      "    \"published\": \"2024-11-06T00:00:00\",\n",
      "    \"source\": \"Wall Street Journal\",\n",
      "    \"title\": \"Trump Defeats Harris, Marking Historic Comeback\",\n",
      "    \"url\": \"https://www.wsj.com/politics/elections/trump-defeats-harris-marking-historic-comeback-c2aba47f?mod=Searchresults_pos7&page=1\"\n",
      "   },\n",
      "   \"numberIngested\": 78,\n",
      "   \"numberOfSentences\": 78,\n",
      "   \"numberOfTriples\": 1942,\n",
      "   \"processed\": \"2024-12-16T03:35:00\"\n",
      "  },\n",
      "  {\n",
      "   \"narrativeId\": \"c79126f0\",\n",
      "   \"narrativeMetadata\": {\n",
      "    \"published\": \"2024-11-06T00:00:00\",\n",
      "    \"source\": \"Washington Times\",\n",
      "    \"title\": \"Trump\\u2019s landslide win redraws electoral map, shatters Democratic strongholds\",\n",
      "    \"url\": \"https://www.washingtontimes.com/news/2024/nov/6/donald-trumps-landslide-win-resets-political-lands/\"\n",
      "   },\n",
      "   \"numberIngested\": 42,\n",
      "   \"numberOfSentences\": 42,\n",
      "   \"numberOfTriples\": 1420,\n",
      "   \"processed\": \"2024-12-16T03:42:36\"\n",
      "  }\n",
      " ],\n",
      " \"repository\": \"election\"\n",
      "}\n"
     ]
    }
   ],
   "source": [
    "# Check what articles are in the election repository \n",
    "response = requests.get('http://127.0.0.1:5000/dna/v1/repositories/narratives?repository=election')\n",
    "print(response.status_code, json.dumps(response.json(), indent=1))"
   ]
  },
  {
   "cell_type": "code",
   "execution_count": 8,
   "id": "2c5776d8",
   "metadata": {
    "ExecuteTime": {
     "end_time": "2024-06-06T00:10:00.256957Z",
     "start_time": "2024-06-06T00:09:16.494677Z"
    }
   },
   "outputs": [],
   "source": [
    "# Dump of WSJ \"election\" article \n",
    "article_dict = {\"election\": \"d53da686\"}\n",
    "for key, value in article_dict.items():\n",
    "    response = requests.get(\n",
    "        f'http://127.0.0.1:5000/dna/v1/repositories/narratives/graphs?repository={key}&narrativeId={value}')\n",
    "    resp_json = response.json()\n",
    "    with open(f'dumps/{key}_{value}_details.json', 'w') as detail_out:\n",
    "        detail_out.write(json.dumps(dict(resp_json['narrativeDetails'])))\n",
    "    with open(f'dumps/{key}_{value}.ttl', 'w') as triples_out:\n",
    "        for triple in resp_json['triples']:\n",
    "            triples_out.write(triple)"
   ]
  },
  {
   "cell_type": "code",
   "execution_count": null,
   "id": "eca87fd0-3993-4287-b61e-34faaa44b6a7",
   "metadata": {},
   "outputs": [],
   "source": []
  }
 ],
 "metadata": {
  "kernelspec": {
   "display_name": "Python 3 (ipykernel)",
   "language": "python",
   "name": "python3"
  },
  "language_info": {
   "codemirror_mode": {
    "name": "ipython",
    "version": 3
   },
   "file_extension": ".py",
   "mimetype": "text/x-python",
   "name": "python",
   "nbconvert_exporter": "python",
   "pygments_lexer": "ipython3",
   "version": "3.11.0"
  },
  "varInspector": {
   "cols": {
    "lenName": 16,
    "lenType": 16,
    "lenVar": 40
   },
   "kernels_config": {
    "python": {
     "delete_cmd_postfix": "",
     "delete_cmd_prefix": "del ",
     "library": "var_list.py",
     "varRefreshCmd": "print(var_dic_list())"
    },
    "r": {
     "delete_cmd_postfix": ") ",
     "delete_cmd_prefix": "rm(",
     "library": "var_list.r",
     "varRefreshCmd": "cat(var_dic_list()) "
    }
   },
   "position": {
    "height": "144.844px",
    "left": "1211px",
    "right": "20px",
    "top": "120px",
    "width": "350px"
   },
   "types_to_exclude": [
    "module",
    "function",
    "builtin_function_or_method",
    "instance",
    "_Feature"
   ],
   "window_display": false
  }
 },
 "nbformat": 4,
 "nbformat_minor": 5
}
