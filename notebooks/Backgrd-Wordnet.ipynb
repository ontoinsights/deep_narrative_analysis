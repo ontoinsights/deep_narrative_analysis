{
 "cells": [
  {
   "cell_type": "markdown",
   "id": "e4266746",
   "metadata": {},
   "source": [
    "# Manage all the multiple type/multiple class mapping nouns and verbs\n",
    "\n",
    "Read the definition files (noun/verb-multi.txt) for terms that map to different or multiple DNA classes. Output the results as noun/verb pickle files that can be imported into the DNA processing.\n",
    "\n",
    "Eventually, these files will be output as TTL and loaded into the ontology directly."
   ]
  },
  {
   "cell_type": "code",
   "execution_count": 4,
   "id": "82afbb66",
   "metadata": {
    "ExecuteTime": {
     "end_time": "2023-03-07T02:44:23.049964Z",
     "start_time": "2023-03-07T02:44:23.036676Z"
    }
   },
   "outputs": [],
   "source": [
    "# Map all the multiple choice and/or multiple type nouns/verbs (noun-multi.txt and verb-multi.txt)\n",
    "#   into a dictionary format and then pickle the dictionary\n",
    "import pickle\n",
    "\n",
    "def get_mappings(file_text: str, is_verb: bool, word_dict: dict):\n",
    "    word_maps = file_text.split(\"\\n\")\n",
    "    for wmap in word_maps:\n",
    "        word = wmap.split(\" ['\")[0]\n",
    "        if word in word_dict.keys():\n",
    "            print('dup term: ', word)\n",
    "            continue\n",
    "        class_names = wmap.split(\"['\")[1].split(\"']\")[0]\n",
    "        indiv_names = class_names.split(\"', '\")\n",
    "        for indiv_name in indiv_names:\n",
    "            if not indiv_name.startswith('urn:') and indiv_name != '+do':\n",
    "                print('not urn:', word, indiv_name)\n",
    "        word_dict[word] = indiv_names\n",
    "\n",
    "verbs_multiple = dict()\n",
    "with open(\"verb-multi-en.txt\", \"r\") as f:   # Mapping of verb to DNA class names\n",
    "    f_text = f.read()\n",
    "get_mappings(f_text, True, verbs_multiple)   \n",
    "nouns_multiple = dict()\n",
    "with open(\"noun-multi-en.txt\", \"r\") as f:   # Mapping of verb to DNA class names\n",
    "    f_text = f.read()\n",
    "get_mappings(f_text, True, nouns_multiple) "
   ]
  },
  {
   "cell_type": "code",
   "execution_count": 5,
   "id": "2f59a236",
   "metadata": {
    "ExecuteTime": {
     "end_time": "2023-03-07T02:44:25.607609Z",
     "start_time": "2023-03-07T02:44:25.603114Z"
    },
    "scrolled": true
   },
   "outputs": [
    {
     "name": "stdout",
     "output_type": "stream",
     "text": [
      "{'act': ['urn:ontoinsights:dna:ArtAndEntertainmentEvent', 'urn:ontoinsights:dna:ImitationAndCounterfeit', 'urn:ontoinsights:dna:Influence', 'urn:ontoinsights:dna:StartAndBeginning'], 'administer': ['urn:ontoinsights:dna:Supervision', 'urn:ontoinsights:dna:DistributionAndSupply'], 'adopt': ['urn:ontoinsights:dna:CaringForDependents(ifPerson)', 'urn:ontoinsights:dna:DecisionMakingAndChoice'], 'advance': ['urn:ontoinsights:dna:EmploymentAndRelatedEvent', 'urn:ontoinsights:dna:MovementTravelAndTransportation'], 'arise': ['urn:ontoinsights:dna:BodyMovement', 'urn:ontoinsights:dna:StartAndBeginning'], 'assign': ['urn:ontoinsights:dna:DistributionAndSupply', 'urn:ontoinsights:dna:LearningAndEducation'], 'beat': ['urn:ontoinsights:dna:ImpactAndContact', 'urn:ontoinsights:dna:Exhaustion'], 'bomb': ['urn:ontoinsights:dna:AttackDamageAndAssault', 'urn:ontoinsights:dna:Failure'], 'bring in': ['urn:ontoinsights:dna:MovementTravelAndTransportation', 'urn:ontoinsights:dna:Income', 'urn:ontoinsights:dna:InclusionAttachmentAndUnification'], 'bring up': ['urn:ontoinsights:dna:CaringForDependents(ifPerson)', 'urn:ontoinsights:dna:Cognition'], 'call': ['urn:ontoinsights:dna:CommandAndDemand', 'urn:ontoinsights:dna:GamblingAndWagering'], 'cast': ['urn:ontoinsights:dna:StateAndPhysicalChange', 'urn:ontoinsights:dna:RecreationAndSportEvent'], 'charge': ['urn:ontoinsights:dna:PurchaseAndSale', 'urn:ontoinsights:dna:LegalEvent'], 'check': ['urn:ontoinsights:dna:AttentionAndFocus', 'urn:ontoinsights:dna:End'], 'circulate': ['urn:ontoinsights:dna:DistributionAndSupply', 'urn:ontoinsights:dna:IncrementalMovement'], 'climb': ['urn:ontoinsights:dna:Increase', 'urn:ontoinsights:dna:BodyMovement'], 'close': ['urn:ontoinsights:dna:End', 'urn:ontoinsights:dna:EndOfBusiness'], 'close up': ['urn:ontoinsights:dna:EndOfBusiness', 'urn:ontoinsights:dna:StateAndPhysicalChange'], 'clot': ['urn:ontoinsights:dna:StateAndPhysicalChange', 'urn:ontoinsights:dna:HealthAndDiseaseRelated'], 'cluster': ['urn:ontoinsights:dna:MeetingAndEncounter', 'urn:ontoinsights:dna:Alignment'], 'come down': ['urn:ontoinsights:dna:Decrease', 'urn:ontoinsights:dna:MovementTravelAndTransportation'], 'converge': ['urn:ontoinsights:dna:InclusionAttachmentAndUnification', 'urn:ontoinsights:dna:MeetingAndEncounter'], 'corrupt': ['urn:ontoinsights:dna:Decrease+urn:ontoinsights:dna:StateAndPhysicalChange', 'urn:ontoinsights:dna:Bribe(ifPerson)'], 'cry': ['urn:ontoinsights:dna:ExpressiveAndExclamation', 'urn:ontoinsights:dna:SadnessAndDisappointment'], 'cut off': ['urn:ontoinsights:dna:End', 'urn:ontoinsights:dna:Separation'], 'deal': ['urn:ontoinsights:dna:GamblingAndWagering', 'urn:ontoinsights:dna:CriminalBusiness'], 'decline': ['urn:ontoinsights:dna:Decrease', 'urn:ontoinsights:dna:RefusalAndRejection'], 'deport': ['urn:ontoinsights:dna:MovementTravelAndTransportation+urn:ontoinsights:dna:CoercionAndIntimidation'], 'distill': ['urn:ontoinsights:dna:StateAndPhysicalChange', 'urn:ontoinsights:dna:MeaningImplicationAndInference'], 'distort': ['urn:ontoinsights:dna:DeceptionAndDishonesty', 'urn:ontoinsights:dna:IncrementalMovement'], 'divest': ['urn:ontoinsights:dna:Prevention', 'urn:ontoinsights:dna:RemovalAndRestriction'], 'down': ['urn:ontoinsights:dna:AttackDamageAndAssault', 'urn:ontoinsights:dna:UtilizationAndConsumption'], 'draw': ['urn:ontoinsights:dna:BodilyAct', 'urn:ontoinsights:dna:IncrementalMovement'], 'employ': ['urn:ontoinsights:dna:EmploymentAndRelatedEvent', 'urn:ontoinsights:dna:UtilizationAndConsumption'], 'evict': ['urn:ontoinsights:dna:MovementTravelAndTransportation+urn:ontoinsights:dna:CoercionAndIntimidation'], 'examine': ['urn:ontoinsights:dna:Inquiry', 'urn:ontoinsights:dna:AttentionAndFocus'], 'execute': ['urn:ontoinsights:dna:MurderAndHomicide(ifPerson)', 'urn:ontoinsights:dna:End'], 'exercise': ['urn:ontoinsights:dna:BodyMovement+urn:ontoinsights:dna:HealthAndDiseaseRelated', 'urn:ontoinsights:dna:UtilizationAndConsumption'], 'expire': ['urn:ontoinsights:dna:End', 'urn:ontoinsights:dna:Death'], 'fall': ['urn:ontoinsights:dna:Decrease', 'urn:ontoinsights:dna:Failure', 'urn:ontoinsights:dna:IncrementalMovement'], 'fill up': ['urn:ontoinsights:dna:Increase', 'urn:ontoinsights:dna:IncrementalMovement'], 'flounder': ['urn:ontoinsights:dna:BodyMovement', \"urn:ontoinsights:dna:ConfusionAndDoubt',  'urn:ontoinsights:dna:TroubleAndProblem\", 'urn:ontoinsights:dna:Failure'], 'fold': ['urn:ontoinsights:dna:StateAndPhysicalChange', 'urn:ontoinsights:dna:EndOfBusiness'], 'follow': ['urn:ontoinsights:dna:Compliance', 'urn:ontoinsights:dna:MovementTravelAndTransportation'], 'freeze': ['urn:ontoinsights:dna:StateAndPhysicalChange', 'urn:ontoinsights:dna:RemovalAndRestriction'], 'fulfill': ['urn:ontoinsights:dna:End+urn:ontoinsights:dna:Success'], 'gain': ['urn:ontoinsights:dna:Income', 'urn:ontoinsights:dna:Increase'], 'get down': ['urn:ontoinsights:dna:SadnessAndDisappointment', 'urn:ontoinsights:dna:IncrementalMovement'], 'get off': ['urn:ontoinsights:dna:MovementTravelAndTransportation', 'urn:ontoinsights:dna:EscapeAndEvasion'], 'give out': ['urn:ontoinsights:dna:DistributionAndSupply', 'urn:ontoinsights:dna:Exhaustion', 'urn:ontoinsights:dna:Failure', 'urn:ontoinsights:dna:UtilizationAndConsumption'], 'go along': ['urn:ontoinsights:dna:MovementTravelAndTransportation', 'urn:ontoinsights:dna:Agreement'], 'go along with': ['urn:ontoinsights:dna:MovementTravelAndTransportation(ifPerson)', 'urn:ontoinsights:dna:Agreement'], 'go down': ['urn:ontoinsights:dna:Decrease', 'urn:ontoinsights:dna:MovementTravelAndTransportation'], 'go up': ['urn:ontoinsights:dna:Increase', 'urn:ontoinsights:dna:StateAndPhysicalChange', 'urn:ontoinsights:dna:ProductionManufactureAndCreation'], 'grow': ['urn:ontoinsights:dna:AgricultureApicultureAndAquacultureEvent', 'urn:ontoinsights:dna:Increase'], 'happen': ['urn:ontoinsights:dna:StartAndBeginning', 'urn:ontoinsights:dna:Acquisition'], 'hook': ['urn:ontoinsights:dna:CaptureAndSeizure', 'urn:ontoinsights:dna:AttentionAndFocus'], 'hurl': ['urn:ontoinsights:dna:BodilyAct', 'urn:ontoinsights:dna:IncrementalMovement'], 'hurt': ['urn:ontoinsights:dna:Pain+urn:ontoinsights:dna:BodilyInjury+urn:ontoinsights:dna:AttackDamageAndAssault'], 'issue': ['urn:ontoinsights:dna:IssuingAndPublishing', 'urn:ontoinsights:dna:EntranceAndExit', 'urn:ontoinsights:dna:DistributionAndSupply'], 'knock': ['urn:ontoinsights:dna:Complaint', 'urn:ontoinsights:dna:ImpactAndContact', 'urn:ontoinsights:dna:BodyMovement'], 'lay out': ['urn:ontoinsights:dna:AssertionAndDeclaration', 'urn:ontoinsights:dna:IncrementalMovement'], 'lick': ['urn:ontoinsights:dna:ImpactAndContact', 'urn:ontoinsights:dna:Eating'], 'lighten': ['urn:ontoinsights:dna:Increase', 'urn:ontoinsights:dna:Decrease', 'urn:ontoinsights:dna:StateAndPhysicalChange'], 'maintain': ['urn:ontoinsights:dna:MaintenanceAndRepair', 'urn:ontoinsights:dna:Continuation'], 'miss': ['urn:ontoinsights:dna:LongingAndPassion', 'urn:ontoinsights:dna:IgnoringAndOverlooking'], 'mount': ['urn:ontoinsights:dna:Increase', 'urn:ontoinsights:dna:BodyMovement', 'urn:ontoinsights:dna:ProjectAndCampaign'], 'oblige': ['urn:ontoinsights:dna:RequirementAndDependence', 'urn:ontoinsights:dna:CommandAndDemand'], 'observe': ['urn:ontoinsights:dna:AssertionAndDeclaration', 'urn:ontoinsights:dna:AttentionAndFocus'], 'occur': ['urn:ontoinsights:dna:StartAndBeginning', 'urn:ontoinsights:dna:Cognition', 'urn:ontoinsights:dna:EnvironmentAndCondition'], 'order': ['urn:ontoinsights:dna:Alignment', 'urn:ontoinsights:dna:CommandAndDemand', 'urn:ontoinsights:dna:PurchaseAndSale'], 'pass': ['urn:ontoinsights:dna:Permission', 'urn:ontoinsights:dna:MovementTravelAndTransportation'], 'perform': ['urn:ontoinsights:dna:ArtAndEntertainmentEvent', 'urn:ontoinsights:dna:End'], 'plead': ['urn:ontoinsights:dna:LegalEvent', 'urn:ontoinsights:dna:RequestAndAppeal'], 'polish off': ['urn:ontoinsights:dna:End', 'urn:ontoinsights:dna:MurderAndHomicide(ifPerson)'], 'prescribe': ['urn:ontoinsights:dna:CommandAndDemand', 'urn:ontoinsights:dna:HealthAndDiseaseRelated'], 'press': ['urn:ontoinsights:dna:RequestAndAppeal', 'urn:ontoinsights:dna:ImpactAndContact'], 'protest': ['urn:ontoinsights:dna:Complaint', 'urn:ontoinsights:dna:RefusalAndRejection'], 'provide': ['urn:ontoinsights:dna:AidAndAssistance', 'urn:ontoinsights:dna:DistributionAndSupply'], 'pull out': ['urn:ontoinsights:dna:RemovalAndRestriction', 'urn:ontoinsights:dna:End'], 'put down': ['urn:ontoinsights:dna:SarcasmSlanderAndDerision', 'urn:ontoinsights:dna:IncrementalMovement'], 'put on': ['urn:ontoinsights:dna:ArtAndEntertainmentEvent', 'urn:ontoinsights:dna:DeceptionAndDishonesty', 'urn:ontoinsights:dna:Grooming'], 'quit': ['urn:ontoinsights:dna:End', 'urn:ontoinsights:dna:EmploymentAndRelatedEvent'], 'range': ['urn:ontoinsights:dna:MovementTravelAndTransportation', 'urn:ontoinsights:dna:Alignment'], 'reach': ['urn:ontoinsights:dna:Success', 'urn:ontoinsights:dna:BodyMovement'], 'record': ['urn:ontoinsights:dna:ProductionManufactureAndCreation+urn:ontoinsights:dna:InformationSource'], 'retire': ['urn:ontoinsights:dna:MovementTravelAndTransportation', 'urn:ontoinsights:dna:EmploymentAndRelatedEvent'], 'ride': ['urn:ontoinsights:dna:SarcasmSlanderAndDerision(ifPerson)', 'urn:ontoinsights:dna:MovementTravelAndTransportation'], 'rot': ['urn:ontoinsights:dna:Decrease', 'urn:ontoinsights:dna:StateAndPhysicalChange'], 'round': ['urn:ontoinsights:dna:MovementTravelAndTransportation', 'urn:ontoinsights:dna:StateAndPhysicalChange'], 'run into': ['urn:ontoinsights:dna:MeetingAndEncounter', 'urn:ontoinsights:dna:ImpactAndContact'], 'scrape': ['urn:ontoinsights:dna:BodilyInjury', 'urn:ontoinsights:dna:ImpactAndContact'], 'screw': ['urn:ontoinsights:dna:BodilyAct', 'urn:ontoinsights:dna:IncrementalMovement'], 'sequester': ['urn:ontoinsights:dna:Separation', 'urn:ontoinsights:dna:CaptureAndSeizure'], 'set up': ['urn:ontoinsights:dna:ProductionManufactureAndCreation', 'urn:ontoinsights:dna:Betrayal'], 'shave': ['urn:ontoinsights:dna:Grooming', 'urn:ontoinsights:dna:Separation'], 'slip': ['urn:ontoinsights:dna:Decrease', 'urn:ontoinsights:dna:IncrementalMovement', 'urn:ontoinsights:dna:EscapeAndEvasion'], 'snipe': ['urn:ontoinsights:dna:SarcasmSlanderAndDerision', 'urn:ontoinsights:dna:AttackDamageAndAssault'], 'spin': ['urn:ontoinsights:dna:AssertionAndDeclaration', 'urn:ontoinsights:dna:BodyMovement'], 'spoil': ['urn:ontoinsights:dna:StateAndPhysicalChange', 'urn:ontoinsights:dna:Prevention'], 'stage': ['urn:ontoinsights:dna:ArtAndEntertainmentEvent', 'urn:ontoinsights:dna:DeceptionAndDishonesty'], 'stir up': ['urn:ontoinsights:dna:TroubleAndProblem', 'urn:ontoinsights:dna:IncrementalMovement'], 'stop': ['urn:ontoinsights:dna:End', 'urn:ontoinsights:dna:Prevention'], 'stretch': ['urn:ontoinsights:dna:Increase', 'urn:ontoinsights:dna:BodyMovement'], 'strike': ['urn:ontoinsights:dna:ImpactAndContact', 'urn:ontoinsights:dna:DemonstrationStrikeAndRally'], 'strike down': ['urn:ontoinsights:dna:AttackDamageAndAssault', 'urn:ontoinsights:dna:RefusalAndRejection'], 'struggle': ['urn:ontoinsights:dna:Battle', 'urn:ontoinsights:dna:Attempt'], 'subscribe': ['urn:ontoinsights:dna:Belief', 'urn:ontoinsights:dna:PurchaseAndSale'], 'take care': ['urn:ontoinsights:dna:AttentionAndFocus+urn:ontoinsights:dna:MaintenanceAndRepair', 'urn:ontoinsights:dna:CaringForDependents(ifPerson)'], 'take the field': ['urn:ontoinsights:dna:Battle', 'urn:ontoinsights:dna:Competition'], 'tap': ['urn:ontoinsights:dna:RequestAndAppeal', 'urn:ontoinsights:dna:ImpactAndContact'], 'touch': ['urn:ontoinsights:dna:ImpactAndContact', 'urn:ontoinsights:dna:SensoryPerception'], 'treat': ['urn:ontoinsights:dna:HealthAndDiseaseRelated', 'urn:ontoinsights:dna:GiftAndDonation'], 'tumble': ['urn:ontoinsights:dna:BodyMovement', 'urn:ontoinsights:dna:IncrementalMovement'], 'turn back': ['urn:ontoinsights:dna:Change', 'urn:ontoinsights:dna:Prevention', 'urn:ontoinsights:dna:MovementTravelAndTransportation'], 'turn over': ['urn:ontoinsights:dna:RemovalAndRestriction', 'urn:ontoinsights:dna:BodyMovement'], 'turn up': ['urn:ontoinsights:dna:ReturnRecoveryAndRelease', 'urn:ontoinsights:dna:Increase', 'urn:ontoinsights:dna:MovementTravelAndTransportation'], 'upset': ['urn:ontoinsights:dna:ImpactAndContact', 'urn:ontoinsights:dna:Anxiety'], 'void': ['urn:ontoinsights:dna:BodilyAct', 'urn:ontoinsights:dna:RefusalAndRejection'], 'warm up': ['urn:ontoinsights:dna:StateAndPhysicalChange', 'urn:ontoinsights:dna:Increase'], 'waste': ['urn:ontoinsights:dna:UtilizationAndConsumption', 'urn:ontoinsights:dna:Loss'], 'wave': ['urn:ontoinsights:dna:BodyMovement', 'urn:ontoinsights:dna:Grooming', 'urn:ontoinsights:dna:IncrementalMovement'], 'weave': ['urn:ontoinsights:dna:InclusionAttachmentAndUnification', 'urn:ontoinsights:dna:ProductionManufactureAndCreation'], 'whirl': ['urn:ontoinsights:dna:BodyMovement', 'urn:ontoinsights:dna:IncrementalMovement'], 'wound': ['urn:ontoinsights:dna:BodilyInjury+urn:ontoinsights:dna:AttackDamageAndAssault'], 'wrestle': ['urn:ontoinsights:dna:AttentionAndFocus', 'urn:ontoinsights:dna:Competition'], 'fence': ['urn:ontoinsights:dna:DefensiveAndProtectiveAct', 'urn:ontoinsights:dna:PurchaseAndSale'], 'rent': ['urn:ontoinsights:dna:Separation', 'urn:ontoinsights:dna:Possession+urn:ontoinsights:dna:Contract'], 'impress': ['urn:ontoinsights:dna:AdmirationRespectAndValue', 'urn:ontoinsights:dna:StateAndPhysicalChange'], 'misdirect': ['urn:ontoinsights:dna:DeceptionAndDishonesty+urn:ontoinsights:dna:AdviceAndRecommendation'], 'fuss': ['urn:ontoinsights:dna:Anxiety', 'urn:ontoinsights:dna:DisagreementAndDispute'], 'list': ['urn:ontoinsights:dna:Alignment', 'urn:ontoinsights:dna:IncrementalMovement'], 'misalign': ['urn:ontoinsights:dna:Negation+urn:ontoinsights:dna:Alignment'], 'stagger': ['urn:ontoinsights:dna:BodyMovement', 'urn:ontoinsights:dna:Alignment'], 'rile': ['urn:ontoinsights:dna:IncrementalMovement', 'urn:ontoinsights:dna:AngerAndAnnoyance'], 'emcee': ['urn:ontoinsights:dna:ArtAndEntertainmentEvent+urn:ontoinsights:dna:Ceremony'], 'beat around the bush': ['urn:ontoinsights:dna:AssertionAndDeclaration+urn:ontoinsights:dna:Concealment'], 'burst out': ['urn:ontoinsights:dna:EntranceAndExit', 'urn:ontoinsights:dna:StartAndBeginning', 'urn:ontoinsights:dna:ExpressiveAndExclamation'], 'crack': ['urn:ontoinsights:dna:AssertionAndDeclaration', 'urn:ontoinsights:dna:AttackDamageAndAssault', 'urn:ontoinsights:dna:StateAndPhysicalChange'], 'docket': ['urn:ontoinsights:dna:AssessmentAndCharacterization', 'urn:ontoinsights:dna:LegalEvent'], 'import': ['urn:ontoinsights:dna:AssertionAndDeclaration', 'urn:ontoinsights:dna:MovementTravelAndTransportation'], 'misinform': ['urn:ontoinsights:dna:AssertionAndDeclaration+urn:ontoinsights:dna:DeceptionAndDishonesty'], 'mislead': ['urn:ontoinsights:dna:AssertionAndDeclaration+urn:ontoinsights:dna:DeceptionAndDishonesty'], 'mistranslate': ['urn:ontoinsights:dna:AssertionAndDeclaration+urn:ontoinsights:dna:DeceptionAndDishonesty'], 'ordain': ['urn:ontoinsights:dna:CommandAndDemand', 'urn:ontoinsights:dna:AppointmentAndNomination'], 'perjure': ['urn:ontoinsights:dna:AssertionAndDeclaration+urn:ontoinsights:dna:DeceptionAndDishonesty+urn:ontoinsights:dna:LegalEvent'], 'romance': ['urn:ontoinsights:dna:AssertionAndDeclaration+urn:ontoinsights:dna:Love'], 'snow': ['urn:ontoinsights:dna:AssertionAndDeclaration+urn:ontoinsights:dna:DeceptionAndDishonesty'], 'tax': ['urn:ontoinsights:dna:CommandAndDemand', 'urn:ontoinsights:dna:Taxes'], 'undeceive': ['urn:ontoinsights:dna:Negation+urn:ontoinsights:dna:DeceptionAndDishonesty'], 'unwrap': ['urn:ontoinsights:dna:Negation+urn:ontoinsights:dna:Concealment'], 'ventilate': ['urn:ontoinsights:dna:EnvironmentAndCondition', 'urn:ontoinsights:dna:HealthAndDiseaseRelated '], 'wave off': ['urn:ontoinsights:dna:IgnoringAndOverlooking', 'urn:ontoinsights:dna:ExpressiveAndExclamation'], 'pigeonhole': ['urn:ontoinsights:dna:AssessmentAndCharacterization', 'urn:ontoinsights:dna:IncrementalMovement'], 'anticipate': ['urn:ontoinsights:dna:Cognition+urn:ontoinsights:dna:OpportunityAndPossibility'], 'budget for': ['urn:ontoinsights:dna:AssessmentAndCharacterization+urn:ontoinsights:dna:SavingsAndInvestment'], 'crack up': ['urn:ontoinsights:dna:DelightAndHappiness', 'urn:ontoinsights:dna:HealthAndDiseaseRelated'], 'discountenance': ['urn:ontoinsights:dna:Negation+urn:ontoinsights:dna:Permission'], 'forecast': ['urn:ontoinsights:dna:AssessmentAndCharacterization+urn:ontoinsights:dna:OpportunityAndPossibility'], 'frown on': ['urn:ontoinsights:dna:Negation+urn:ontoinsights:dna:FriendlyOrSupportiveAct'], 'frown upon': ['urn:ontoinsights:dna:Negation+urn:ontoinsights:dna:FriendlyOrSupportiveAct'], 'misgauge': ['urn:ontoinsights:dna:AssessmentAndCharacterization+urn:ontoinsights:dna:Mistake'], 'propagandise': ['urn:ontoinsights:dna:CommunicationAndSpeechAct+urn:ontoinsights:dna:FriendlyOrSupportiveAct'], 'propagandize': ['urn:ontoinsights:dna:CommunicationAndSpeechAct+urn:ontoinsights:dna:FriendlyOrSupportiveAct'], 'rescind': ['urn:ontoinsights:dna:End+urn:ontoinsights:dna:Agreement'], 'revoke': ['urn:ontoinsights:dna:End+urn:ontoinsights:dna:Agreement'], 'stamp': ['urn:ontoinsights:dna:BodyMovement', 'urn:ontoinsights:dna:Permission'], 'cauterise': ['urn:ontoinsights:dna:BodilyInjury+urn:ontoinsights:dna:HealthAndDiseaseRelated'], 'cauterize': ['urn:ontoinsights:dna:BodilyInjury+urn:ontoinsights:dna:HealthAndDiseaseRelated'], 'pit': ['urn:ontoinsights:dna:Competition', 'urn:ontoinsights:dna:AttackDamageAndAssault', 'urn:ontoinsights:dna:StateAndPhysicalChange'], 'rip': ['urn:ontoinsights:dna:AttackDamageAndAssault+urn:ontoinsights:dna:Separation'], 'whittle down': ['urn:ontoinsights:dna:Decrease', 'urn:ontoinsights:dna:RemovalAndRestriction'], 'grope': ['urn:ontoinsights:dna:Attempt', 'urn:ontoinsights:dna:BodyMovement'], 'engulf': ['urn:ontoinsights:dna:SiegeAndSurrounding', 'urn:ontoinsights:dna:Eating'], 'plunge': ['urn:ontoinsights:dna:Decrease', 'urn:ontoinsights:dna:BodyMovement'], 'plummet': ['urn:ontoinsights:dna:Decrease', 'urn:ontoinsights:dna:MovementTravelAndTransportation'], 'surface': ['urn:ontoinsights:dna:IncrementalMovement', 'urn:ontoinsights:dna:AttentionAndFocus'], 'spare': ['urn:ontoinsights:dna:AidAndAssistance', 'urn:ontoinsights:dna:Avoidance'], 'bear': ['urn:ontoinsights:dna:Birth', 'urn:ontoinsights:dna:TrustAndTolerance', 'urn:ontoinsights:dna:FriendlyOrSupportiveAct'], 'bear down': ['urn:ontoinsights:dna:ThreatAndWarning', 'urn:ontoinsights:dna:HealthAndDiseaseRelated', 'urn:ontoinsights:dna:ImpactAndContact'], 'deflect': ['urn:ontoinsights:dna:Change+urn:ontoinsights:dna:MovementTravelAndTransportation'], 'storm': ['urn:ontoinsights:dna:AggressiveOrHostileAct', 'urn:ontoinsights:dna:AttackDamageAndAssault'], 'embroider': ['urn:ontoinsights:dna:RecreationAndSportEvent', 'urn:ontoinsights:dna:Boast'], 'gas': ['urn:ontoinsights:dna:AttackDamageAndAssault', 'urn:ontoinsights:dna:Boast'], 'pad': ['urn:ontoinsights:dna:Increase', 'urn:ontoinsights:dna:CommunicationAndSpeechAct'], 'awake': ['urn:ontoinsights:dna:Negation+urn:ontoinsights:dna:SleepAndRest'], 'come to': ['urn:ontoinsights:dna:BodilyAct+urn:ontoinsights:dna:HealthAndDiseaseRelated', 'urn:ontoinsights:dna:EntranceAndExit'], 'drop off': ['urn:ontoinsights:dna:BodilyAct', 'urn:ontoinsights:dna:Decrease'], 'eliminate': ['urn:ontoinsights:dna:RemovalAndRestriction', 'urn:ontoinsights:dna:BodilyAct', 'urn:ontoinsights:dna:MurderAndHomicide'], 'exude': ['urn:ontoinsights:dna:IncrementalMovement', 'urn:ontoinsights:dna:EmotionalResponse'], 'grimace': ['urn:ontoinsights:dna:BodyMovement+urn:ontoinsights:dna:NegativeEmotion'], 'rasp': ['urn:ontoinsights:dna:BodilyAct', 'urn:ontoinsights:dna:ImpactAndContact'], 'backstroke': ['urn:ontoinsights:dna:BodyMovement+urn:ontoinsights:dna:RecreationAndSportEvent'], 'belly-flop': ['urn:ontoinsights:dna:BodyMovement+urn:ontoinsights:dna:RecreationAndSportEvent'], 'bolt': ['urn:ontoinsights:dna:DefensiveAndProtectiveAct', 'urn:ontoinsights:dna:BodyMovement'], 'bound': ['urn:ontoinsights:dna:CaptureAndSeizure', 'urn:ontoinsights:dna:BodyMovement'], 'breaststroke': ['urn:ontoinsights:dna:BodyMovement+urn:ontoinsights:dna:RecreationAndSportEvent'], 'buck': ['urn:ontoinsights:dna:Resistance', 'urn:ontoinsights:dna:BodyMovement'], 'effervesce': ['urn:ontoinsights:dna:Excitement', 'urn:ontoinsights:dna:StateAndPhysicalChange'], 'fluff': ['urn:ontoinsights:dna:Increase', 'urn:ontoinsights:dna:BodyMovement', 'urn:ontoinsights:dna:Grooming'], 'foul out': ['urn:ontoinsights:dna:BodyMovement+urn:ontoinsights:dna:Mistake+urn:ontoinsights:dna:RecreationAndSportEvent'], 'frown': ['urn:ontoinsights:dna:BodyMovement+urn:ontoinsights:dna:NegativeEmotion'], 'ground out': ['urn:ontoinsights:dna:BodyMovement+urn:ontoinsights:dna:Mistake+urn:ontoinsights:dna:RecreationAndSportEvent'], 'hike': ['urn:ontoinsights:dna:BodyMovement', 'urn:ontoinsights:dna:Increase'], 'impel': ['urn:ontoinsights:dna:CoercionAndIntimidation', 'urn:ontoinsights:dna:IncrementalMovement'], 'jar': ['urn:ontoinsights:dna:AngerAndAnnoyance', 'urn:ontoinsights:dna:ImpactAndContact'], 'jolt': ['urn:ontoinsights:dna:Shock', 'urn:ontoinsights:dna:IncrementalMovement', 'urn:ontoinsights:dna:ImpactAndContact'], 'kick back': ['urn:ontoinsights:dna:RelaxationAndSerenity', 'urn:ontoinsights:dna:Bribe'], 'pivot': ['urn:ontoinsights:dna:IncrementalMovement', 'urn:ontoinsights:dna:Change'], 'prowl': ['urn:ontoinsights:dna:BodyMovement+urn:ontoinsights:dna:Concealment'], 'purl': ['urn:ontoinsights:dna:BodyMovement+urn:ontoinsights:dna:RecreationAndSportEvent'], 'putt': ['urn:ontoinsights:dna:BodyMovement+urn:ontoinsights:dna:RecreationAndSportEvent'], 'rattle': ['urn:ontoinsights:dna:Anxiety', 'urn:ontoinsights:dna:ImpactAndContact'], 'run out': ['urn:ontoinsights:dna:InclusionAttachmentAndUnification', 'urn:ontoinsights:dna:BodyMovement'], 'sidetrack': ['urn:ontoinsights:dna:Negation+urn:ontoinsights:dna:AttentionAndFocus'], 'skank': ['urn:ontoinsights:dna:DeceptionAndDishonesty', 'urn:ontoinsights:dna:BodyMovement'], 'skulk': ['urn:ontoinsights:dna:BodyMovement+urn:ontoinsights:dna:Concealment'], 'slam-dunk': ['urn:ontoinsights:dna:BodyMovement+urn:ontoinsights:dna:RecreationAndSportEvent'], 'smile': ['urn:ontoinsights:dna:BodyMovement+urn:ontoinsights:dna:PositiveEmotion'], 'smirk': ['urn:ontoinsights:dna:BodyMovement+urn:ontoinsights:dna:NegativeEmotion'], 'sneer': ['urn:ontoinsights:dna:BodyMovement+urn:ontoinsights:dna:NegativeEmotion'], 'splay': ['urn:ontoinsights:dna:BodyMovement+urn:ontoinsights:dna:Separation'], 'stroke': ['urn:ontoinsights:dna:BodyMovement', 'urn:ontoinsights:dna:HealthAndDiseaseRelated', 'urn:ontoinsights:dna:ImpactAndContact'], 'thunder': ['urn:ontoinsights:dna:CommunicationAndSpeechAct', 'urn:ontoinsights:dna:BodyMovement'], 'undercut': ['urn:ontoinsights:dna:PurchaseAndSale', 'urn:ontoinsights:dna:RemovalOfRawMaterials'], 'wallow': ['urn:ontoinsights:dna:DelightAndHappiness', 'urn:ontoinsights:dna:BodyMovement'], 'wash down': ['urn:ontoinsights:dna:Eating', 'urn:ontoinsights:dna:IncrementalMovement'], 'bite off': ['urn:ontoinsights:dna:Attempt', 'urn:ontoinsights:dna:Separation'], 'fish': ['urn:ontoinsights:dna:Searching', 'urn:ontoinsights:dna:RecreationAndSportEvent'], 'goose': ['urn:ontoinsights:dna:ImpactAndContact', 'urn:ontoinsights:dna:Increase'], 'nibble': ['urn:ontoinsights:dna:Eating', 'urn:ontoinsights:dna:AttentionAndFocus'], 'snap at': ['urn:ontoinsights:dna:BodyMovement', 'urn:ontoinsights:dna:AngerAndAnnoyance'], 'decoy': ['urn:ontoinsights:dna:Increase+urn:ontoinsights:dna:Curiosity'], 'entice': ['urn:ontoinsights:dna:Increase+urn:ontoinsights:dna:Curiosity'], 'incite': ['urn:ontoinsights:dna:CommunicationAndSpeechAct+urn:ontoinsights:dna:Increase+urn:ontoinsights:dna:AggressiveOrHostileAct'], 'lure': ['urn:ontoinsights:dna:Increase+urn:ontoinsights:dna:Curiosity'], 'provoke': ['urn:ontoinsights:dna:CommunicationAndSpeechAct+urn:ontoinsights:dna:Increase+urn:ontoinsights:dna:AngerAndAnnoyance'], 'seduce': ['urn:ontoinsights:dna:Increase+urn:ontoinsights:dna:Curiosity'], 'blow out': ['urn:ontoinsights:dna:StateAndPhysicalChange', 'urn:ontoinsights:dna:BodyMovement'], 'bow down': ['urn:ontoinsights:dna:BodyMovement', 'urn:ontoinsights:dna:FrustrationAndHelplessness'], 'bow': ['urn:ontoinsights:dna:StateAndPhysicalChange', 'urn:ontoinsights:dna:BodyMovement', 'urn:ontoinsights:dna:ArtAndEntertainmentEvent'], 'burn out': ['urn:ontoinsights:dna:Exhaustion', 'urn:ontoinsights:dna:StateAndPhysicalChange'], 'come around': ['urn:ontoinsights:dna:MeetingAndEncounter', 'urn:ontoinsights:dna:HealthAndDiseaseRelated', 'urn:ontoinsights:dna:Agreement'], 'come round': ['urn:ontoinsights:dna:MeetingAndEncounter', 'urn:ontoinsights:dna:HealthAndDiseaseRelated', 'urn:ontoinsights:dna:Agreement'], 'cushion': ['urn:ontoinsights:dna:Decrease+urn:ontoinsights:dna:Change'], 'deaden': ['urn:ontoinsights:dna:Decrease+urn:ontoinsights:dna:Change'], 'decelerate': ['urn:ontoinsights:dna:Decrease+urn:ontoinsights:dna:Change'], 'democratise': ['urn:ontoinsights:dna:Change+urn:ontoinsights:dna:PoliticalEnvironment'], 'democratize': ['urn:ontoinsights:dna:Change+urn:ontoinsights:dna:PoliticalEnvironment'], 'depreciate': ['urn:ontoinsights:dna:Decrease+urn:ontoinsights:dna:Change'], 'desynchronise': ['urn:ontoinsights:dna:Negation+urn:ontoinsights:dna:Alignment'], 'desynchronize': ['urn:ontoinsights:dna:Negation+urn:ontoinsights:dna:Alignment'], 'disjoint': ['urn:ontoinsights:dna:Negation+urn:ontoinsights:dna:Alignment'], 'fall for': ['urn:ontoinsights:dna:DeceptionAndDishonesty', 'urn:ontoinsights:dna:Fondness'], 'flute': ['urn:ontoinsights:dna:StateAndPhysicalChange', 'urn:ontoinsights:dna:CommunicationAndSpeechAct'], 'hang': ['urn:ontoinsights:dna:MurderAndHomicide', 'urn:ontoinsights:dna:ShapeAndForm'], 'level': ['urn:ontoinsights:dna:Negation+urn:ontoinsights:dna:Change'], 'lie': ['urn:ontoinsights:dna:AssertionAndDeclaration+urn:ontoinsights:dna:DeceptionAndDishonesty', 'urn:ontoinsights:dna:BodyMovement'], 'rectify': ['urn:ontoinsights:dna:Negation+urn:ontoinsights:dna:Mistake'], 'remediate': ['urn:ontoinsights:dna:Negation+urn:ontoinsights:dna:Mistake'], 'right': ['urn:ontoinsights:dna:Negation+urn:ontoinsights:dna:Mistake'], 'take bow': ['urn:ontoinsights:dna:BodyMovement+urn:ontoinsights:dna:ArtAndEntertainmentEvent'], 'take floor': ['urn:ontoinsights:dna:CommunicationAndSpeechAct', 'urn:ontoinsights:dna:BodyMovement'], 'turn on': ['urn:ontoinsights:dna:IncrementalMovement', 'urn:ontoinsights:dna:BodyMovement'], 'misquote': ['urn:ontoinsights:dna:CitationAndReference+urn:ontoinsights:dna:Mistake'], 'exhibit': ['urn:ontoinsights:dna:ArtAndEntertainmentEvent', 'urn:ontoinsights:dna:AttentionAndFocus'], 'disesteem': ['urn:ontoinsights:dna:Negation+urn:ontoinsights:dna:AdmirationRespectAndValue'], 'take in': ['urn:ontoinsights:dna:Cognition', 'urn:ontoinsights:dna:AidAndAssistance', 'urn:ontoinsights:dna:InclusionAttachmentAndUnification'], 'advertise': ['urn:ontoinsights:dna:CommunicationAndSpeechAct+urn:ontoinsights:dna:FriendlyOrSupportiveAct'], 'advertize': ['urn:ontoinsights:dna:CommunicationAndSpeechAct+urn:ontoinsights:dna:FriendlyOrSupportiveAct'], 'belt': ['urn:ontoinsights:dna:CommunicationAndSpeechAct', 'urn:ontoinsights:dna:Grooming'], 'bumble': ['urn:ontoinsights:dna:CommunicationAndSpeechAct', 'urn:ontoinsights:dna:BodyMovement'], 'clap': ['urn:ontoinsights:dna:ImpactAndContact+urn:ontoinsights:dna:BodyMovement'], 'come across': ['urn:ontoinsights:dna:CommunicationAndSpeechAct', 'urn:ontoinsights:dna:Acquisition'], 'counter': ['urn:ontoinsights:dna:Negation+urn:ontoinsights:dna:FriendlyOrSupportiveAct'], 'grin': ['urn:ontoinsights:dna:BodyMovement+urn:ontoinsights:dna:PositiveEmotion'], 'intercede': ['urn:ontoinsights:dna:CommunicationAndSpeechAct+urn:ontoinsights:dna:FriendlyOrSupportiveAct'], 'misadvise': ['urn:ontoinsights:dna:AdviceAndRecommendation+urn:ontoinsights:dna:Mistake'], 'misguide': ['urn:ontoinsights:dna:AdviceAndRecommendation+urn:ontoinsights:dna:Mistake'], 'misstate': ['urn:ontoinsights:dna:AssertionAndDeclaration+urn:ontoinsights:dna:Mistake'], 'project': ['urn:ontoinsights:dna:CommunicationAndSpeechAct', 'urn:ontoinsights:dna:MeaningImplicationAndInference', 'urn:ontoinsights:dna:ShapeAndForm'], 'rewrite': ['urn:ontoinsights:dna:CommunicationAndSpeechAct+urn:ontoinsights:dna:Change'], 'riposte': ['urn:ontoinsights:dna:CommunicationAndSpeechAct', 'urn:ontoinsights:dna:BodyMovement'], 'snivel': ['urn:ontoinsights:dna:CommunicationAndSpeechAct+urn:ontoinsights:dna:NegativeEmotion'], 'take down': ['urn:ontoinsights:dna:RemovalAndRestriction', 'urn:ontoinsights:dna:SarcasmSlanderAndDerision'], 'troll': ['urn:ontoinsights:dna:RecreationAndSportEvent', 'urn:ontoinsights:dna:CommunicationAndSpeechAct', 'urn:ontoinsights:dna:MovementTravelAndTransportation'], 'wince': ['urn:ontoinsights:dna:BodyMovement+urn:ontoinsights:dna:NegativeEmotion'], 'lament': ['urn:ontoinsights:dna:CommunicationAndSpeechAct+urn:ontoinsights:dna:NegativeEmotion'], 'reprehend': ['urn:ontoinsights:dna:CommunicationAndSpeechAct+urn:ontoinsights:dna:NegativeEmotion'], 'reprimand': ['urn:ontoinsights:dna:CommunicationAndSpeechAct+urn:ontoinsights:dna:NegativeEmotion'], 'reprove': ['urn:ontoinsights:dna:CommunicationAndSpeechAct+urn:ontoinsights:dna:NegativeEmotion'], 'tell off': ['urn:ontoinsights:dna:CommunicationAndSpeechAct+urn:ontoinsights:dna:NegativeEmotion'], 'earth up': ['urn:ontoinsights:dna:Concealment+urn:ontoinsights:dna:Prevention'], 'cycle on': ['urn:ontoinsights:dna:Continuation', 'urn:ontoinsights:dna:BodyMovement'], 'dedicate': ['urn:ontoinsights:dna:PromiseAndOath', 'urn:ontoinsights:dna:CitationAndReference'], 'contract': ['urn:ontoinsights:dna:Decrease', 'urn:ontoinsights:dna:LegalEvent'], 'fall off': ['urn:ontoinsights:dna:Decrease', 'urn:ontoinsights:dna:IncrementalMovement'], 'impoverish': ['urn:ontoinsights:dna:Decrease+urn:ontoinsights:dna:EconomicEnvironment'], 'inflame': ['urn:ontoinsights:dna:Increase', 'urn:ontoinsights:dna:HealthAndDiseaseRelated'], 'poop out': ['urn:ontoinsights:dna:Exhaustion', 'urn:ontoinsights:dna:BodilyAct'], 'slump': ['urn:ontoinsights:dna:Decrease', 'urn:ontoinsights:dna:StateAndPhysicalChange'], 'whittle away': ['urn:ontoinsights:dna:Decrease', 'urn:ontoinsights:dna:RemovalAndRestriction'], 'secede': ['urn:ontoinsights:dna:Negation+urn:ontoinsights:dna:Affiliation'], 'sample': ['urn:ontoinsights:dna:Searching', 'urn:ontoinsights:dna:Eating'], 'toss off': ['urn:ontoinsights:dna:ProductionManufactureAndCreation', 'urn:ontoinsights:dna:Eating'], 'block': ['urn:ontoinsights:dna:End', 'urn:ontoinsights:dna:RemovalAndRestriction'], 'cut': ['urn:ontoinsights:dna:Separation', 'urn:ontoinsights:dna:End'], 'overachieve': ['urn:ontoinsights:dna:End+urn:ontoinsights:dna:Success'], 'underachieve': ['urn:ontoinsights:dna:End+urn:ontoinsights:dna:Failure'], 'underperform': ['urn:ontoinsights:dna:End+urn:ontoinsights:dna:Failure'], 'adjourn': ['urn:ontoinsights:dna:End+urn:ontoinsights:dna:LegalEvent'], 'get at': ['urn:ontoinsights:dna:Acquisition', 'urn:ontoinsights:dna:MeaningImplicationAndInference'], 'undershoot': ['urn:ontoinsights:dna:End+urn:ontoinsights:dna:Failure'], 'go over': ['urn:ontoinsights:dna:AttentionAndFocus', 'urn:ontoinsights:dna:MeaningImplicationAndInference', 'urn:ontoinsights:dna:Exhaustion'], 'usher out': ['urn:ontoinsights:dna:End+urn:ontoinsights:dna:MeetingAndEncounter'], 'cough up': ['urn:ontoinsights:dna:GiftAndDonation', 'urn:ontoinsights:dna:HealthAndDiseaseRelated'], 'leverage': ['urn:ontoinsights:dna:UtilizationAndConsumption', 'urn:ontoinsights:dna:FinancialEvent'], 'overfeed': ['urn:ontoinsights:dna:Negation+urn:ontoinsights:dna:StarvationHungerAndMalnutrition'], 'render': ['urn:ontoinsights:dna:AidAndAssistance', 'urn:ontoinsights:dna:ProductionManufactureAndCreation'], 'understock': ['urn:ontoinsights:dna:Negation+urn:ontoinsights:dna:DistributionAndSupply'], 'vouchsafe': ['urn:ontoinsights:dna:GiftAndDonation', 'urn:ontoinsights:dna:AssertionAndDeclaration'], 'highlight': ['urn:ontoinsights:dna:AttentionAndFocus', 'urn:ontoinsights:dna:Grooming'], 'neaten': ['urn:ontoinsights:dna:Grooming', 'urn:ontoinsights:dna:Alignment'], 'wear': ['urn:ontoinsights:dna:Grooming', 'urn:ontoinsights:dna:StateAndPhysicalChange'], 'grind': ['urn:ontoinsights:dna:StateAndPhysicalChange', 'urn:ontoinsights:dna:BodyMovement'], 'mouth': ['urn:ontoinsights:dna:ImpactAndContact', 'urn:ontoinsights:dna:CommunicationAndSpeechAct'], 'nose': ['urn:ontoinsights:dna:Searching', 'urn:ontoinsights:dna:SensoryPerception'], 'plug': ['urn:ontoinsights:dna:RemovalAndRestriction', 'urn:ontoinsights:dna:CommunicationAndSpeechAct+urn:ontoinsights:dna:FriendlyOrSupportiveAct'], 'reshuffle': ['urn:ontoinsights:dna:Negation+urn:ontoinsights:dna:Alignment'], 'shuffle': ['urn:ontoinsights:dna:Negation+urn:ontoinsights:dna:Alignment'], 'skim': ['urn:ontoinsights:dna:IncrementalMovement', 'urn:ontoinsights:dna:RemovalAndRestriction'], 'telescope': ['urn:ontoinsights:dna:Decrease', 'urn:ontoinsights:dna:IncrementalMovement'], 'clump': ['urn:ontoinsights:dna:InclusionAttachmentAndUnification', 'urn:ontoinsights:dna:BodyMovement'], 'bloat': ['urn:ontoinsights:dna:Increase', 'urn:ontoinsights:dna:StateAndPhysicalChange'], 'bloom': ['urn:ontoinsights:dna:Increase', 'urn:ontoinsights:dna:StateAndPhysicalChange'], 'blossom out': ['urn:ontoinsights:dna:Increase', 'urn:ontoinsights:dna:StateAndPhysicalChange'], 'blossom': ['urn:ontoinsights:dna:Increase', 'urn:ontoinsights:dna:StateAndPhysicalChange'], 'blow up': ['urn:ontoinsights:dna:Increase', 'urn:ontoinsights:dna:StateAndPhysicalChange', 'urn:ontoinsights:dna:AttackDamageAndAssault'], 'bud': ['urn:ontoinsights:dna:Increase', 'urn:ontoinsights:dna:StateAndPhysicalChange'], 'elongate': ['urn:ontoinsights:dna:Increase', 'urn:ontoinsights:dna:StateAndPhysicalChange'], 'hypertrophy': ['urn:ontoinsights:dna:Increase+urn:ontoinsights:dna:HealthAndDiseaseRelated'], 'progress': ['urn:ontoinsights:dna:IncrementalMovement+urn:ontoinsights:dna:Increase'], 'rise': ['urn:ontoinsights:dna:BodyMovement', 'urn:ontoinsights:dna:EmploymentAndRelatedEvent'], 'shoot up': ['urn:ontoinsights:dna:AttackDamageAndAssault', 'urn:ontoinsights:dna:BodilyAct', 'urn:ontoinsights:dna:Increase'], 'shoot': ['urn:ontoinsights:dna:BodyMovement', 'urn:ontoinsights:dna:AttackDamageAndAssault'], 'soar': ['urn:ontoinsights:dna:MovementTravelAndTransportation', 'urn:ontoinsights:dna:Increase'], 'speed up': ['urn:ontoinsights:dna:MovementTravelAndTransportation', 'urn:ontoinsights:dna:Increase'], 'swell': ['urn:ontoinsights:dna:StateAndPhysicalChange', 'urn:ontoinsights:dna:Increase'], 'climb down': ['urn:ontoinsights:dna:IncrementalMovement+urn:ontoinsights:dna:BodyMovement'], 'brandish': ['urn:ontoinsights:dna:BodyMovement+urn:ontoinsights:dna:ThreatAndWarning'], 'bring forward': ['urn:ontoinsights:dna:AttentionAndFocus', 'urn:ontoinsights:dna:IncrementalMovement'], 'carry forward': ['urn:ontoinsights:dna:Continuation', 'urn:ontoinsights:dna:IncrementalMovement'], 'cut across': ['urn:ontoinsights:dna:MovementTravelAndTransportation', 'urn:ontoinsights:dna:Influence'], 'disarrange': ['urn:ontoinsights:dna:Negation+urn:ontoinsights:dna:Alignment'], 'dishevel': ['urn:ontoinsights:dna:Negation+urn:ontoinsights:dna:Grooming'], 'dislocate': ['urn:ontoinsights:dna:Negation+urn:ontoinsights:dna:Alignment'], 'disunite': ['urn:ontoinsights:dna:Negation+urn:ontoinsights:dna:InclusionAttachmentAndUnification'], 'ebb': ['urn:ontoinsights:dna:Decrease', 'urn:ontoinsights:dna:IncrementalMovement'], 'extradite': ['urn:ontoinsights:dna:MovementTravelAndTransportation+urn:ontoinsights:dna:CoercionAndIntimidation'], 'flourish': ['urn:ontoinsights:dna:HealthAndDiseaseRelated', 'urn:ontoinsights:dna:IncrementalMovement'], 'hike up': ['urn:ontoinsights:dna:Increase', 'urn:ontoinsights:dna:IncrementalMovement'], 'mow': ['urn:ontoinsights:dna:RemovalAndRestriction', 'urn:ontoinsights:dna:MurderAndHomicide'], 'park': ['urn:ontoinsights:dna:Negation+urn:ontoinsights:dna:MovementTravelAndTransportation'], 'repel': ['urn:ontoinsights:dna:HatredBitternessAndDisgust', 'urn:ontoinsights:dna:IncrementalMovement'], 'roil': ['urn:ontoinsights:dna:IncrementalMovement', 'urn:ontoinsights:dna:AngerAndAnnoyance'], 'run up': ['urn:ontoinsights:dna:Expenses', 'urn:ontoinsights:dna:ProductionManufactureAndCreation', 'urn:ontoinsights:dna:BodyMovement'], 'rupture': ['urn:ontoinsights:dna:AttackDamageAndAssault', 'urn:ontoinsights:dna:HealthAndDiseaseRelated'], 'score': ['urn:ontoinsights:dna:Competition', 'urn:ontoinsights:dna:ArtAndEntertainmentEvent'], 'settle down': ['urn:ontoinsights:dna:Negation+urn:ontoinsights:dna:MovementTravelAndTransportation'], 'smoke out': ['urn:ontoinsights:dna:EntranceAndExit', 'urn:ontoinsights:dna:CoercionAndIntimidation'], 'spike': ['urn:ontoinsights:dna:ImpactAndContact', 'urn:ontoinsights:dna:StateAndPhysicalChange'], 'square up': ['urn:ontoinsights:dna:FinancialEvent', 'urn:ontoinsights:dna:Negation+urn:ontoinsights:dna:DisagreementAndDispute'], 'tousle': ['urn:ontoinsights:dna:Negation+urn:ontoinsights:dna:Grooming'], 'transfuse': ['urn:ontoinsights:dna:StateAndPhysicalChange', 'urn:ontoinsights:dna:HealthAndDiseaseRelated'], 'transplant': ['urn:ontoinsights:dna:MovementTravelAndTransportation', 'urn:ontoinsights:dna:HealthAndDiseaseRelated'], 'twist': ['urn:ontoinsights:dna:IncrementalMovement', 'urn:ontoinsights:dna:BodyMovement'], 'unseat': ['urn:ontoinsights:dna:Negation+urn:ontoinsights:dna:AppointmentAndNomination', 'urn:ontoinsights:dna:IncrementalMovement'], 'vacillate': ['urn:ontoinsights:dna:IncrementalMovement', 'urn:ontoinsights:dna:Cognition'], 'intrigue': ['urn:ontoinsights:dna:IntentionAndGoal', 'urn:ontoinsights:dna:Curiosity'], 'offer': ['urn:ontoinsights:dna:IntentionAndGoal', 'urn:ontoinsights:dna:GiftAndDonation'], 'slot': ['urn:ontoinsights:dna:IntentionAndGoal', 'urn:ontoinsights:dna:IncrementalMovement'], 'edit': ['urn:ontoinsights:dna:Change', 'urn:ontoinsights:dna:IssuingAndPublishing'], 'cinch': ['urn:ontoinsights:dna:Certainty', 'urn:ontoinsights:dna:Grooming'], 'digest': ['urn:ontoinsights:dna:Eating', 'urn:ontoinsights:dna:MeaningImplicationAndInference'], 'make out': ['urn:ontoinsights:dna:BodyMovement', 'urn:ontoinsights:dna:Cognition'], 'misread': ['urn:ontoinsights:dna:Mistake'], 'catch up': ['urn:ontoinsights:dna:MovementTravelAndTransportation', 'urn:ontoinsights:dna:CommunicationAndSpeechAct'], 'drill in': ['urn:ontoinsights:dna:LearningAndEducation', 'urn:ontoinsights:dna:StateAndPhysicalChange'], 'ground': ['urn:ontoinsights:dna:Negation+urn:ontoinsights:dna:Permission'], 'trip up': ['urn:ontoinsights:dna:Influence+urn:ontoinsights:dna:Mistake'], 'repeal': ['urn:ontoinsights:dna:End+urn:ontoinsights:dna:Agreement'], 'itch': ['urn:ontoinsights:dna:BodyMovement', 'urn:ontoinsights:dna:LongingAndPassion'], 'capitalise': ['urn:ontoinsights:dna:FinancialEvent', 'urn:ontoinsights:dna:RiskTaking'], 'capitalize': ['urn:ontoinsights:dna:FinancialEvent', 'urn:ontoinsights:dna:RiskTaking'], 'cork up': ['urn:ontoinsights:dna:Negation+urn:ontoinsights:dna:CommunicationAndSpeechAct'], 'iron out': ['urn:ontoinsights:dna:Negation+urn:ontoinsights:dna:TroubleAndProblem'], 'relieve': ['urn:ontoinsights:dna:Decrease', 'urn:ontoinsights:dna:Substitution'], 'soothe': ['urn:ontoinsights:dna:Negation+urn:ontoinsights:dna:Pain', 'urn:ontoinsights:dna:Negation+urn:ontoinsights:dna:Anxiety'], 'vent': ['urn:ontoinsights:dna:EmotionalResponse', 'urn:ontoinsights:dna:ReturnRecoveryAndRelease'], 'vouch': ['urn:ontoinsights:dna:FriendlyOrSupportiveAct+urn:ontoinsights:dna:AssertionAndDeclaration'], 'intersect': ['urn:ontoinsights:dna:Separation', 'urn:ontoinsights:dna:InclusionAttachmentAndUnification'], 'ride roughshod': ['urn:ontoinsights:dna:IntentionAndGoal+urn:ontoinsights:dna:Arrogance'], 'run roughshod': ['urn:ontoinsights:dna:IntentionAndGoal+urn:ontoinsights:dna:Arrogance'], 'stoop to': ['urn:ontoinsights:dna:DeceptionAndDishonesty', 'urn:ontoinsights:dna:BodyMovement'], 'retain': ['urn:ontoinsights:dna:Memory', 'urn:ontoinsights:dna:Storage'], 'misestimate': ['urn:ontoinsights:dna:Mistake+urn:ontoinsights:dna:AssessmentAndCharacterization'], 'misremember': ['urn:ontoinsights:dna:Mistake+urn:ontoinsights:dna:Memory'], 'overestimate': ['urn:ontoinsights:dna:Mistake+urn:ontoinsights:dna:AssessmentAndCharacterization'], 'overrate': ['urn:ontoinsights:dna:Mistake+urn:ontoinsights:dna:AssessmentAndCharacterization'], 'sell short': ['urn:ontoinsights:dna:Mistake+urn:ontoinsights:dna:AssessmentAndCharacterization'], 'underrate': ['urn:ontoinsights:dna:Mistake+urn:ontoinsights:dna:AssessmentAndCharacterization'], 'alight': ['urn:ontoinsights:dna:MovementTravelAndTransportation+urn:ontoinsights:dna:End'], 'back out': ['urn:ontoinsights:dna:IncrementalMovement', 'urn:ontoinsights:dna:ViolationOfAgreement'], 'backpack': ['urn:ontoinsights:dna:MovementTravelAndTransportation+urn:ontoinsights:dna:RecreationAndSportEvent'], 'bushwhack': ['urn:ontoinsights:dna:MovementTravelAndTransportation', 'urn:ontoinsights:dna:War'], 'chase': ['urn:ontoinsights:dna:MovementTravelAndTransportation+urn:ontoinsights:dna:Searching'], 'climb up': ['urn:ontoinsights:dna:IncrementalMovement+urn:ontoinsights:dna:BodyMovement'], 'conduct': ['urn:ontoinsights:dna:AdviceAndRecommendation', 'urn:ontoinsights:dna:ArtAndEntertainmentEvent', 'urn:ontoinsights:dna:Supervision'], 'crawl': ['urn:ontoinsights:dna:IncrementalMovement+urn:ontoinsights:dna:BodyMovement'], 'derail': ['urn:ontoinsights:dna:Mistake+urn:ontoinsights:dna:MovementTravelAndTransportation'], 'descend': ['urn:ontoinsights:dna:IncrementalMovement', 'urn:ontoinsights:dna:Decrease'], 'dive': ['urn:ontoinsights:dna:Decrease', 'urn:ontoinsights:dna:BodyMovement'], 'drive up': ['urn:ontoinsights:dna:Increase', 'urn:ontoinsights:dna:EntranceAndExit'], 'edge in': ['urn:ontoinsights:dna:Increase', 'urn:ontoinsights:dna:StateAndPhysicalChange'], 'edge': ['urn:ontoinsights:dna:Increase', 'urn:ontoinsights:dna:StateAndPhysicalChange'], 'falter': ['urn:ontoinsights:dna:Exhaustion', 'urn:ontoinsights:dna:BodyMovement'], 'figure skate': ['urn:ontoinsights:dna:BodyMovement+urn:ontoinsights:dna:RecreationAndSportEvent'], 'frogmarch': ['urn:ontoinsights:dna:BodyMovement+urn:ontoinsights:dna:CoercionAndIntimidation'], 'get by': ['urn:ontoinsights:dna:LivingCondition+urn:ontoinsights:dna:TroubleAndProblem'], 'ghost': ['urn:ontoinsights:dna:IncrementalMovement', 'urn:ontoinsights:dna:IgnoringAndOverlooking'], 'hitch': ['urn:ontoinsights:dna:InclusionAttachmentAndUnification', 'urn:ontoinsights:dna:MovementTravelAndTransportation'], 'hover': ['urn:ontoinsights:dna:Negation+urn:ontoinsights:dna:MovementTravelAndTransportation'], 'ice skate': ['urn:ontoinsights:dna:BodyMovement+urn:ontoinsights:dna:RecreationAndSportEvent'], 'infiltrate': ['urn:ontoinsights:dna:StateAndPhysicalChange', 'urn:ontoinsights:dna:EntranceAndExit+urn:ontoinsights:dna:Concealment'], 'infringe': ['urn:ontoinsights:dna:ViolationOfAgreement'], 'lead': ['urn:ontoinsights:dna:IntentionAndGoal', 'urn:ontoinsights:dna:MovementTravelAndTransportation'], 'maunder': ['urn:ontoinsights:dna:BodyMovement', 'urn:ontoinsights:dna:CommunicationAndSpeechAct'], 'misdeliver': ['urn:ontoinsights:dna:Mistake+urn:ontoinsights:dna:MovementTravelAndTransportation'], 'pass on': ['urn:ontoinsights:dna:ChangeOfPossession', 'urn:ontoinsights:dna:Death'], 'pipe in': ['urn:ontoinsights:dna:MovementTravelAndTransportation', 'urn:ontoinsights:dna:CommunicationAndSpeechAct'], 'pipe': ['urn:ontoinsights:dna:MovementTravelAndTransportation', 'urn:ontoinsights:dna:ArtAndEntertainmentEvent'], 'plough': ['urn:ontoinsights:dna:MovementTravelAndTransportation', 'urn:ontoinsights:dna:AgricultureApicultureAndAquacultureEvent'], 'plow': ['urn:ontoinsights:dna:MovementTravelAndTransportation', 'urn:ontoinsights:dna:AgricultureApicultureAndAquacultureEvent'], 'propagate': ['urn:ontoinsights:dna:Cognition', 'urn:ontoinsights:dna:AgricultureApicultureAndAquacultureEvent'], 'put over': ['urn:ontoinsights:dna:DelayAndWait', 'urn:ontoinsights:dna:CommunicationAndSpeechAct'], 'revisit': ['urn:ontoinsights:dna:MovementTravelAndTransportation', 'urn:ontoinsights:dna:Cognition'], 'roller skate': ['urn:ontoinsights:dna:BodyMovement+urn:ontoinsights:dna:RecreationAndSportEvent'], 'rollerblade': ['urn:ontoinsights:dna:BodyMovement+urn:ontoinsights:dna:RecreationAndSportEvent'], 'run bases': ['urn:ontoinsights:dna:BodyMovement+urn:ontoinsights:dna:RecreationAndSportEvent'], 'run by': ['urn:ontoinsights:dna:AssertionAndDeclaration', 'urn:ontoinsights:dna:MovementTravelAndTransportation'], 'sink': ['urn:ontoinsights:dna:Decrease', 'urn:ontoinsights:dna:IncrementalMovement'], 'skate': ['urn:ontoinsights:dna:BodyMovement+urn:ontoinsights:dna:RecreationAndSportEvent'], 'skateboard': ['urn:ontoinsights:dna:BodyMovement+urn:ontoinsights:dna:RecreationAndSportEvent'], 'sky dive': ['urn:ontoinsights:dna:BodyMovement+urn:ontoinsights:dna:RecreationAndSportEvent'], 'skydive': ['urn:ontoinsights:dna:BodyMovement+urn:ontoinsights:dna:RecreationAndSportEvent'], 'slalom': ['urn:ontoinsights:dna:BodyMovement+urn:ontoinsights:dna:RecreationAndSportEvent'], 'sled': ['urn:ontoinsights:dna:BodyMovement+urn:ontoinsights:dna:RecreationAndSportEvent'], 'sneak up': ['urn:ontoinsights:dna:BodyMovement+urn:ontoinsights:dna:Concealment'], 'sneak': ['urn:ontoinsights:dna:BodyMovement+urn:ontoinsights:dna:Concealment'], 'snorkel': ['urn:ontoinsights:dna:BodyMovement+urn:ontoinsights:dna:RecreationAndSportEvent'], 'snowboard': ['urn:ontoinsights:dna:BodyMovement+urn:ontoinsights:dna:RecreationAndSportEvent'], 'snowmobile': ['urn:ontoinsights:dna:BodyMovement+urn:ontoinsights:dna:RecreationAndSportEvent'], 'snowshoe': ['urn:ontoinsights:dna:BodyMovement+urn:ontoinsights:dna:RecreationAndSportEvent'], 'somnambulate': ['urn:ontoinsights:dna:BodyMovement+urn:ontoinsights:dna:SleepAndRest'], 'step on': ['urn:ontoinsights:dna:AggressiveOrHostileAct', 'urn:ontoinsights:dna:BodyMovement'], 'string along': ['urn:ontoinsights:dna:MovementTravelAndTransportation', 'urn:ontoinsights:dna:DeceptionAndDishonesty'], 'tailgate': ['urn:ontoinsights:dna:MovementTravelAndTransportation', 'urn:ontoinsights:dna:MeetingAndEncounter'], 'tip': ['urn:ontoinsights:dna:Expenses', 'urn:ontoinsights:dna:AdviceAndRecommendation', 'urn:ontoinsights:dna:IncrementalMovement'], 'top': ['urn:ontoinsights:dna:IncrementalMovement', 'urn:ontoinsights:dna:Increase'], 'tramp down': ['urn:ontoinsights:dna:BodyMovement+urn:ontoinsights:dna:StateAndPhysicalChange'], 'trample': ['urn:ontoinsights:dna:BodyMovement+urn:ontoinsights:dna:StateAndPhysicalChange'], 'water ski': ['urn:ontoinsights:dna:BodyMovement+urn:ontoinsights:dna:RecreationAndSportEvent'], 'windsurf': ['urn:ontoinsights:dna:BodyMovement+urn:ontoinsights:dna:RecreationAndSportEvent'], 'pick off': ['urn:ontoinsights:dna:MurderAndHomicide', 'urn:ontoinsights:dna:BodyMovement'], 'quarter': ['urn:ontoinsights:dna:MurderAndHomicide', 'urn:ontoinsights:dna:Separation'], 'mire': ['urn:ontoinsights:dna:TroubleAndProblem', 'urn:ontoinsights:dna:StateAndPhysicalChange'], 'lease': ['urn:ontoinsights:dna:Possession+urn:ontoinsights:dna:Contract'], 'expect': ['urn:ontoinsights:dna:Cognition+urn:ontoinsights:dna:OpportunityAndPossibility', 'urn:ontoinsights:dna:Birth'], 'cut down': ['urn:ontoinsights:dna:Decrease', 'urn:ontoinsights:dna:RemovalAndRestriction'], 'cut out': ['urn:ontoinsights:dna:Decrease', 'urn:ontoinsights:dna:RemovalAndRestriction', 'urn:ontoinsights:dna:Separation'], 'gum up': ['urn:ontoinsights:dna:Negation+urn:ontoinsights:dna:MaintenanceAndRepair'], 'hobble': ['urn:ontoinsights:dna:Negation+urn:ontoinsights:dna:MaintenanceAndRepair'], 'wash out': ['urn:ontoinsights:dna:DelayAndWait', 'urn:ontoinsights:dna:Failure'], 'jumble': ['urn:ontoinsights:dna:Negation+urn:ontoinsights:dna:Alignment'], 'muddle': ['urn:ontoinsights:dna:Negation+urn:ontoinsights:dna:Alignment'], 'raft': ['urn:ontoinsights:dna:MovementTravelAndTransportation', 'urn:ontoinsights:dna:InclusionAttachmentAndUnification'], 'spring': ['urn:ontoinsights:dna:StartAndBeginning', 'urn:ontoinsights:dna:BodyMovement'], 'bail': ['urn:ontoinsights:dna:ReturnRecoveryAndRelease+urn:ontoinsights:dna:LegalEvent+urn:ontoinsights:dna:PromiseAndOath'], 'lay': ['urn:ontoinsights:dna:BodyMovement', 'urn:ontoinsights:dna:ReadinessAndAbility'], 'tee up': ['urn:ontoinsights:dna:StartAndBeginning', 'urn:ontoinsights:dna:RecreationAndSportEvent'], 'recant': ['urn:ontoinsights:dna:Change+urn:ontoinsights:dna:AssertionAndDeclaration'], 'remonstrate': ['urn:ontoinsights:dna:CommunicationAndSpeechAct+urn:ontoinsights:dna:AngerAndAnnoyance'], 'loosen up': ['urn:ontoinsights:dna:RelaxationAndSerenity', 'urn:ontoinsights:dna:StateAndPhysicalChange'], 'sit back': ['urn:ontoinsights:dna:RelaxationAndSerenity', 'urn:ontoinsights:dna:BodyMovement'], 'unbend': ['urn:ontoinsights:dna:RelaxationAndSerenity', 'urn:ontoinsights:dna:StateAndPhysicalChange'], 'unstrain': ['urn:ontoinsights:dna:RelaxationAndSerenity', 'urn:ontoinsights:dna:StateAndPhysicalChange'], 'autotomise': ['urn:ontoinsights:dna:RemovalAndRestriction+urn:ontoinsights:dna:BodilyAct'], 'autotomize': ['urn:ontoinsights:dna:RemovalAndRestriction+urn:ontoinsights:dna:BodilyAct'], 'bale out': ['urn:ontoinsights:dna:End+urn:ontoinsights:dna:TroubleAndProblem', 'urn:ontoinsights:dna:MovementTravelAndTransportation'], 'bare': ['urn:ontoinsights:dna:Negation+urn:ontoinsights:dna:Concealment'], 'bleed': ['urn:ontoinsights:dna:RemovalAndRestriction', 'urn:ontoinsights:dna:BodilyAct'], 'bridle': ['urn:ontoinsights:dna:AngerAndAnnoyance', 'urn:ontoinsights:dna:RemovalAndRestriction'], 'cancel': ['urn:ontoinsights:dna:CommunicationAndSpeechAct', 'urn:ontoinsights:dna:End'], 'cheque': ['urn:ontoinsights:dna:AssessmentAndCharacterization', 'urn:ontoinsights:dna:RemovalAndRestriction'], 'chip away at': ['urn:ontoinsights:dna:Cognition', 'urn:ontoinsights:dna:RemovalAndRestriction'], 'corrade': ['urn:ontoinsights:dna:RemovalAndRestriction+urn:ontoinsights:dna:ImpactAndContact'], 'defuse': ['urn:ontoinsights:dna:Decrease+urn:ontoinsights:dna:TroubleAndProblem', 'urn:ontoinsights:dna:StateAndPhysicalChange'], 'denude': ['urn:ontoinsights:dna:Negation+urn:ontoinsights:dna:Concealment'], 'discase': ['urn:ontoinsights:dna:Negation+urn:ontoinsights:dna:Storage'], 'disembowel': ['urn:ontoinsights:dna:RemovalAndRestriction+urn:ontoinsights:dna:BodilyAct'], 'disinvest': ['urn:ontoinsights:dna:RemovalAndRestriction+urn:ontoinsights:dna:FinancialEvent'], 'dislodge': ['urn:ontoinsights:dna:RemovalAndRestriction+urn:ontoinsights:dna:EmploymentAndRelatedEvent', 'urn:ontoinsights:dna:IncrementalMovement'], 'doff': ['urn:ontoinsights:dna:RemovalAndRestriction+urn:ontoinsights:dna:Grooming'], 'mark off': ['urn:ontoinsights:dna:Acknowledgment', 'urn:ontoinsights:dna:Separation'], 'mark out': ['urn:ontoinsights:dna:AssessmentAndCharacterization', 'urn:ontoinsights:dna:Separation'], 'outspan': ['urn:ontoinsights:dna:RemovalAndRestriction+urn:ontoinsights:dna:Separation'], 'pick': ['urn:ontoinsights:dna:DecisionMakingAndChoice', 'urn:ontoinsights:dna:BodyMovement'], 'rub out': ['urn:ontoinsights:dna:MurderAndHomicide', 'urn:ontoinsights:dna:RemovalAndRestriction'], 'scalp': ['urn:ontoinsights:dna:PurchaseAndSale+urn:ontoinsights:dna:DeceptionAndDishonesty'], 'unbox': ['urn:ontoinsights:dna:Negation+urn:ontoinsights:dna:Storage'], 'uncloak': ['urn:ontoinsights:dna:Negation+urn:ontoinsights:dna:Concealment'], 'uncrate': ['urn:ontoinsights:dna:Negation+urn:ontoinsights:dna:Storage'], 'undress': ['urn:ontoinsights:dna:Negation+urn:ontoinsights:dna:Grooming'], 'unhinge': ['urn:ontoinsights:dna:Negation+urn:ontoinsights:dna:RemovalAndRestriction', 'urn:ontoinsights:dna:Anxiety'], 'unpack': ['urn:ontoinsights:dna:Negation+urn:ontoinsights:dna:Storage'], 'ransom': ['urn:ontoinsights:dna:PurchaseAndSale+urn:ontoinsights:dna:ReturnRecoveryAndRelease'], 'walk off': ['urn:ontoinsights:dna:RobberyAndTheft', 'urn:ontoinsights:dna:BodyMovement'], 'attend': ['urn:ontoinsights:dna:AttentionAndFocus', 'urn:ontoinsights:dna:MeetingAndEncounter'], 'molt': ['urn:ontoinsights:dna:Separation+urn:ontoinsights:dna:BodilyAct'], 'unbraid': ['urn:ontoinsights:dna:Separation', 'urn:ontoinsights:dna:Grooming'], 'unplug': ['urn:ontoinsights:dna:Negation+urn:ontoinsights:dna:RemovalAndRestriction'], 'bundle': ['urn:ontoinsights:dna:InclusionAttachmentAndUnification', 'urn:ontoinsights:dna:CoercionAndIntimidation'], 'hole up': ['urn:ontoinsights:dna:SleepAndRest', 'urn:ontoinsights:dna:Concealment'], 'call to order': ['urn:ontoinsights:dna:StartAndBeginning+urn:ontoinsights:dna:MeetingAndEncounter'], 'get to': ['urn:ontoinsights:dna:StartAndBeginning', 'urn:ontoinsights:dna:AngerAndAnnoyance'], 'start up': ['urn:ontoinsights:dna:StartOfBusiness', 'urn:ontoinsights:dna:StartAndBeginning'], 'unbar': ['urn:ontoinsights:dna:Negation+urn:ontoinsights:dna:RemovalAndRestriction'], 'unbolt': ['urn:ontoinsights:dna:Negation+urn:ontoinsights:dna:RemovalAndRestriction'], 'uncork': ['urn:ontoinsights:dna:Negation+urn:ontoinsights:dna:RemovalAndRestriction+urn:ontoinsights:dna:Eating'], 'unseal': ['urn:ontoinsights:dna:Negation+urn:ontoinsights:dna:RemovalAndRestriction'], 'hunger': ['urn:ontoinsights:dna:StarvationHungerAndMalnutrition', 'urn:ontoinsights:dna:LongingAndPassion'], 'nourish': ['urn:ontoinsights:dna:Negation+urn:ontoinsights:dna:StarvationHungerAndMalnutrition'], 'nutrify': ['urn:ontoinsights:dna:Negation+urn:ontoinsights:dna:StarvationHungerAndMalnutrition'], 'seethe': ['urn:ontoinsights:dna:StateAndPhysicalChange', 'urn:ontoinsights:dna:AngerAndAnnoyance'], 'blend in': ['urn:ontoinsights:dna:Compatibility', 'urn:ontoinsights:dna:StateAndPhysicalChange'], 'coddle': ['urn:ontoinsights:dna:ImpactAndContact', 'urn:ontoinsights:dna:StateAndPhysicalChange'], 'conk': ['urn:ontoinsights:dna:Exhaustion', 'urn:ontoinsights:dna:Deficiency'], 'entangle': ['urn:ontoinsights:dna:Negation+urn:ontoinsights:dna:Alignment'], 'faint': ['urn:ontoinsights:dna:BodilyAct+urn:ontoinsights:dna:HealthAndDiseaseRelated'], 'poach': ['urn:ontoinsights:dna:RobberyAndTheft', 'urn:ontoinsights:dna:StateAndPhysicalChange'], 'sandblast': ['urn:ontoinsights:dna:ImpactAndContact', 'urn:ontoinsights:dna:SiegeAndSurrounding'], 'sober up': ['urn:ontoinsights:dna:Negation+urn:ontoinsights:dna:Intoxication'], 'sober': ['urn:ontoinsights:dna:Negation+urn:ontoinsights:dna:Intoxication'], 'wake up': ['urn:ontoinsights:dna:Negation+urn:ontoinsights:dna:SleepAndRest'], 'weather': ['urn:ontoinsights:dna:Success', 'urn:ontoinsights:dna:StateAndPhysicalChange'], 'wrap up': ['urn:ontoinsights:dna:End', 'urn:ontoinsights:dna:Grooming', 'urn:ontoinsights:dna:SiegeAndSurrounding'], 'hold': ['urn:ontoinsights:dna:BodilyAct', 'urn:ontoinsights:dna:Storage', 'urn:ontoinsights:dna:Possession', 'urn:ontoinsights:dna:Continuation'], 'hold up': ['urn:ontoinsights:dna:DelayAndWait', 'urn:ontoinsights:dna:RobberyAndTheft', 'urn:ontoinsights:dna:AssertionAndDeclaration', 'urn:ontoinsights:dna:BodilyAct'], 'hold over': ['urn:ontoinsights:dna:DelayAndWait', 'urn:ontoinsights:dna:ThreatAndWarning'], 'smoke': ['urn:ontoinsights:dna:BodilyAct', 'urn:ontoinsights:dna:StateAndPhysicalChange'], 'instigate': ['urn:ontoinsights:dna:Influence+urn:ontoinsights:dna:StartAndBeginning'], 'mind-game': ['urn:ontoinsights:dna:Influence+urn:ontoinsights:dna:Cognition'], 'lead astray': ['urn:ontoinsights:dna:Mistake+urn:ontoinsights:dna:AdviceAndRecommendation'], 'throw out': ['urn:ontoinsights:dna:AdviceAndRecommendation', 'urn:ontoinsights:dna:RemovalAndRestriction'], 'dispose': ['urn:ontoinsights:dna:Influence', 'urn:ontoinsights:dna:RemovalAndRestriction'], 'bring around': ['urn:ontoinsights:dna:IncrementalMovement', 'urn:ontoinsights:dna:Influence'], 'bring round': ['urn:ontoinsights:dna:IncrementalMovement', 'urn:ontoinsights:dna:Influence'], 'badger': ['urn:ontoinsights:dna:AggressiveOrHostileAct+urn:ontoinsights:dna:Influence'], 'talk into': ['urn:ontoinsights:dna:CommunicationAndSpeechAct+urn:ontoinsights:dna:Influence'], 'sweet talk': ['urn:ontoinsights:dna:CommunicationAndSpeechAct+urn:ontoinsights:dna:Influence'], 'sterilize': ['urn:ontoinsights:dna:HealthAndDiseaseRelated+urn:ontoinsights:dna:GoalDirectedProcess', 'urn:ontoinsights:dna:SanitaryCondition'], 'control': ['urn:ontoinsights:dna:Possession', 'urn:ontoinsights:dna:Influence'], 'sustain': ['urn:ontoinsights:dna:BodilyInjury', 'urn:ontoinsights:dna:Continuation', 'urn:ontoinsights:dna:AidAndAssistance'], 'write off': ['urn:ontoinsights:dna:Acknowledgment', 'urn:ontoinsights:dna:RemovalAndRestriction'], 'charter': ['urn:ontoinsights:dna:StartOfBusiness', 'urn:ontoinsights:dna:RequestAndAppeal'], 'locate': ['urn:ontoinsights:dna:Acquisition', 'urn:ontoinsights:dna:Cognition'], 'make up': ['urn:ontoinsights:dna:Cognition', \"urn:ontoinsights:dna:Grooming', urn:ontoinsights:dna:AssertionAndDeclaration\"], 'squeeze out': ['urn:ontoinsights:dna:Acquisition', 'urn:ontoinsights:dna:RemovalAndRestriction'], 'show': ['urn:ontoinsights:dna:Negation+urn:ontoinsights:dna:Concealment'], 'hamstring': ['urn:ontoinsights:dna:RemovalAndRestriction', 'urn:ontoinsights:dna:AttackDamageAndAssault'], 'sandbag': ['urn:ontoinsights:dna:AttackDamageAndAssault', 'urn:ontoinsights:dna:DeceptionAndDishonesty', 'urn:ontoinsights:dna:RemovalAndRestriction', 'urn:ontoinsights:dna:CoercionAndIntimidation'], 'seed': ['urn:ontoinsights:dna:AgricultureApicultureAndAquacultureEvent', 'urn:ontoinsights:dna:InclusionAttachmentAndUnification'], 'alleviate': ['urn:ontoinsights:dna:AidAndAssistance', 'urn:ontoinsights:dna:Decrease'], 'avail': ['urn:ontoinsights:dna:AidAndAssistance', 'urn:ontoinsights:dna:UtilizationAndConsumption'], 'ease': ['urn:ontoinsights:dna:AidAndAssistance', 'urn:ontoinsights:dna:Decrease'], 'overprotect': ['urn:ontoinsights:dna:AidAndAssistance', 'urn:ontoinsights:dna:DefensiveAndProtectiveAct'], 'center': ['urn:ontoinsights:dna:Alignment', 'urn:ontoinsights:dna:AttentionAndFocus'], 'centre': ['urn:ontoinsights:dna:Alignment', 'urn:ontoinsights:dna:AttentionAndFocus'], 'concatenate': ['urn:ontoinsights:dna:Alignment', 'urn:ontoinsights:dna:InclusionAttachmentAndUnification'], 'goof-proof': ['urn:ontoinsights:dna:Negation+urn:ontoinsights:dna:Mistake+urn:ontoinsights:dna:ReadinessAndAbility'], 'gradate': ['urn:ontoinsights:dna:Alignment', 'urn:ontoinsights:dna:StateAndPhysicalChange'], 'reorder': ['urn:ontoinsights:dna:Alignment', 'urn:ontoinsights:dna:RequestAndAppeal'], 'straighten': ['urn:ontoinsights:dna:Alignment', 'urn:ontoinsights:dna:StateAndPhysicalChange'], 'chafe': ['urn:ontoinsights:dna:AngerAndAnnoyance', 'urn:ontoinsights:dna:ImpactAndContact'], 'grate': ['urn:ontoinsights:dna:AngerAndAnnoyance', 'urn:ontoinsights:dna:StateAndPhysicalChange'], 'strain': ['urn:ontoinsights:dna:Anxiety', 'urn:ontoinsights:dna:Attempt'], 'put up': ['urn:ontoinsights:dna:AppointmentAndNomination', 'urn:ontoinsights:dna:ProductionManufactureAndCreation'], 'lengthen': ['urn:ontoinsights:dna:Increase', 'urn:ontoinsights:dna:StateAndPhysicalChange'], 'recognize': ['urn:ontoinsights:dna:AppreciationAndGratitude', 'urn:ontoinsights:dna:AssessmentAndCharacterization'], 'recognise': ['urn:ontoinsights:dna:AppreciationAndGratitude', 'urn:ontoinsights:dna:AssessmentAndCharacterization'], 'let out': ['urn:ontoinsights:dna:ReturnRecoveryAndRelease', 'urn:ontoinsights:dna:CommunicationAndSpeechAct'], 'loose out': ['urn:ontoinsights:dna:ReturnRecoveryAndRelease', 'urn:ontoinsights:dna:CommunicationAndSpeechAct'], 'gush': ['urn:ontoinsights:dna:IncrementalMovement', 'urn:ontoinsights:dna:CommunicationAndSpeechAct'], 'try on': ['urn:ontoinsights:dna:ArtAndEntertainmentEvent', 'urn:ontoinsights:dna:Grooming'], 'try out': ['urn:ontoinsights:dna:ArtAndEntertainmentEvent', 'urn:ontoinsights:dna:Attempt'], 'magnify': ['urn:ontoinsights:dna:AssertionAndDeclaration', 'urn:ontoinsights:dna:Increase'], 'auspicate': ['urn:ontoinsights:dna:ThreatAndWarning', 'urn:ontoinsights:dna:StartAndBeginning'], 'postulate': ['urn:ontoinsights:dna:AssertionAndDeclaration', 'urn:ontoinsights:dna:MeaningImplicationAndInference'], 'fawn': ['urn:ontoinsights:dna:CommunicationAndSpeechAct', 'urn:ontoinsights:dna:Birth'], 'incline': ['urn:ontoinsights:dna:Agreement', 'urn:ontoinsights:dna:Fondness', 'urn:ontoinsights:dna:StateAndPhysicalChange', 'urn:ontoinsights:dna:Influence'], 'overturn': ['urn:ontoinsights:dna:Change+urn:ontoinsights:dna:DecisionMakingAndChoice', 'urn:ontoinsights:dna:IncrementalMovement'], 'puff up': ['urn:ontoinsights:dna:AssessmentAndCharacterization', 'urn:ontoinsights:dna:Increase'], 'bust': ['urn:ontoinsights:dna:Separation ', 'urn:ontoinsights:dna:AttackDamageAndAssault', 'urn:ontoinsights:dna:End', 'urn:ontoinsights:dna:LegalEvent'], 'bust up': ['urn:ontoinsights:dna:Separation', 'urn:ontoinsights:dna:End'], 'go bust': ['urn:ontoinsights:dna:EndOfBusiness', 'urn:ontoinsights:dna:Failure+urn:ontoinsights:dna:GamblingAndWagering'], 'upgrade': ['urn:ontoinsights:dna:AssessmentAndCharacterization', 'urn:ontoinsights:dna:MaintenanceAndRepair'], 'claw': ['urn:ontoinsights:dna:AttackDamageAndAssault', 'urn:ontoinsights:dna:BodyMovement'], 'explode': ['urn:ontoinsights:dna:EmotionalResponse', 'urn:ontoinsights:dna:StateAndPhysicalChange'], 'concede': ['urn:ontoinsights:dna:Acknowledgment', 'urn:ontoinsights:dna:SurrenderAndYielding'], 'scuffle': ['urn:ontoinsights:dna:AttackDamageAndAssault', 'urn:ontoinsights:dna:BodyMovement'], 'whip': ['urn:ontoinsights:dna:AttackDamageAndAssault', 'urn:ontoinsights:dna:BodyMovement'], 'parry': ['urn:ontoinsights:dna:Avoidance', 'urn:ontoinsights:dna:AssertionAndDeclaration'], 'sit out': ['urn:ontoinsights:dna:Avoidance', 'urn:ontoinsights:dna:DelayAndWait'], 'skirt': ['urn:ontoinsights:dna:Avoidance', 'urn:ontoinsights:dna:IncrementalMovement'], 'spar': ['urn:ontoinsights:dna:Battle', 'urn:ontoinsights:dna:DisagreementAndDispute'], 'calve': ['urn:ontoinsights:dna:Birth', 'urn:ontoinsights:dna:Separation'], 'preen': ['urn:ontoinsights:dna:Boast', 'urn:ontoinsights:dna:Grooming'], 'puff': ['urn:ontoinsights:dna:Boast', 'urn:ontoinsights:dna:Increase'], 'chuck': ['urn:ontoinsights:dna:BodyMovement', 'urn:ontoinsights:dna:End'], 'regurgitate': ['urn:ontoinsights:dna:BodilyAct', 'urn:ontoinsights:dna:CommunicationAndSpeechAct'], 'blister': ['urn:ontoinsights:dna:BodilyInjury', 'urn:ontoinsights:dna:StateAndPhysicalChange'], 'lift': ['urn:ontoinsights:dna:BodyMovement', 'urn:ontoinsights:dna:IncrementalMovement'], 'update': ['urn:ontoinsights:dna:Change', 'urn:ontoinsights:dna:MaintenanceAndRepair'], 'impose': ['urn:ontoinsights:dna:CommandAndDemand+urn:ontoinsights:dna:Enforcement'], 'determine': ['urn:ontoinsights:dna:DecisionMakingAndChoice', 'urn:ontoinsights:dna:Influence'], 'mold': ['urn:ontoinsights:dna:Influence', 'urn:ontoinsights:dna:StateAndPhysicalChange'], 'convert': ['urn:ontoinsights:dna:Change', 'urn:ontoinsights:dna:Influence'], 'fill': ['urn:ontoinsights:dna:IncrementalMovement(ifPerson)', 'urn:ontoinsights:dna:IncrementalMovement(ifContainer)'], 'feel': ['urn:ontoinsights:dna:AttributeAndCharacteristic', 'urn:ontoinsights:dna:SensoryPerception(ifany)']}\n"
     ]
    }
   ],
   "source": [
    "# For example ...\n",
    "print(verbs_multiple)"
   ]
  },
  {
   "cell_type": "code",
   "execution_count": 6,
   "id": "bd023990",
   "metadata": {
    "ExecuteTime": {
     "end_time": "2023-03-07T02:44:29.293060Z",
     "start_time": "2023-03-07T02:44:29.286356Z"
    }
   },
   "outputs": [],
   "source": [
    "with open('nouns-multiple-en.pickle', 'wb') as out_file:\n",
    "    pickle.dump(nouns_multiple, out_file)\n",
    "with open('verbs-multiple-en.pickle', 'wb') as out_file:\n",
    "    pickle.dump(verbs_multiple, out_file)"
   ]
  },
  {
   "cell_type": "markdown",
   "id": "4b01c602",
   "metadata": {},
   "source": [
    "# Check for Duplicates in noun and verb synonyms in the ttl files\n",
    "\n",
    "The current ontology files are loaded into the 'ontologies' db in Stardog."
   ]
  },
  {
   "cell_type": "code",
   "execution_count": 4,
   "id": "719ced75",
   "metadata": {
    "ExecuteTime": {
     "end_time": "2023-01-28T05:58:09.848027Z",
     "start_time": "2023-01-28T05:58:09.757795Z"
    },
    "code_folding": []
   },
   "outputs": [],
   "source": [
    "import stardog\n",
    "\n",
    "sd_conn_details = {'endpoint': 'http://localhost:5820',\n",
    "                   'username': 'admin',\n",
    "                   'password': 'admin'}\n",
    "\n",
    "query_dup_noun_syn = 'prefix : <urn:ontoinsights:dna:> select ?class1 ?class2 ?term where ' \\\n",
    "                     '{?class1 :noun_synonym ?term . ?class2 :noun_synonym ?term . ' \\\n",
    "                     'FILTER (!CONTAINS(str(?class1), \"Currency\")) . FILTER (!CONTAINS(str(?class2), \"Currency\")) . ' \\\n",
    "                     'FILTER (!CONTAINS(str(?class1), \":enum:\")) . FILTER (!CONTAINS(str(?class2), \":enum:\")) . ' \\\n",
    "                     'FILTER (str(?class1) < str(?class2))}'\n",
    "query_dup_verb_syn = 'prefix : <urn:ontoinsights:dna:> select ?class1 ?class2 ?term where ' \\\n",
    "                     '{?class1 :verb_synonym ?term . ?class2 :verb_synonym ?term . FILTER (str(?class1) < str(?class2))}'\n",
    "\n",
    "dna_conn = stardog.Connection(\"ontologies\", **sd_conn_details)"
   ]
  },
  {
   "cell_type": "code",
   "execution_count": 5,
   "id": "fcd95f5c",
   "metadata": {
    "ExecuteTime": {
     "end_time": "2023-01-28T05:58:11.975504Z",
     "start_time": "2023-01-28T05:58:11.906827Z"
    }
   },
   "outputs": [
    {
     "name": "stdout",
     "output_type": "stream",
     "text": [
      "noun text:  Antarctica , in classes:  urn:ontoinsights:geonames:6255152 urn:ontoinsights:geonames:6697173\n",
      "noun text:  agriculture , in classes:  urn:ontoinsights:dna:Agribusiness urn:ontoinsights:dna:AgricultureApicultureAndAquacultureEvent\n",
      "noun text:  apiculture , in classes:  urn:ontoinsights:dna:Agribusiness urn:ontoinsights:dna:AgricultureApicultureAndAquacultureEvent\n",
      "noun text:  aquaculture , in classes:  urn:ontoinsights:dna:Agribusiness urn:ontoinsights:dna:AgricultureApicultureAndAquacultureEvent\n",
      "noun text:  viticulture , in classes:  urn:ontoinsights:dna:Agribusiness urn:ontoinsights:dna:AgricultureApicultureAndAquacultureEvent\n",
      "noun text:  Daba , in classes:  urn:ontoinsights:dna:Ethnicity urn:ontoinsights:dna:ReligiousBelief\n"
     ]
    }
   ],
   "source": [
    "syn_results = dna_conn.select(query_dup_noun_syn, content_type='application/sparql-results+json')\n",
    "for syn_result in syn_results['results']['bindings']:\n",
    "    class1 = syn_result['class1']['value']\n",
    "    class2 = syn_result['class2']['value']\n",
    "    print('noun text: ', syn_result['term']['value'], ', in classes: ', class1, class2)\n",
    "# Types of business may overlap events\n",
    "# Antarctica is both a continent and country\n",
    "# Daba is both a kind of Tibetan Buddhism and an ethnicity (Nigeria and Cameroon)     "
   ]
  },
  {
   "cell_type": "code",
   "execution_count": 6,
   "id": "f2469d0f",
   "metadata": {
    "ExecuteTime": {
     "end_time": "2023-01-28T05:58:15.426768Z",
     "start_time": "2023-01-28T05:58:15.407323Z"
    }
   },
   "outputs": [],
   "source": [
    "syn_results = dna_conn.select(query_dup_verb_syn, content_type='application/sparql-results+json')\n",
    "for syn_result in syn_results['results']['bindings']:\n",
    "    class1 = syn_result['class1']['value']\n",
    "    class2 = syn_result['class2']['value']\n",
    "    print('verb text: ', syn_result['term']['value'], ', in classes: ', class1, class2)"
   ]
  },
  {
   "cell_type": "markdown",
   "id": "60727ab6",
   "metadata": {},
   "source": [
    "# Check for duplicate terms in the multiple classes dictionaries and the DNA ontology TTL files"
   ]
  },
  {
   "cell_type": "code",
   "execution_count": 7,
   "id": "d8536f91",
   "metadata": {
    "ExecuteTime": {
     "end_time": "2023-01-28T05:58:20.058340Z",
     "start_time": "2023-01-28T05:58:20.055805Z"
    }
   },
   "outputs": [],
   "source": [
    "query_multi_noun = 'prefix : <urn:ontoinsights:dna:> select ?class where {?class :noun_synonym ?term}'\n",
    "query_multi_verb = 'prefix : <urn:ontoinsights:dna:> select ?class where {?class :verb_synonym ?term}'\n"
   ]
  },
  {
   "cell_type": "code",
   "execution_count": 8,
   "id": "3392aac6",
   "metadata": {
    "ExecuteTime": {
     "end_time": "2023-01-28T05:58:23.445788Z",
     "start_time": "2023-01-28T05:58:21.590895Z"
    }
   },
   "outputs": [],
   "source": [
    "for word in verbs_multiple.keys():\n",
    "    query_str = query_multi_verb.replace('?term', f'\"{word}\"@en')\n",
    "    query_results = dna_conn.select(query_str, content_type='application/sparql-results+json')\n",
    "    if 'results' in query_results and 'bindings' in query_results['results']:\n",
    "        for result in query_results['results']['bindings']:\n",
    "            print(f'Duplicate {word} in verbs-multi and {result[\"class\"][\"value\"]}')"
   ]
  },
  {
   "cell_type": "code",
   "execution_count": 9,
   "id": "1b84250c",
   "metadata": {
    "ExecuteTime": {
     "end_time": "2023-01-28T05:58:29.295935Z",
     "start_time": "2023-01-28T05:58:24.907784Z"
    }
   },
   "outputs": [
    {
     "name": "stdout",
     "output_type": "stream",
     "text": [
      "Duplicate basin in nouns-multi and urn:ontoinsights:dna:enum:CanyonAndValley\n",
      "Duplicate female in nouns-multi and urn:ontoinsights:dna:enum:Female\n",
      "Duplicate male in nouns-multi and urn:ontoinsights:dna:enum:Male\n",
      "Duplicate stream in nouns-multi and urn:ontoinsights:dna:enum:RiverAndWaterway\n"
     ]
    }
   ],
   "source": [
    "for word in nouns_multiple.keys():\n",
    "    query_str = query_multi_noun.replace('?term', f'\"{word}\"@en')\n",
    "    query_results = dna_conn.select(query_str, content_type='application/sparql-results+json')\n",
    "    if 'results' in query_results and 'bindings' in query_results['results']:\n",
    "        for result in query_results['results']['bindings']:\n",
    "            print(f'Duplicate {word} in nouns-multi and {result[\"class\"][\"value\"]}')\n",
    "# Duplicates due to enumerations"
   ]
  },
  {
   "cell_type": "markdown",
   "id": "9f868551",
   "metadata": {},
   "source": [
    "# Check for duplicate synset ids and create dictionaries (key=synId, value=DNA class mapping)\n",
    "\n",
    "This is based on the ontology files loaded into the 'ontologies' database."
   ]
  },
  {
   "cell_type": "code",
   "execution_count": 10,
   "id": "aefe9c5a",
   "metadata": {
    "ExecuteTime": {
     "end_time": "2023-01-14T19:42:41.271646Z",
     "start_time": "2023-01-14T19:42:41.268475Z"
    }
   },
   "outputs": [],
   "source": [
    "query_dup_noun_syn_id = \\\n",
    "    'prefix : <urn:ontoinsights:dna:> select ?class ?synset where {?class :wordnet_noun_synset ?synset } ' \\\n",
    "    'ORDER BY ?synset'\n",
    "query_dup_verb_syn_id = \\\n",
    "    'prefix : <urn:ontoinsights:dna:> select ?class ?synset where {?class :wordnet_verb_synset ?synset } ' \\\n",
    "    'ORDER BY ?synset'\n",
    "\n",
    "dna_prefix = 'urn:ontoinsights:dna'\n",
    "\n",
    "mapped_noun_synsets = dict()\n",
    "mapped_verb_synsets = dict()"
   ]
  },
  {
   "cell_type": "code",
   "execution_count": 11,
   "id": "9a49af9e",
   "metadata": {
    "ExecuteTime": {
     "end_time": "2023-01-14T19:42:43.099922Z",
     "start_time": "2023-01-14T19:42:42.968364Z"
    }
   },
   "outputs": [],
   "source": [
    "# Check for overlapping wordnet synset IDs\n",
    "query_results = dna_conn.select(query_dup_noun_syn_id, content_type='application/sparql-results+json')\n",
    "if 'results' in query_results and 'bindings' in query_results['results']:\n",
    "    noun_results = query_results['results']['bindings']\n",
    "    for noun in noun_results:\n",
    "        synset = noun['synset']['value']\n",
    "        if synset in mapped_noun_synsets:\n",
    "            print(f'Repeated noun {synset} for {mapped_noun_synsets[synset]} and {noun[\"class\"][\"value\"]}')\n",
    "        else:\n",
    "            mapped_noun_synsets[synset] = noun['class']['value'].replace(dna_prefix, '')"
   ]
  },
  {
   "cell_type": "code",
   "execution_count": 12,
   "id": "00c83b8d",
   "metadata": {
    "ExecuteTime": {
     "end_time": "2023-01-14T19:42:45.448262Z",
     "start_time": "2023-01-14T19:42:45.419044Z"
    }
   },
   "outputs": [],
   "source": [
    "query_results = dna_conn.select(query_dup_verb_syn_id, content_type='application/sparql-results+json')\n",
    "if 'results' in query_results and 'bindings' in query_results['results']:\n",
    "    verb_results = query_results['results']['bindings']\n",
    "    for verb in verb_results:\n",
    "        synset = verb['synset']['value']\n",
    "        if synset in mapped_verb_synsets:\n",
    "            print(f'Repeated verb {synset} for {mapped_verb_synsets[synset]} and {verb[\"class\"][\"value\"]}')\n",
    "        else:\n",
    "            mapped_verb_synsets[synset] = verb['class']['value'].replace(dna_prefix, '') "
   ]
  },
  {
   "cell_type": "code",
   "execution_count": 13,
   "id": "703188c4",
   "metadata": {
    "ExecuteTime": {
     "end_time": "2023-01-14T19:42:49.238430Z",
     "start_time": "2023-01-14T19:42:49.235038Z"
    }
   },
   "outputs": [
    {
     "name": "stdout",
     "output_type": "stream",
     "text": [
      "{'00010047': ':BodyMovement', '00012130': ':ThreatAndWarning', '00012427': ':Arrogance', '00013321': ':RecreationEvent', '00014398': ':SleepAndRest', '00025196': ':Anxiety', '00025647': ':RelaxationAndSerenity', '00026378': ':RelaxationAndSerenity', '00030640': ':Exhaustion', '00045548': ':Decrease', '00056076': ':AgricultureApicultureAndAquacultureEvent', '00056644': ':Birth', '00072742': ':BodilyAct', '00074774': ':Exhaustion', '00081478': ':HealthAndDiseaseRelated', '00081834': ':AidAndAssistance', '00086587': ':HealthAndDiseaseRelated', '00088284': ':Intoxication', '00090640': ':AttackDamageAndAssault', '00094214': ':ProductionManufactureAndCreation', '00099475': ':BodyMovement', '00105087': ':BodyMovement', '00105308': ':Joke', '00109468': ':Change', '00118331': ':Continuation', '00139943': ':StateAndPhysicalChange', '00140787': ':StateAndPhysicalChange', '00144670': ':StateAndPhysicalChange', '00145958': ':StateAndPhysicalChange', '00150107': ':Compliance', '00150596': ':Compliance', '00153083': ':Increase', '00156409': ':Increase', '00173351': ':RemovalAndRestriction', '00187671': ':InclusionAttachmentAndUnification', '00193830': ':InclusionAttachmentAndUnification', '00202809': ':Punishment', '00204228': ':Decrease', '00206293': ':MaintenanceAndRepair', '00207826': ':MaintenanceAndRepair', '00209244': ':StateAndPhysicalChange', '00209582': ':Separation', '00217578': ':WeatherEvent', '00223926': ':Decrease', '00230988': ':MaintenanceAndRepair', '00231172': ':Increase', '00234091': ':RemovalAndRestriction', '00238763': ':StateAndPhysicalChange', '00239753': ':StateAndPhysicalChange', '00244010': ':InclusionAttachmentAndUnification', '00255753': ':StateAndPhysicalChange', '00259743': ':AttackDamageAndAssault', '00261534': ':MaintenanceAndRepair', '00269051': ':Decrease', '00270891': ':MovementTravelAndTransportation', '00275432': ':Decrease', '00275523': ':Decrease', '00283693': ':StateAndPhysicalChange', '00293903': ':Grooming', '00313162': ':StateAndPhysicalChange', '00314788': ':Concealment', '00331375': ':Separation', '00334996': ':Separation', '00346415': ':StartAndBeginning', '00349400': ':StartAndBeginning', '00353480': ':End', '00359085': ':Death', '00368338': ':InclusionAttachmentAndUnification', '00369315': ':Separation', '00378713': ':Arson', '00407168': ':ReadinessAndAbility', '00408253': ':RequirementAndDependence', '00414801': ':Residence', '00415334': ':MovementTravelAndTransportation', '00416323': ':Residence', '00428636': ':LossOfHabitatAndBiodiversity', '00432779': ':Decrease', '00449245': ':Acknowledgment', '00450647': ':RemovalAndRestriction', '00460731': ':DelayAndWait', '00463047': ':InvasionAndOccupation', '00478872': ':AttackDamageAndAssault', '00490773': ':Measurement', '00493246': ':EnvironmentalOrEcologicalEvent', '00493642': ':EnvironmentalOrEcologicalEvent', '00494865': ':Decrease', '00495205': ':Separation', '00504245': ':Excitement', '00504796': ':AngerAndAnnoyance', '00513958': ':ReadinessAndAbility', '00540418': ':Residence', '00559296': ':FrustrationAndHelplessness', '00559750': ':Agreement', '00564177': ':Inflation', '00589616': ':KnowledgeAndSkill', '00590283': ':KnowledgeAndSkill', '00592510': ':KnowledgeAndSkill', '00594278': ':AssessmentAndCharacterization', '00595732': ':KnowledgeAndSkill', '00596016': ':KnowledgeAndSkill', '00596701': ':IgnoringAndOverlooking', '00596900': ':IgnoringAndOverlooking', '00597025': ':KnowledgeAndSkill', '00597330': ':KnowledgeAndSkill', '00597527': ':KnowledgeAndSkill', '00597879': ':KnowledgeAndSkill', '00598039': ':KnowledgeAndSkill', '00599310': ':LearningAndEducation', '00599897': ':Forgetting', '00600024': ':Forgetting', '00600349': ':LearningAndEducation', '00601387': ':LearningAndEducation', '00608509': ':LearningAndEducation', '00609334': ':Memory', '00610654': ':Forgetting', '00611237': ':Memory', '00611721': ':Forgetting', '00612810': ':Memory', '00613356': ':Memory', '00614139': ':Ceremony', '00616520': ':Forgetting', '00616690': ':IgnoringAndOverlooking', '00618547': ':IgnoringAndOverlooking', '00619438': ':Mistake', '00621541': ':Mistake', '00622345': ':ConfusionAndDoubt', '00630153': ':Cognition', '00636134': ':AssessmentAndCharacterization', '00641140': ':Mistake', '00654571': ':AssessmentAndCharacterization', '00670017': ':TrustAndTolerance', '00672179': ':AssessmentAndCharacterization', '00674352': ':AssessmentAndCharacterization', '00681856': ':DecisionMakingAndChoice', '00683348': ':AssessmentAndCharacterization', '00685199': ':Belief', '00687584': ':RefusalAndRejection', '00689196': ':ConfusionAndDoubt', '00689827': ':FearAndDistrust', '00690278': ':TrustAndTolerance', '00691086': ':Cognition', '00692071': ':EmotionalResponse', '00695834': ':AdmirationRespectAndValue', '00699355': ':DecisionMakingAndChoice', '00706456': ':IntentionAndGoal', '00710367': ':IntentionAndGoal', '00710809': ':IntentionAndGoal', '00711208': ':IntentionAndGoal', '00716789': ':DisagreementAndDispute', '00717773': ':LawAndPolicy', '00718950': ':CommandAndDemand', '00719282': ':EmotionalResponse', '00723361': ':Acquisition', '00724156': ':AttentionAndFocus', '00727236': ':Surprise', '00742582': ':CommunicationAndSpeechAct', '0074428': ':CommunicationAndSpeechAct', '00747485': ':RequestAndAppeal', '00748704': ':CommandAndDemand', '00749139': ':CommandAndDemand', '00754499': ':RequestAndAppeal', '00754770': ':RequestAndAppeal', '00756987': ':CommandAndDemand', '00757492': ':RequestAndAppeal', '00758383': ':AssertionAndDeclaration', '00761314': ':RequestAndAppeal', '00762621': ':LegalEvent', '00766267': ':Agreement', '00772186': ':Prevention', '00775477': ':DisagreementAndDispute', '00783045': ':Continuation', '00788478': ':Inquiry', '00789322': ':RewardAndCompensation', '00790800': ':Searching', '00797525': ':RefusalAndRejection', '00798638': ':RefusalAndRejection', '00799092': ':RefusalAndRejection', '00799359': ':Agreement', '00800905': ':CommunicationAndSpeechAct', '00802592': ':IgnoringAndOverlooking', '00803980': ':Permission', '00805801': ':SurrenderAndYielding', '00806138': ':SurrenderAndYielding', '00808840': ':RefusalAndRejection', '00812391': ':EscapeAndEvasion', '00813037': ':Avoidance', '00817348': ':CommunicationAndSpeechAct', '00818217': ':Denial', '00818664': ':Denial', '00818972': ':Acknowledgment', '00828170': ':Complaint', '00830768': ':LearningAndEducation', '00833312': ':AssertionAndDeclaration', '00841513': ':Boast', '00845977': ':Complaint', '00848188': ':SarcasmSlanderAndDerision', '00850760': ':SarcasmSlanderAndDerision', '00851012': ':SarcasmSlanderAndDerision', '00852181': ':SarcasmSlanderAndDerision', '00864347': ':AttackDamageAndAssault', '00870255': ':Challenge', '00871877': ':ThreatAndWarning', '00876672': ':AdviceAndRecommendation', '00876925': ':AdviceAndRecommendation', '00877973': ':AdviceAndRecommendation', '00878196': ':AdviceAndRecommendation', '00881061': ':AppointmentAndNomination', '00885156': ':Boast', '00885532': ':PromiseAndOath', '00885838': ':PromiseAndOath', '00886738': ':PromiseAndOath', '00888123': ':Marriage', '00888280': ':PromiseAndOath', '00893836': ':AppreciationAndGratitude', '00894444': ':ExpressiveAndExclamation', '00895886': ':RequestAndAppeal', '00896020': ':LegalEvent', '00896689': ':FriendlyOrSupportiveAct', '00898638': ':ExpressiveAndExclamation', '00898754': ':ExpressiveAndExclamation', '00899241': ':Inquiry', '00905166': ':Hope', '00908688': ':LegalEvent', '00909100': ':Complaint', '00910052': ':Prevention', '00914001': ':ExpressiveAndExclamation', '00923043': ':Belief', '00931801': ':MeaningImplicationAndInference', '00932561': ':MeaningImplicationAndInference', '00941888': ':MeaningImplicationAndInference', '00956640': ':IssuingAndPublishing', '00958719': ':AssessmentAndCharacterization', '01011267': ':AssertionAndDeclaration', '01015049': ':LegalEvent', '01016830': ':LegalEvent', '01018787': ':AssertionAndDeclaration', '01025268': ':CitationAndReference', '01025583': ':CitationAndReference', '01028104': ':AssessmentAndCharacterization', '01037071': ':CoercionAndIntimidation', '01060752': ':Joke', '01061436': ':IgnoringAndOverlooking', '01062618': ':GiftAndDonation', '01069216': ':ThreatAndWarning', '01074673': ':Competition', '01075360': ':RecreationEvent', '01079346': ':GamblingAndWagering', '01081873': ':Competition', '01089608': ':ReadinessAndAbility', '01091334': ':MovementTravelAndTransportation', '01092746': ':Battle', '01093838': ':Resistance', '01095583': ':War', '01096197': ':War', '01096497': ':ProjectAndCampaign', '01118865': ':SurrenderAndYielding', '01124374': ':Challenge', '01126191': ':Battle', '01128786': ':InvasionAndOccupation', '01129272': ':SiegeAndSurrounding', '01129387': ':SiegeAndSurrounding', '01129837': ':SiegeAndSurrounding', '01133033': ':SiegeAndSurrounding', '01140949': ':GamblingAndWagering', '01146304': ':Searching', '01148517': ':Attempt', '01151936': ':RecreationEvent', '01159300': ':Eating', '01159815': ':UtilizationAndConsumption', '01160888': ':UtilizationAndConsumption', '01161188': ':UtilizationAndConsumption', '01165936': ':RemovalOfRawMaterials', '01166163': ':RemovalOfRawMaterials', '01167359': ':UtilizationAndConsumption', '01168667': ':Eating', '01185870': ':SatisfactionAndPride', '01190070': ':StarvationHungerAndMalnutrition', '01190273': ':StarvationHungerAndMalnutrition', '01190481': ':StarvationHungerAndMalnutrition', '01190677': ':StarvationHungerAndMalnutrition', '01191018': ':LongingAndPassion', '01191258': ':RequirementAndDependence', '01195306': ':Deficiency', '01198570': ':Avoidance', '01203727': ':Eating', '01208316': ':ImpactAndContact', '01208838': ':ImpactAndContact', '01215136': ':CaptureAndSeizure', '01216829': ':ChangeOfPossession', '01217701': ':CaptureAndSeizure', '01217985': ':CaptureAndSeizure', '01261392': ':RemovalOfRawMaterials', '01313320': ':RemovalOfRawMaterials', '01318273': ':Searching', '01320383': ':Searching', '01322669': ':AgricultureApicultureAndAquacultureEvent', '01326622': ':MurderAndHomicide', '01327678': ':Suicide', '01348685': ':StartOfBusiness', '01381221': ':DistributionAndSupply', '01383909': ':AgricultureApicultureAndAquacultureEvent', '01387824': ':InclusionAttachmentAndUnification', '01438013': ':MovementTravelAndTransportation', '01445640': ':RemovalOfRawMaterials', '01446765': ':IncrementalMovement', '01450719': ':IncrementalMovement', '01452567': ':MovementTravelAndTransportation', '01464634': ':InclusionAttachmentAndUnification', '01466592': ':Alignment', '01469999': ':SiegeAndSurrounding', '01473673': ':Abduction', '01474455': ':Abduction', '01477180': ':ReturnRecoveryAndRelease', '01504432': ':Loss', '01514338': ':BodyMovement', '01517688': ':SpaceEvent', '01517828': ':MovementTravelAndTransportation', '01524685': ':IncrementalMovement', '01544249': ':IncrementalMovement', '01548665': ':BodyMovement', '01569697': ':MovementTravelAndTransportation', '01571714': ':SiegeAndSurrounding', '01572394': ':MaintenanceAndRepair', '01589983': ':SiegeAndSurrounding', '01624592': ':ProductionManufactureAndCreation', '01634614': ':MaintenanceAndRepair', '01635953': ':ProductionManufactureAndCreation', '01641175': ':SleepAndRest', '01654835': ':Attempt', '01654986': ':ReadinessAndAbility', '01656984': ':ProductionManufactureAndCreation', '01657814': ':ImitationAndCounterfeit', '01660471': ':ProductionManufactureAndCreation', '01697776': ':ImitationAndCounterfeit', '01706190': ':Joke', '01709116': ':CitationAndReference', '01718067': ':ArtAndEntertainmentEvent', '01727101': ':ArtAndEntertainmentEvent', '01740703': ':ImitationAndCounterfeit', '01746607': ':AgricultureApicultureAndAquacultureEvent', '01751525': ':InformationHandling', '01767681': ':RelaxationAndSerenity', '01768023': ':Anxiety', '01769760': ':Anxiety', '01776419': ':SatisfactionAndPride', '01777267': ':HatredBitternessAndDisgust', '01777456': ':HatredBitternessAndDisgust', '01777746': ':AngerAndAnnoyance', '01778057': ':HatredBitternessAndDisgust', '01778347': ':HatredBitternessAndDisgust', '01778720': ':HatredBitternessAndDisgust', '01779085': ':Love', '01780135': ':Fondness', '01780648': ':Dislike', '01780873': ':Fondness', '01783082': ':FearAndDistrust', '01784021': ':FearAndDistrust', '01784253': ':FearAndDistrust', '01784548': ':FearAndDistrust', '01784999': ':ThreatAndWarning', '01785802': ':FearAndDistrust', '01786469': ':Shock', '01787213': ':AttentionAndFocus', '01789567': ':FearAndDistrust', '01789790': ':AngerAndAnnoyance', '01791774': ':AngerAndAnnoyance', '01793315': ':AggressiveOrHostileAct', '01796316': ':GuiltAndShame', '01802000': ':TroubleAndProblem', '01802298': ':TroubleAndProblem', '01802947': ':SadnessAndDisappointment', '01809214': ':ApathyAndBoredom', '01809949': ':AppreciationAndGratitude', '01811281': ':AggressiveOrHostileAct', '01815408': ':Hope', '01820398': ':SatisfactionAndPride', '01823521': ':CoercionAndIntimidation', '01825361': ':Curiosity', '01825834': ':ApathyAndBoredom', '01825946': ':CompassionAndEmpathy', '01827478': ':AggressiveOrHostileAct', '01827830': ':Loneliness', '01829179': ':LongingAndPassion', '01830665': ':Hope', '01831006': ':Envy', '01831174': ':Envy', '01831561': ':Envy', '01831800': ':AdmirationRespectAndValue', '01832565': ':Fondness', '01835473': ':BodyMovement', '01839438': ':MovementTravelAndTransportation', '01854282': ':IncrementalMovement', '01857055': ':IncrementalMovement', '01870596': ':IncrementalMovement', '01910195': ':SpaceEvent', '01954657': ':MovementTravelAndTransportation', '01955339': ':MovementTravelAndTransportation', '01957669': ':MovementTravelAndTransportation', '02003830': ':AdviceAndRecommendation', '02004900': ':Searching', '02006752': ':MovementTravelAndTransportation', '02009962': ':EntranceAndExit', '02011431': ':EntranceAndExit', '02019450': ':EntranceAndExit', '02024442': ':Success', '02026953': ':MeetingAndEncounter', '02035003': ':Separation', '02036260': ':Separation', '02047080': ':DistributionAndSupply', '02060895': ':MovementTravelAndTransportation', '02063390': ':MovementTravelAndTransportation', '02078305': ':EscapeAndEvasion', '02078906': ':EscapeAndEvasion', '02110460': ':SensoryPerception', '02123706': ':IgnoringAndOverlooking', '02125976': ':Pain', '02126423': ':StarvationHungerAndMalnutrition', '02126525': ':Dehydration', '02129213': ':SensoryPerception', '02131823': ':SensoryPerception', '02133754': ':SensoryPerception', '02134765': ':AttentionAndFocus', '02149298': ':Concealment', '02163017': ':Concealment', '02168177': ':SensoryPerception', '02169125': ':AdmirationRespectAndValue', '02170805': ':IgnoringAndOverlooking', '02170904': ':AssessmentAndCharacterization', '02173796': ':Supervision', '02174146': ':SensoryPerception', '02174335': ':SensoryPerception', '02195992': ':SensoryPerception', '02204104': ':GiftAndDonation', '02205200': ':GiftAndDonation', '02206050': ':GiftAndDonation', '02208876': ':Storage', '02209474': ':Possession', '02210054': ':CaptureAndSeizure', '02211988': ':PurchaseAndSale', '02215637': ':Acquisition', '02220288': ':FinancialEvent', '02221492': ':FinancialEvent', '02221793': ':FinancialEvent', '02222048': ':FinancialEvent', '02232523': ':SurrenderAndYielding', '02236972': ':MovementTravelAndTransportation', '02240011': ':SurrenderAndYielding', '02246403': ':ThreatAndWarning', '02256551': ':Expenses', '02262178': ':PurchaseAndSale', '02262575': ':Substitution', '02263424': ':Substitution', '02266695': ':RewardAndCompensation', '02267740': ':LegalEvent', '02268987': ':LearningAndEducation', '02270824': ':SavingsAndInvestment', '02271905': ':Expenses', '02273196': ':Loss', '02275660': ':RequestAndAppeal', '02275982': ':SavingsAndInvestment', '02277394': ':InvasionAndOccupation', '02285938': ':Storage', '02287351': ':Storage', '02288941': ':Bribe', '02289796': ':ReturnRecoveryAndRelease', '02290237': ':Storage', '02292463': ':Loss', '02293000': ':Loss', '02294200': ':Income', '02295101': ':Income', '02300169': ':GenerosityAndKindness', '02300511': ':Cooperation', '02306641': ':Possession', '02308311': ':Loss', '02308993': ':InvasionAndOccupation', '02311442': ':Taxes', '02313721': ':GiftAndDonation', '02320505': ':ChangeOfPossession', '02326737': ':RobberyAndTheft', '02352633': ':ChangeOfPossession', '02382049': ':MeetingAndEncounter', '02384340': ':SurrenderAndYielding', '02388582': ':EntranceAndExit', '02392628': ':LearningAndEducation', '02396945': ':CommandAndDemand', '02400924': ':Ceremony', '02401347': ':AppointmentAndNomination', '02402779': ':EmploymentAndRelatedEvent', '02404473': ':EmploymentAndRelatedEvent', '02405902': ':Election', '02407551': ':Coup', '02407837': ':Coup', '02407967': ':EmploymentAndRelatedEvent', '02414542': ':EmploymentAndRelatedEvent', '02415071': ':Contract', '02415985': ':EmploymentAndRelatedEvent', '02417777': ':DemonstrationStrikeAndRally', '02421408': ':Cooperation', '02423521': ':RecreationEvent', '02425530': ':AgricultureApicultureAndAquacultureEvent', '02426474': ':ReturnRecoveryAndRelease', '02430184': ':Ceremony', '02431242': ':EndOfBusiness', '02432763': ':LawAndPolicy', '02436167': ':Divorce', '02436818': ':Supervision', '02444597': ':AdviceAndRecommendation', '02449527': ':Permission', '02452944': ':StartOfBusiness', '02455370': ':Prevention', '02456614': ':Prevention', '02456941': ':Prevention', '02463017': ':TrustAndTolerance', '02463257': ':SarcasmSlanderAndDerision', '02466737': ':Election', '02470917': ':BoycottAndBan', '02479404': ':Permission', '02480684': ':AppointmentAndNomination', '02486392': ':DecisionMakingAndChoice', '02494483': ':Marriage', '02497847': ':ArtAndEntertainmentEvent', '02500687': ':CaptivityAndDetention', '02502345': ':CaptivityAndDetention', '02502465': ':CoercionAndIntimidation', '02502711': ':ReturnRecoveryAndRelease', '02503473': ':LegalEvent', '02505278': ':Punishment', '02509666': ':BoycottAndBan', '02510211': ':CoercionAndIntimidation', '02512195': ':CoercionAndIntimidation', '02519655': ':AggressiveOrHostileAct', '02527482': ':DemonstrationStrikeAndRally', '02534046': ':Failure', '02535833': ':Attempt', '02543073': ':Betrayal', '02545454': ':CaringForDependents', '02548492': ':Compliance', '02550045': ':GamblingAndWagering', '02551275': ':RiskTaking', '02551772': ':RewardAndCompensation', '02552922': ':GuiltAndShame', '02553283': ':AidAndAssistance', '02557529': ':ReturnRecoveryAndRelease', '02563998': ':Prevention', '02565990': ':Enforcement', '02566249': ':Enforcement', '02572443': ':ViolationOfAgreement', '02573434': ':Rape', '02580280': ':DeceptionAndDishonesty', '02580591': ':DeceptionAndDishonesty', '02581157': ':DeceptionAndDishonesty', '02582588': ':Betrayal', '02583006': ':DeceptionAndDishonesty', '02584093': ':Betrayal', '02588535': ':LegalEvent', '02589224': ':Resistance', '02590043': ':Resistance', '02595732': ':ProjectAndCampaign', '02610484': ':Compatibility', '02635471': ':ImpossibilityAndImprobability', '02638434': ':Deficiency', '02640889': ':MeaningImplicationAndInference', '02641270': ':MeaningImplicationAndInference', '02644022': ':DelayAndWait', '02648898': ':DelayAndWait', '02663315': ':Compatibility', '02673757': ':Incompatibility', '02684649': ':Curiosity', '02708368': ':Expenses', '02709149': ':SurrenderAndYielding', '02712676': ':Resistance', '02731589': ':Avoidance', '02762779': ':WeatherEvent', '02775199': ':WeatherEvent', '02776493': ':WeatherEvent', '07499405': ':LongingAndPassion', '07521808': ':GuiltAndShame', '07552873': ':SadnessAndDisappointment', '07557311': ':SadnessAndDisappointment', '07558421': ':SadnessAndDisappointment'}\n"
     ]
    }
   ],
   "source": [
    "# For example ....\n",
    "print(mapped_verb_synsets)"
   ]
  },
  {
   "cell_type": "markdown",
   "id": "1bb2fab8",
   "metadata": {},
   "source": [
    "# Process the WordNet hypernym tree\n",
    "\n",
    "First, create RDF representing the WordNet hypernym-hyponym trees for a synset id and the texts associated with the synset. The RDF is saved in the files, noun-hierarchy.ttl and verb-hierarchy.ttl, which are loaded into the 'noun-wn' and 'verb-wn' databases in Stardog.\n",
    "\n",
    "Second, iterate through the complete set of synsets in the hierarchy and match them to DNA classes using the mapped_noun/verb_synsets dictionaries. Processing is explained inline, below."
   ]
  },
  {
   "cell_type": "markdown",
   "id": "e7caf917",
   "metadata": {},
   "source": [
    "## Create RDF representation of the WordNet hypo/hypernym trees\n",
    "\n",
    "And load the results to the Stardog databases, noun-wn and verb-wn"
   ]
  },
  {
   "cell_type": "code",
   "execution_count": 14,
   "id": "4023bc28",
   "metadata": {
    "ExecuteTime": {
     "end_time": "2023-01-14T19:42:56.748321Z",
     "start_time": "2023-01-14T19:42:56.014393Z"
    }
   },
   "outputs": [],
   "source": [
    "# Create RDF holding each synset and its hyponym, and get any terms that are marked with a lex_id of 0\n",
    "# (Lex_id identifies a sense within a lexicographer file, starts with 0, and is incremented as new senses are added)\n",
    "with open(\"wordnet-data-noun.txt\", \"r\") as wn:\n",
    "    wn_text = wn.read()\n",
    "wn_detail = wn_text.split(\"\\n\")\n",
    "\n",
    "syn_noun_dict = dict()\n",
    "for syn_detail in wn_detail:\n",
    "    if syn_detail.startswith(\"synOffset\"):  # First line of the file\n",
    "        continue\n",
    "    syn_split = syn_detail.split()\n",
    "    if len(syn_split) < 3:                  # Blank line \n",
    "        continue\n",
    "    syn = syn_split[0]\n",
    "    number_words = int(syn_split[3])\n",
    "    syn_words = []\n",
    "    for i in range(4, 4 + (number_words * 2), 2):\n",
    "        if syn_split[i+1] == '0':            # First sense\n",
    "            syn_words.append(syn_split[i].replace('_', ' '))\n",
    "    hypernyms = []\n",
    "    if \" @i \" in syn_detail:\n",
    "        continue                             # Synset represents a particular instance\n",
    "    if \" @ \" in syn_detail:\n",
    "        at_split = syn_detail.split(\" @ \")   # Indicates a hypernym\n",
    "        for i in range(1, len(at_split)):\n",
    "            hyper_split = at_split[i].split()\n",
    "            if hyper_split[1] == \"n\" and hyper_split[2] == \"0000\":\n",
    "                hypernyms.append(f\"{hyper_split[0]}\")\n",
    "    syn_noun_dict[syn] = (syn_words, hypernyms)\n",
    "\n",
    "with open(\"noun-hierarchy.ttl\", \"w\") as ttl:\n",
    "    ttl.write('@prefix urn: <urn:ontoinsights:dna:> .\\n')\n",
    "    for key, value in syn_noun_dict.items():\n",
    "        syn_words, hypernyms = value\n",
    "        ttl.write(f\"urn:{key} a urn:Synset .\\n\")\n",
    "        for hyper in hypernyms:\n",
    "            ttl.write(f\"urn:{key} rdfs:subClassOf urn:{hyper} .\\n\")\n",
    "        for word in syn_words:\n",
    "            ttl.write(f'urn:{key} rdfs:label \"{word}\" .\\n')"
   ]
  },
  {
   "cell_type": "code",
   "execution_count": 15,
   "id": "5301f094",
   "metadata": {
    "ExecuteTime": {
     "end_time": "2023-01-14T19:42:59.024352Z",
     "start_time": "2023-01-14T19:42:58.817215Z"
    },
    "code_folding": []
   },
   "outputs": [],
   "source": [
    "with open(\"wordnet-data-verb.txt\", \"r\") as wn:\n",
    "    wn_text = wn.read()\n",
    "wn_detail = wn_text.split(\"\\n\")\n",
    "\n",
    "syn_verb_dict = dict()\n",
    "for syn_detail in wn_detail:\n",
    "    if syn_detail.startswith(\"synOffset\"):  # First line of the file\n",
    "        continue\n",
    "    syn_split = syn_detail.split()\n",
    "    if len(syn_split) < 3:                  # Blank line \n",
    "        continue\n",
    "    syn = syn_split[0]\n",
    "    number_words = int(syn_split[3])\n",
    "    if number_words > 2:\n",
    "        number_words = 2                    # Restrict to first two words\n",
    "    syn_words = []\n",
    "    for i in range(4, 4 + (number_words * 2), 2):\n",
    "        if syn_split[i+1] == '0':            # First usage\n",
    "            syn_words.append(syn_split[i].replace('_', ' '))\n",
    "    hypernyms = []\n",
    "    if \" @i \" in syn_detail:\n",
    "        continue                             # Synset represents a particular instance\n",
    "    if \" @ \" in syn_detail:\n",
    "        at_split = syn_detail.split(\" @ \")   # Indicates a hypernym\n",
    "        for i in range(1, len(at_split)):\n",
    "            hyper_split = at_split[i].split()\n",
    "            if hyper_split[1] == \"v\" and hyper_split[2] == \"0000\":\n",
    "                hypernyms.append(f\"{hyper_split[0]}\")\n",
    "    syn_verb_dict[syn] = (syn_words, hypernyms)\n",
    "\n",
    "with open(\"verb-hierarchy.ttl\", \"w\") as ttl:\n",
    "    ttl.write('@prefix urn: <urn:ontoinsights:dna:> .\\n')\n",
    "    for key, value in syn_verb_dict.items():\n",
    "        syn_words, hypernyms = value\n",
    "        ttl.write(f\"urn:{key} a urn:Synset .\\n\")\n",
    "        for hyper in hypernyms:\n",
    "            ttl.write(f\"urn:{key} rdfs:subClassOf urn:{hyper} .\\n\")\n",
    "        for word in syn_words:\n",
    "            ttl.write(f'urn:{key} rdfs:label \"{word}\" .\\n')\n"
   ]
  },
  {
   "cell_type": "markdown",
   "id": "e6522ef9",
   "metadata": {},
   "source": [
    "## Check for new terms from the WordNet hierarchy that may map to DNA classes "
   ]
  },
  {
   "cell_type": "code",
   "execution_count": 16,
   "id": "f4ec8a3f",
   "metadata": {
    "ExecuteTime": {
     "end_time": "2023-01-14T19:44:48.847432Z",
     "start_time": "2023-01-14T19:44:48.843786Z"
    }
   },
   "outputs": [],
   "source": [
    "# Database connections where noun/verb-hierarchy.ttl are loaded\n",
    "noun_conn = stardog.Connection(\"noun-wn\", **sd_conn_details)\n",
    "verb_conn = stardog.Connection(\"verb-wn\", **sd_conn_details)\n",
    "# Note that dna_conn is already set up to query the ontologies database\n",
    "\n",
    "query_top_syn_id = 'prefix urn: <urn:ontoinsights:dna:> select distinct ?synset where {?synset a urn:Synset. ' \\\n",
    "                   'FILTER NOT EXISTS {?synset rdfs:subClassOf ?x} }'\n",
    "\n",
    "top_noun_syn_ids = []\n",
    "top_verb_syn_ids = []"
   ]
  },
  {
   "cell_type": "code",
   "execution_count": 17,
   "id": "6b541915",
   "metadata": {
    "ExecuteTime": {
     "end_time": "2023-01-14T19:44:52.785482Z",
     "start_time": "2023-01-14T19:44:52.643806Z"
    }
   },
   "outputs": [
    {
     "name": "stdout",
     "output_type": "stream",
     "text": [
      "1\n"
     ]
    }
   ],
   "source": [
    "query_results = noun_conn.select(query_top_syn_id, content_type='application/sparql-results+json')\n",
    "if 'results' in query_results and 'bindings' in query_results['results']:\n",
    "    noun_results = query_results['results']['bindings']\n",
    "    for noun in noun_results:\n",
    "        top_noun_syn_ids.append(noun['synset']['value'])\n",
    "\n",
    "print(len(top_noun_syn_ids))"
   ]
  },
  {
   "cell_type": "code",
   "execution_count": 18,
   "id": "6b6b121d",
   "metadata": {
    "ExecuteTime": {
     "end_time": "2023-01-14T19:44:54.921087Z",
     "start_time": "2023-01-14T19:44:54.876707Z"
    }
   },
   "outputs": [
    {
     "name": "stdout",
     "output_type": "stream",
     "text": [
      "566\n",
      "['urn:ontoinsights:dna:00001740', 'urn:ontoinsights:dna:00078513', 'urn:ontoinsights:dna:00233707', 'urn:ontoinsights:dna:00104622', 'urn:ontoinsights:dna:01835473', 'urn:ontoinsights:dna:00010428', 'urn:ontoinsights:dna:00014542', 'urn:ontoinsights:dna:00015706', 'urn:ontoinsights:dna:00016695', 'urn:ontoinsights:dna:00017275', 'urn:ontoinsights:dna:00017858', 'urn:ontoinsights:dna:00018151', 'urn:ontoinsights:dna:00126072', 'urn:ontoinsights:dna:00020126', 'urn:ontoinsights:dna:00020442', 'urn:ontoinsights:dna:00109468', 'urn:ontoinsights:dna:00099475', 'urn:ontoinsights:dna:01806476', 'urn:ontoinsights:dna:02134989', 'urn:ontoinsights:dna:02610777', 'urn:ontoinsights:dna:00173351', 'urn:ontoinsights:dna:02636270', 'urn:ontoinsights:dna:00052091', 'urn:ontoinsights:dna:01620211', 'urn:ontoinsights:dna:00057124', 'urn:ontoinsights:dna:00721987', 'urn:ontoinsights:dna:00059330', 'urn:ontoinsights:dna:00077122', 'urn:ontoinsights:dna:00077211', 'urn:ontoinsights:dna:02321848', 'urn:ontoinsights:dna:01549783', 'urn:ontoinsights:dna:01381221', 'urn:ontoinsights:dna:00107747', 'urn:ontoinsights:dna:00118572', 'urn:ontoinsights:dna:02372362', 'urn:ontoinsights:dna:00122978', 'urn:ontoinsights:dna:02731589', 'urn:ontoinsights:dna:00427911', 'urn:ontoinsights:dna:01160888', 'urn:ontoinsights:dna:01208838', 'urn:ontoinsights:dna:00667804', 'urn:ontoinsights:dna:00224721', 'urn:ontoinsights:dna:00234091', 'urn:ontoinsights:dna:00258995', 'urn:ontoinsights:dna:01854282', 'urn:ontoinsights:dna:01383303', 'urn:ontoinsights:dna:02773266', 'urn:ontoinsights:dna:00307079', 'urn:ontoinsights:dna:01993576', 'urn:ontoinsights:dna:02035003', 'urn:ontoinsights:dna:00340744', 'urn:ontoinsights:dna:02609706', 'urn:ontoinsights:dna:02614382', 'urn:ontoinsights:dna:00346415', 'urn:ontoinsights:dna:00349400', 'urn:ontoinsights:dna:02615799', 'urn:ontoinsights:dna:02436167', 'urn:ontoinsights:dna:01863207', 'urn:ontoinsights:dna:01347791', 'urn:ontoinsights:dna:00360745', 'urn:ontoinsights:dna:02686624', 'urn:ontoinsights:dna:01566925', 'urn:ontoinsights:dna:02428558', 'urn:ontoinsights:dna:02687605', 'urn:ontoinsights:dna:02210054', 'urn:ontoinsights:dna:02082838', 'urn:ontoinsights:dna:00414801', 'urn:ontoinsights:dna:01859592', 'urn:ontoinsights:dna:00415969', 'urn:ontoinsights:dna:00416668', 'urn:ontoinsights:dna:00423043', 'urn:ontoinsights:dna:00426024', 'urn:ontoinsights:dna:00975760', 'urn:ontoinsights:dna:02410046', 'urn:ontoinsights:dna:02458316', 'urn:ontoinsights:dna:01326622', 'urn:ontoinsights:dna:01716563', 'urn:ontoinsights:dna:02552922', 'urn:ontoinsights:dna:02215637', 'urn:ontoinsights:dna:02355171', 'urn:ontoinsights:dna:00530070', 'urn:ontoinsights:dna:02292634', 'urn:ontoinsights:dna:00550851', 'urn:ontoinsights:dna:00551194', 'urn:ontoinsights:dna:00555375', 'urn:ontoinsights:dna:00561324', 'urn:ontoinsights:dna:00572138', 'urn:ontoinsights:dna:00589392', 'urn:ontoinsights:dna:00589500', 'urn:ontoinsights:dna:00590283', 'urn:ontoinsights:dna:02150244', 'urn:ontoinsights:dna:00592510', 'urn:ontoinsights:dna:00593150', 'urn:ontoinsights:dna:00593432', 'urn:ontoinsights:dna:00595453', 'urn:ontoinsights:dna:00595732', 'urn:ontoinsights:dna:00596016', 'urn:ontoinsights:dna:02534950', 'urn:ontoinsights:dna:00596900', 'urn:ontoinsights:dna:00597025', 'urn:ontoinsights:dna:00597330', 'urn:ontoinsights:dna:00597527', 'urn:ontoinsights:dna:00599310', 'urn:ontoinsights:dna:00611721', 'urn:ontoinsights:dna:00600349', 'urn:ontoinsights:dna:00601387', 'urn:ontoinsights:dna:00602773', 'urn:ontoinsights:dna:00602976', 'urn:ontoinsights:dna:01771801', 'urn:ontoinsights:dna:00608800', 'urn:ontoinsights:dna:00609334', 'urn:ontoinsights:dna:00610362', 'urn:ontoinsights:dna:00610654', 'urn:ontoinsights:dna:00611237', 'urn:ontoinsights:dna:00612092', 'urn:ontoinsights:dna:00612810', 'urn:ontoinsights:dna:00613035', 'urn:ontoinsights:dna:02584595', 'urn:ontoinsights:dna:02292463', 'urn:ontoinsights:dna:00615374', 'urn:ontoinsights:dna:00614907', 'urn:ontoinsights:dna:00616690', 'urn:ontoinsights:dna:00617843', 'urn:ontoinsights:dna:00618547', 'urn:ontoinsights:dna:00619438', 'urn:ontoinsights:dna:00701581', 'urn:ontoinsights:dna:00630153', 'urn:ontoinsights:dna:00638550', 'urn:ontoinsights:dna:00641511', 'urn:ontoinsights:dna:00645135', 'urn:ontoinsights:dna:00646245', 'urn:ontoinsights:dna:00699355', 'urn:ontoinsights:dna:00654017', 'urn:ontoinsights:dna:02534046', 'urn:ontoinsights:dna:00681308', 'urn:ontoinsights:dna:00687320', 'urn:ontoinsights:dna:00710367', 'urn:ontoinsights:dna:00772482', 'urn:ontoinsights:dna:02629610', 'urn:ontoinsights:dna:02156396', 'urn:ontoinsights:dna:00734575', 'urn:ontoinsights:dna:00738221', 'urn:ontoinsights:dna:00985856', 'urn:ontoinsights:dna:00980581', 'urn:ontoinsights:dna:02414542', 'urn:ontoinsights:dna:02634015', 'urn:ontoinsights:dna:01013752', 'urn:ontoinsights:dna:00807038', 'urn:ontoinsights:dna:00991233', 'urn:ontoinsights:dna:00781646', 'urn:ontoinsights:dna:00801045', 'urn:ontoinsights:dna:00803288', 'urn:ontoinsights:dna:00806464', 'urn:ontoinsights:dna:00813037', 'urn:ontoinsights:dna:00820635', 'urn:ontoinsights:dna:00845147', 'urn:ontoinsights:dna:00909100', 'urn:ontoinsights:dna:00860989', 'urn:ontoinsights:dna:00942415', 'urn:ontoinsights:dna:01161188', 'urn:ontoinsights:dna:00892111', 'urn:ontoinsights:dna:00894444', 'urn:ontoinsights:dna:00907012', 'urn:ontoinsights:dna:00920843', 'urn:ontoinsights:dna:00922307', 'urn:ontoinsights:dna:00933814', 'urn:ontoinsights:dna:01032165', 'urn:ontoinsights:dna:00937173', 'urn:ontoinsights:dna:00938019', 'urn:ontoinsights:dna:00939649', 'urn:ontoinsights:dna:00952369', 'urn:ontoinsights:dna:00952463', 'urn:ontoinsights:dna:01839438', 'urn:ontoinsights:dna:00991522', 'urn:ontoinsights:dna:01008855', 'urn:ontoinsights:dna:01011848', 'urn:ontoinsights:dna:01022740', 'urn:ontoinsights:dna:01031401', 'urn:ontoinsights:dna:01037402', 'urn:ontoinsights:dna:01042933', 'urn:ontoinsights:dna:02139513', 'urn:ontoinsights:dna:02426474', 'urn:ontoinsights:dna:01068455', 'urn:ontoinsights:dna:01070402', 'urn:ontoinsights:dna:01072799', 'urn:ontoinsights:dna:01074673', 'urn:ontoinsights:dna:01079008', 'urn:ontoinsights:dna:01081873', 'urn:ontoinsights:dna:01092746', 'urn:ontoinsights:dna:01084999', 'urn:ontoinsights:dna:01085437', 'urn:ontoinsights:dna:01110559', 'urn:ontoinsights:dna:01089608', 'urn:ontoinsights:dna:01090246', 'urn:ontoinsights:dna:01096197', 'urn:ontoinsights:dna:02415985', 'urn:ontoinsights:dna:02714280', 'urn:ontoinsights:dna:02439823', 'urn:ontoinsights:dna:01477180', 'urn:ontoinsights:dna:01102003', 'urn:ontoinsights:dna:01102556', 'urn:ontoinsights:dna:01113439', 'urn:ontoinsights:dna:01116045', 'urn:ontoinsights:dna:01116393', 'urn:ontoinsights:dna:01122487', 'urn:ontoinsights:dna:01118865', 'urn:ontoinsights:dna:01120499', 'urn:ontoinsights:dna:02455370', 'urn:ontoinsights:dna:01136251', 'urn:ontoinsights:dna:01136664', 'urn:ontoinsights:dna:01240465', 'urn:ontoinsights:dna:01137797', 'urn:ontoinsights:dna:02644022', 'urn:ontoinsights:dna:02529837', 'urn:ontoinsights:dna:02505278', 'urn:ontoinsights:dna:01156641', 'urn:ontoinsights:dna:02020375', 'urn:ontoinsights:dna:01157556', 'urn:ontoinsights:dna:01159300', 'urn:ontoinsights:dna:02418610', 'urn:ontoinsights:dna:02620422', 'urn:ontoinsights:dna:02208144', 'urn:ontoinsights:dna:01190875', 'urn:ontoinsights:dna:01829179', 'urn:ontoinsights:dna:01191646', 'urn:ontoinsights:dna:01198570', 'urn:ontoinsights:dna:01193481', 'urn:ontoinsights:dna:02516942', 'urn:ontoinsights:dna:01195525', 'urn:ontoinsights:dna:02539728', 'urn:ontoinsights:dna:01200388', 'urn:ontoinsights:dna:01203572', 'urn:ontoinsights:dna:01204494', 'urn:ontoinsights:dna:01207951', 'urn:ontoinsights:dna:01208316', 'urn:ontoinsights:dna:01209769', 'urn:ontoinsights:dna:01335412', 'urn:ontoinsights:dna:01212242', 'urn:ontoinsights:dna:02767855', 'urn:ontoinsights:dna:01214794', 'urn:ontoinsights:dna:01216829', 'urn:ontoinsights:dna:01215710', 'urn:ontoinsights:dna:01219234', 'urn:ontoinsights:dna:01219607', 'urn:ontoinsights:dna:01231088', 'urn:ontoinsights:dna:01233274', 'urn:ontoinsights:dna:01318273', 'urn:ontoinsights:dna:01342187', 'urn:ontoinsights:dna:01357376', 'urn:ontoinsights:dna:02500687', 'urn:ontoinsights:dna:01310556', 'urn:ontoinsights:dna:01478583', 'urn:ontoinsights:dna:02135744', 'urn:ontoinsights:dna:01328218', 'urn:ontoinsights:dna:01328456', 'urn:ontoinsights:dna:01330694', 'urn:ontoinsights:dna:01339317', 'urn:ontoinsights:dna:01348685', 'urn:ontoinsights:dna:02196212', 'urn:ontoinsights:dna:01377960', 'urn:ontoinsights:dna:01541851', 'urn:ontoinsights:dna:01399864', 'urn:ontoinsights:dna:01624592', 'urn:ontoinsights:dna:01436773', 'urn:ontoinsights:dna:01460857', 'urn:ontoinsights:dna:01472854', 'urn:ontoinsights:dna:01484449', 'urn:ontoinsights:dna:01484587', 'urn:ontoinsights:dna:01484705', 'urn:ontoinsights:dna:02149298', 'urn:ontoinsights:dna:01491476', 'urn:ontoinsights:dna:02293000', 'urn:ontoinsights:dna:01528454', 'urn:ontoinsights:dna:01529271', 'urn:ontoinsights:dna:01868216', 'urn:ontoinsights:dna:01864781', 'urn:ontoinsights:dna:01545905', 'urn:ontoinsights:dna:01533912', 'urn:ontoinsights:dna:01545450', 'urn:ontoinsights:dna:01545624', 'urn:ontoinsights:dna:01565514', 'urn:ontoinsights:dna:01572936', 'urn:ontoinsights:dna:01604155', 'urn:ontoinsights:dna:01613738', 'urn:ontoinsights:dna:01614650', 'urn:ontoinsights:dna:01618895', 'urn:ontoinsights:dna:01622250', 'urn:ontoinsights:dna:01647780', 'urn:ontoinsights:dna:01656437', 'urn:ontoinsights:dna:01703755', 'urn:ontoinsights:dna:02141597', 'urn:ontoinsights:dna:01720741', 'urn:ontoinsights:dna:01721028', 'urn:ontoinsights:dna:01722190', 'urn:ontoinsights:dna:01724519', 'urn:ontoinsights:dna:01725433', 'urn:ontoinsights:dna:02183962', 'urn:ontoinsights:dna:01757596', 'urn:ontoinsights:dna:01746607', 'urn:ontoinsights:dna:01748492', 'urn:ontoinsights:dna:01791641', 'urn:ontoinsights:dna:01818782', 'urn:ontoinsights:dna:01771015', 'urn:ontoinsights:dna:01775456', 'urn:ontoinsights:dna:01780648', 'urn:ontoinsights:dna:01777456', 'urn:ontoinsights:dna:01777655', 'urn:ontoinsights:dna:01779085', 'urn:ontoinsights:dna:01779986', 'urn:ontoinsights:dna:01780873', 'urn:ontoinsights:dna:01781131', 'urn:ontoinsights:dna:01784021', 'urn:ontoinsights:dna:01784253', 'urn:ontoinsights:dna:02445887', 'urn:ontoinsights:dna:01821097', 'urn:ontoinsights:dna:01800044', 'urn:ontoinsights:dna:01800811', 'urn:ontoinsights:dna:02724891', 'urn:ontoinsights:dna:01811849', 'urn:ontoinsights:dna:01814900', 'urn:ontoinsights:dna:01817466', 'urn:ontoinsights:dna:01823114', 'urn:ontoinsights:dna:01820398', 'urn:ontoinsights:dna:01822083', 'urn:ontoinsights:dna:01824240', 'urn:ontoinsights:dna:01825834', 'urn:ontoinsights:dna:01827099', 'urn:ontoinsights:dna:01829067', 'urn:ontoinsights:dna:01838427', 'urn:ontoinsights:dna:01839045', 'urn:ontoinsights:dna:02013448', 'urn:ontoinsights:dna:01846997', 'urn:ontoinsights:dna:01847990', 'urn:ontoinsights:dna:01852000', 'urn:ontoinsights:dna:01852297', 'urn:ontoinsights:dna:01858665', 'urn:ontoinsights:dna:01861703', 'urn:ontoinsights:dna:01872892', 'urn:ontoinsights:dna:01884666', 'urn:ontoinsights:dna:01903010', 'urn:ontoinsights:dna:01904753', 'urn:ontoinsights:dna:02003830', 'urn:ontoinsights:dna:01948111', 'urn:ontoinsights:dna:01969163', 'urn:ontoinsights:dna:02009962', 'urn:ontoinsights:dna:01985293', 'urn:ontoinsights:dna:01987611', 'urn:ontoinsights:dna:02001544', 'urn:ontoinsights:dna:02024442', 'urn:ontoinsights:dna:02013215', 'urn:ontoinsights:dna:02026953', 'urn:ontoinsights:dna:02039160', 'urn:ontoinsights:dna:02056400', 'urn:ontoinsights:dna:02071617', 'urn:ontoinsights:dna:02085825', 'urn:ontoinsights:dna:02091072', 'urn:ontoinsights:dna:02091739', 'urn:ontoinsights:dna:02103242', 'urn:ontoinsights:dna:02109935', 'urn:ontoinsights:dna:02110264', 'urn:ontoinsights:dna:02110960', 'urn:ontoinsights:dna:02113108', 'urn:ontoinsights:dna:02113245', 'urn:ontoinsights:dna:02120261', 'urn:ontoinsights:dna:02122959', 'urn:ontoinsights:dna:02123398', 'urn:ontoinsights:dna:02123706', 'urn:ontoinsights:dna:02125888', 'urn:ontoinsights:dna:02128368', 'urn:ontoinsights:dna:02129097', 'urn:ontoinsights:dna:02129925', 'urn:ontoinsights:dna:02132318', 'urn:ontoinsights:dna:02132531', 'urn:ontoinsights:dna:02154940', 'urn:ontoinsights:dna:02133118', 'urn:ontoinsights:dna:02134482', 'urn:ontoinsights:dna:02136428', 'urn:ontoinsights:dna:02140736', 'urn:ontoinsights:dna:02151220', 'urn:ontoinsights:dna:02161530', 'urn:ontoinsights:dna:02162464', 'urn:ontoinsights:dna:02769698', 'urn:ontoinsights:dna:02172999', 'urn:ontoinsights:dna:02171205', 'urn:ontoinsights:dna:02194523', 'urn:ontoinsights:dna:02197640', 'urn:ontoinsights:dna:02198732', 'urn:ontoinsights:dna:02201537', 'urn:ontoinsights:dna:02202019', 'urn:ontoinsights:dna:02203116', 'urn:ontoinsights:dna:02225243', 'urn:ontoinsights:dna:02205200', 'urn:ontoinsights:dna:02205920', 'urn:ontoinsights:dna:02209474', 'urn:ontoinsights:dna:02209880', 'urn:ontoinsights:dna:02211401', 'urn:ontoinsights:dna:02214718', 'urn:ontoinsights:dna:02561834', 'urn:ontoinsights:dna:02228837', 'urn:ontoinsights:dna:02232523', 'urn:ontoinsights:dna:02242120', 'urn:ontoinsights:dna:02265169', 'urn:ontoinsights:dna:02252172', 'urn:ontoinsights:dna:02253273', 'urn:ontoinsights:dna:02257563', 'urn:ontoinsights:dna:02258963', 'urn:ontoinsights:dna:02270039', 'urn:ontoinsights:dna:02270824', 'urn:ontoinsights:dna:02271765', 'urn:ontoinsights:dna:02284863', 'urn:ontoinsights:dna:02293733', 'urn:ontoinsights:dna:02294039', 'urn:ontoinsights:dna:02303593', 'urn:ontoinsights:dna:02320918', 'urn:ontoinsights:dna:02322074', 'urn:ontoinsights:dna:02323383', 'urn:ontoinsights:dna:02363033', 'urn:ontoinsights:dna:02363654', 'urn:ontoinsights:dna:02363921', 'urn:ontoinsights:dna:02368741', 'urn:ontoinsights:dna:02376443', 'urn:ontoinsights:dna:02383421', 'urn:ontoinsights:dna:02384670', 'urn:ontoinsights:dna:02411715', 'urn:ontoinsights:dna:02389183', 'urn:ontoinsights:dna:02427126', 'urn:ontoinsights:dna:02391408', 'urn:ontoinsights:dna:02409366', 'urn:ontoinsights:dna:02481345', 'urn:ontoinsights:dna:02412896', 'urn:ontoinsights:dna:02417219', 'urn:ontoinsights:dna:02422604', 'urn:ontoinsights:dna:02423521', 'urn:ontoinsights:dna:02424173', 'urn:ontoinsights:dna:02427979', 'urn:ontoinsights:dna:02428446', 'urn:ontoinsights:dna:02429499', 'urn:ontoinsights:dna:02431018', 'urn:ontoinsights:dna:02431242', 'urn:ontoinsights:dna:02432181', 'urn:ontoinsights:dna:02439706', 'urn:ontoinsights:dna:02440987', 'urn:ontoinsights:dna:02449965', 'urn:ontoinsights:dna:02450790', 'urn:ontoinsights:dna:02628315', 'urn:ontoinsights:dna:02468933', 'urn:ontoinsights:dna:02479313', 'urn:ontoinsights:dna:02483178', 'urn:ontoinsights:dna:02487489', 'urn:ontoinsights:dna:02492581', 'urn:ontoinsights:dna:02493817', 'urn:ontoinsights:dna:02503641', 'urn:ontoinsights:dna:02506046', 'urn:ontoinsights:dna:02506138', 'urn:ontoinsights:dna:02508565', 'urn:ontoinsights:dna:02570061', 'urn:ontoinsights:dna:02527985', 'urn:ontoinsights:dna:02528887', 'urn:ontoinsights:dna:02529187', 'urn:ontoinsights:dna:02538552', 'urn:ontoinsights:dna:02540602', 'urn:ontoinsights:dna:02541026', 'urn:ontoinsights:dna:02545454', 'urn:ontoinsights:dna:02557529', 'urn:ontoinsights:dna:02557299', 'urn:ontoinsights:dna:02566500', 'urn:ontoinsights:dna:02567247', 'urn:ontoinsights:dna:02572007', 'urn:ontoinsights:dna:02574587', 'urn:ontoinsights:dna:02584957', 'urn:ontoinsights:dna:02587562', 'urn:ontoinsights:dna:02587760', 'urn:ontoinsights:dna:02596409', 'urn:ontoinsights:dna:02600625', 'urn:ontoinsights:dna:02601837', 'urn:ontoinsights:dna:02602110', 'urn:ontoinsights:dna:02602272', 'urn:ontoinsights:dna:02602368', 'urn:ontoinsights:dna:02603092', 'urn:ontoinsights:dna:02603759', 'urn:ontoinsights:dna:02604140', 'urn:ontoinsights:dna:02604762', 'urn:ontoinsights:dna:02605525', 'urn:ontoinsights:dna:02606776', 'urn:ontoinsights:dna:02661230', 'urn:ontoinsights:dna:02620216', 'urn:ontoinsights:dna:02621023', 'urn:ontoinsights:dna:02622439', 'urn:ontoinsights:dna:02622766', 'urn:ontoinsights:dna:02623851', 'urn:ontoinsights:dna:02624202', 'urn:ontoinsights:dna:02625202', 'urn:ontoinsights:dna:02625819', 'urn:ontoinsights:dna:02626667', 'urn:ontoinsights:dna:02627934', 'urn:ontoinsights:dna:02633747', 'urn:ontoinsights:dna:02635337', 'urn:ontoinsights:dna:02639021', 'urn:ontoinsights:dna:02638434', 'urn:ontoinsights:dna:02638919', 'urn:ontoinsights:dna:02670846', 'urn:ontoinsights:dna:02646524', 'urn:ontoinsights:dna:02650318', 'urn:ontoinsights:dna:02736899', 'urn:ontoinsights:dna:02725805', 'urn:ontoinsights:dna:02659957', 'urn:ontoinsights:dna:02664361', 'urn:ontoinsights:dna:02722040', 'urn:ontoinsights:dna:02669057', 'urn:ontoinsights:dna:02672316', 'urn:ontoinsights:dna:02717862', 'urn:ontoinsights:dna:02669926', 'urn:ontoinsights:dna:02670095', 'urn:ontoinsights:dna:02671069', 'urn:ontoinsights:dna:02674312', 'urn:ontoinsights:dna:02679754', 'urn:ontoinsights:dna:02675266', 'urn:ontoinsights:dna:02677550', 'urn:ontoinsights:dna:02679419', 'urn:ontoinsights:dna:02681865', 'urn:ontoinsights:dna:02684248', 'urn:ontoinsights:dna:02685037', 'urn:ontoinsights:dna:02687449', 'urn:ontoinsights:dna:02693093', 'urn:ontoinsights:dna:02693227', 'urn:ontoinsights:dna:02706526', 'urn:ontoinsights:dna:02706632', 'urn:ontoinsights:dna:02738673', 'urn:ontoinsights:dna:02709149', 'urn:ontoinsights:dna:02711692', 'urn:ontoinsights:dna:02713289', 'urn:ontoinsights:dna:02715780', 'urn:ontoinsights:dna:02716276', 'urn:ontoinsights:dna:02718318', 'urn:ontoinsights:dna:02718647', 'urn:ontoinsights:dna:02719247', 'urn:ontoinsights:dna:02719932', 'urn:ontoinsights:dna:02720606', 'urn:ontoinsights:dna:02726572', 'urn:ontoinsights:dna:02728324', 'urn:ontoinsights:dna:02739681', 'urn:ontoinsights:dna:02740528', 'urn:ontoinsights:dna:02742134', 'urn:ontoinsights:dna:02743062', 'urn:ontoinsights:dna:02746620', 'urn:ontoinsights:dna:02746734', 'urn:ontoinsights:dna:02746878', 'urn:ontoinsights:dna:02747024', 'urn:ontoinsights:dna:02747557', 'urn:ontoinsights:dna:02747668', 'urn:ontoinsights:dna:02748107', 'urn:ontoinsights:dna:02748357', 'urn:ontoinsights:dna:02749796', 'urn:ontoinsights:dna:02750326', 'urn:ontoinsights:dna:02750526', 'urn:ontoinsights:dna:02751361', 'urn:ontoinsights:dna:02755779', 'urn:ontoinsights:dna:02762779', 'urn:ontoinsights:dna:02764784', 'urn:ontoinsights:dna:02768426', 'urn:ontoinsights:dna:02769241', 'urn:ontoinsights:dna:02771422', 'urn:ontoinsights:dna:02775199', 'urn:ontoinsights:dna:02776128', 'urn:ontoinsights:dna:02776493', 'urn:ontoinsights:dna:02777127']\n"
     ]
    }
   ],
   "source": [
    "query_results = verb_conn.select(query_top_syn_id, content_type='application/sparql-results+json')\n",
    "if 'results' in query_results and 'bindings' in query_results['results']:\n",
    "    verb_results = query_results['results']['bindings']\n",
    "    for verb in verb_results:\n",
    "        top_verb_syn_ids.append(verb['synset']['value'])\n",
    "\n",
    "print(len(top_verb_syn_ids))\n",
    "print(top_verb_syn_ids)"
   ]
  },
  {
   "cell_type": "markdown",
   "id": "e7fa1511",
   "metadata": {},
   "source": [
    "## Iterating from the \"top\" synset IDs  \n",
    "\n",
    "* Iterate through the list of top_noun/verb synset IDs \n",
    "* When an id is found that is in the mapped_noun/verb_synsets ...\n",
    "  * Begin capturing the WordNet syns/terms (defined as rdfs:labels) and add them as synonyms for the mapped DNA class\n",
    "  * The mapped class is the value of the mapped_noun/verb_synset entry for the key = matching synId\n",
    "* Continue down the hypo/hypernym tree until the end or until another ID is found in mapped_noun/verb_synsets\n",
    "* If another ID is found, return to processing at the second bullet"
   ]
  },
  {
   "cell_type": "code",
   "execution_count": 19,
   "id": "408622d1",
   "metadata": {
    "ExecuteTime": {
     "end_time": "2023-01-14T19:45:07.559344Z",
     "start_time": "2023-01-14T19:45:07.555635Z"
    }
   },
   "outputs": [],
   "source": [
    "matched_noun_syns = [key for key in mapped_noun_synsets.keys()]\n",
    "matched_verb_syns = [key for key in mapped_verb_synsets.keys()]\n",
    "\n",
    "query_labels = 'prefix urn: <urn:ontoinsights:dna:> select ?label where {urn:synset rdfs:label ?label}'\n",
    "query_subclasses = 'prefix urn: <urn:ontoinsights:dna:> select ?subCl where {?subCl rdfs:subClassOf urn:currSyn}'\n",
    "\n",
    "query_synonyms = 'prefix : <urn:ontoinsights:dna:> select ?syn where {?dna_class :xxx_synonym ?syn}'"
   ]
  },
  {
   "cell_type": "code",
   "execution_count": 20,
   "id": "1a92a8ae",
   "metadata": {
    "ExecuteTime": {
     "end_time": "2023-01-14T19:45:12.252513Z",
     "start_time": "2023-01-14T19:45:12.243874Z"
    }
   },
   "outputs": [],
   "source": [
    "def walk_wn_hierarchy(syn_id, dna_class, syns, multi_syns, file_name, is_verb, new_syns):\n",
    "    id_only = syn_id.replace(f'{dna_prefix}:', '')\n",
    "    if is_verb and id_only in matched_verb_syns:\n",
    "        dna_class = mapped_verb_synsets[id_only]\n",
    "    if not is_verb and id_only in matched_noun_syns:\n",
    "        dna_class = mapped_noun_synsets[id_only]\n",
    "    if dna_class:\n",
    "        # Get WordNet synonyms/terms\n",
    "        query_str = query_labels.replace(\"synset\", id_only)\n",
    "        if is_verb:\n",
    "            query_results = verb_conn.select(query_str, content_type='application/sparql-results+json')\n",
    "        else:\n",
    "            query_results = noun_conn.select(query_str, content_type='application/sparql-results+json')\n",
    "        if 'results' in query_results and 'bindings' in query_results['results']:\n",
    "            label_results = query_results['results']['bindings']\n",
    "            for label in label_results:\n",
    "                new_term = label['label']['value']\n",
    "                # Is this a new label?\n",
    "                if new_term not in syns and new_term not in multi_syns and new_term not in new_syns:\n",
    "                    new_syns.append(new_term)\n",
    "                    with open(file_name, 'a') as save_syn_file:\n",
    "                        if is_verb:\n",
    "                            save_syn_file.write(f'{dna_class} :verb_synonym \"{new_term}\"@en .\\n')\n",
    "                        else:\n",
    "                            save_syn_file.write(f'{dna_class} :noun_synonym \"{new_term}\"@en .\\n')\n",
    "    # Get next, lower level in the hierarchy\n",
    "    query_str = query_subclasses.replace('currSyn', id_only)\n",
    "    if is_verb:\n",
    "        query_results = verb_conn.select(query_str, content_type='application/sparql-results+json')\n",
    "    else:\n",
    "        query_results = noun_conn.select(query_str, content_type='application/sparql-results+json')\n",
    "    if 'results' in query_results and 'bindings' in query_results['results']:\n",
    "        subcl_results = query_results['results']['bindings']\n",
    "        for subclass in subcl_results:\n",
    "            walk_wn_hierarchy(subclass['subCl']['value'], dna_class, syns, multi_syns, file_name, is_verb, new_syns)\n",
    "    return"
   ]
  },
  {
   "cell_type": "code",
   "execution_count": 21,
   "id": "a80b49ba",
   "metadata": {
    "ExecuteTime": {
     "end_time": "2023-01-14T19:46:14.904080Z",
     "start_time": "2023-01-14T19:45:15.952380Z"
    },
    "scrolled": false
   },
   "outputs": [],
   "source": [
    "file_name = 'all_wn_verb_synonyms.ttl'\n",
    "with open(file_name, 'w') as syn_file:\n",
    "    syn_file.write('@prefix : <urn:ontoinsights:dna:> .\\n')\n",
    "\n",
    "verb_syns = []\n",
    "query_str = query_synonyms.replace('xxx', 'verb')\n",
    "query_results = dna_conn.select(query_str, content_type='application/sparql-results+json')\n",
    "syn_results = query_results['results']['bindings']\n",
    "for syn in syn_results:\n",
    "    verb_syns.append(syn['syn']['value'])\n",
    "                \n",
    "new_verb_syns = []\n",
    "for top in top_verb_syn_ids:\n",
    "    class_name = ''\n",
    "    walk_wn_hierarchy(top, class_name, verb_syns, list(verbs_multiple.keys()), file_name, True, new_verb_syns)\n",
    "    "
   ]
  },
  {
   "cell_type": "code",
   "execution_count": 22,
   "id": "126038ff",
   "metadata": {
    "ExecuteTime": {
     "end_time": "2023-01-14T19:57:05.223177Z",
     "start_time": "2023-01-14T19:46:15.264937Z"
    }
   },
   "outputs": [],
   "source": [
    "file_name = 'all_wn_noun_synonyms.ttl'\n",
    "with open(file_name, 'w') as syn_file:\n",
    "    syn_file.write('@prefix : <urn:ontoinsights:dna:> .\\n')\n",
    "\n",
    "noun_syns = []\n",
    "query_str = query_synonyms.replace('xxx', 'noun')\n",
    "query_results = dna_conn.select(query_str, content_type='application/sparql-results+json')\n",
    "syn_results = query_results['results']['bindings']\n",
    "for syn in syn_results:\n",
    "    noun_syns.append(syn['syn']['value'])\n",
    "       \n",
    "new_noun_syns = []\n",
    "for top in top_noun_syn_ids:\n",
    "    class_name = ''\n",
    "    walk_wn_hierarchy(top, class_name, noun_syns, list(nouns_multiple.keys()), file_name, False, new_noun_syns)"
   ]
  },
  {
   "cell_type": "markdown",
   "id": "4ec786d1",
   "metadata": {},
   "source": [
    "## Cleanup and redefinition\n",
    "\n",
    "* Above TTLs (all_wn*.ttl files) manually reviewed and cleaned\n",
    "  * Animal, plant, health, ... and other synonyms moved directly to wordnet-*.ttl files (for loading to Stardog)\n",
    "  * Other concept and multi-class mappings remain in the files, noun.csv and verb.csv, which have the format:\n",
    "    * First column = triple definition of the form, <class> :noun/verb_synonym \"<text>\"@en. \n",
    "    * Second column is an optional, additional entry that defines an override for a multiple inheritance or multiple alternative mapping\n",
    "* Processing below takes the results from the noun/verb.csv files and outputs the text definitions for the multi-mappings (that are then added to the existing noun/verb-multi.txt files) or creates new .ttl files that can be directly loaded to Stardog\n",
    "  * After this step, the first cells of this notebook are rerun to create the pickle files and then, the validation cells are rerun to guarantee that there are no duplicates "
   ]
  },
  {
   "cell_type": "code",
   "execution_count": 1,
   "id": "950ad4d3",
   "metadata": {
    "ExecuteTime": {
     "end_time": "2023-01-27T16:36:15.349218Z",
     "start_time": "2023-01-27T16:36:15.338393Z"
    }
   },
   "outputs": [],
   "source": [
    "with open('verbs.csv', 'r') as csvfile:\n",
    "    verb_details = csvfile.read().split('\\n')\n",
    "with open('multi-verbs.txt', 'w') as multifile:\n",
    "    with open('verb-synonyms.ttl', 'w') as ttlfile:\n",
    "        ttlfile.write('@prefix : <urn:ontoinsights:dna:> .\\n')\n",
    "        for line in verb_details:\n",
    "            parts = line.split('@en .,')\n",
    "            triple = parts[0]\n",
    "            multi = parts[1]\n",
    "            if multi:\n",
    "                text = triple.split('\"')[1]\n",
    "                updated = multi.replace('\"', '').replace(', ', \"', 'urn:ontoinsights:dna:\")\\\n",
    "                               .replace('+', '+urn:ontoinsights:dna:')\n",
    "                multifile.write(f\"{text} ['urn:ontoinsights:dna:{updated}']\\n\") \n",
    "            else:\n",
    "                ttlfile.write(f'{triple}@en .\\n')"
   ]
  },
  {
   "cell_type": "code",
   "execution_count": 3,
   "id": "1319e9be",
   "metadata": {
    "ExecuteTime": {
     "end_time": "2023-01-27T16:36:25.186443Z",
     "start_time": "2023-01-27T16:36:25.156476Z"
    }
   },
   "outputs": [],
   "source": [
    "with open('nouns.csv', 'r') as csvfile:\n",
    "    noun_details = csvfile.read().split('\\n')\n",
    "with open('multi-nouns.txt', 'w') as multifile:\n",
    "    with open('noun-synonyms.ttl', 'w') as ttlfile:\n",
    "        ttlfile.write('@prefix : <urn:ontoinsights:dna:> .\\n')\n",
    "        for line in noun_details:\n",
    "            parts = line.split('@en .,')\n",
    "            triple = parts[0]\n",
    "            multi = parts[1]\n",
    "            if multi:\n",
    "                text = triple.split('\"')[1]\n",
    "                updated = multi.replace('\"', '').replace(', ', \"', 'urn:ontoinsights:dna:\")\\\n",
    "                               .replace('+', '+urn:ontoinsights:dna:')\n",
    "                multifile.write(f\"{text} ['urn:ontoinsights:dna:{updated}']\\n\") \n",
    "            else:\n",
    "                ttlfile.write(f'{triple}@en .\\n')"
   ]
  },
  {
   "cell_type": "code",
   "execution_count": null,
   "id": "6de24b34",
   "metadata": {},
   "outputs": [],
   "source": []
  }
 ],
 "metadata": {
  "kernelspec": {
   "display_name": "Python 3 (ipykernel)",
   "language": "python",
   "name": "python3"
  },
  "language_info": {
   "codemirror_mode": {
    "name": "ipython",
    "version": 3
   },
   "file_extension": ".py",
   "mimetype": "text/x-python",
   "name": "python",
   "nbconvert_exporter": "python",
   "pygments_lexer": "ipython3",
   "version": "3.8.8"
  },
  "varInspector": {
   "cols": {
    "lenName": 16,
    "lenType": 16,
    "lenVar": 40
   },
   "kernels_config": {
    "python": {
     "delete_cmd_postfix": "",
     "delete_cmd_prefix": "del ",
     "library": "var_list.py",
     "varRefreshCmd": "print(var_dic_list())"
    },
    "r": {
     "delete_cmd_postfix": ") ",
     "delete_cmd_prefix": "rm(",
     "library": "var_list.r",
     "varRefreshCmd": "cat(var_dic_list()) "
    }
   },
   "types_to_exclude": [
    "module",
    "function",
    "builtin_function_or_method",
    "instance",
    "_Feature"
   ],
   "window_display": true
  }
 },
 "nbformat": 4,
 "nbformat_minor": 5
}
