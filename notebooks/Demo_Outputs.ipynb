{
 "cells": [
  {
   "cell_type": "markdown",
   "id": "bef41e20",
   "metadata": {},
   "source": [
    "# Input first 5 paragraphs of news articles into the IST-195 data store\n",
    "\n",
    "Make sure that: \n",
    "* The db, meta-dna, exists in Stardog\n",
    "* The db, ist-195, does NOT exist\n",
    "* flask is running (in the dna directory)"
   ]
  },
  {
   "cell_type": "code",
   "execution_count": 1,
   "id": "3e740c1b",
   "metadata": {
    "ExecuteTime": {
     "end_time": "2022-10-03T18:54:06.601791Z",
     "start_time": "2022-10-03T18:54:06.534648Z"
    }
   },
   "outputs": [],
   "source": [
    "import json\n",
    "import requests"
   ]
  },
  {
   "cell_type": "code",
   "execution_count": 2,
   "id": "5ed2299c",
   "metadata": {
    "ExecuteTime": {
     "end_time": "2022-10-03T18:54:07.912121Z",
     "start_time": "2022-10-03T18:54:07.480295Z"
    }
   },
   "outputs": [
    {
     "name": "stdout",
     "output_type": "stream",
     "text": [
      "201 <Response [201]>\n",
      "200 [{'created': '2022-10-03T14:54:07', 'repository': 'ist-195'}]\n"
     ]
    }
   ],
   "source": [
    "# Create the repository for the news articles\n",
    "response = requests.post('http://127.0.0.1:5000/dna/v1/repositories?repository=ist-195')\n",
    "print(response.status_code, response) \n",
    "# Verify that the repository was created\n",
    "response = requests.get('http://127.0.0.1:5000/dna/v1/repositories')\n",
    "print(response.status_code, response.json()) "
   ]
  },
  {
   "cell_type": "code",
   "execution_count": 3,
   "id": "2e31485e",
   "metadata": {
    "ExecuteTime": {
     "end_time": "2022-10-03T18:54:09.093801Z",
     "start_time": "2022-10-03T18:54:09.088620Z"
    }
   },
   "outputs": [],
   "source": [
    "# Code below simulates getting the meta-data for news using a pre-selected list and news API service\n",
    "# Or the meta-data may be input manually, or missing altogether except for a title\n",
    "LC_FarRight_meta = {\n",
    "            \"author\": \"Jordan Dixon-Hamilton\",\n",
    "            \"published\": \"2022-08-16T00:00:00\",\n",
    "            \"publisher\": \"Breitbart\",\n",
    "            \"source\": \"https://www.breitbart.com/politics/2022/08/16/liz-cheney-compares-herself-abraham-lincoln-concession-speech/\",\n",
    "            \"title\": \"Liz Cheney Compares Herself to Abraham Lincoln in Concession Speech\"}\n",
    "LC_Right_meta = {\n",
    "            \"author\": \"Brandon Gillespie\",\n",
    "            \"published\": \"2022-08-16T00:00:00\",\n",
    "            \"publisher\": \"Fox News\",\n",
    "            \"source\": \"https://www.foxnews.com/politics/liz-cheney-compares-herself-abraham-lincoln-resounding-defeat-wyoming-primary\", \n",
    "            \"title\": \"Rep. Liz Cheney compares herself to Abraham Lincoln following resounding defeat in Wyoming primary\"}\n",
    "LC_Center_meta = {\n",
    "            \"author\": \"Natalie Andrews\",\n",
    "            \"published\": \"2022-08-17T00:00:00\",\n",
    "            \"publisher\": \"Wall Street Journal\",\n",
    "            \"source\": \"https://www.wsj.com/articles/liz-cheney-faces-uphill-fight-in-primary-against-trump-backed-opponent-11660642201\", \n",
    "            \"title\": \"Liz Cheney Concedes to Trump-Backed Challenger in Wyoming Primary\"}\n",
    "LC_Left_meta = {\n",
    "            \"author\": \"Maggie Astor\",\n",
    "            \"published\": \"2022-08-17T00:00:00\",\n",
    "            \"publisher\": \"New York Times\",\n",
    "            \"source\": \"https://www.nytimes.com/2022/08/17/us/politics/liz-cheney-concession-speech.html\", \n",
    "            \"title\": \"Liz Cheney Invokes Lincoln and Grant in Impassioned Concession Speech\"}\n",
    "meta_array = [LC_FarRight_meta, LC_Right_meta, LC_Center_meta, LC_Left_meta]"
   ]
  },
  {
   "cell_type": "code",
   "execution_count": 4,
   "id": "4027a3f0",
   "metadata": {
    "ExecuteTime": {
     "end_time": "2022-10-03T18:57:38.226478Z",
     "start_time": "2022-10-03T18:54:10.160241Z"
    },
    "scrolled": true
   },
   "outputs": [
    {
     "name": "stdout",
     "output_type": "stream",
     "text": [
      "201 {'narrativeId': 'd6e0f580', 'narrativeMetadata': {'author': 'Jordan Dixon-Hamilton', 'published': '2022-08-16T00:00:00', 'publisher': 'Breitbart', 'source': 'https://www.breitbart.com/politics/2022/08/16/liz-cheney-compares-herself-abraham-lincoln-concession-speech/', 'title': 'Liz Cheney Compares Herself to Abraham Lincoln in Concession Speech'}, 'numberOfTriples': '239', 'processed': '2022-10-03T14:55:27', 'repository': 'ist-195'}\n",
      "\n",
      "201 {'narrativeId': 'fac5bbf7', 'narrativeMetadata': {'author': 'Brandon Gillespie', 'published': '2022-08-16T00:00:00', 'publisher': 'Fox News', 'source': 'https://www.foxnews.com/politics/liz-cheney-compares-herself-abraham-lincoln-resounding-defeat-wyoming-primary', 'title': 'Rep. Liz Cheney compares herself to Abraham Lincoln following resounding defeat in Wyoming primary'}, 'numberOfTriples': '291', 'processed': '2022-10-03T14:56:10', 'repository': 'ist-195'}\n",
      "\n",
      "201 {'narrativeId': 'b2c41625', 'narrativeMetadata': {'author': 'Natalie Andrews', 'published': '2022-08-17T00:00:00', 'publisher': 'Wall Street Journal', 'source': 'https://www.wsj.com/articles/liz-cheney-faces-uphill-fight-in-primary-against-trump-backed-opponent-11660642201', 'title': 'Liz Cheney Concedes to Trump-Backed Challenger in Wyoming Primary'}, 'numberOfTriples': '304', 'processed': '2022-10-03T14:57:02', 'repository': 'ist-195'}\n",
      "\n",
      "201 {'narrativeId': '210df3e9', 'narrativeMetadata': {'author': 'Maggie Astor', 'published': '2022-08-17T00:00:00', 'publisher': 'New York Times', 'source': 'https://www.nytimes.com/2022/08/17/us/politics/liz-cheney-concession-speech.html', 'title': 'Liz Cheney Invokes Lincoln and Grant in Impassioned Concession Speech'}, 'numberOfTriples': '233', 'processed': '2022-10-03T14:57:37', 'repository': 'ist-195'}\n",
      "\n"
     ]
    }
   ],
   "source": [
    "# Ingest the news articles to the repository\n",
    "# This code (1) inputs the news article, (2) parses it using the spaCy NLP libraries, \n",
    "#   3) creates an intermediary 'dictionary' of the information in the parsed sentences),\n",
    "#   4) performs coreference analysis and concept mapping to the DNA ontology and\n",
    "#   5) creation of the knowledge graph\n",
    "index = 0\n",
    "for file_name in ('LC-FarRight', 'LC-Right', 'LC-Center', 'LC-Left'):\n",
    "    with open(f'{file_name}.txt', 'r') as inf:\n",
    "        news_text = inf.read()    \n",
    "    req_dict = {\"narrativeMetadata\" : meta_array[index],\n",
    "                \"narrative\": news_text}\n",
    "    index += 1\n",
    "    response = requests.post('http://127.0.0.1:5000/dna/v1/repositories/narratives?repository=ist-195&extSources=true',\n",
    "                             json=req_dict)\n",
    "    print(response.status_code, response.json())\n",
    "    print()\n",
    "   "
   ]
  },
  {
   "cell_type": "code",
   "execution_count": 5,
   "id": "b59749b4",
   "metadata": {
    "ExecuteTime": {
     "end_time": "2022-10-03T18:59:31.751748Z",
     "start_time": "2022-10-03T18:59:31.728127Z"
    }
   },
   "outputs": [
    {
     "name": "stdout",
     "output_type": "stream",
     "text": [
      "200 {\n",
      " \"narratives\": [\n",
      "  {\n",
      "   \"narrativeId\": \"d6e0f580\",\n",
      "   \"narrativeMetadata\": {\n",
      "    \"author\": \"Jordan Dixon-Hamilton\",\n",
      "    \"published\": \"2022-10-03T14:55:27\",\n",
      "    \"publisher\": \"Breitbart\",\n",
      "    \"source\": \"https://www.breitbart.com/politics/2022/08/16/liz-cheney-compares-herself-abraham-lincoln-concession-speech/\",\n",
      "    \"title\": \"Liz Cheney Compares Herself to Abraham Lincoln in Concession Speech\"\n",
      "   },\n",
      "   \"numberOfTriples\": \"239\",\n",
      "   \"processed\": \"2022-10-03T14:55:27\"\n",
      "  },\n",
      "  {\n",
      "   \"narrativeId\": \"fac5bbf7\",\n",
      "   \"narrativeMetadata\": {\n",
      "    \"author\": \"Brandon Gillespie\",\n",
      "    \"published\": \"2022-10-03T14:56:10\",\n",
      "    \"publisher\": \"Fox News\",\n",
      "    \"source\": \"https://www.foxnews.com/politics/liz-cheney-compares-herself-abraham-lincoln-resounding-defeat-wyoming-primary\",\n",
      "    \"title\": \"Rep. Liz Cheney compares herself to Abraham Lincoln following resounding defeat in Wyoming primary\"\n",
      "   },\n",
      "   \"numberOfTriples\": \"291\",\n",
      "   \"processed\": \"2022-10-03T14:56:10\"\n",
      "  },\n",
      "  {\n",
      "   \"narrativeId\": \"b2c41625\",\n",
      "   \"narrativeMetadata\": {\n",
      "    \"author\": \"Natalie Andrews\",\n",
      "    \"published\": \"2022-10-03T14:57:02\",\n",
      "    \"publisher\": \"Wall Street Journal\",\n",
      "    \"source\": \"https://www.wsj.com/articles/liz-cheney-faces-uphill-fight-in-primary-against-trump-backed-opponent-11660642201\",\n",
      "    \"title\": \"Liz Cheney Concedes to Trump-Backed Challenger in Wyoming Primary\"\n",
      "   },\n",
      "   \"numberOfTriples\": \"304\",\n",
      "   \"processed\": \"2022-10-03T14:57:02\"\n",
      "  },\n",
      "  {\n",
      "   \"narrativeId\": \"210df3e9\",\n",
      "   \"narrativeMetadata\": {\n",
      "    \"author\": \"Maggie Astor\",\n",
      "    \"published\": \"2022-10-03T14:57:37\",\n",
      "    \"publisher\": \"New York Times\",\n",
      "    \"source\": \"https://www.nytimes.com/2022/08/17/us/politics/liz-cheney-concession-speech.html\",\n",
      "    \"title\": \"Liz Cheney Invokes Lincoln and Grant in Impassioned Concession Speech\"\n",
      "   },\n",
      "   \"numberOfTriples\": \"233\",\n",
      "   \"processed\": \"2022-10-03T14:57:37\"\n",
      "  }\n",
      " ],\n",
      " \"repository\": \"ist-195\"\n",
      "}\n"
     ]
    }
   ],
   "source": [
    "# Check what articles are in the repository\n",
    "response = requests.get('http://127.0.0.1:5000/dna/v1/repositories/narratives?repository=ist-195')\n",
    "print(response.status_code, json.dumps(response.json(), indent=1))"
   ]
  },
  {
   "cell_type": "markdown",
   "id": "67805eb7",
   "metadata": {},
   "source": [
    "# Querying the Articles via Stardog\n",
    "\n",
    "* Demo'ing live query via Stardog Studio \n",
    "* Execution/visualization of several of the queries below"
   ]
  },
  {
   "cell_type": "code",
   "execution_count": 6,
   "id": "24554d45",
   "metadata": {
    "ExecuteTime": {
     "end_time": "2022-10-03T18:59:37.449389Z",
     "start_time": "2022-10-03T18:59:37.432483Z"
    }
   },
   "outputs": [],
   "source": [
    "import os\n",
    "import stardog\n",
    "\n",
    "sd_conn_details = {'endpoint': os.environ.get('STARDOG_ENDPOINT'),\n",
    "                   'username': os.getenv('STARDOG_USER'),\n",
    "                   'password': os.environ.get('STARDOG_PASSWORD')}"
   ]
  },
  {
   "cell_type": "code",
   "execution_count": 7,
   "id": "9647cc86",
   "metadata": {
    "ExecuteTime": {
     "end_time": "2022-10-03T18:59:39.947197Z",
     "start_time": "2022-10-03T18:59:39.925948Z"
    }
   },
   "outputs": [
    {
     "name": "stdout",
     "output_type": "stream",
     "text": [
      "{'Abraham_Lincoln': [2, 1, 0, 0], 'Donald_Trump': [1, 2, 2, 0], 'Harriet_Hageman': [1, 2, 1, 1], 'Liz_Cheney': [4, 4, 5, 2]}\n"
     ]
    }
   ],
   "source": [
    "query = \\\n",
    "    'prefix : <urn:ontoinsights:dna:> prefix dna: <urn:ontoinsights:dna:> prefix dc: <http://purl.org/dc/terms/> ' \\\n",
    "    'select ?agent ?publisher (COUNT(?agent) as ?cnt) where { ' \\\n",
    "    '   ?s a :Narrative ; dc:publisher ?publisher . ' \\\n",
    "    '   BIND(IRI(CONCAT(\"urn:ontoinsights:dna:\", STRAFTER(str(?s), \"Narrative_\"))) as ?g) . ' \\\n",
    "    '{graph ?g {?narr :mentions ?agent . ?agent a :Person}}} GROUP BY ?agent ?publisher ORDER BY ?agent ?publisher'\n",
    "\n",
    "conn = stardog.Connection('ist-195', **sd_conn_details)\n",
    "\n",
    "query_results = conn.select(query, content_type='application/sparql-results+json')\n",
    "if 'results' in query_results and 'bindings' in query_results['results']:\n",
    "    bindings = query_results['results']['bindings']\n",
    "else:\n",
    "    bindings = []\n",
    "\n",
    "person_mentions_dict = dict()\n",
    "publisher_dict = {'Breitbart': 0, 'Fox News': 1, 'Wall Street Journal': 2, 'New York Times': 3}\n",
    "for binding in bindings:\n",
    "    person = binding['agent']['value'].split(':dna:')[1]\n",
    "    publisher = binding['publisher']['value']\n",
    "    count = int(binding['cnt']['value'])\n",
    "    if person in person_mentions_dict:\n",
    "        count_array = person_mentions_dict[person]\n",
    "    else:\n",
    "        count_array = [0, 0, 0, 0]\n",
    "    count_array[publisher_dict[publisher]] = count\n",
    "    person_mentions_dict[person] = count_array\n",
    "\n",
    "print(person_mentions_dict)"
   ]
  },
  {
   "cell_type": "code",
   "execution_count": 39,
   "id": "817e0c64",
   "metadata": {
    "ExecuteTime": {
     "end_time": "2022-10-03T20:48:22.050742Z",
     "start_time": "2022-10-03T20:48:22.035206Z"
    }
   },
   "outputs": [
    {
     "name": "stdout",
     "output_type": "stream",
     "text": [
      "{1: 'Cheney compared Cheney to\\nLincoln during concession speech', 3: 'Cheney claimed\\nCheney fail to go with lie\\nCheney lost primary election', 5: 'Quotation0\\nQuotation1', 6: 'Cheney said', 8: 'Cheney said\\nmembers swear to protect the principles\\nopposition rooted in the principles\\nCheney understood the potential political consequences', 10: 'Lincoln saved the nation\\nCheney compared Cheney to Lincoln'}\n"
     ]
    }
   ],
   "source": [
    "query = \\\n",
    "    'prefix : <urn:ontoinsights:dna:> prefix dna: <urn:ontoinsights:dna:> prefix dc: <http://purl.org/dc/terms/> ' \\\n",
    "    'select distinct ?sentenceOffset ?chunkOffset ?chunkText ?eventLabel where { ' \\\n",
    "    '  ?s a :Narrative ; dc:publisher \"Breitbart\" . ' \\\n",
    "    '  BIND(IRI(CONCAT(\"urn:ontoinsights:dna:\", STRAFTER(str(?s), \"Narrative_\"))) as ?g) . ' \\\n",
    "    '  {graph ?g {?sentence a :Sentence ; :offset ?sentenceOffset .' \\\n",
    "    '     OPTIONAL {?sentence :has_component ?chunk . ?chunk :offset ?chunkOffset ; :text ?chunkText . ' \\\n",
    "    '        OPTIONAL {?chunk :has_component ?event . ?event rdfs:label ?eventLabel}}}}} ' \\\n",
    "    'ORDER BY ?sentenceOffset ?chunkOffset' \n",
    "\n",
    "conn = stardog.Connection('ist-195', **sd_conn_details)\n",
    "\n",
    "query_results = conn.select(query, content_type='application/sparql-results+json')\n",
    "if 'results' in query_results and 'bindings' in query_results['results']:\n",
    "    bindings = query_results['results']['bindings']\n",
    "else:\n",
    "    bindings = []\n",
    "\n",
    "story_arc_dict = dict()\n",
    "for binding in bindings:\n",
    "    sent_offset = int(binding['sentenceOffset']['value'])\n",
    "    chunk_offset = int(binding['chunkOffset']['value']) - 1\n",
    "    if 'eventLabel' in binding:\n",
    "        label = binding['eventLabel']['value']\n",
    "    else:\n",
    "        label = binding['chunkText']['value']\n",
    "    if sent_offset in story_arc_dict:\n",
    "        arc_text = story_arc_dict[sent_offset] + '\\n'\n",
    "    else:\n",
    "        arc_text = ''\n",
    "    arc_text += label \n",
    "    if 'during concession speech' in arc_text:\n",
    "        arc_text = 'Cheney compared Cheney to\\nLincoln during concession speech'\n",
    "    story_arc_dict[sent_offset] = arc_text\n",
    "\n",
    "print(story_arc_dict)"
   ]
  },
  {
   "cell_type": "markdown",
   "id": "fda13f68",
   "metadata": {},
   "source": [
    "# Demo Outputs"
   ]
  },
  {
   "cell_type": "code",
   "execution_count": 12,
   "id": "f0b1ae29",
   "metadata": {
    "ExecuteTime": {
     "end_time": "2022-10-03T19:01:28.716206Z",
     "start_time": "2022-10-03T19:01:28.513554Z"
    }
   },
   "outputs": [
    {
     "data": {
      "image/png": "[encoded data removed]",
      "text/plain": [
       "<Figure size 1440x720 with 1 Axes>"
      ]
     },
     "metadata": {
      "needs_background": "light"
     },
     "output_type": "display_data"
    }
   ],
   "source": [
    "# Display a table of people and counts of their occurrences in the narratives\n",
    "import matplotlib.pyplot as plt\n",
    "import matplotlib.dates as mdates\n",
    "import numpy\n",
    "\n",
    "pubs = list(publisher_dict.keys())\n",
    "persons = list(person_mentions_dict.keys())\n",
    "X_axis = np.arange(len(pubs))\n",
    "start = -0.1\n",
    "for person, count_array in person_mentions_dict.items():\n",
    "    plt.bar(X_axis + start, count_array, 0.1, label = person)\n",
    "    start += 0.1\n",
    "\n",
    "plt.rcParams['figure.figsize'] = [15, 8]\n",
    "plt.xticks(X_axis, pubs)\n",
    "plt.xlabel(\"Publications\")\n",
    "plt.ylabel(\"Number of Mentions\")\n",
    "plt.title(\"Number of Mentions of Specific Persons\")\n",
    "plt.legend()\n",
    "plt.show()\n"
   ]
  },
  {
   "cell_type": "code",
   "execution_count": 40,
   "id": "31ea4aac",
   "metadata": {
    "ExecuteTime": {
     "end_time": "2022-10-03T20:48:25.965527Z",
     "start_time": "2022-10-03T20:48:25.842329Z"
    }
   },
   "outputs": [
    {
     "data": {
      "image/png": "[encoded data removed]",
      "text/plain": [
       "<Figure size 1080x360 with 1 Axes>"
      ]
     },
     "metadata": {
      "needs_background": "light"
     },
     "output_type": "display_data"
    }
   ],
   "source": [
    "len_arc = len(story_arc_dict)\n",
    "# For matplotlib timeline, need datetime formatting\n",
    "title = 'Breitbart Article'\n",
    "events = []\n",
    "for key, arc_text in story_arc_dict.items():\n",
    "    events.append(arc_text)\n",
    "plot_dates = np.arange(len(events))\n",
    "# Create a stem plot with some variation in levels as to distinguish close-by events.\n",
    "# Add markers on the baseline with dates\n",
    "# For each event, add a text label via annotate, which is offset from the tip of the event line\n",
    "levels = np.tile([4, 1, 4, 3, 1, 4],\n",
    "                 int(np.ceil(len(plot_dates) / 6)))[:len(plot_dates)]\n",
    "# Create figure and plot a stem plot with the dates\n",
    "fig, ax = plt.subplots()\n",
    "dpi = fig.get_dpi()\n",
    "fig.set_size_inches(15, 5)\n",
    "ax.vlines(plot_dates, 0, levels, color=\"tab:red\")  # The vertical stems\n",
    "ax.plot(plot_dates, np.zeros_like(plot_dates), \"-o\",\n",
    "        color=\"k\", markerfacecolor=\"w\")  # Baseline and markers on it\n",
    "# Annotate lines\n",
    "for d, l, r in zip(plot_dates, levels, events):\n",
    "    ax.annotate(r, xy=(d, l),\n",
    "                xytext=(-2, np.sign(l) * 3), textcoords=\"offset points\",\n",
    "                horizontalalignment=\"right\",\n",
    "                verticalalignment=\"bottom\" if l > 0 else \"top\", fontsize='x-large')\n",
    "# Format x-axis with yearly intervals\n",
    "ax.xaxis.set_major_locator(mdates.YearLocator())\n",
    "ax.xaxis.set_major_formatter(mdates.DateFormatter(\"%Y-%m\"))\n",
    "plt.setp(ax.get_xticklabels(), rotation=30, ha=\"right\", fontsize='medium')\n",
    "# Remove x- and y-axis and spines\n",
    "ax.yaxis.set_visible(False)\n",
    "ax.xaxis.set_visible(False)\n",
    "ax.spines[[\"left\", \"top\", \"right\"]].set_visible(False)\n",
    "ax.margins(y=0.1)\n",
    "plt.rcParams['figure.figsize'] = [30, 15]\n",
    "plt.show()"
   ]
  },
  {
   "cell_type": "code",
   "execution_count": 46,
   "id": "20646743",
   "metadata": {
    "ExecuteTime": {
     "end_time": "2022-09-06T23:24:14.892801Z",
     "start_time": "2022-09-06T23:24:14.522289Z"
    }
   },
   "outputs": [],
   "source": [
    "from rdflib import Graph as RDFGraph\n",
    "from rdflib.extras.external_graph_libs import rdflib_to_networkx_graph\n",
    "import networkx as nx\n",
    "from networkx import Graph as NXGraph\n",
    "import matplotlib.pyplot as plt\n",
    "import statistics\n",
    "import collections"
   ]
  },
  {
   "cell_type": "code",
   "execution_count": null,
   "id": "51210e4e",
   "metadata": {},
   "outputs": [],
   "source": [
    "# Eigenvector centrality -- mean and stdev\n",
    "ec = nx.eigenvector_centrality(G)\n",
    "degrees = []\n",
    "for k,v in ec.items():\n",
    "    degrees.append(v)\n",
    "    \n",
    "print(\"EIGENVECTOR CENTRALITY\")\n",
    "print(\"======================\")\n",
    "print(\"The mean network eigenvector centrality is {}, with stdev {}\".format(mean(degrees), statistics.stdev(degrees)))\n",
    "print(\"The maximum node is {}, with value {}\".format(max(ec, key=ec.get), max(ec.values())))\n",
    "print(\"The minimum node is {}, with value {}\".format(min(ec, key=ec.get), min(ec.values())))\n",
    "histogram(ec)\n",
    "print()\n",
    "\n",
    "# Betweenness centrality -- mean and stdev\n",
    "bc = nx.betweenness_centrality(G)\n",
    "degrees = []\n",
    "for k,v in bc.items():\n",
    "    degrees.append(v)\n",
    "print(\"BETWEENNESS CENTRALITY\")\n",
    "print(\"======================\")\n",
    "print(\"The mean betwenness centrality is {}, with stdev {}\".format(mean(degrees), statistics.stdev(degrees)))\n",
    "print(\"The maximum node is {}, with value {}\".format(max(bc, key=bc.get), max(bc.values())))\n",
    "print(\"The minimum node is {}, with value {}\".format(min(bc, key=bc.get), min(bc.values())))\n",
    "histogram(bc)\n",
    "print()\n",
    "    \n",
    "# Plot\n",
    "print(\"Visualizing the graph:\")\n",
    "plt.plot()\n",
    "nx.draw(G, with_labels=True, font_weight='bold')"
   ]
  },
  {
   "cell_type": "code",
   "execution_count": 50,
   "id": "0948ab28",
   "metadata": {
    "ExecuteTime": {
     "end_time": "2022-09-06T23:53:25.469293Z",
     "start_time": "2022-09-06T23:53:25.462915Z"
    }
   },
   "outputs": [],
   "source": [
    "def mean(numbers):\n",
    "    return float(sum(numbers)) / max(len(numbers), 1)\n",
    "\n",
    "def number_of_pendants(g):\n",
    "    \"\"\"\n",
    "    Equals the number of nodes with degree 1\n",
    "    \"\"\"\n",
    "    pendants = 0\n",
    "    for u in g:\n",
    "        if g.degree[u] == 1:\n",
    "            pendants += 1\n",
    "    return pendants\n",
    "\n",
    "\n",
    "def histogram(l):\n",
    "    degree_sequence = sorted([d for n, d in list(l.items())], reverse=True)\n",
    "    degreeCount = collections.Counter(degree_sequence)\n",
    "    deg, cnt = zip(*degreeCount.items())\n",
    "    print(deg, cnt)\n",
    "    \n",
    "    fig, ax = plt.subplots()\n",
    "    plt.bar(deg, cnt, width=0.80, color='b')\n",
    "\n",
    "    plt.title(\"Histogram\")\n",
    "    plt.ylabel(\"Count\")\n",
    "    plt.xlabel(\"Value\")\n",
    "    ax.set_xticks([d + 0.4 for d in deg])\n",
    "    ax.set_xticklabels(deg)\n",
    "\n",
    "    plt.show()"
   ]
  },
  {
   "cell_type": "code",
   "execution_count": 57,
   "id": "adba66ef",
   "metadata": {
    "ExecuteTime": {
     "end_time": "2022-09-07T01:52:47.659585Z",
     "start_time": "2022-09-07T01:52:47.083945Z"
    }
   },
   "outputs": [
    {
     "name": "stdout",
     "output_type": "stream",
     "text": [
      "LC-Left-Final.ttl\n",
      "rdflib Graph loaded successfully with 105 triples\n",
      "networkx Graph loaded successfully with length 93\n",
      "NETWORK SIZE\n",
      "============\n",
      "The network has 93 nodes and 101 edges\n",
      "\n",
      "PENDANTS/Nodes with degree 1\n",
      "============\n",
      "The network has 60 pendants\n",
      "\n",
      "DENSITY\n",
      "============\n",
      "The network density is 0.023609163160355308\n",
      "\n",
      "DEGREE CENTRALITY\n",
      "=================\n",
      "The mean degree centrality is 0.023609163160355297, with stdev 0.02320349485944098\n",
      "The maximum node is urn:ontoinsights:dna:Liz_Cheney, with value 0.10869565217391304\n",
      "The minimum node is The path was clear, with value 0.010869565217391304\n",
      "(0.10869565217391304, 0.09782608695652173, 0.08695652173913043, 0.06521739130434782, 0.05434782608695652, 0.043478260869565216, 0.03260869565217391, 0.021739130434782608, 0.010869565217391304) (1, 2, 2, 6, 1, 4, 7, 10, 60)\n"
     ]
    },
    {
     "data": {
      "image/png": "[encoded data removed]",
      "text/plain": [
       "<Figure size 432x288 with 1 Axes>"
      ]
     },
     "metadata": {
      "needs_background": "light"
     },
     "output_type": "display_data"
    },
    {
     "name": "stdout",
     "output_type": "stream",
     "text": [
      "\n",
      "CONNECTED COMPONENTS\n",
      "====================\n",
      "The graph has 2 connected components\n",
      "Connected component 0 has 90 nodes\n",
      "Connected component 1 has 3 nodes\n",
      "\n",
      "LC-Center-Final.ttl\n",
      "rdflib Graph loaded successfully with 116 triples\n",
      "networkx Graph loaded successfully with length 102\n",
      "NETWORK SIZE\n",
      "============\n",
      "The network has 102 nodes and 111 edges\n",
      "\n",
      "PENDANTS/Nodes with degree 1\n",
      "============\n",
      "The network has 66 pendants\n",
      "\n",
      "DENSITY\n",
      "============\n",
      "The network density is 0.021549213744903904\n",
      "\n",
      "DEGREE CENTRALITY\n",
      "=================\n",
      "The mean degree centrality is 0.021549213744903914, with stdev 0.02110283386856961\n",
      "The maximum node is urn:ontoinsights:dna:Event_f5bec324-e90a, with value 0.09900990099009901\n",
      "The minimum node is urn:ontoinsights:dna:PiT_Tuesday, with value 0.009900990099009901\n",
      "(0.09900990099009901, 0.0891089108910891, 0.07920792079207921, 0.06930693069306931, 0.0594059405940594, 0.04950495049504951, 0.039603960396039604, 0.0297029702970297, 0.019801980198019802, 0.009900990099009901) (1, 2, 1, 4, 3, 4, 1, 10, 10, 66)\n"
     ]
    },
    {
     "data": {
      "image/png": "[encoded data removed]",
      "text/plain": [
       "<Figure size 432x288 with 1 Axes>"
      ]
     },
     "metadata": {
      "needs_background": "light"
     },
     "output_type": "display_data"
    },
    {
     "name": "stdout",
     "output_type": "stream",
     "text": [
      "\n",
      "CONNECTED COMPONENTS\n",
      "====================\n",
      "The graph has 3 connected components\n",
      "Connected component 0 has 92 nodes\n",
      "Connected component 1 has 3 nodes\n",
      "Connected component 2 has 7 nodes\n",
      "\n",
      "LC-Right-Final.ttl\n",
      "rdflib Graph loaded successfully with 138 triples\n",
      "networkx Graph loaded successfully with length 113\n",
      "NETWORK SIZE\n",
      "============\n",
      "The network has 113 nodes and 131 edges\n",
      "\n",
      "PENDANTS/Nodes with degree 1\n",
      "============\n",
      "The network has 74 pendants\n",
      "\n",
      "DENSITY\n",
      "============\n",
      "The network density is 0.020701643489254108\n",
      "\n",
      "DEGREE CENTRALITY\n",
      "=================\n",
      "The mean degree centrality is 0.020701643489254157, with stdev 0.021879082772030923\n",
      "The maximum node is urn:ontoinsights:dna:Liz_Cheney, with value 0.10714285714285714\n",
      "The minimum node is urn:ontoinsights:dna:AssessmentAndCharacterization, with value 0.008928571428571428\n",
      "(0.10714285714285714, 0.09821428571428571, 0.08035714285714285, 0.07142857142857142, 0.0625, 0.05357142857142857, 0.04464285714285714, 0.03571428571428571, 0.026785714285714284, 0.017857142857142856, 0.008928571428571428) (1, 1, 2, 5, 2, 4, 1, 5, 8, 10, 74)\n"
     ]
    },
    {
     "data": {
      "image/png": "[encoded data removed]",
      "text/plain": [
       "<Figure size 432x288 with 1 Axes>"
      ]
     },
     "metadata": {
      "needs_background": "light"
     },
     "output_type": "display_data"
    },
    {
     "name": "stdout",
     "output_type": "stream",
     "text": [
      "\n",
      "CONNECTED COMPONENTS\n",
      "====================\n",
      "The graph has 6 connected components\n",
      "Connected component 0 has 99 nodes\n",
      "Connected component 1 has 4 nodes\n",
      "Connected component 2 has 3 nodes\n",
      "Connected component 3 has 3 nodes\n",
      "Connected component 4 has 2 nodes\n",
      "Connected component 5 has 2 nodes\n",
      "\n",
      "LC-FarRight-Final.ttl\n",
      "rdflib Graph loaded successfully with 104 triples\n",
      "networkx Graph loaded successfully with length 82\n",
      "NETWORK SIZE\n",
      "============\n",
      "The network has 82 nodes and 98 edges\n",
      "\n",
      "PENDANTS/Nodes with degree 1\n",
      "============\n",
      "The network has 52 pendants\n",
      "\n",
      "DENSITY\n",
      "============\n",
      "The network density is 0.029509183980728697\n",
      "\n",
      "DEGREE CENTRALITY\n",
      "=================\n",
      "The mean degree centrality is 0.02950918398072873, with stdev 0.03381037376815727\n",
      "The maximum node is urn:ontoinsights:dna:Event_23f401c8-fd1c, with value 0.18518518518518517\n",
      "The minimum node is From Wikipedia (wikibase_item: Q91): 'Abraham Lincoln was an American lawyer and statesman who served as the 16th president of the United States from 1861 until his assassination in 1865. Lincoln led the nation through the American Civil War and succeeded in preserving the Union, abolishing slavery, bolstering the federal government, and modernizing the U.S. economy.', with value 0.012345679012345678\n",
      "(0.18518518518518517, 0.14814814814814814, 0.13580246913580246, 0.1111111111111111, 0.09876543209876543, 0.08641975308641975, 0.07407407407407407, 0.06172839506172839, 0.04938271604938271, 0.037037037037037035, 0.024691358024691357, 0.012345679012345678) (1, 1, 1, 1, 1, 2, 3, 2, 3, 5, 10, 52)\n"
     ]
    },
    {
     "data": {
      "image/png": "[encoded data removed]",
      "text/plain": [
       "<Figure size 432x288 with 1 Axes>"
      ]
     },
     "metadata": {
      "needs_background": "light"
     },
     "output_type": "display_data"
    },
    {
     "name": "stdout",
     "output_type": "stream",
     "text": [
      "\n",
      "CONNECTED COMPONENTS\n",
      "====================\n",
      "The graph has 1 connected components\n",
      "Connected component 0 has 82 nodes\n",
      "\n"
     ]
    }
   ],
   "source": [
    "for i in range(4):\n",
    "    # For matplotlib timeline, need datetime formatting\n",
    "    if i == 0:\n",
    "        title = 'LC-Left-Final.ttl'\n",
    "    elif i == 1:\n",
    "        title = 'LC-Center-Final.ttl'\n",
    "    elif i == 2:\n",
    "        title = 'LC-Right-Final.ttl'\n",
    "    elif i == 3:\n",
    "        title = 'LC-FarRight-Final.ttl'\n",
    "    print(title)\n",
    "    rg = RDFGraph()\n",
    "    rg.parse(title, format='turtle')\n",
    "    print(\"rdflib Graph loaded successfully with {} triples\".format(len(rg)))\n",
    "    G = rdflib_to_networkx_graph(rg)\n",
    "    print(\"networkx Graph loaded successfully with length {}\".format(len(G)))\n",
    "    \n",
    "    # Network size\n",
    "    print(\"NETWORK SIZE\")\n",
    "    print(\"============\")\n",
    "    print(\"The network has {} nodes and {} edges\".format(G.number_of_nodes(), G.number_of_edges()))\n",
    "    print()\n",
    "\n",
    "    # Network size\n",
    "    print(\"PENDANTS/Nodes with degree 1\")\n",
    "    print(\"============\")\n",
    "    print(\"The network has {} pendants\".format(number_of_pendants(G)))\n",
    "    print()\n",
    "\n",
    "    # Density\n",
    "    print(\"DENSITY\")\n",
    "    print(\"============\")\n",
    "    print(\"The network density is {}\".format(nx.density(G)))\n",
    "    print()\n",
    "\n",
    "    # Degree centrality -- mean and stdev\n",
    "    dc = nx.degree_centrality(G)\n",
    "    degrees = []\n",
    "    for k,v in dc.items():\n",
    "        degrees.append(v)\n",
    "\n",
    "    print(\"DEGREE CENTRALITY\")\n",
    "    print(\"=================\")\n",
    "    print(\"The mean degree centrality is {}, with stdev {}\".format(mean(degrees), statistics.stdev(degrees)))\n",
    "    print(\"The maximum node is {}, with value {}\".format(max(dc, key=dc.get), max(dc.values())))\n",
    "    print(\"The minimum node is {}, with value {}\".format(min(dc, key=dc.get), min(dc.values())))\n",
    "    histogram(dc)\n",
    "    print()\n",
    "\n",
    "    # Connected components\n",
    "    cc = list(nx.connected_components(G))\n",
    "    print(\"CONNECTED COMPONENTS\")\n",
    "    print(\"====================\")\n",
    "    print(\"The graph has {} connected components\".format(len(cc)))\n",
    "    for i,c in enumerate(cc):\n",
    "        print(\"Connected component {} has {} nodes\".format(i,len(c)))\n",
    "    print()"
   ]
  },
  {
   "cell_type": "code",
   "execution_count": null,
   "id": "8fe5b9a9",
   "metadata": {},
   "outputs": [],
   "source": []
  },
  {
   "cell_type": "code",
   "execution_count": null,
   "id": "7097480a",
   "metadata": {},
   "outputs": [],
   "source": []
  }
 ],
 "metadata": {
  "kernelspec": {
   "display_name": "Python 3 (ipykernel)",
   "language": "python",
   "name": "python3"
  },
  "language_info": {
   "codemirror_mode": {
    "name": "ipython",
    "version": 3
   },
   "file_extension": ".py",
   "mimetype": "text/x-python",
   "name": "python",
   "nbconvert_exporter": "python",
   "pygments_lexer": "ipython3",
   "version": "3.8.8"
  },
  "varInspector": {
   "cols": {
    "lenName": 16,
    "lenType": 16,
    "lenVar": 40
   },
   "kernels_config": {
    "python": {
     "delete_cmd_postfix": "",
     "delete_cmd_prefix": "del ",
     "library": "var_list.py",
     "varRefreshCmd": "print(var_dic_list())"
    },
    "r": {
     "delete_cmd_postfix": ") ",
     "delete_cmd_prefix": "rm(",
     "library": "var_list.r",
     "varRefreshCmd": "cat(var_dic_list()) "
    }
   },
   "position": {
    "height": "144.844px",
    "left": "1211px",
    "right": "20px",
    "top": "120px",
    "width": "350px"
   },
   "types_to_exclude": [
    "module",
    "function",
    "builtin_function_or_method",
    "instance",
    "_Feature"
   ],
   "window_display": true
  }
 },
 "nbformat": 4,
 "nbformat_minor": 5
}
