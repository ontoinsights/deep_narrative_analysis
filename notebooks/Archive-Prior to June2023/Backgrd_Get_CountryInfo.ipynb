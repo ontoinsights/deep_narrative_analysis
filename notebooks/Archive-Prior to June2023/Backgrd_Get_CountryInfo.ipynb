{
 "cells": [
  {
   "cell_type": "markdown",
   "metadata": {},
   "source": [
    "# Create GeoNames Country Ontology File"
   ]
  },
  {
   "cell_type": "markdown",
   "metadata": {},
   "source": [
    "# Description\n",
    "\n",
    "Purpose is to create the geonames-countries.ttl file from the countryInfo.txt file, downloaded from http://download.geonames.org/export/dump/. It is assumed that the countryInfo.txt file is already downloaded from the GeoNames site.\n",
    "\n",
    "The steps to create the TTL file are to:\n",
    "  * Extract the following detail from countryInfo.txt:\n",
    "    * A country's ISO (2), ISO3 and GeoNames ID codes (at tabs 0, 1 and 16)\n",
    "    * \"Containing\" continent (at tab 8)\n",
    "    * Currency code and name (at tabs 10 and 11)\n",
    "  * Retrieve additional relationships for the countries by:\n",
    "    * Obtaining neighbors using the REST API, api.geonames.org/neighbours?geonameId=xxxx&username=uuuu\n",
    "  * Encode the extracted details using the Turtle syntax\n",
    "  \n",
    "After completion, the geonames-countries.ttl file is moved to the ../ontologies directory.\n",
    "\n",
    "In addition, a pickled dictionary of continent and country to geonameId mappings is created and stored (in the processing directory) as continent-country-geonames.pickle."
   ]
  },
  {
   "cell_type": "markdown",
   "metadata": {},
   "source": [
    "## Imports"
   ]
  },
  {
   "cell_type": "code",
   "execution_count": 1,
   "metadata": {
    "ExecuteTime": {
     "end_time": "2021-08-09T17:32:30.281181Z",
     "start_time": "2021-08-09T17:32:30.185381Z"
    }
   },
   "outputs": [],
   "source": [
    "import configparser as cp\n",
    "import pickle\n",
    "import requests\n",
    "import xml.etree.ElementTree as ET\n",
    "import time"
   ]
  },
  {
   "cell_type": "markdown",
   "metadata": {},
   "source": [
    "# Get configuration details from the dna.config "
   ]
  },
  {
   "cell_type": "code",
   "execution_count": 2,
   "metadata": {},
   "outputs": [],
   "source": [
    "# Get details from the dna.config file, stored in the same directory as the .ipynb file\n",
    "config = cp.RawConfigParser()\n",
    "config.read('dna.config')\n",
    "\n",
    "# Set geoname user id\n",
    "geonamesUser = config.get('GeoNamesConfig', 'geonamesUser')"
   ]
  },
  {
   "cell_type": "markdown",
   "metadata": {},
   "source": [
    "# Process the countryInfo.txt file"
   ]
  },
  {
   "cell_type": "code",
   "execution_count": 3,
   "metadata": {},
   "outputs": [],
   "source": [
    "# Extract the countryInfo data\n",
    "with open('countryInfo.txt', 'r') as handle:\n",
    "    countryInfoData = handle.read()"
   ]
  },
  {
   "cell_type": "code",
   "execution_count": 4,
   "metadata": {},
   "outputs": [],
   "source": [
    "# Define dictionary to hold the continent/country code mappings to their GeoName IDs\n",
    "continentCountryDict = {'AF': '6255146', 'AS': '6255147', 'EU': '6255148', 'NA': '6255149',\n",
    "           'OC': '6255151', 'SA': '6255150', 'AN': '6255152'}"
   ]
  },
  {
   "cell_type": "code",
   "execution_count": 5,
   "metadata": {},
   "outputs": [],
   "source": [
    "# Create file to hold the Turtle output\n",
    "with open('geonames_countries.ttl', 'w') as ttlFile:\n",
    "    # Write the prefix details\n",
    "    ttlFile.write('@prefix : <urn:ontoinsights:ontology:dna:> . \\n'\\\n",
    "                  '@prefix dna: <urn:ontoinsights:ontology:dna:> . \\n'\\\n",
    "                  '@prefix geo: <urn:ontoinsights:ontology:geonames:> . \\n'\\\n",
    "                  '@prefix owl: <http://www.w3.org/2002/07/owl#> . \\n'\\\n",
    "                  '@prefix rdf: <http://www.w3.org/1999/02/22-rdf-syntax-ns#> . \\n'\\\n",
    "                  '@prefix rdfs: <http://www.w3.org/2000/01/rdf-schema#> . \\n'\\\n",
    "                  '@prefix xsd: <http://www.w3.org/2001/XMLSchema#> . \\n\\n')\n",
    "    # Create a set of tuples to hold currency codes and their respective names\n",
    "    currencySet = set()\n",
    "    # Parse the data from the countryInfo.txt file\n",
    "    countryInfoLines = countryInfoData.split('\\n')\n",
    "    for infoLine in countryInfoLines:\n",
    "        if not infoLine.startswith('#'):          # Ignore comment lines\n",
    "            infoDetails = infoLine.split('\\t')    # Data is separated by tabs\n",
    "            if len(infoDetails) > 16:             # Ignore lines w/out sufficient tabs\n",
    "                # Create the Turtle for the country definitions, using the GeoNames ID as the entity URI\n",
    "                ttlLine1 = f'geo:{infoDetails[16]} a :Country ;'\n",
    "                ttlLine2 = f'  :iso_alpha2 \"{infoDetails[0]}\" ;'\n",
    "                ttlLine3 = f'  :iso_alpha3 \"{infoDetails[1]}\" .'\n",
    "                # Create blank line to potentially hold currency details\n",
    "                ttlLine4 = ''\n",
    "                # Write currency details if available\n",
    "                if infoDetails[10].strip():      \n",
    "                    ttlLine4 = f'geo:{infoDetails[16]} :has_currency geo:currency{infoDetails[10]} .'\n",
    "                    currencySet.add((infoDetails[10], infoDetails[11]))\n",
    "                # Indicate that the country is part of a continent\n",
    "                ttlLine5 = 'geo:{} :has_component geo:{} .\\n\\n'.\n",
    "                            format(continentCountryDict.get(infoDetails[8]),infoDetails[16])\n",
    "                # Capture the ISO code to GeoName ID mapping\n",
    "                continentCountryDict[infoDetails[0]] = infoDetails[16]\n",
    "                if ttlLine4:\n",
    "                    ttlFile.write('\\n'.join([ttlLine1, ttlLine2, ttlLine3, ttlLine4, ttlLine5]))\n",
    "                else:\n",
    "                    ttlFile.write('\\n'.join([ttlLine1, ttlLine2, ttlLine3, ttlLine5]))\n",
    "    # Also save the country currency details\n",
    "    for (currAbbrev,currName) in currencySet: \n",
    "        currLine1 = 'geo:currency{} a :Currency ;'.format(currAbbrev)\n",
    "        currLine2 = '  rdfs:label \"{}\"@en .\\n\\n'.format(currName)\n",
    "        ttlFile.write('\\n'.join([currLine1, currLine2]))"
   ]
  },
  {
   "cell_type": "code",
   "execution_count": 6,
   "metadata": {},
   "outputs": [],
   "source": [
    "# Pickle (save) the country/geoname mapping for reuse\n",
    "with open('continent-country-geonames.pickle', 'wb') as handle:\n",
    "    pickle.dump(continentCountryDict, handle)"
   ]
  },
  {
   "cell_type": "markdown",
   "metadata": {},
   "source": [
    "# Get neighbors details using the GeoNames API"
   ]
  },
  {
   "cell_type": "code",
   "execution_count": 7,
   "metadata": {},
   "outputs": [],
   "source": [
    "# Using the country geonameIds from the continentCountryDict, get their neighbors \n",
    "#   and store them as a set (of tuples) where the lesser GeoNameId is first\n",
    "neighborSet = set()\n",
    "response = requests.get(f'http://api.geonames.org/neighbours?geonameId={geoId}&username={geonamesUser}')\n",
    "    root = ET.fromstring(response.content)\n",
    "    neighbors = list()\n",
    "    for child in root:\n",
    "        if child.tag == 'geoname':\n",
    "            neighbors.append(child[4].text)\n",
    "    for neighbor in neighbors:\n",
    "        if int(geoId) < int(neighbor):\n",
    "            neighborSet.add((geoId, neighbor))\n",
    "        else:\n",
    "            neighborSet.add((neighbor, geoId))"
   ]
  },
  {
   "cell_type": "code",
   "execution_count": 8,
   "metadata": {},
   "outputs": [],
   "source": [
    "# Create the Turtle for the neighbors and add it to the previously created geonames_countries.ttl file\n",
    "with open('geonames-countries.ttl', 'a') as ttlFile:\n",
    "    for (n1,n2) in neighborSet:\n",
    "        ttlFile.write(f'geo:{n1} :meets geo:{n2} .\\n\\n')"
   ]
  },
  {
   "cell_type": "code",
   "execution_count": 17,
   "metadata": {
    "ExecuteTime": {
     "end_time": "2021-08-09T18:28:56.775851Z",
     "start_time": "2021-08-09T18:28:56.453003Z"
    }
   },
   "outputs": [
    {
     "name": "stdout",
     "output_type": "stream",
     "text": [
      "b'<?xml version=\"1.0\" encoding=\"UTF-8\" standalone=\"no\"?>\\n<geonames style=\"MEDIUM\">\\n    <totalResultsCount>708</totalResultsCount>\\n    <geoname>\\n        <toponymName>Znojmo</toponymName>\\n        <name>Znojmo</name>\\n        <lat>48.8555</lat>\\n        <lng>16.0488</lng>\\n        <geonameId>3061344</geonameId>\\n        <countryCode>CZ</countryCode>\\n        <countryName>Czechia</countryName>\\n        <fcl>P</fcl>\\n        <fcode>PPLA2</fcode>\\n    </geoname>\\n</geonames>\\n'\n",
      "Znojmo\n",
      "P\n",
      "PPLA2\n"
     ]
    }
   ],
   "source": [
    "response = requests.get(f'http://api.geonames.org/search?q=znojmo&maxRows=1&username=arwesterinen')\n",
    "root = ET.fromstring(response.content)\n",
    "print(response.content)\n",
    "country = root.findall('./geoname/name')[0]\n",
    "feature = root.findall('./geoname/fcl')[0]\n",
    "fcode = root.findall('./geoname/fcode')[0]\n",
    "print(country.text)\n",
    "print(feature.text)\n",
    "print(fcode.text)"
   ]
  },
  {
   "cell_type": "code",
   "execution_count": 13,
   "metadata": {
    "ExecuteTime": {
     "end_time": "2021-08-09T18:25:55.238233Z",
     "start_time": "2021-08-09T18:25:55.235122Z"
    }
   },
   "outputs": [
    {
     "name": "stdout",
     "output_type": "stream",
     "text": [
      "b'<?xml version=\"1.0\" encoding=\"UTF-8\" standalone=\"no\"?>\\n<geonames style=\"MEDIUM\">\\n    <totalResultsCount>1</totalResultsCount>\\n    <geoname>\\n        <toponymName>Union of Soviet Socialist Republics</toponymName>\\n        <name>Soviet Union</name>\\n        <lat>60</lat>\\n        <lng>98</lng>\\n        <geonameId>8354411</geonameId>\\n        <countryCode/>\\n        <countryName/>\\n        <fcl>A</fcl>\\n        <fcode>PCLH</fcode>\\n    </geoname>\\n</geonames>\\n'\n"
     ]
    }
   ],
   "source": [
    "print(response.content)"
   ]
  },
  {
   "cell_type": "code",
   "execution_count": 14,
   "metadata": {
    "ExecuteTime": {
     "end_time": "2021-08-09T18:26:49.541853Z",
     "start_time": "2021-08-09T18:26:49.538214Z"
    }
   },
   "outputs": [
    {
     "name": "stdout",
     "output_type": "stream",
     "text": [
      "Soviet Union\n",
      "A\n",
      "PCLH\n"
     ]
    }
   ],
   "source": [
    "\n",
    "country = root.findall('./geoname/name')[0]\n",
    "feature = root.findall('./geoname/fcl')[0]\n",
    "fcode = root.findall('./geoname/fcode')[0]\n",
    "print(country.text)\n",
    "print(feature.text)\n",
    "print(fcode.text)"
   ]
  },
  {
   "cell_type": "code",
   "execution_count": null,
   "metadata": {},
   "outputs": [],
   "source": []
  }
 ],
 "metadata": {
  "kernelspec": {
   "display_name": "Python 3",
   "language": "python",
   "name": "python3"
  },
  "language_info": {
   "codemirror_mode": {
    "name": "ipython",
    "version": 3
   },
   "file_extension": ".py",
   "mimetype": "text/x-python",
   "name": "python",
   "nbconvert_exporter": "python",
   "pygments_lexer": "ipython3",
   "version": "3.8.9"
  },
  "varInspector": {
   "cols": {
    "lenName": 16,
    "lenType": 16,
    "lenVar": 40
   },
   "kernels_config": {
    "python": {
     "delete_cmd_postfix": "",
     "delete_cmd_prefix": "del ",
     "library": "var_list.py",
     "varRefreshCmd": "print(var_dic_list())"
    },
    "r": {
     "delete_cmd_postfix": ") ",
     "delete_cmd_prefix": "rm(",
     "library": "var_list.r",
     "varRefreshCmd": "cat(var_dic_list()) "
    }
   },
   "types_to_exclude": [
    "module",
    "function",
    "builtin_function_or_method",
    "instance",
    "_Feature"
   ],
   "window_display": true
  }
 },
 "nbformat": 4,
 "nbformat_minor": 4
}
