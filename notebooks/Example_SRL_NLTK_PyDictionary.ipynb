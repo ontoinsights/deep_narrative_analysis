{
 "cells": [
  {
   "cell_type": "markdown",
   "id": "17bd74dc",
   "metadata": {},
   "source": [
    "# Exploration of spaCy with allennlp SRL, NLTK WordNet and PyDictionary"
   ]
  },
  {
   "cell_type": "code",
   "execution_count": 1,
   "id": "cc0b292c",
   "metadata": {
    "ExecuteTime": {
     "end_time": "2021-08-03T21:15:21.420107Z",
     "start_time": "2021-08-03T21:15:16.258379Z"
    },
    "tags": []
   },
   "outputs": [],
   "source": [
    "# Imports and set up\n",
    "from allennlp.predictors.predictor import Predictor\n",
    "\n",
    "import spacy\n",
    "from spacy.tokens import Doc, Span, Token\n",
    "from spacy.language import Language\n",
    "\n",
    "nlp = spacy.load('en_core_web_trf')"
   ]
  },
  {
   "cell_type": "code",
   "execution_count": 2,
   "id": "3fbe155d",
   "metadata": {
    "ExecuteTime": {
     "end_time": "2021-08-03T21:15:21.452033Z",
     "start_time": "2021-08-03T21:15:21.447166Z"
    }
   },
   "outputs": [],
   "source": [
    "@Language.factory(\"srl\", default_config={\n",
    "    \"model_path\": \"../dna/resources/structured-prediction-srl-bert.2020.12.15.tar.gz\"})\n",
    "def create_srl_component(nlp: Language, name: str, model_path: str):\n",
    "    return SRLComponent(nlp, model_path)\n",
    "\n",
    "class SRLComponent:\n",
    "    def __init__(self, nlp: Language, model_path: str):\n",
    "        if not Doc.has_extension(\"srl\"):\n",
    "            Doc.set_extension(\"srl\", default=None)\n",
    "        self.predictor = Predictor.from_path(model_path)\n",
    "\n",
    "    def __call__(self, doc: Doc):\n",
    "        predictions = self.predictor.predict(sentence=doc.text)\n",
    "        doc._.srl = predictions\n",
    "        return doc"
   ]
  },
  {
   "cell_type": "code",
   "execution_count": 4,
   "id": "458d6f71",
   "metadata": {
    "ExecuteTime": {
     "end_time": "2021-08-03T21:15:45.958748Z",
     "start_time": "2021-08-03T21:15:34.393852Z"
    }
   },
   "outputs": [
    {
     "name": "stderr",
     "output_type": "stream",
     "text": [
      "2021-08-03 17:15:36,924 - INFO - allennlp.common.plugins - Plugin allennlp_models available\n",
      "2021-08-03 17:15:36,930 - INFO - allennlp.models.archival - loading archive file ../dna/resources/structured-prediction-srl-bert.2020.12.15.tar.gz\n",
      "2021-08-03 17:15:36,930 - INFO - allennlp.models.archival - extracting archive file ../dna/resources/structured-prediction-srl-bert.2020.12.15.tar.gz to temp dir /var/folders/c_/r637mr6d7y99t490f5yw_trm0000gn/T/tmp8gij92k4\n",
      "2021-08-03 17:15:39,870 - INFO - allennlp.common.params - dataset_reader.type = srl\n",
      "2021-08-03 17:15:39,871 - INFO - allennlp.common.params - dataset_reader.max_instances = None\n",
      "2021-08-03 17:15:39,872 - INFO - allennlp.common.params - dataset_reader.manual_distributed_sharding = False\n",
      "2021-08-03 17:15:39,872 - INFO - allennlp.common.params - dataset_reader.manual_multiprocess_sharding = False\n",
      "2021-08-03 17:15:39,873 - INFO - allennlp.common.params - dataset_reader.token_indexers = None\n",
      "2021-08-03 17:15:39,874 - INFO - allennlp.common.params - dataset_reader.domain_identifier = None\n",
      "2021-08-03 17:15:39,874 - INFO - allennlp.common.params - dataset_reader.bert_model_name = bert-base-uncased\n",
      "2021-08-03 17:15:42,408 - INFO - allennlp.common.params - dataset_reader.type = srl\n",
      "2021-08-03 17:15:42,409 - INFO - allennlp.common.params - dataset_reader.max_instances = None\n",
      "2021-08-03 17:15:42,409 - INFO - allennlp.common.params - dataset_reader.manual_distributed_sharding = False\n",
      "2021-08-03 17:15:42,410 - INFO - allennlp.common.params - dataset_reader.manual_multiprocess_sharding = False\n",
      "2021-08-03 17:15:42,411 - INFO - allennlp.common.params - dataset_reader.token_indexers = None\n",
      "2021-08-03 17:15:42,412 - INFO - allennlp.common.params - dataset_reader.domain_identifier = None\n",
      "2021-08-03 17:15:42,412 - INFO - allennlp.common.params - dataset_reader.bert_model_name = bert-base-uncased\n",
      "2021-08-03 17:15:43,072 - INFO - allennlp.common.params - type = from_instances\n",
      "2021-08-03 17:15:43,073 - INFO - allennlp.data.vocabulary - Loading token dictionary from /var/folders/c_/r637mr6d7y99t490f5yw_trm0000gn/T/tmp8gij92k4/vocabulary.\n",
      "2021-08-03 17:15:43,076 - INFO - allennlp.common.params - model.type = srl_bert\n",
      "2021-08-03 17:15:43,076 - INFO - allennlp.common.params - model.regularizer = None\n",
      "2021-08-03 17:15:43,077 - INFO - allennlp.common.params - model.bert_model = bert-base-uncased\n",
      "2021-08-03 17:15:43,078 - INFO - allennlp.common.params - model.embedding_dropout = 0.1\n",
      "2021-08-03 17:15:43,078 - INFO - allennlp.common.params - model.initializer = <allennlp.nn.initializers.InitializerApplicator object at 0x160924670>\n",
      "2021-08-03 17:15:43,079 - INFO - allennlp.common.params - model.label_smoothing = None\n",
      "2021-08-03 17:15:43,079 - INFO - allennlp.common.params - model.ignore_span_metric = False\n",
      "2021-08-03 17:15:43,080 - INFO - allennlp.common.params - model.srl_eval_path = /Users/andreaw/.pyenv/versions/3.8.9/lib/python3.8/site-packages/allennlp_models/structured_prediction/tools/srl-eval.pl\n",
      "2021-08-03 17:15:44,898 - INFO - allennlp.nn.initializers - Initializing parameters\n",
      "2021-08-03 17:15:44,900 - INFO - allennlp.nn.initializers - Done initializing parameters; the following parameters are using their default initialization from their code\n",
      "2021-08-03 17:15:44,900 - INFO - allennlp.nn.initializers -    bert_model.embeddings.LayerNorm.bias\n",
      "2021-08-03 17:15:44,901 - INFO - allennlp.nn.initializers -    bert_model.embeddings.LayerNorm.weight\n",
      "2021-08-03 17:15:44,901 - INFO - allennlp.nn.initializers -    bert_model.embeddings.position_embeddings.weight\n",
      "2021-08-03 17:15:44,902 - INFO - allennlp.nn.initializers -    bert_model.embeddings.token_type_embeddings.weight\n",
      "2021-08-03 17:15:44,902 - INFO - allennlp.nn.initializers -    bert_model.embeddings.word_embeddings.weight\n",
      "2021-08-03 17:15:44,903 - INFO - allennlp.nn.initializers -    bert_model.encoder.layer.0.attention.output.LayerNorm.bias\n",
      "2021-08-03 17:15:44,904 - INFO - allennlp.nn.initializers -    bert_model.encoder.layer.0.attention.output.LayerNorm.weight\n",
      "2021-08-03 17:15:44,904 - INFO - allennlp.nn.initializers -    bert_model.encoder.layer.0.attention.output.dense.bias\n",
      "2021-08-03 17:15:44,905 - INFO - allennlp.nn.initializers -    bert_model.encoder.layer.0.attention.output.dense.weight\n",
      "2021-08-03 17:15:44,905 - INFO - allennlp.nn.initializers -    bert_model.encoder.layer.0.attention.self.key.bias\n",
      "2021-08-03 17:15:44,906 - INFO - allennlp.nn.initializers -    bert_model.encoder.layer.0.attention.self.key.weight\n",
      "2021-08-03 17:15:44,906 - INFO - allennlp.nn.initializers -    bert_model.encoder.layer.0.attention.self.query.bias\n",
      "2021-08-03 17:15:44,907 - INFO - allennlp.nn.initializers -    bert_model.encoder.layer.0.attention.self.query.weight\n",
      "2021-08-03 17:15:44,907 - INFO - allennlp.nn.initializers -    bert_model.encoder.layer.0.attention.self.value.bias\n",
      "2021-08-03 17:15:44,908 - INFO - allennlp.nn.initializers -    bert_model.encoder.layer.0.attention.self.value.weight\n",
      "2021-08-03 17:15:44,908 - INFO - allennlp.nn.initializers -    bert_model.encoder.layer.0.intermediate.dense.bias\n",
      "2021-08-03 17:15:44,909 - INFO - allennlp.nn.initializers -    bert_model.encoder.layer.0.intermediate.dense.weight\n",
      "2021-08-03 17:15:44,909 - INFO - allennlp.nn.initializers -    bert_model.encoder.layer.0.output.LayerNorm.bias\n",
      "2021-08-03 17:15:44,910 - INFO - allennlp.nn.initializers -    bert_model.encoder.layer.0.output.LayerNorm.weight\n",
      "2021-08-03 17:15:44,910 - INFO - allennlp.nn.initializers -    bert_model.encoder.layer.0.output.dense.bias\n",
      "2021-08-03 17:15:44,911 - INFO - allennlp.nn.initializers -    bert_model.encoder.layer.0.output.dense.weight\n",
      "2021-08-03 17:15:44,912 - INFO - allennlp.nn.initializers -    bert_model.encoder.layer.1.attention.output.LayerNorm.bias\n",
      "2021-08-03 17:15:44,912 - INFO - allennlp.nn.initializers -    bert_model.encoder.layer.1.attention.output.LayerNorm.weight\n",
      "2021-08-03 17:15:44,913 - INFO - allennlp.nn.initializers -    bert_model.encoder.layer.1.attention.output.dense.bias\n",
      "2021-08-03 17:15:44,913 - INFO - allennlp.nn.initializers -    bert_model.encoder.layer.1.attention.output.dense.weight\n",
      "2021-08-03 17:15:44,914 - INFO - allennlp.nn.initializers -    bert_model.encoder.layer.1.attention.self.key.bias\n",
      "2021-08-03 17:15:44,914 - INFO - allennlp.nn.initializers -    bert_model.encoder.layer.1.attention.self.key.weight\n",
      "2021-08-03 17:15:44,915 - INFO - allennlp.nn.initializers -    bert_model.encoder.layer.1.attention.self.query.bias\n",
      "2021-08-03 17:15:44,915 - INFO - allennlp.nn.initializers -    bert_model.encoder.layer.1.attention.self.query.weight\n",
      "2021-08-03 17:15:44,916 - INFO - allennlp.nn.initializers -    bert_model.encoder.layer.1.attention.self.value.bias\n",
      "2021-08-03 17:15:44,916 - INFO - allennlp.nn.initializers -    bert_model.encoder.layer.1.attention.self.value.weight\n",
      "2021-08-03 17:15:44,916 - INFO - allennlp.nn.initializers -    bert_model.encoder.layer.1.intermediate.dense.bias\n",
      "2021-08-03 17:15:44,917 - INFO - allennlp.nn.initializers -    bert_model.encoder.layer.1.intermediate.dense.weight\n",
      "2021-08-03 17:15:44,917 - INFO - allennlp.nn.initializers -    bert_model.encoder.layer.1.output.LayerNorm.bias\n",
      "2021-08-03 17:15:44,918 - INFO - allennlp.nn.initializers -    bert_model.encoder.layer.1.output.LayerNorm.weight\n",
      "2021-08-03 17:15:44,918 - INFO - allennlp.nn.initializers -    bert_model.encoder.layer.1.output.dense.bias\n",
      "2021-08-03 17:15:44,919 - INFO - allennlp.nn.initializers -    bert_model.encoder.layer.1.output.dense.weight\n",
      "2021-08-03 17:15:44,919 - INFO - allennlp.nn.initializers -    bert_model.encoder.layer.10.attention.output.LayerNorm.bias\n",
      "2021-08-03 17:15:44,920 - INFO - allennlp.nn.initializers -    bert_model.encoder.layer.10.attention.output.LayerNorm.weight\n",
      "2021-08-03 17:15:44,921 - INFO - allennlp.nn.initializers -    bert_model.encoder.layer.10.attention.output.dense.bias\n",
      "2021-08-03 17:15:44,921 - INFO - allennlp.nn.initializers -    bert_model.encoder.layer.10.attention.output.dense.weight\n",
      "2021-08-03 17:15:44,922 - INFO - allennlp.nn.initializers -    bert_model.encoder.layer.10.attention.self.key.bias\n",
      "2021-08-03 17:15:44,922 - INFO - allennlp.nn.initializers -    bert_model.encoder.layer.10.attention.self.key.weight\n"
     ]
    },
    {
     "name": "stderr",
     "output_type": "stream",
     "text": [
      "2021-08-03 17:15:44,923 - INFO - allennlp.nn.initializers -    bert_model.encoder.layer.10.attention.self.query.bias\n",
      "2021-08-03 17:15:44,923 - INFO - allennlp.nn.initializers -    bert_model.encoder.layer.10.attention.self.query.weight\n",
      "2021-08-03 17:15:44,924 - INFO - allennlp.nn.initializers -    bert_model.encoder.layer.10.attention.self.value.bias\n",
      "2021-08-03 17:15:44,924 - INFO - allennlp.nn.initializers -    bert_model.encoder.layer.10.attention.self.value.weight\n",
      "2021-08-03 17:15:44,925 - INFO - allennlp.nn.initializers -    bert_model.encoder.layer.10.intermediate.dense.bias\n",
      "2021-08-03 17:15:44,925 - INFO - allennlp.nn.initializers -    bert_model.encoder.layer.10.intermediate.dense.weight\n",
      "2021-08-03 17:15:44,926 - INFO - allennlp.nn.initializers -    bert_model.encoder.layer.10.output.LayerNorm.bias\n",
      "2021-08-03 17:15:44,926 - INFO - allennlp.nn.initializers -    bert_model.encoder.layer.10.output.LayerNorm.weight\n",
      "2021-08-03 17:15:44,927 - INFO - allennlp.nn.initializers -    bert_model.encoder.layer.10.output.dense.bias\n",
      "2021-08-03 17:15:44,927 - INFO - allennlp.nn.initializers -    bert_model.encoder.layer.10.output.dense.weight\n",
      "2021-08-03 17:15:44,928 - INFO - allennlp.nn.initializers -    bert_model.encoder.layer.11.attention.output.LayerNorm.bias\n",
      "2021-08-03 17:15:44,929 - INFO - allennlp.nn.initializers -    bert_model.encoder.layer.11.attention.output.LayerNorm.weight\n",
      "2021-08-03 17:15:44,929 - INFO - allennlp.nn.initializers -    bert_model.encoder.layer.11.attention.output.dense.bias\n",
      "2021-08-03 17:15:44,930 - INFO - allennlp.nn.initializers -    bert_model.encoder.layer.11.attention.output.dense.weight\n",
      "2021-08-03 17:15:44,930 - INFO - allennlp.nn.initializers -    bert_model.encoder.layer.11.attention.self.key.bias\n",
      "2021-08-03 17:15:44,931 - INFO - allennlp.nn.initializers -    bert_model.encoder.layer.11.attention.self.key.weight\n",
      "2021-08-03 17:15:44,931 - INFO - allennlp.nn.initializers -    bert_model.encoder.layer.11.attention.self.query.bias\n",
      "2021-08-03 17:15:44,932 - INFO - allennlp.nn.initializers -    bert_model.encoder.layer.11.attention.self.query.weight\n",
      "2021-08-03 17:15:44,932 - INFO - allennlp.nn.initializers -    bert_model.encoder.layer.11.attention.self.value.bias\n",
      "2021-08-03 17:15:44,933 - INFO - allennlp.nn.initializers -    bert_model.encoder.layer.11.attention.self.value.weight\n",
      "2021-08-03 17:15:44,933 - INFO - allennlp.nn.initializers -    bert_model.encoder.layer.11.intermediate.dense.bias\n",
      "2021-08-03 17:15:44,934 - INFO - allennlp.nn.initializers -    bert_model.encoder.layer.11.intermediate.dense.weight\n",
      "2021-08-03 17:15:44,934 - INFO - allennlp.nn.initializers -    bert_model.encoder.layer.11.output.LayerNorm.bias\n",
      "2021-08-03 17:15:44,935 - INFO - allennlp.nn.initializers -    bert_model.encoder.layer.11.output.LayerNorm.weight\n",
      "2021-08-03 17:15:44,935 - INFO - allennlp.nn.initializers -    bert_model.encoder.layer.11.output.dense.bias\n",
      "2021-08-03 17:15:44,936 - INFO - allennlp.nn.initializers -    bert_model.encoder.layer.11.output.dense.weight\n",
      "2021-08-03 17:15:44,936 - INFO - allennlp.nn.initializers -    bert_model.encoder.layer.2.attention.output.LayerNorm.bias\n",
      "2021-08-03 17:15:44,937 - INFO - allennlp.nn.initializers -    bert_model.encoder.layer.2.attention.output.LayerNorm.weight\n",
      "2021-08-03 17:15:44,938 - INFO - allennlp.nn.initializers -    bert_model.encoder.layer.2.attention.output.dense.bias\n",
      "2021-08-03 17:15:44,938 - INFO - allennlp.nn.initializers -    bert_model.encoder.layer.2.attention.output.dense.weight\n",
      "2021-08-03 17:15:44,939 - INFO - allennlp.nn.initializers -    bert_model.encoder.layer.2.attention.self.key.bias\n",
      "2021-08-03 17:15:44,939 - INFO - allennlp.nn.initializers -    bert_model.encoder.layer.2.attention.self.key.weight\n",
      "2021-08-03 17:15:44,940 - INFO - allennlp.nn.initializers -    bert_model.encoder.layer.2.attention.self.query.bias\n",
      "2021-08-03 17:15:44,940 - INFO - allennlp.nn.initializers -    bert_model.encoder.layer.2.attention.self.query.weight\n",
      "2021-08-03 17:15:44,941 - INFO - allennlp.nn.initializers -    bert_model.encoder.layer.2.attention.self.value.bias\n",
      "2021-08-03 17:15:44,941 - INFO - allennlp.nn.initializers -    bert_model.encoder.layer.2.attention.self.value.weight\n",
      "2021-08-03 17:15:44,942 - INFO - allennlp.nn.initializers -    bert_model.encoder.layer.2.intermediate.dense.bias\n",
      "2021-08-03 17:15:44,942 - INFO - allennlp.nn.initializers -    bert_model.encoder.layer.2.intermediate.dense.weight\n",
      "2021-08-03 17:15:44,943 - INFO - allennlp.nn.initializers -    bert_model.encoder.layer.2.output.LayerNorm.bias\n",
      "2021-08-03 17:15:44,944 - INFO - allennlp.nn.initializers -    bert_model.encoder.layer.2.output.LayerNorm.weight\n",
      "2021-08-03 17:15:44,944 - INFO - allennlp.nn.initializers -    bert_model.encoder.layer.2.output.dense.bias\n",
      "2021-08-03 17:15:44,945 - INFO - allennlp.nn.initializers -    bert_model.encoder.layer.2.output.dense.weight\n",
      "2021-08-03 17:15:44,945 - INFO - allennlp.nn.initializers -    bert_model.encoder.layer.3.attention.output.LayerNorm.bias\n",
      "2021-08-03 17:15:44,945 - INFO - allennlp.nn.initializers -    bert_model.encoder.layer.3.attention.output.LayerNorm.weight\n",
      "2021-08-03 17:15:44,946 - INFO - allennlp.nn.initializers -    bert_model.encoder.layer.3.attention.output.dense.bias\n",
      "2021-08-03 17:15:44,947 - INFO - allennlp.nn.initializers -    bert_model.encoder.layer.3.attention.output.dense.weight\n",
      "2021-08-03 17:15:44,947 - INFO - allennlp.nn.initializers -    bert_model.encoder.layer.3.attention.self.key.bias\n",
      "2021-08-03 17:15:44,948 - INFO - allennlp.nn.initializers -    bert_model.encoder.layer.3.attention.self.key.weight\n",
      "2021-08-03 17:15:44,948 - INFO - allennlp.nn.initializers -    bert_model.encoder.layer.3.attention.self.query.bias\n",
      "2021-08-03 17:15:44,949 - INFO - allennlp.nn.initializers -    bert_model.encoder.layer.3.attention.self.query.weight\n",
      "2021-08-03 17:15:44,950 - INFO - allennlp.nn.initializers -    bert_model.encoder.layer.3.attention.self.value.bias\n",
      "2021-08-03 17:15:44,950 - INFO - allennlp.nn.initializers -    bert_model.encoder.layer.3.attention.self.value.weight\n",
      "2021-08-03 17:15:44,951 - INFO - allennlp.nn.initializers -    bert_model.encoder.layer.3.intermediate.dense.bias\n",
      "2021-08-03 17:15:44,951 - INFO - allennlp.nn.initializers -    bert_model.encoder.layer.3.intermediate.dense.weight\n",
      "2021-08-03 17:15:44,951 - INFO - allennlp.nn.initializers -    bert_model.encoder.layer.3.output.LayerNorm.bias\n",
      "2021-08-03 17:15:44,952 - INFO - allennlp.nn.initializers -    bert_model.encoder.layer.3.output.LayerNorm.weight\n",
      "2021-08-03 17:15:44,952 - INFO - allennlp.nn.initializers -    bert_model.encoder.layer.3.output.dense.bias\n",
      "2021-08-03 17:15:44,952 - INFO - allennlp.nn.initializers -    bert_model.encoder.layer.3.output.dense.weight\n",
      "2021-08-03 17:15:44,953 - INFO - allennlp.nn.initializers -    bert_model.encoder.layer.4.attention.output.LayerNorm.bias\n",
      "2021-08-03 17:15:44,953 - INFO - allennlp.nn.initializers -    bert_model.encoder.layer.4.attention.output.LayerNorm.weight\n",
      "2021-08-03 17:15:44,954 - INFO - allennlp.nn.initializers -    bert_model.encoder.layer.4.attention.output.dense.bias\n",
      "2021-08-03 17:15:44,954 - INFO - allennlp.nn.initializers -    bert_model.encoder.layer.4.attention.output.dense.weight\n",
      "2021-08-03 17:15:44,955 - INFO - allennlp.nn.initializers -    bert_model.encoder.layer.4.attention.self.key.bias\n",
      "2021-08-03 17:15:44,955 - INFO - allennlp.nn.initializers -    bert_model.encoder.layer.4.attention.self.key.weight\n",
      "2021-08-03 17:15:44,956 - INFO - allennlp.nn.initializers -    bert_model.encoder.layer.4.attention.self.query.bias\n",
      "2021-08-03 17:15:44,956 - INFO - allennlp.nn.initializers -    bert_model.encoder.layer.4.attention.self.query.weight\n",
      "2021-08-03 17:15:44,956 - INFO - allennlp.nn.initializers -    bert_model.encoder.layer.4.attention.self.value.bias\n",
      "2021-08-03 17:15:44,957 - INFO - allennlp.nn.initializers -    bert_model.encoder.layer.4.attention.self.value.weight\n",
      "2021-08-03 17:15:44,957 - INFO - allennlp.nn.initializers -    bert_model.encoder.layer.4.intermediate.dense.bias\n",
      "2021-08-03 17:15:44,958 - INFO - allennlp.nn.initializers -    bert_model.encoder.layer.4.intermediate.dense.weight\n",
      "2021-08-03 17:15:44,958 - INFO - allennlp.nn.initializers -    bert_model.encoder.layer.4.output.LayerNorm.bias\n"
     ]
    },
    {
     "name": "stderr",
     "output_type": "stream",
     "text": [
      "2021-08-03 17:15:44,959 - INFO - allennlp.nn.initializers -    bert_model.encoder.layer.4.output.LayerNorm.weight\n",
      "2021-08-03 17:15:44,959 - INFO - allennlp.nn.initializers -    bert_model.encoder.layer.4.output.dense.bias\n",
      "2021-08-03 17:15:44,960 - INFO - allennlp.nn.initializers -    bert_model.encoder.layer.4.output.dense.weight\n",
      "2021-08-03 17:15:44,960 - INFO - allennlp.nn.initializers -    bert_model.encoder.layer.5.attention.output.LayerNorm.bias\n",
      "2021-08-03 17:15:44,961 - INFO - allennlp.nn.initializers -    bert_model.encoder.layer.5.attention.output.LayerNorm.weight\n",
      "2021-08-03 17:15:44,961 - INFO - allennlp.nn.initializers -    bert_model.encoder.layer.5.attention.output.dense.bias\n",
      "2021-08-03 17:15:44,961 - INFO - allennlp.nn.initializers -    bert_model.encoder.layer.5.attention.output.dense.weight\n",
      "2021-08-03 17:15:44,962 - INFO - allennlp.nn.initializers -    bert_model.encoder.layer.5.attention.self.key.bias\n",
      "2021-08-03 17:15:44,962 - INFO - allennlp.nn.initializers -    bert_model.encoder.layer.5.attention.self.key.weight\n",
      "2021-08-03 17:15:44,963 - INFO - allennlp.nn.initializers -    bert_model.encoder.layer.5.attention.self.query.bias\n",
      "2021-08-03 17:15:44,964 - INFO - allennlp.nn.initializers -    bert_model.encoder.layer.5.attention.self.query.weight\n",
      "2021-08-03 17:15:44,964 - INFO - allennlp.nn.initializers -    bert_model.encoder.layer.5.attention.self.value.bias\n",
      "2021-08-03 17:15:44,965 - INFO - allennlp.nn.initializers -    bert_model.encoder.layer.5.attention.self.value.weight\n",
      "2021-08-03 17:15:44,965 - INFO - allennlp.nn.initializers -    bert_model.encoder.layer.5.intermediate.dense.bias\n",
      "2021-08-03 17:15:44,965 - INFO - allennlp.nn.initializers -    bert_model.encoder.layer.5.intermediate.dense.weight\n",
      "2021-08-03 17:15:44,966 - INFO - allennlp.nn.initializers -    bert_model.encoder.layer.5.output.LayerNorm.bias\n",
      "2021-08-03 17:15:44,966 - INFO - allennlp.nn.initializers -    bert_model.encoder.layer.5.output.LayerNorm.weight\n",
      "2021-08-03 17:15:44,966 - INFO - allennlp.nn.initializers -    bert_model.encoder.layer.5.output.dense.bias\n",
      "2021-08-03 17:15:44,967 - INFO - allennlp.nn.initializers -    bert_model.encoder.layer.5.output.dense.weight\n",
      "2021-08-03 17:15:44,967 - INFO - allennlp.nn.initializers -    bert_model.encoder.layer.6.attention.output.LayerNorm.bias\n",
      "2021-08-03 17:15:44,968 - INFO - allennlp.nn.initializers -    bert_model.encoder.layer.6.attention.output.LayerNorm.weight\n",
      "2021-08-03 17:15:44,968 - INFO - allennlp.nn.initializers -    bert_model.encoder.layer.6.attention.output.dense.bias\n",
      "2021-08-03 17:15:44,968 - INFO - allennlp.nn.initializers -    bert_model.encoder.layer.6.attention.output.dense.weight\n",
      "2021-08-03 17:15:44,969 - INFO - allennlp.nn.initializers -    bert_model.encoder.layer.6.attention.self.key.bias\n",
      "2021-08-03 17:15:44,969 - INFO - allennlp.nn.initializers -    bert_model.encoder.layer.6.attention.self.key.weight\n",
      "2021-08-03 17:15:44,970 - INFO - allennlp.nn.initializers -    bert_model.encoder.layer.6.attention.self.query.bias\n",
      "2021-08-03 17:15:44,970 - INFO - allennlp.nn.initializers -    bert_model.encoder.layer.6.attention.self.query.weight\n",
      "2021-08-03 17:15:44,970 - INFO - allennlp.nn.initializers -    bert_model.encoder.layer.6.attention.self.value.bias\n",
      "2021-08-03 17:15:44,971 - INFO - allennlp.nn.initializers -    bert_model.encoder.layer.6.attention.self.value.weight\n",
      "2021-08-03 17:15:44,971 - INFO - allennlp.nn.initializers -    bert_model.encoder.layer.6.intermediate.dense.bias\n",
      "2021-08-03 17:15:44,972 - INFO - allennlp.nn.initializers -    bert_model.encoder.layer.6.intermediate.dense.weight\n",
      "2021-08-03 17:15:44,972 - INFO - allennlp.nn.initializers -    bert_model.encoder.layer.6.output.LayerNorm.bias\n",
      "2021-08-03 17:15:44,972 - INFO - allennlp.nn.initializers -    bert_model.encoder.layer.6.output.LayerNorm.weight\n",
      "2021-08-03 17:15:44,973 - INFO - allennlp.nn.initializers -    bert_model.encoder.layer.6.output.dense.bias\n",
      "2021-08-03 17:15:44,973 - INFO - allennlp.nn.initializers -    bert_model.encoder.layer.6.output.dense.weight\n",
      "2021-08-03 17:15:44,974 - INFO - allennlp.nn.initializers -    bert_model.encoder.layer.7.attention.output.LayerNorm.bias\n",
      "2021-08-03 17:15:44,975 - INFO - allennlp.nn.initializers -    bert_model.encoder.layer.7.attention.output.LayerNorm.weight\n",
      "2021-08-03 17:15:44,975 - INFO - allennlp.nn.initializers -    bert_model.encoder.layer.7.attention.output.dense.bias\n",
      "2021-08-03 17:15:44,975 - INFO - allennlp.nn.initializers -    bert_model.encoder.layer.7.attention.output.dense.weight\n",
      "2021-08-03 17:15:44,976 - INFO - allennlp.nn.initializers -    bert_model.encoder.layer.7.attention.self.key.bias\n",
      "2021-08-03 17:15:44,977 - INFO - allennlp.nn.initializers -    bert_model.encoder.layer.7.attention.self.key.weight\n",
      "2021-08-03 17:15:44,977 - INFO - allennlp.nn.initializers -    bert_model.encoder.layer.7.attention.self.query.bias\n",
      "2021-08-03 17:15:44,977 - INFO - allennlp.nn.initializers -    bert_model.encoder.layer.7.attention.self.query.weight\n",
      "2021-08-03 17:15:44,978 - INFO - allennlp.nn.initializers -    bert_model.encoder.layer.7.attention.self.value.bias\n",
      "2021-08-03 17:15:44,978 - INFO - allennlp.nn.initializers -    bert_model.encoder.layer.7.attention.self.value.weight\n",
      "2021-08-03 17:15:44,979 - INFO - allennlp.nn.initializers -    bert_model.encoder.layer.7.intermediate.dense.bias\n",
      "2021-08-03 17:15:44,979 - INFO - allennlp.nn.initializers -    bert_model.encoder.layer.7.intermediate.dense.weight\n",
      "2021-08-03 17:15:44,980 - INFO - allennlp.nn.initializers -    bert_model.encoder.layer.7.output.LayerNorm.bias\n",
      "2021-08-03 17:15:44,980 - INFO - allennlp.nn.initializers -    bert_model.encoder.layer.7.output.LayerNorm.weight\n",
      "2021-08-03 17:15:44,981 - INFO - allennlp.nn.initializers -    bert_model.encoder.layer.7.output.dense.bias\n",
      "2021-08-03 17:15:44,981 - INFO - allennlp.nn.initializers -    bert_model.encoder.layer.7.output.dense.weight\n",
      "2021-08-03 17:15:44,981 - INFO - allennlp.nn.initializers -    bert_model.encoder.layer.8.attention.output.LayerNorm.bias\n",
      "2021-08-03 17:15:44,982 - INFO - allennlp.nn.initializers -    bert_model.encoder.layer.8.attention.output.LayerNorm.weight\n",
      "2021-08-03 17:15:44,982 - INFO - allennlp.nn.initializers -    bert_model.encoder.layer.8.attention.output.dense.bias\n",
      "2021-08-03 17:15:44,983 - INFO - allennlp.nn.initializers -    bert_model.encoder.layer.8.attention.output.dense.weight\n",
      "2021-08-03 17:15:44,983 - INFO - allennlp.nn.initializers -    bert_model.encoder.layer.8.attention.self.key.bias\n",
      "2021-08-03 17:15:44,983 - INFO - allennlp.nn.initializers -    bert_model.encoder.layer.8.attention.self.key.weight\n",
      "2021-08-03 17:15:44,984 - INFO - allennlp.nn.initializers -    bert_model.encoder.layer.8.attention.self.query.bias\n",
      "2021-08-03 17:15:44,984 - INFO - allennlp.nn.initializers -    bert_model.encoder.layer.8.attention.self.query.weight\n",
      "2021-08-03 17:15:44,985 - INFO - allennlp.nn.initializers -    bert_model.encoder.layer.8.attention.self.value.bias\n",
      "2021-08-03 17:15:44,985 - INFO - allennlp.nn.initializers -    bert_model.encoder.layer.8.attention.self.value.weight\n",
      "2021-08-03 17:15:44,985 - INFO - allennlp.nn.initializers -    bert_model.encoder.layer.8.intermediate.dense.bias\n",
      "2021-08-03 17:15:44,986 - INFO - allennlp.nn.initializers -    bert_model.encoder.layer.8.intermediate.dense.weight\n",
      "2021-08-03 17:15:44,986 - INFO - allennlp.nn.initializers -    bert_model.encoder.layer.8.output.LayerNorm.bias\n",
      "2021-08-03 17:15:44,986 - INFO - allennlp.nn.initializers -    bert_model.encoder.layer.8.output.LayerNorm.weight\n",
      "2021-08-03 17:15:44,987 - INFO - allennlp.nn.initializers -    bert_model.encoder.layer.8.output.dense.bias\n",
      "2021-08-03 17:15:44,987 - INFO - allennlp.nn.initializers -    bert_model.encoder.layer.8.output.dense.weight\n",
      "2021-08-03 17:15:44,987 - INFO - allennlp.nn.initializers -    bert_model.encoder.layer.9.attention.output.LayerNorm.bias\n",
      "2021-08-03 17:15:44,988 - INFO - allennlp.nn.initializers -    bert_model.encoder.layer.9.attention.output.LayerNorm.weight\n",
      "2021-08-03 17:15:44,988 - INFO - allennlp.nn.initializers -    bert_model.encoder.layer.9.attention.output.dense.bias\n",
      "2021-08-03 17:15:44,988 - INFO - allennlp.nn.initializers -    bert_model.encoder.layer.9.attention.output.dense.weight\n"
     ]
    },
    {
     "name": "stderr",
     "output_type": "stream",
     "text": [
      "2021-08-03 17:15:44,989 - INFO - allennlp.nn.initializers -    bert_model.encoder.layer.9.attention.self.key.bias\n",
      "2021-08-03 17:15:44,989 - INFO - allennlp.nn.initializers -    bert_model.encoder.layer.9.attention.self.key.weight\n",
      "2021-08-03 17:15:44,990 - INFO - allennlp.nn.initializers -    bert_model.encoder.layer.9.attention.self.query.bias\n",
      "2021-08-03 17:15:44,990 - INFO - allennlp.nn.initializers -    bert_model.encoder.layer.9.attention.self.query.weight\n",
      "2021-08-03 17:15:44,990 - INFO - allennlp.nn.initializers -    bert_model.encoder.layer.9.attention.self.value.bias\n",
      "2021-08-03 17:15:44,991 - INFO - allennlp.nn.initializers -    bert_model.encoder.layer.9.attention.self.value.weight\n",
      "2021-08-03 17:15:44,991 - INFO - allennlp.nn.initializers -    bert_model.encoder.layer.9.intermediate.dense.bias\n",
      "2021-08-03 17:15:44,992 - INFO - allennlp.nn.initializers -    bert_model.encoder.layer.9.intermediate.dense.weight\n",
      "2021-08-03 17:15:44,992 - INFO - allennlp.nn.initializers -    bert_model.encoder.layer.9.output.LayerNorm.bias\n",
      "2021-08-03 17:15:44,992 - INFO - allennlp.nn.initializers -    bert_model.encoder.layer.9.output.LayerNorm.weight\n",
      "2021-08-03 17:15:44,993 - INFO - allennlp.nn.initializers -    bert_model.encoder.layer.9.output.dense.bias\n",
      "2021-08-03 17:15:44,993 - INFO - allennlp.nn.initializers -    bert_model.encoder.layer.9.output.dense.weight\n",
      "2021-08-03 17:15:44,994 - INFO - allennlp.nn.initializers -    bert_model.pooler.dense.bias\n",
      "2021-08-03 17:15:44,994 - INFO - allennlp.nn.initializers -    bert_model.pooler.dense.weight\n",
      "2021-08-03 17:15:44,994 - INFO - allennlp.nn.initializers -    tag_projection_layer.bias\n",
      "2021-08-03 17:15:44,995 - INFO - allennlp.nn.initializers -    tag_projection_layer.weight\n",
      "2021-08-03 17:15:45,320 - INFO - allennlp.models.archival - removing temporary unarchived model dir at /var/folders/c_/r637mr6d7y99t490f5yw_trm0000gn/T/tmp8gij92k4\n"
     ]
    },
    {
     "data": {
      "text/plain": [
       "<__main__.SRLComponent at 0x105f0ce20>"
      ]
     },
     "execution_count": 4,
     "metadata": {},
     "output_type": "execute_result"
    }
   ],
   "source": [
    "nlp.add_pipe(\"sentencizer\")\n",
    "nlp.add_pipe(\"srl\")"
   ]
  },
  {
   "cell_type": "code",
   "execution_count": 6,
   "id": "891e43ce",
   "metadata": {
    "ExecuteTime": {
     "end_time": "2021-08-03T21:16:29.642518Z",
     "start_time": "2021-08-03T21:16:29.428294Z"
    }
   },
   "outputs": [
    {
     "name": "stdout",
     "output_type": "stream",
     "text": [
      "{'verbs': [{'verb': 'trashed', 'description': '[ARG0: The dog] [V: trashed] [ARG1: the apartment] [ARGM-TMP: in under 30 seconds] .', 'tags': ['B-ARG0', 'I-ARG0', 'B-V', 'B-ARG1', 'I-ARG1', 'B-ARGM-TMP', 'I-ARGM-TMP', 'I-ARGM-TMP', 'I-ARGM-TMP', 'O']}], 'words': ['The', 'dog', 'trashed', 'the', 'apartment', 'in', 'under', '30', 'seconds', '.']}\n"
     ]
    }
   ],
   "source": [
    "doc = nlp(\"The dog trashed the apartment in under 30 seconds.\")\n",
    "print(doc._.srl)"
   ]
  },
  {
   "cell_type": "markdown",
   "id": "74a28934",
   "metadata": {},
   "source": [
    "## WordNet"
   ]
  },
  {
   "cell_type": "code",
   "execution_count": 1,
   "id": "0be387c1",
   "metadata": {
    "ExecuteTime": {
     "end_time": "2022-06-04T21:45:35.598919Z",
     "start_time": "2022-06-04T21:45:34.438417Z"
    }
   },
   "outputs": [],
   "source": [
    "from nltk.corpus import wordnet as wn"
   ]
  },
  {
   "cell_type": "code",
   "execution_count": 6,
   "id": "3ef3a2bf",
   "metadata": {
    "ExecuteTime": {
     "end_time": "2022-06-04T21:55:47.767415Z",
     "start_time": "2022-06-04T21:55:47.758468Z"
    }
   },
   "outputs": [
    {
     "name": "stdout",
     "output_type": "stream",
     "text": [
      "nouns:\n",
      "syn\n",
      "[Lemma('attack.n.01.attack'), Lemma('attack.n.01.onslaught'), Lemma('attack.n.01.onset'), Lemma('attack.n.01.onrush')]\n",
      "(military) an offensive against an enemy (using weapons)\n",
      "[Synset('operation.n.05')]\n",
      "syn\n",
      "[Lemma('attack.n.02.attack')]\n",
      "an offensive move in a sport or game\n",
      "[Synset('turn.n.03')]\n",
      "syn\n",
      "[Lemma('fire.n.09.fire'), Lemma('fire.n.09.attack'), Lemma('fire.n.09.flak'), Lemma('fire.n.09.flack'), Lemma('fire.n.09.blast')]\n",
      "intense adverse criticism\n",
      "[Synset('criticism.n.01')]\n",
      "syn\n",
      "[Lemma('approach.n.01.approach'), Lemma('approach.n.01.attack'), Lemma('approach.n.01.plan_of_attack')]\n",
      "ideas or actions intended to deal with a problem or situation\n",
      "[Synset('conceptualization.n.01')]\n",
      "syn\n",
      "[Lemma('attack.n.05.attack'), Lemma('attack.n.05.attempt')]\n",
      "the act of attacking\n",
      "[Synset('crime.n.01')]\n",
      "syn\n",
      "[Lemma('attack.n.06.attack'), Lemma('attack.n.06.tone-beginning')]\n",
      "a decisive manner of beginning a musical tone or phrase\n",
      "[Synset('beginning.n.05')]\n",
      "syn\n",
      "[Lemma('attack.n.07.attack')]\n",
      "a sudden occurrence of an uncontrollable condition\n",
      "[Synset('affliction.n.03')]\n",
      "syn\n",
      "[Lemma('attack.n.08.attack')]\n",
      "the onset of a corrosive or destructive process (as by a chemical agent)\n",
      "[Synset('degeneration.n.01')]\n",
      "syn\n",
      "[Lemma('attack.n.09.attack')]\n",
      "strong criticism\n",
      "[Synset('criticism.n.01')]\n",
      "\n",
      "verbs:\n",
      "syn\n",
      "[Lemma('attack.v.01.attack'), Lemma('attack.v.01.assail')]\n",
      "launch an attack or assault on; begin hostilities or start warfare with\n",
      "[Synset('contend.v.06')]\n",
      "Lemma('attack.v.01.attack')\n",
      "[8, 9]\n",
      "Somebody attack something | Somebody attack somebody\n",
      "Lemma('attack.v.01.assail')\n",
      "[8, 9]\n",
      "Somebody assail something | Somebody assail somebody\n",
      "syn\n",
      "[Lemma('attack.v.02.attack'), Lemma('attack.v.02.round'), Lemma('attack.v.02.assail'), Lemma('attack.v.02.lash_out'), Lemma('attack.v.02.snipe'), Lemma('attack.v.02.assault')]\n",
      "attack in speech or writing\n",
      "[Synset('knock.v.06')]\n",
      "Lemma('attack.v.02.attack')\n",
      "[8, 9, 10, 11]\n",
      "Somebody attack something | Somebody attack somebody | Something attack somebody | Something attack something\n",
      "Lemma('attack.v.02.round')\n",
      "[8, 9, 10, 11, 22]\n",
      "Somebody round something | Somebody round somebody | Something round somebody | Something round something | Somebody round PP\n",
      "Lemma('attack.v.02.assail')\n",
      "[8, 9, 10, 11]\n",
      "Somebody assail something | Somebody assail somebody | Something assail somebody | Something assail something\n",
      "Lemma('attack.v.02.lash_out')\n",
      "[8, 9, 10, 11, 22]\n",
      "Somebody lash_out something | Somebody lash_out somebody | Something lash_out somebody | Something lash_out something | Somebody lash_out PP\n",
      "Lemma('attack.v.02.snipe')\n",
      "[8, 9, 10, 11, 22]\n",
      "Somebody snipe something | Somebody snipe somebody | Something snipe somebody | Something snipe something | Somebody snipe PP\n",
      "Lemma('attack.v.02.assault')\n",
      "[8, 9, 10, 11]\n",
      "Somebody assault something | Somebody assault somebody | Something assault somebody | Something assault something\n",
      "syn\n",
      "[Lemma('attack.v.03.attack'), Lemma('attack.v.03.aggress')]\n",
      "take the initiative and go on the offensive\n",
      "[Synset('act.v.01')]\n",
      "Lemma('attack.v.03.attack')\n",
      "[1, 2, 8, 9]\n",
      "Something attack | Somebody attack | Somebody attack something | Somebody attack somebody\n",
      "Lemma('attack.v.03.aggress')\n",
      "[1, 2]\n",
      "Something aggress | Somebody aggress\n",
      "syn\n",
      "[Lemma('assail.v.01.assail'), Lemma('assail.v.01.assault'), Lemma('assail.v.01.set_on'), Lemma('assail.v.01.attack')]\n",
      "attack someone physically or emotionally\n",
      "[]\n",
      "Lemma('assail.v.01.assail')\n",
      "[8, 9, 10]\n",
      "Somebody assail something | Somebody assail somebody | Something assail somebody\n",
      "Lemma('assail.v.01.assault')\n",
      "[8, 9, 10]\n",
      "Somebody assault something | Somebody assault somebody | Something assault somebody\n",
      "Lemma('assail.v.01.set_on')\n",
      "[8, 9, 10]\n",
      "Somebody set_on something | Somebody set_on somebody | Something set_on somebody\n",
      "Lemma('assail.v.01.attack')\n",
      "[8, 9, 10]\n",
      "Somebody attack something | Somebody attack somebody | Something attack somebody\n",
      "syn\n",
      "[Lemma('attack.v.05.attack')]\n",
      "set to work upon; turn one's energies vigorously to a task\n",
      "[Synset('get_down.v.07')]\n",
      "Lemma('attack.v.05.attack')\n",
      "[8]\n",
      "Somebody attack something\n",
      "syn\n",
      "[Lemma('attack.v.06.attack')]\n",
      "begin to injure\n",
      "[Synset('affect.v.02')]\n",
      "Lemma('attack.v.06.attack')\n",
      "[11]\n",
      "Something attack something\n"
     ]
    }
   ],
   "source": [
    "print('nouns:')\n",
    "syns = wn.synsets('attack', pos=wn.NOUN)\n",
    "for syn in syns:\n",
    "    print(\"syn\")\n",
    "    print(syn.lemmas())\n",
    "    print(syn.definition())\n",
    "    print(syn.hypernyms())\n",
    "print()\n",
    "print('verbs:')\n",
    "syns = wn.synsets('attack', pos=wn.VERB)\n",
    "for syn in syns:\n",
    "    print(\"syn\")\n",
    "    print(syn.lemmas())\n",
    "    print(syn.definition())\n",
    "    print(syn.hypernyms())\n",
    "    for lemma in syn.lemmas():\n",
    "        print(lemma)\n",
    "        print(lemma.frame_ids())\n",
    "        print(\" | \".join(lemma.frame_strings()))"
   ]
  },
  {
   "cell_type": "code",
   "execution_count": 10,
   "id": "f3ff3cac",
   "metadata": {
    "ExecuteTime": {
     "end_time": "2022-06-04T22:02:32.252744Z",
     "start_time": "2022-06-04T22:02:32.242816Z"
    }
   },
   "outputs": [
    {
     "name": "stdout",
     "output_type": "stream",
     "text": [
      "nouns:\n",
      "syn\n",
      "[Lemma('expression.n.01.expression'), Lemma('expression.n.01.look'), Lemma('expression.n.01.aspect'), Lemma('expression.n.01.facial_expression'), Lemma('expression.n.01.face')]\n",
      "the feelings expressed on a person's face\n",
      "[Synset('countenance.n.01')]\n",
      "syn\n",
      "[Lemma('look.n.02.look'), Lemma('look.n.02.looking'), Lemma('look.n.02.looking_at')]\n",
      "the act of directing the eyes toward something and perceiving it visually\n",
      "[Synset('sensing.n.02')]\n",
      "syn\n",
      "[Lemma('look.n.03.look')]\n",
      "physical appearance\n",
      "[Synset('appearance.n.01')]\n",
      "syn\n",
      "[Lemma('spirit.n.02.spirit'), Lemma('spirit.n.02.tone'), Lemma('spirit.n.02.feel'), Lemma('spirit.n.02.feeling'), Lemma('spirit.n.02.flavor'), Lemma('spirit.n.02.flavour'), Lemma('spirit.n.02.look'), Lemma('spirit.n.02.smell')]\n",
      "the general atmosphere of a place or situation and the effect that it has on people\n",
      "[Synset('atmosphere.n.01')]\n",
      "\n",
      "verbs:\n",
      "syn\n",
      "[Lemma('look.v.01.look')]\n",
      "perceive with attention; direct one's gaze towards\n",
      "[]\n",
      "frames\n",
      "Lemma('look.v.01.look')\n",
      "[2, 22]\n",
      "Somebody look | Somebody look PP\n",
      "syn\n",
      "[Lemma('look.v.02.look'), Lemma('look.v.02.appear'), Lemma('look.v.02.seem')]\n",
      "give a certain impression or have a certain outward aspect\n",
      "[Synset('be.v.01')]\n",
      "frames\n",
      "Lemma('look.v.02.look')\n",
      "[6, 7, 28]\n",
      "Something look Adjective/Noun | Somebody look Adjective | Somebody look to INFINITIVE\n",
      "Lemma('look.v.02.appear')\n",
      "[6, 7, 28]\n",
      "Something appear Adjective/Noun | Somebody appear Adjective | Somebody appear to INFINITIVE\n",
      "Lemma('look.v.02.seem')\n",
      "[6, 7, 28]\n",
      "Something seem Adjective/Noun | Somebody seem Adjective | Somebody seem to INFINITIVE\n",
      "syn\n",
      "[Lemma('look.v.03.look')]\n",
      "have a certain outward or facial expression\n",
      "[Synset('be.v.01')]\n",
      "frames\n",
      "Lemma('look.v.03.look')\n",
      "[6, 7]\n",
      "Something look Adjective/Noun | Somebody look Adjective\n",
      "syn\n",
      "[Lemma('search.v.02.search'), Lemma('search.v.02.look')]\n",
      "search or seek\n",
      "[Synset('examine.v.02')]\n",
      "frames\n",
      "Lemma('search.v.02.search')\n",
      "[8, 9]\n",
      "Somebody search something | Somebody search somebody\n",
      "Lemma('search.v.02.look')\n",
      "[8, 9]\n",
      "Somebody look something | Somebody look somebody\n",
      "syn\n",
      "[Lemma('front.v.01.front'), Lemma('front.v.01.look'), Lemma('front.v.01.face')]\n",
      "be oriented in a certain direction, often with respect to another reference point; be opposite to\n",
      "[Synset('lie.v.01')]\n",
      "frames\n",
      "Lemma('front.v.01.front')\n",
      "[11]\n",
      "Something front something\n",
      "Lemma('front.v.01.look')\n",
      "[11]\n",
      "Something look something\n",
      "Lemma('front.v.01.face')\n",
      "[11]\n",
      "Something face something\n",
      "syn\n",
      "[Lemma('attend.v.02.attend'), Lemma('attend.v.02.take_care'), Lemma('attend.v.02.look'), Lemma('attend.v.02.see')]\n",
      "take charge of or deal with\n",
      "[Synset('care.v.02')]\n",
      "frames\n",
      "Lemma('attend.v.02.attend')\n",
      "[22]\n",
      "Somebody attend PP\n",
      "Lemma('attend.v.02.take_care')\n",
      "[22]\n",
      "Somebody take_care PP\n",
      "Lemma('attend.v.02.look')\n",
      "[22]\n",
      "Somebody look PP\n",
      "Lemma('attend.v.02.see')\n",
      "[22]\n",
      "Somebody see PP\n",
      "syn\n",
      "[Lemma('look.v.07.look')]\n",
      "convey by one's expression\n",
      "[Synset('convey.v.01')]\n",
      "frames\n",
      "Lemma('look.v.07.look')\n",
      "[8, 15]\n",
      "Somebody look something | Somebody look something to somebody\n",
      "syn\n",
      "[Lemma('expect.v.03.expect'), Lemma('expect.v.03.look'), Lemma('expect.v.03.await'), Lemma('expect.v.03.wait')]\n",
      "look forward to the probable occurrence of\n",
      "[]\n",
      "frames\n",
      "Lemma('expect.v.03.expect')\n",
      "[8, 9, 33]\n",
      "Somebody expect something | Somebody expect somebody | Somebody expect VERB-ing\n",
      "Lemma('expect.v.03.look')\n",
      "[8, 9, 33, 28]\n",
      "Somebody look something | Somebody look somebody | Somebody look VERB-ing | Somebody look to INFINITIVE\n",
      "Lemma('expect.v.03.await')\n",
      "[8, 9, 33]\n",
      "Somebody await something | Somebody await somebody | Somebody await VERB-ing\n",
      "Lemma('expect.v.03.wait')\n",
      "[8, 9, 33, 28]\n",
      "Somebody wait something | Somebody wait somebody | Somebody wait VERB-ing | Somebody wait to INFINITIVE\n",
      "syn\n",
      "[Lemma('look.v.09.look')]\n",
      "accord in appearance with\n",
      "[Synset('match.v.01')]\n",
      "frames\n",
      "Lemma('look.v.09.look')\n",
      "[8, 11]\n",
      "Somebody look something | Something look something\n",
      "syn\n",
      "[Lemma('count.v.08.count'), Lemma('count.v.08.bet'), Lemma('count.v.08.depend'), Lemma('count.v.08.look'), Lemma('count.v.08.calculate'), Lemma('count.v.08.reckon')]\n",
      "have faith or confidence in\n",
      "[Synset('trust.v.01')]\n",
      "frames\n",
      "Lemma('count.v.08.count')\n",
      "[8, 9]\n",
      "Somebody count something | Somebody count somebody\n",
      "Lemma('count.v.08.bet')\n",
      "[8, 9]\n",
      "Somebody bet something | Somebody bet somebody\n",
      "Lemma('count.v.08.depend')\n",
      "[8, 9]\n",
      "Somebody depend something | Somebody depend somebody\n",
      "Lemma('count.v.08.look')\n",
      "[8, 9]\n",
      "Somebody look something | Somebody look somebody\n",
      "Lemma('count.v.08.calculate')\n",
      "[8, 9]\n",
      "Somebody calculate something | Somebody calculate somebody\n",
      "Lemma('count.v.08.reckon')\n",
      "[8, 9]\n",
      "Somebody reckon something | Somebody reckon somebody\n"
     ]
    }
   ],
   "source": [
    "print('nouns:')\n",
    "syns = wn.synsets('look', pos=wn.NOUN)\n",
    "for syn in syns:\n",
    "    print(\"syn\")\n",
    "    print(syn.lemmas())\n",
    "    print(syn.definition())\n",
    "    print(syn.hypernyms())\n",
    "print()\n",
    "print('verbs:')\n",
    "syns = wn.synsets('look', pos=wn.VERB)\n",
    "for syn in syns:\n",
    "    print(\"syn\")\n",
    "    print(syn.lemmas())\n",
    "    print(syn.definition())\n",
    "    print(syn.hypernyms())\n",
    "    print(\"frames\")\n",
    "    for lemma in syn.lemmas():\n",
    "        print(lemma)\n",
    "        print(lemma.frame_ids())\n",
    "        print(\" | \".join(lemma.frame_strings()))"
   ]
  },
  {
   "cell_type": "markdown",
   "id": "4ad3a473",
   "metadata": {},
   "source": [
    "## Wordnet 3.1 Online Search"
   ]
  },
  {
   "cell_type": "code",
   "execution_count": 1,
   "id": "90e9faa7",
   "metadata": {
    "ExecuteTime": {
     "end_time": "2022-06-05T21:51:11.701400Z",
     "start_time": "2022-06-05T21:51:11.631065Z"
    }
   },
   "outputs": [],
   "source": [
    "import requests\n",
    "import xml.etree.ElementTree as ET"
   ]
  },
  {
   "cell_type": "code",
   "execution_count": 4,
   "id": "28210b6e",
   "metadata": {
    "ExecuteTime": {
     "end_time": "2022-06-05T21:53:47.848128Z",
     "start_time": "2022-06-05T21:53:47.723439Z"
    }
   },
   "outputs": [
    {
     "ename": "ConnectionError",
     "evalue": "HTTPSConnectionPool(host='wordnetweb.princeton.edu', port=443): Max retries exceeded with url: /perl/webwn?s=look-for&o2=&o0=&o8=1&o1=1&o7=1&o5=&o9=&o6=&o3=&o4=&h=00 (Caused by NewConnectionError('<urllib3.connection.HTTPSConnection object at 0x7f8c60731220>: Failed to establish a new connection: [Errno 61] Connection refused'))",
     "output_type": "error",
     "traceback": [
      "\u001b[0;31m---------------------------------------------------------------------------\u001b[0m",
      "\u001b[0;31mConnectionRefusedError\u001b[0m                    Traceback (most recent call last)",
      "\u001b[0;32m/Library/Frameworks/Python.framework/Versions/3.8/lib/python3.8/site-packages/urllib3/connection.py\u001b[0m in \u001b[0;36m_new_conn\u001b[0;34m(self)\u001b[0m\n\u001b[1;32m    168\u001b[0m         \u001b[0;32mtry\u001b[0m\u001b[0;34m:\u001b[0m\u001b[0;34m\u001b[0m\u001b[0;34m\u001b[0m\u001b[0m\n\u001b[0;32m--> 169\u001b[0;31m             conn = connection.create_connection(\n\u001b[0m\u001b[1;32m    170\u001b[0m                 \u001b[0;34m(\u001b[0m\u001b[0mself\u001b[0m\u001b[0;34m.\u001b[0m\u001b[0m_dns_host\u001b[0m\u001b[0;34m,\u001b[0m \u001b[0mself\u001b[0m\u001b[0;34m.\u001b[0m\u001b[0mport\u001b[0m\u001b[0;34m)\u001b[0m\u001b[0;34m,\u001b[0m \u001b[0mself\u001b[0m\u001b[0;34m.\u001b[0m\u001b[0mtimeout\u001b[0m\u001b[0;34m,\u001b[0m \u001b[0;34m**\u001b[0m\u001b[0mextra_kw\u001b[0m\u001b[0;34m\u001b[0m\u001b[0;34m\u001b[0m\u001b[0m\n",
      "\u001b[0;32m/Library/Frameworks/Python.framework/Versions/3.8/lib/python3.8/site-packages/urllib3/util/connection.py\u001b[0m in \u001b[0;36mcreate_connection\u001b[0;34m(address, timeout, source_address, socket_options)\u001b[0m\n\u001b[1;32m     95\u001b[0m     \u001b[0;32mif\u001b[0m \u001b[0merr\u001b[0m \u001b[0;32mis\u001b[0m \u001b[0;32mnot\u001b[0m \u001b[0;32mNone\u001b[0m\u001b[0;34m:\u001b[0m\u001b[0;34m\u001b[0m\u001b[0;34m\u001b[0m\u001b[0m\n\u001b[0;32m---> 96\u001b[0;31m         \u001b[0;32mraise\u001b[0m \u001b[0merr\u001b[0m\u001b[0;34m\u001b[0m\u001b[0;34m\u001b[0m\u001b[0m\n\u001b[0m\u001b[1;32m     97\u001b[0m \u001b[0;34m\u001b[0m\u001b[0m\n",
      "\u001b[0;32m/Library/Frameworks/Python.framework/Versions/3.8/lib/python3.8/site-packages/urllib3/util/connection.py\u001b[0m in \u001b[0;36mcreate_connection\u001b[0;34m(address, timeout, source_address, socket_options)\u001b[0m\n\u001b[1;32m     85\u001b[0m                 \u001b[0msock\u001b[0m\u001b[0;34m.\u001b[0m\u001b[0mbind\u001b[0m\u001b[0;34m(\u001b[0m\u001b[0msource_address\u001b[0m\u001b[0;34m)\u001b[0m\u001b[0;34m\u001b[0m\u001b[0;34m\u001b[0m\u001b[0m\n\u001b[0;32m---> 86\u001b[0;31m             \u001b[0msock\u001b[0m\u001b[0;34m.\u001b[0m\u001b[0mconnect\u001b[0m\u001b[0;34m(\u001b[0m\u001b[0msa\u001b[0m\u001b[0;34m)\u001b[0m\u001b[0;34m\u001b[0m\u001b[0;34m\u001b[0m\u001b[0m\n\u001b[0m\u001b[1;32m     87\u001b[0m             \u001b[0;32mreturn\u001b[0m \u001b[0msock\u001b[0m\u001b[0;34m\u001b[0m\u001b[0;34m\u001b[0m\u001b[0m\n",
      "\u001b[0;31mConnectionRefusedError\u001b[0m: [Errno 61] Connection refused",
      "\nDuring handling of the above exception, another exception occurred:\n",
      "\u001b[0;31mNewConnectionError\u001b[0m                        Traceback (most recent call last)",
      "\u001b[0;32m/Library/Frameworks/Python.framework/Versions/3.8/lib/python3.8/site-packages/urllib3/connectionpool.py\u001b[0m in \u001b[0;36murlopen\u001b[0;34m(self, method, url, body, headers, retries, redirect, assert_same_host, timeout, pool_timeout, release_conn, chunked, body_pos, **response_kw)\u001b[0m\n\u001b[1;32m    698\u001b[0m             \u001b[0;31m# Make the request on the httplib connection object.\u001b[0m\u001b[0;34m\u001b[0m\u001b[0;34m\u001b[0m\u001b[0;34m\u001b[0m\u001b[0m\n\u001b[0;32m--> 699\u001b[0;31m             httplib_response = self._make_request(\n\u001b[0m\u001b[1;32m    700\u001b[0m                 \u001b[0mconn\u001b[0m\u001b[0;34m,\u001b[0m\u001b[0;34m\u001b[0m\u001b[0;34m\u001b[0m\u001b[0m\n",
      "\u001b[0;32m/Library/Frameworks/Python.framework/Versions/3.8/lib/python3.8/site-packages/urllib3/connectionpool.py\u001b[0m in \u001b[0;36m_make_request\u001b[0;34m(self, conn, method, url, timeout, chunked, **httplib_request_kw)\u001b[0m\n\u001b[1;32m    381\u001b[0m         \u001b[0;32mtry\u001b[0m\u001b[0;34m:\u001b[0m\u001b[0;34m\u001b[0m\u001b[0;34m\u001b[0m\u001b[0m\n\u001b[0;32m--> 382\u001b[0;31m             \u001b[0mself\u001b[0m\u001b[0;34m.\u001b[0m\u001b[0m_validate_conn\u001b[0m\u001b[0;34m(\u001b[0m\u001b[0mconn\u001b[0m\u001b[0;34m)\u001b[0m\u001b[0;34m\u001b[0m\u001b[0;34m\u001b[0m\u001b[0m\n\u001b[0m\u001b[1;32m    383\u001b[0m         \u001b[0;32mexcept\u001b[0m \u001b[0;34m(\u001b[0m\u001b[0mSocketTimeout\u001b[0m\u001b[0;34m,\u001b[0m \u001b[0mBaseSSLError\u001b[0m\u001b[0;34m)\u001b[0m \u001b[0;32mas\u001b[0m \u001b[0me\u001b[0m\u001b[0;34m:\u001b[0m\u001b[0;34m\u001b[0m\u001b[0;34m\u001b[0m\u001b[0m\n",
      "\u001b[0;32m/Library/Frameworks/Python.framework/Versions/3.8/lib/python3.8/site-packages/urllib3/connectionpool.py\u001b[0m in \u001b[0;36m_validate_conn\u001b[0;34m(self, conn)\u001b[0m\n\u001b[1;32m   1009\u001b[0m         \u001b[0;32mif\u001b[0m \u001b[0;32mnot\u001b[0m \u001b[0mgetattr\u001b[0m\u001b[0;34m(\u001b[0m\u001b[0mconn\u001b[0m\u001b[0;34m,\u001b[0m \u001b[0;34m\"sock\"\u001b[0m\u001b[0;34m,\u001b[0m \u001b[0;32mNone\u001b[0m\u001b[0;34m)\u001b[0m\u001b[0;34m:\u001b[0m  \u001b[0;31m# AppEngine might not have  `.sock`\u001b[0m\u001b[0;34m\u001b[0m\u001b[0;34m\u001b[0m\u001b[0m\n\u001b[0;32m-> 1010\u001b[0;31m             \u001b[0mconn\u001b[0m\u001b[0;34m.\u001b[0m\u001b[0mconnect\u001b[0m\u001b[0;34m(\u001b[0m\u001b[0;34m)\u001b[0m\u001b[0;34m\u001b[0m\u001b[0;34m\u001b[0m\u001b[0m\n\u001b[0m\u001b[1;32m   1011\u001b[0m \u001b[0;34m\u001b[0m\u001b[0m\n",
      "\u001b[0;32m/Library/Frameworks/Python.framework/Versions/3.8/lib/python3.8/site-packages/urllib3/connection.py\u001b[0m in \u001b[0;36mconnect\u001b[0;34m(self)\u001b[0m\n\u001b[1;32m    352\u001b[0m         \u001b[0;31m# Add certificate verification\u001b[0m\u001b[0;34m\u001b[0m\u001b[0;34m\u001b[0m\u001b[0;34m\u001b[0m\u001b[0m\n\u001b[0;32m--> 353\u001b[0;31m         \u001b[0mconn\u001b[0m \u001b[0;34m=\u001b[0m \u001b[0mself\u001b[0m\u001b[0;34m.\u001b[0m\u001b[0m_new_conn\u001b[0m\u001b[0;34m(\u001b[0m\u001b[0;34m)\u001b[0m\u001b[0;34m\u001b[0m\u001b[0;34m\u001b[0m\u001b[0m\n\u001b[0m\u001b[1;32m    354\u001b[0m         \u001b[0mhostname\u001b[0m \u001b[0;34m=\u001b[0m \u001b[0mself\u001b[0m\u001b[0;34m.\u001b[0m\u001b[0mhost\u001b[0m\u001b[0;34m\u001b[0m\u001b[0;34m\u001b[0m\u001b[0m\n",
      "\u001b[0;32m/Library/Frameworks/Python.framework/Versions/3.8/lib/python3.8/site-packages/urllib3/connection.py\u001b[0m in \u001b[0;36m_new_conn\u001b[0;34m(self)\u001b[0m\n\u001b[1;32m    180\u001b[0m         \u001b[0;32mexcept\u001b[0m \u001b[0mSocketError\u001b[0m \u001b[0;32mas\u001b[0m \u001b[0me\u001b[0m\u001b[0;34m:\u001b[0m\u001b[0;34m\u001b[0m\u001b[0;34m\u001b[0m\u001b[0m\n\u001b[0;32m--> 181\u001b[0;31m             raise NewConnectionError(\n\u001b[0m\u001b[1;32m    182\u001b[0m                 \u001b[0mself\u001b[0m\u001b[0;34m,\u001b[0m \u001b[0;34m\"Failed to establish a new connection: %s\"\u001b[0m \u001b[0;34m%\u001b[0m \u001b[0me\u001b[0m\u001b[0;34m\u001b[0m\u001b[0;34m\u001b[0m\u001b[0m\n",
      "\u001b[0;31mNewConnectionError\u001b[0m: <urllib3.connection.HTTPSConnection object at 0x7f8c60731220>: Failed to establish a new connection: [Errno 61] Connection refused",
      "\nDuring handling of the above exception, another exception occurred:\n",
      "\u001b[0;31mMaxRetryError\u001b[0m                             Traceback (most recent call last)",
      "\u001b[0;32m/Library/Frameworks/Python.framework/Versions/3.8/lib/python3.8/site-packages/requests/adapters.py\u001b[0m in \u001b[0;36msend\u001b[0;34m(self, request, stream, timeout, verify, cert, proxies)\u001b[0m\n\u001b[1;32m    438\u001b[0m             \u001b[0;32mif\u001b[0m \u001b[0;32mnot\u001b[0m \u001b[0mchunked\u001b[0m\u001b[0;34m:\u001b[0m\u001b[0;34m\u001b[0m\u001b[0;34m\u001b[0m\u001b[0m\n\u001b[0;32m--> 439\u001b[0;31m                 resp = conn.urlopen(\n\u001b[0m\u001b[1;32m    440\u001b[0m                     \u001b[0mmethod\u001b[0m\u001b[0;34m=\u001b[0m\u001b[0mrequest\u001b[0m\u001b[0;34m.\u001b[0m\u001b[0mmethod\u001b[0m\u001b[0;34m,\u001b[0m\u001b[0;34m\u001b[0m\u001b[0;34m\u001b[0m\u001b[0m\n",
      "\u001b[0;32m/Library/Frameworks/Python.framework/Versions/3.8/lib/python3.8/site-packages/urllib3/connectionpool.py\u001b[0m in \u001b[0;36murlopen\u001b[0;34m(self, method, url, body, headers, retries, redirect, assert_same_host, timeout, pool_timeout, release_conn, chunked, body_pos, **response_kw)\u001b[0m\n\u001b[1;32m    754\u001b[0m \u001b[0;34m\u001b[0m\u001b[0m\n\u001b[0;32m--> 755\u001b[0;31m             retries = retries.increment(\n\u001b[0m\u001b[1;32m    756\u001b[0m                 \u001b[0mmethod\u001b[0m\u001b[0;34m,\u001b[0m \u001b[0murl\u001b[0m\u001b[0;34m,\u001b[0m \u001b[0merror\u001b[0m\u001b[0;34m=\u001b[0m\u001b[0me\u001b[0m\u001b[0;34m,\u001b[0m \u001b[0m_pool\u001b[0m\u001b[0;34m=\u001b[0m\u001b[0mself\u001b[0m\u001b[0;34m,\u001b[0m \u001b[0m_stacktrace\u001b[0m\u001b[0;34m=\u001b[0m\u001b[0msys\u001b[0m\u001b[0;34m.\u001b[0m\u001b[0mexc_info\u001b[0m\u001b[0;34m(\u001b[0m\u001b[0;34m)\u001b[0m\u001b[0;34m[\u001b[0m\u001b[0;36m2\u001b[0m\u001b[0;34m]\u001b[0m\u001b[0;34m\u001b[0m\u001b[0;34m\u001b[0m\u001b[0m\n",
      "\u001b[0;32m/Library/Frameworks/Python.framework/Versions/3.8/lib/python3.8/site-packages/urllib3/util/retry.py\u001b[0m in \u001b[0;36mincrement\u001b[0;34m(self, method, url, response, error, _pool, _stacktrace)\u001b[0m\n\u001b[1;32m    573\u001b[0m         \u001b[0;32mif\u001b[0m \u001b[0mnew_retry\u001b[0m\u001b[0;34m.\u001b[0m\u001b[0mis_exhausted\u001b[0m\u001b[0;34m(\u001b[0m\u001b[0;34m)\u001b[0m\u001b[0;34m:\u001b[0m\u001b[0;34m\u001b[0m\u001b[0;34m\u001b[0m\u001b[0m\n\u001b[0;32m--> 574\u001b[0;31m             \u001b[0;32mraise\u001b[0m \u001b[0mMaxRetryError\u001b[0m\u001b[0;34m(\u001b[0m\u001b[0m_pool\u001b[0m\u001b[0;34m,\u001b[0m \u001b[0murl\u001b[0m\u001b[0;34m,\u001b[0m \u001b[0merror\u001b[0m \u001b[0;32mor\u001b[0m \u001b[0mResponseError\u001b[0m\u001b[0;34m(\u001b[0m\u001b[0mcause\u001b[0m\u001b[0;34m)\u001b[0m\u001b[0;34m)\u001b[0m\u001b[0;34m\u001b[0m\u001b[0;34m\u001b[0m\u001b[0m\n\u001b[0m\u001b[1;32m    575\u001b[0m \u001b[0;34m\u001b[0m\u001b[0m\n",
      "\u001b[0;31mMaxRetryError\u001b[0m: HTTPSConnectionPool(host='wordnetweb.princeton.edu', port=443): Max retries exceeded with url: /perl/webwn?s=look-for&o2=&o0=&o8=1&o1=1&o7=1&o5=&o9=&o6=&o3=&o4=&h=00 (Caused by NewConnectionError('<urllib3.connection.HTTPSConnection object at 0x7f8c60731220>: Failed to establish a new connection: [Errno 61] Connection refused'))",
      "\nDuring handling of the above exception, another exception occurred:\n",
      "\u001b[0;31mConnectionError\u001b[0m                           Traceback (most recent call last)",
      "\u001b[0;32m/var/folders/c_/r637mr6d7y99t490f5yw_trm0000gn/T/ipykernel_58253/3933489703.py\u001b[0m in \u001b[0;36m<module>\u001b[0;34m\u001b[0m\n\u001b[1;32m      9\u001b[0m }\n\u001b[1;32m     10\u001b[0m \u001b[0msearch_term\u001b[0m \u001b[0;34m=\u001b[0m \u001b[0;34m\"look-for\"\u001b[0m\u001b[0;34m\u001b[0m\u001b[0;34m\u001b[0m\u001b[0m\n\u001b[0;32m---> 11\u001b[0;31m \u001b[0mresponse\u001b[0m \u001b[0;34m=\u001b[0m \u001b[0mrequests\u001b[0m\u001b[0;34m.\u001b[0m\u001b[0mget\u001b[0m\u001b[0;34m(\u001b[0m\u001b[0;34mf'https://wordnetweb.princeton.edu/perl/webwn?s={search_term}&o2=&o0=&o8=1&o1=1&o7=1&o5=&o9=&o6=&o3=&o4=&h=00'\u001b[0m\u001b[0;34m,\u001b[0m \u001b[0mheaders\u001b[0m\u001b[0;34m=\u001b[0m\u001b[0mheaders\u001b[0m\u001b[0;34m)\u001b[0m\u001b[0;34m\u001b[0m\u001b[0;34m\u001b[0m\u001b[0m\n\u001b[0m\u001b[1;32m     12\u001b[0m \u001b[0mprint\u001b[0m\u001b[0;34m(\u001b[0m\u001b[0mresponse\u001b[0m\u001b[0;34m.\u001b[0m\u001b[0mcontent\u001b[0m\u001b[0;34m)\u001b[0m\u001b[0;34m\u001b[0m\u001b[0;34m\u001b[0m\u001b[0m\n\u001b[1;32m     13\u001b[0m \u001b[0;34m\u001b[0m\u001b[0m\n",
      "\u001b[0;32m/Library/Frameworks/Python.framework/Versions/3.8/lib/python3.8/site-packages/requests/api.py\u001b[0m in \u001b[0;36mget\u001b[0;34m(url, params, **kwargs)\u001b[0m\n\u001b[1;32m     74\u001b[0m \u001b[0;34m\u001b[0m\u001b[0m\n\u001b[1;32m     75\u001b[0m     \u001b[0mkwargs\u001b[0m\u001b[0;34m.\u001b[0m\u001b[0msetdefault\u001b[0m\u001b[0;34m(\u001b[0m\u001b[0;34m'allow_redirects'\u001b[0m\u001b[0;34m,\u001b[0m \u001b[0;32mTrue\u001b[0m\u001b[0;34m)\u001b[0m\u001b[0;34m\u001b[0m\u001b[0;34m\u001b[0m\u001b[0m\n\u001b[0;32m---> 76\u001b[0;31m     \u001b[0;32mreturn\u001b[0m \u001b[0mrequest\u001b[0m\u001b[0;34m(\u001b[0m\u001b[0;34m'get'\u001b[0m\u001b[0;34m,\u001b[0m \u001b[0murl\u001b[0m\u001b[0;34m,\u001b[0m \u001b[0mparams\u001b[0m\u001b[0;34m=\u001b[0m\u001b[0mparams\u001b[0m\u001b[0;34m,\u001b[0m \u001b[0;34m**\u001b[0m\u001b[0mkwargs\u001b[0m\u001b[0;34m)\u001b[0m\u001b[0;34m\u001b[0m\u001b[0;34m\u001b[0m\u001b[0m\n\u001b[0m\u001b[1;32m     77\u001b[0m \u001b[0;34m\u001b[0m\u001b[0m\n\u001b[1;32m     78\u001b[0m \u001b[0;34m\u001b[0m\u001b[0m\n",
      "\u001b[0;32m/Library/Frameworks/Python.framework/Versions/3.8/lib/python3.8/site-packages/requests/api.py\u001b[0m in \u001b[0;36mrequest\u001b[0;34m(method, url, **kwargs)\u001b[0m\n\u001b[1;32m     59\u001b[0m     \u001b[0;31m# cases, and look like a memory leak in others.\u001b[0m\u001b[0;34m\u001b[0m\u001b[0;34m\u001b[0m\u001b[0;34m\u001b[0m\u001b[0m\n\u001b[1;32m     60\u001b[0m     \u001b[0;32mwith\u001b[0m \u001b[0msessions\u001b[0m\u001b[0;34m.\u001b[0m\u001b[0mSession\u001b[0m\u001b[0;34m(\u001b[0m\u001b[0;34m)\u001b[0m \u001b[0;32mas\u001b[0m \u001b[0msession\u001b[0m\u001b[0;34m:\u001b[0m\u001b[0;34m\u001b[0m\u001b[0;34m\u001b[0m\u001b[0m\n\u001b[0;32m---> 61\u001b[0;31m         \u001b[0;32mreturn\u001b[0m \u001b[0msession\u001b[0m\u001b[0;34m.\u001b[0m\u001b[0mrequest\u001b[0m\u001b[0;34m(\u001b[0m\u001b[0mmethod\u001b[0m\u001b[0;34m=\u001b[0m\u001b[0mmethod\u001b[0m\u001b[0;34m,\u001b[0m \u001b[0murl\u001b[0m\u001b[0;34m=\u001b[0m\u001b[0murl\u001b[0m\u001b[0;34m,\u001b[0m \u001b[0;34m**\u001b[0m\u001b[0mkwargs\u001b[0m\u001b[0;34m)\u001b[0m\u001b[0;34m\u001b[0m\u001b[0;34m\u001b[0m\u001b[0m\n\u001b[0m\u001b[1;32m     62\u001b[0m \u001b[0;34m\u001b[0m\u001b[0m\n\u001b[1;32m     63\u001b[0m \u001b[0;34m\u001b[0m\u001b[0m\n",
      "\u001b[0;32m/Library/Frameworks/Python.framework/Versions/3.8/lib/python3.8/site-packages/requests/sessions.py\u001b[0m in \u001b[0;36mrequest\u001b[0;34m(self, method, url, params, data, headers, cookies, files, auth, timeout, allow_redirects, proxies, hooks, stream, verify, cert, json)\u001b[0m\n\u001b[1;32m    540\u001b[0m         }\n\u001b[1;32m    541\u001b[0m         \u001b[0msend_kwargs\u001b[0m\u001b[0;34m.\u001b[0m\u001b[0mupdate\u001b[0m\u001b[0;34m(\u001b[0m\u001b[0msettings\u001b[0m\u001b[0;34m)\u001b[0m\u001b[0;34m\u001b[0m\u001b[0;34m\u001b[0m\u001b[0m\n\u001b[0;32m--> 542\u001b[0;31m         \u001b[0mresp\u001b[0m \u001b[0;34m=\u001b[0m \u001b[0mself\u001b[0m\u001b[0;34m.\u001b[0m\u001b[0msend\u001b[0m\u001b[0;34m(\u001b[0m\u001b[0mprep\u001b[0m\u001b[0;34m,\u001b[0m \u001b[0;34m**\u001b[0m\u001b[0msend_kwargs\u001b[0m\u001b[0;34m)\u001b[0m\u001b[0;34m\u001b[0m\u001b[0;34m\u001b[0m\u001b[0m\n\u001b[0m\u001b[1;32m    543\u001b[0m \u001b[0;34m\u001b[0m\u001b[0m\n\u001b[1;32m    544\u001b[0m         \u001b[0;32mreturn\u001b[0m \u001b[0mresp\u001b[0m\u001b[0;34m\u001b[0m\u001b[0;34m\u001b[0m\u001b[0m\n",
      "\u001b[0;32m/Library/Frameworks/Python.framework/Versions/3.8/lib/python3.8/site-packages/requests/sessions.py\u001b[0m in \u001b[0;36msend\u001b[0;34m(self, request, **kwargs)\u001b[0m\n\u001b[1;32m    653\u001b[0m \u001b[0;34m\u001b[0m\u001b[0m\n\u001b[1;32m    654\u001b[0m         \u001b[0;31m# Send the request\u001b[0m\u001b[0;34m\u001b[0m\u001b[0;34m\u001b[0m\u001b[0;34m\u001b[0m\u001b[0m\n\u001b[0;32m--> 655\u001b[0;31m         \u001b[0mr\u001b[0m \u001b[0;34m=\u001b[0m \u001b[0madapter\u001b[0m\u001b[0;34m.\u001b[0m\u001b[0msend\u001b[0m\u001b[0;34m(\u001b[0m\u001b[0mrequest\u001b[0m\u001b[0;34m,\u001b[0m \u001b[0;34m**\u001b[0m\u001b[0mkwargs\u001b[0m\u001b[0;34m)\u001b[0m\u001b[0;34m\u001b[0m\u001b[0;34m\u001b[0m\u001b[0m\n\u001b[0m\u001b[1;32m    656\u001b[0m \u001b[0;34m\u001b[0m\u001b[0m\n\u001b[1;32m    657\u001b[0m         \u001b[0;31m# Total elapsed time of the request (approximately)\u001b[0m\u001b[0;34m\u001b[0m\u001b[0;34m\u001b[0m\u001b[0;34m\u001b[0m\u001b[0m\n",
      "\u001b[0;32m/Library/Frameworks/Python.framework/Versions/3.8/lib/python3.8/site-packages/requests/adapters.py\u001b[0m in \u001b[0;36msend\u001b[0;34m(self, request, stream, timeout, verify, cert, proxies)\u001b[0m\n\u001b[1;32m    514\u001b[0m                 \u001b[0;32mraise\u001b[0m \u001b[0mSSLError\u001b[0m\u001b[0;34m(\u001b[0m\u001b[0me\u001b[0m\u001b[0;34m,\u001b[0m \u001b[0mrequest\u001b[0m\u001b[0;34m=\u001b[0m\u001b[0mrequest\u001b[0m\u001b[0;34m)\u001b[0m\u001b[0;34m\u001b[0m\u001b[0;34m\u001b[0m\u001b[0m\n\u001b[1;32m    515\u001b[0m \u001b[0;34m\u001b[0m\u001b[0m\n\u001b[0;32m--> 516\u001b[0;31m             \u001b[0;32mraise\u001b[0m \u001b[0mConnectionError\u001b[0m\u001b[0;34m(\u001b[0m\u001b[0me\u001b[0m\u001b[0;34m,\u001b[0m \u001b[0mrequest\u001b[0m\u001b[0;34m=\u001b[0m\u001b[0mrequest\u001b[0m\u001b[0;34m)\u001b[0m\u001b[0;34m\u001b[0m\u001b[0;34m\u001b[0m\u001b[0m\n\u001b[0m\u001b[1;32m    517\u001b[0m \u001b[0;34m\u001b[0m\u001b[0m\n\u001b[1;32m    518\u001b[0m         \u001b[0;32mexcept\u001b[0m \u001b[0mClosedPoolError\u001b[0m \u001b[0;32mas\u001b[0m \u001b[0me\u001b[0m\u001b[0;34m:\u001b[0m\u001b[0;34m\u001b[0m\u001b[0;34m\u001b[0m\u001b[0m\n",
      "\u001b[0;31mConnectionError\u001b[0m: HTTPSConnectionPool(host='wordnetweb.princeton.edu', port=443): Max retries exceeded with url: /perl/webwn?s=look-for&o2=&o0=&o8=1&o1=1&o7=1&o5=&o9=&o6=&o3=&o4=&h=00 (Caused by NewConnectionError('<urllib3.connection.HTTPSConnection object at 0x7f8c60731220>: Failed to establish a new connection: [Errno 61] Connection refused'))"
     ]
    }
   ],
   "source": [
    "headers = {\n",
    "    \"Accept\": \"text/html,application/xhtml+xml,application/xml;q=0.9,image/webp,image/apng,*/*;q=0.8,application/signed-exchange;v=b3;q=0.9\", \n",
    "    \"Accept-Encoding\": \"gzip, deflate\", \n",
    "    \"Accept-Language\": \"en-GB,en-US;q=0.9,en;q=0.8\", \n",
    "    \"Dnt\": \"1\", \n",
    "    \"Host\": \"httpbin.org\", \n",
    "    \"Upgrade-Insecure-Requests\": \"1\", \n",
    "    \"User-Agent\": \"Mozilla/5.0 (Macintosh; Intel Mac OS X 10_15_4) AppleWebKit/537.36 (KHTML, like Gecko) Chrome/83.0.4103.97 Safari/537.36\", \n",
    "}\n",
    "search_term = \"look-for\"\n",
    "response = requests.get(f'https://wordnetweb.princeton.edu/perl/webwn?s={search_term}&o2=&o0=&o8=1&o1=1&o7=1&o5=&o9=&o6=&o3=&o4=&h=00', headers=headers)\n",
    "print(response.content)\n",
    "\n",
    "h3s = ET.fromstring(response.content).findall('.//h3')\n",
    "for h3 in h3s:\n",
    "    print(h3)"
   ]
  },
  {
   "cell_type": "markdown",
   "id": "68438049",
   "metadata": {},
   "source": [
    "## PyDictionary"
   ]
  },
  {
   "cell_type": "code",
   "execution_count": 1,
   "id": "7de9921f",
   "metadata": {
    "ExecuteTime": {
     "end_time": "2021-10-14T01:10:21.987357Z",
     "start_time": "2021-10-14T01:10:20.704043Z"
    }
   },
   "outputs": [
    {
     "name": "stdout",
     "output_type": "stream",
     "text": [
      "{'Verb': ['run away from confinement', 'fail to experience', 'escape potentially unpleasant consequences; get away with a forbidden action', 'be incomprehensible to; escape understanding by', 'remove oneself from a familiar environment, usually for pleasure or diversion', \"flee; take to one's heels; cut and run\", 'issue or leak, as from a small opening']}\n"
     ]
    }
   ],
   "source": [
    "from PyDictionary import PyDictionary\n",
    "dictionary=PyDictionary()\n",
    "\n",
    "print (dictionary.meaning(\"escaping\"))"
   ]
  },
  {
   "cell_type": "code",
   "execution_count": 16,
   "id": "3b2c4f2d",
   "metadata": {
    "ExecuteTime": {
     "end_time": "2021-10-04T04:20:11.695345Z",
     "start_time": "2021-10-04T04:20:11.691368Z"
    }
   },
   "outputs": [],
   "source": [
    "import datefinder\n",
    "matches = datefinder.find_dates(\"June, 1928\")\n",
    "try:\n",
    "    matches.__next__()\n",
    "except StopIteration:\n",
    "    print(\"no matches\")\n",
    "for match in matches:\n",
    "    print(match)\n",
    "    print(match.year)\n",
    "    print(match.month)\n",
    "    print(match.day)"
   ]
  },
  {
   "cell_type": "code",
   "execution_count": 25,
   "id": "504866b9",
   "metadata": {
    "ExecuteTime": {
     "end_time": "2021-10-04T05:24:00.957996Z",
     "start_time": "2021-10-04T05:24:00.954191Z"
    }
   },
   "outputs": [
    {
     "name": "stdout",
     "output_type": "stream",
     "text": [
      "1928\n"
     ]
    }
   ],
   "source": [
    "import re\n",
    "year_pattern = re.compile('[0-9]{4}')\n",
    "search_res = year_pattern.search(\"before June 1928\")\n",
    "if search_res:\n",
    "    print(search_res.group())\n",
    "else:\n",
    "    print(\"no match\")"
   ]
  },
  {
   "cell_type": "code",
   "execution_count": null,
   "id": "4e3f55d4",
   "metadata": {},
   "outputs": [],
   "source": []
  }
 ],
 "metadata": {
  "kernelspec": {
   "display_name": "Python 3 (ipykernel)",
   "language": "python",
   "name": "python3"
  },
  "language_info": {
   "codemirror_mode": {
    "name": "ipython",
    "version": 3
   },
   "file_extension": ".py",
   "mimetype": "text/x-python",
   "name": "python",
   "nbconvert_exporter": "python",
   "pygments_lexer": "ipython3",
   "version": "3.8.8"
  },
  "varInspector": {
   "cols": {
    "lenName": 16,
    "lenType": 16,
    "lenVar": 40
   },
   "kernels_config": {
    "python": {
     "delete_cmd_postfix": "",
     "delete_cmd_prefix": "del ",
     "library": "var_list.py",
     "varRefreshCmd": "print(var_dic_list())"
    },
    "r": {
     "delete_cmd_postfix": ") ",
     "delete_cmd_prefix": "rm(",
     "library": "var_list.r",
     "varRefreshCmd": "cat(var_dic_list()) "
    }
   },
   "position": {
    "height": "144px",
    "left": "994px",
    "right": "20px",
    "top": "121px",
    "width": "350px"
   },
   "types_to_exclude": [
    "module",
    "function",
    "builtin_function_or_method",
    "instance",
    "_Feature"
   ],
   "window_display": true
  }
 },
 "nbformat": 4,
 "nbformat_minor": 5
}
