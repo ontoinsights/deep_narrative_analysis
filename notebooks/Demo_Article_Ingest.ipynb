{
 "cells": [
  {
   "cell_type": "markdown",
   "id": "80c27981",
   "metadata": {},
   "source": [
    "# Input several news articles into the Stardog DNA repositories\n",
    "\n",
    "There are 8 articles from different sources on the topics of the UN Gaza Ceasefire vote, the lowering of the Trump bond payment, the start of the Trump NY trial in mid-April, and the FL Supreme Court upholding the 6-week abortion ban.\n",
    "\n",
    "Make sure that: \n",
    "* The DNA flask is running (execute 'flask run' from the dna directory)"
   ]
  },
  {
   "cell_type": "code",
   "execution_count": 1,
   "id": "3e740c1b",
   "metadata": {
    "ExecuteTime": {
     "end_time": "2024-04-23T20:56:56.014191Z",
     "start_time": "2024-04-23T20:56:55.936460Z"
    }
   },
   "outputs": [],
   "source": [
    "import json\n",
    "import requests"
   ]
  },
  {
   "cell_type": "code",
   "execution_count": 2,
   "id": "6821e82a",
   "metadata": {
    "ExecuteTime": {
     "end_time": "2024-04-18T03:05:24.853411Z",
     "start_time": "2024-04-18T03:05:01.523138Z"
    }
   },
   "outputs": [
    {
     "name": "stdout",
     "output_type": "stream",
     "text": [
      "200 <Response [200]>\n",
      "200 <Response [200]>\n",
      "200 <Response [200]>\n",
      "200 <Response [200]>\n"
     ]
    }
   ],
   "source": [
    "# Delete repositories (if they exist)\n",
    "response = requests.delete('http://127.0.0.1:5000/dna/v1/repositories?repository=ceasefire')\n",
    "print(response.status_code, response) \n",
    "response = requests.delete('http://127.0.0.1:5000/dna/v1/repositories?repository=trump_bond')\n",
    "print(response.status_code, response) \n",
    "response = requests.delete('http://127.0.0.1:5000/dna/v1/repositories?repository=fl_abortion')\n",
    "print(response.status_code, response) \n",
    "response = requests.delete('http://127.0.0.1:5000/dna/v1/repositories?repository=trump_trial')\n",
    "print(response.status_code, response) "
   ]
  },
  {
   "cell_type": "code",
   "execution_count": 3,
   "id": "5ed2299c",
   "metadata": {
    "ExecuteTime": {
     "end_time": "2024-04-18T03:10:34.446877Z",
     "start_time": "2024-04-18T03:10:29.137468Z"
    }
   },
   "outputs": [
    {
     "name": "stdout",
     "output_type": "stream",
     "text": [
      "201 <Response [201]>\n",
      "201 <Response [201]>\n",
      "201 <Response [201]>\n",
      "201 <Response [201]>\n",
      "200 [{'created': '2024-04-17T23:10:29', 'repository': 'ceasefire'}, {'created': '2024-04-17T23:10:31', 'repository': 'trump_bond'}, {'created': '2024-04-17T23:10:32', 'repository': 'fl_abortion'}, {'created': '2024-04-17T23:10:33', 'repository': 'trump_trial'}]\n"
     ]
    }
   ],
   "source": [
    "# Create the repositories for the news articles\n",
    "response = requests.post('http://127.0.0.1:5000/dna/v1/repositories?repository=ceasefire')\n",
    "print(response.status_code, response) \n",
    "response = requests.post('http://127.0.0.1:5000/dna/v1/repositories?repository=trump_bond')\n",
    "print(response.status_code, response) \n",
    "response = requests.post('http://127.0.0.1:5000/dna/v1/repositories?repository=fl_abortion')\n",
    "print(response.status_code, response) \n",
    "response = requests.post('http://127.0.0.1:5000/dna/v1/repositories?repository=trump_trial')\n",
    "print(response.status_code, response) \n",
    "# Verify that the repositories were created\n",
    "response = requests.get('http://127.0.0.1:5000/dna/v1/repositories')\n",
    "print(response.status_code, response.json()) "
   ]
  },
  {
   "cell_type": "code",
   "execution_count": 4,
   "id": "2e31485e",
   "metadata": {
    "ExecuteTime": {
     "end_time": "2024-04-18T03:10:37.772580Z",
     "start_time": "2024-04-18T03:10:37.760970Z"
    },
    "code_folding": []
   },
   "outputs": [],
   "source": [
    "# Articles for ingest\n",
    "ceasefire_aljazeera = {\n",
    "            \"title\": \"UN Security Council demands immediate Gaza ceasefire as US abstains\",\n",
    "            \"published\": \"2024-03-25T00:00:00\",\n",
    "            \"url\": \"https://www.aljazeera.com/news/2024/3/25/un-security-council-adopts-resolution-calling-for-immediate-gaza-ceasefire\"}\n",
    "ceasefire_breitbart = {\n",
    "            \"title\": \"GOP Blasts Biden’s ‘Unconscionable’ U.N. Vote Abstention on Gaza\",\n",
    "            \"published\": \"2024-03-25T00:00:00\",\n",
    "            \"url\": \"https://www.breitbart.com/politics/2024/03/25/gop-blasts-bidens-unconscionable-un-vote-abstention-gaza-anti-israel-president/\"}\n",
    "ceasefire_cnn = {\n",
    "            \"title\": \"Israel cancels Washington visit after US allows UN Gaza ceasefire resolution to pass\",\n",
    "            \"published\": \"2024-03-25T00:00:00\",\n",
    "            \"url\": \"https://www.cnn.com/2024/03/25/middleeast/un-security-council-gaza-israel-ceasefire-intl/index.html\"}\n",
    "ceasefire_fox = {\n",
    "            \"title\": \"Netanyahu cancels Israeli delegation's trip to Washington after US fails to veto UN cease-fire resolution\",\n",
    "            \"published\": \"2024-03-25T00:00:00\",\n",
    "            \"url\": \"https://www.foxnews.com/politics/netanyahu-cancels-israeli-delegations-trip-washington-us-fails-veto-un-cease-fire-resolution\"}\n",
    "ceasefire_huffpost = {\n",
    "            \"title\": \"UN Demand For Gaza Cease-fire Provokes Strongest Clash Between US And Israel Since War Began\",\n",
    "            \"published\": \"2024-03-25T00:00:00\",\n",
    "            \"url\": \"https://www.huffpost.com/entry/un-cease-fire-gaza_n_66019107e4b08460c3e7dc60\"}\n",
    "ceasefire_nyt = {\n",
    "            \"title\": \"U.N. Security Council Calls for Immediate Cease-Fire in Gaza as U.S. Abstains\",\n",
    "            \"published\": \"2024-03-25T00:00:00\",\n",
    "            \"url\": \"https://www.nytimes.com/2024/03/25/world/middleeast/un-security-council-gaza-ceasefire.html?searchResultPosition=2\"}\n",
    "ceasefire_watimes = {\n",
    "            \"title\": \"White House defends its refusal to block U.N. cease-fire resolution\",\n",
    "            \"published\": \"2024-03-25T00:00:00\",\n",
    "            \"url\": \"https://www.washingtontimes.com/news/2024/mar/25/white-house-defends-its-refusal-to-block-un-cease-/\"}\n",
    "ceasefire_wsj = {\n",
    "            \"title\": \"Israel Cancels Visit to Washington After U.S. Abstains on U.N. Cease-Fire Resolution\",\n",
    "            \"published\": \"2024-03-25T00:00:00\",\n",
    "            \"url\": \"https://www.wsj.com/world/middle-east/hostage-talks-stall-as-israeli-defense-minister-arrives-in-washington-ea36821d\"}\n",
    "\n",
    "fl_abortion_aljazeera = {\n",
    "            \"title\": \"Biden denounces Florida abortion ruling as ‘outrageous’ as state vote looms\",\n",
    "            \"published\": \"2024-04-02T00:00:00\",\n",
    "            \"url\": \"https://www.aljazeera.com/news/2024/4/2/biden-denounces-florida-abortion-ruling-as-outrageous-as-state-vote-looms\"}\n",
    "fl_abortion_breitbart = {\n",
    "            \"title\": \"Florida Supreme Court Upholds 15-Week Abortion Limit, But Voters Will Decide in November\",\n",
    "            \"published\": \"2024-03-25T00:00:00\",\n",
    "            \"url\": \"https://www.breitbart.com/politics/2024/04/01/florida-supreme-court-upholds-15-week-abortion-limit-but-voters-will-decide-in-november/\"}\n",
    "fl_abortion_cnn = {\n",
    "            \"title\": \"Florida six-week abortion ban will soon become law, but voters will consider a constitutional amendment this fall\",\n",
    "            \"published\": \"2024-04-02T00:00:00\",\n",
    "            \"url\": \"https://www.cnn.com/2024/04/01/politics/florida-six-week-abortion-ban/index.html\"}\n",
    "fl_abortion_fox = {\n",
    "            \"title\": \"Florida Supreme Court approves abortion ballot initiative while upholding 15-week ban\",\n",
    "            \"published\": \"2024-03-25T00:00:00\",\n",
    "            \"url\": \"https://www.foxnews.com/politics/florida-supreme-court-approves-abortion-ballot-initiative-upholding-15-week-ban\"}\n",
    "fl_abortion_huffpost = {\n",
    "            \"title\": \"Top Florida Court Rules Against Protections For Abortion, Greenlights 6-Week Ban\",\n",
    "            \"published\": \"2024-03-25T00:00:00\",\n",
    "            \"url\": \"https://www.huffpost.com/entry/florida-court-abortion-6-week-ban_n_65088b87e4b0f04446230d7e\"}\n",
    "fl_abortion_nyt = {\n",
    "            \"title\": \"Florida Court Allows 6-Week Abortion Ban, but Voters Will Get to Weigh In\",\n",
    "            \"published\": \"2024-03-25T00:00:00\",\n",
    "            \"url\": \"https://www.nytimes.com/2024/04/01/us/florida-abortion-law-supreme-court.html\"}\n",
    "fl_abortion_watimes = {\n",
    "            \"title\": \"Florida Supreme Court upholds state’s 15-week ban on most abortions, paving way for 6-week ban\",\n",
    "            \"published\": \"2024-03-25T00:00:00\",\n",
    "            \"url\": \"https://www.washingtontimes.com/news/2024/apr/1/florida-supreme-court-upholds-states-15-week-ban-2/\"}\n",
    "fl_abortion_wsj = {\n",
    "            \"title\": \"Florida Abortion Rulings to Keep Issue Front and Center in November\",\n",
    "            \"published\": \"2024-03-25T00:00:00\",\n",
    "            \"url\": \"https://www.wsj.com/politics/elections/florida-abortion-rulings-to-keep-issue-front-and-center-in-november-1168511c\"}\n",
    "\n",
    "trump_bond_aljazeera = {\n",
    "            \"title\": \"New York court lowers $454m bond as Trump appeals civil fraud case\",\n",
    "            \"published\": \"2024-03-25T00:00:00\",\n",
    "            \"url\": \"https://www.aljazeera.com/news/2024/3/25/new-york-court-pauses-collection-of-454m-in-trump-civil-fraud-case\"}\n",
    "trump_bond_breitbart = {\n",
    "            \"title\": \"‘Partisan Hacks’: Conservatives React to Trump Bond Ruling\",\n",
    "            \"published\": \"2024-03-25T00:00:00\",\n",
    "            \"url\": \"https://www.breitbart.com/politics/2024/03/25/partisan-hacks-conservatives-react-trump-bond-ruling/\"}\n",
    "trump_bond_cnn = {\n",
    "            \"title\": \"Trump bond lowered to $175 million as he appeals civil fraud judgment in New York\",\n",
    "            \"published\": \"2024-03-25T00:00:00\",\n",
    "            \"url\": \"https://www.cnn.com/2024/03/25/politics/trump-civil-fraud-trial-bond/index.html\"}\n",
    "trump_bond_fox = {\n",
    "            \"title\": \"Trump's $454M judgment bond slashed by more than half in appeals court ruling\",\n",
    "            \"published\": \"2024-03-25T00:00:00\",\n",
    "            \"url\": \"https://www.foxnews.com/politics/trumps-454m-judgment-bond-slashed-more-than-half-appeals-court-ruling\"}\n",
    "trump_bond_huffpost = {\n",
    "            \"title\": \"Judge Reduces Donald Trump's Bond In Civil Fraud Appeal To $175 Million\",\n",
    "            \"published\": \"2024-03-25T00:00:00\",\n",
    "            \"url\": \"https://www.huffpost.com/entry/trump-bond-reduced-fraud-appeal_n_660198c0e4b059750143d44c\"}\n",
    "trump_bond_nyt = {\n",
    "            \"title\": \"Trump’s Bond in Civil Fraud Case Is Reduced to $175 Million\",\n",
    "            \"published\": \"2024-03-25T00:00:00\",\n",
    "            \"url\": \"https://www.nytimes.com/2024/03/25/nyregion/trump-bond-reduced.html\"}\n",
    "trump_bond_watimes = {\n",
    "            \"title\": \"Trump can post smaller bond amount of $175M within 10 days, appeals court rules\",\n",
    "            \"published\": \"2024-03-25T00:00:00\",\n",
    "            \"url\": \"https://www.washingtontimes.com/news/2024/mar/25/donald-trump-can-post-smaller-bond-amount-of-175m-/\"}\n",
    "trump_bond_wsj = {\n",
    "            \"title\": \"Trump Can Post Smaller $175 Million Bond in Civil Fraud Case\",\n",
    "            \"published\": \"2024-03-25T00:00:00\",\n",
    "            \"url\": \"https://www.wsj.com/us-news/law/donald-trump-new-york-fraud-bond-due-05f590e4\"}\n",
    "\n",
    "trump_trial_aljazeera = {\n",
    "            \"title\": \"Six takeaways from first day of Trump’s New York hush money criminal trial\",\n",
    "            \"published\": \"2024-04-15T00:00:00\",\n",
    "            \"url\": \"https://www.aljazeera.com/news/2024/4/15/five-takeaways-from-first-day-of-trumps-historic-new-york-cirminal-trial\"}\n",
    "trump_trial_breitbart = {\n",
    "            \"title\": \"Unprecedented Trump Criminal Trial Begins with Jury Selection\",\n",
    "            \"published\": \"2024-04-15T00:00:00\",\n",
    "            \"url\": \"https://www.breitbart.com/politics/2024/04/15/unprecedented-trump-criminal-trial-begins-with-jury-selection/\"}\n",
    "trump_trial_cnn = {\n",
    "            \"title\": \"Trump has an unusual request on trial Day 1\",\n",
    "            \"published\": \"2024-04-15T00:00:00\",\n",
    "            \"url\": \"https://www.cnn.com/2024/04/15/politics/trump-trial-day-1-what-matters/index.html\"}\n",
    "trump_trial_fox = {\n",
    "            \"title\": \"Trump hush money trial begins in New York City with jury selection\",\n",
    "            \"published\": \"2024-04-15T00:00:00\",\n",
    "            \"url\": \"https://www.foxnews.com/politics/trump-bragg-hush-money-trial-begins-new-york-city-jury-selection\"}\n",
    "trump_trial_huffpost = {\n",
    "            \"title\": \"Manhattan Court To Find Jurors To Hear First-Ever Criminal Case Against An Ex-President\",\n",
    "            \"published\": \"2024-04-12T00:00:00\",\n",
    "            \"url\": \"https://www.huffpost.com/entry/trump-bond-reduced-fraud-appeal_n_660198c0e4b059750143d44c\"}\n",
    "trump_trial_nyt = {\n",
    "            \"title\": \"A Historic Day\",\n",
    "            \"published\": \"2024-04-15T00:00:00\",\n",
    "            \"url\": \"https://www.nytimes.com/2024/04/15/us/politics/trump-trial-manhattan-first-day.html\"}\n",
    "trump_trial_watimes = {\n",
    "            \"title\": \"Trump’s history-making hush-money trial begins with challenge of picking a jury\",\n",
    "            \"published\": \"2024-04-15T00:00:00\",\n",
    "            \"url\": \"https://www.washingtontimes.com/news/2024/apr/15/trumps-hush-money-trial-begins-with-challenge-of-p/\"}\n",
    "trump_trial_wsj = {\n",
    "            \"title\": \"Donald Trump Faces Deep Blue Jury Pool as Hush-Money Case Begins\",\n",
    "            \"published\": \"2024-04-15T00:00:00\",\n",
    "            \"url\": \"https://www.wsj.com/us-news/law/trump-hush-money-trial-jury-2bc58769\"}\n",
    "\n",
    "repos = ['ceasefire', 'fl_abortion', 'trump_bond', 'trump_trial']\n",
    "# 2 ~neutral sources (Al Jazeera, WSJ), 3 right/conservative sources(Breitbart, Fox, WA Times)\n",
    "#    3 left/liberal sources (CNN, Huffington Post, NYT)\n",
    "sources = {'aljazeera': 'Al Jazeera',    # ~ neutral\n",
    "           'wsj': 'Wall Street Journal',\n",
    "           'breitbart': 'Breitbart',     # conservative\n",
    "           'fox': 'Fox News',\n",
    "           'watimes': 'Washington Times',\n",
    "           'cnn': 'CNN',                 # liberal\n",
    "           'huffpost': 'Huffington Post',\n",
    "           'nyt': 'New York Times'}"
   ]
  },
  {
   "cell_type": "code",
   "execution_count": 5,
   "id": "4027a3f0",
   "metadata": {
    "ExecuteTime": {
     "end_time": "2024-04-18T03:10:44.438556Z",
     "start_time": "2024-04-18T03:10:44.434386Z"
    },
    "code_folding": [],
    "scrolled": true
   },
   "outputs": [],
   "source": [
    "# Function to ingest the first 10 sentences of the 8 news articles regarding a specific topic \n",
    "# (ingested to the topic repository)\n",
    "# for repo in repos:\n",
    "def ingest_articles(repo: str): \n",
    "    for source in sources:\n",
    "        repo_source = f'{repo}_{source}'\n",
    "        print('repo_source ', repo_source)\n",
    "        with open(f'articles/{repo_source}.txt', 'r') as news:\n",
    "            news_text = news.read()  \n",
    "        metadata = globals()[repo_source]\n",
    "        req_dict = metadata\n",
    "        req_dict[\"source\"] = sources[source]\n",
    "        req_dict[\"text\"] = news_text\n",
    "        response = requests.post(\n",
    "            f'http://127.0.0.1:5000/dna/v1/repositories/narratives?repository={repo}&sentences=10',\n",
    "            json=req_dict)\n",
    "        print(response)\n",
    "        print(response.status_code, response.json())\n",
    "        print()"
   ]
  },
  {
   "cell_type": "code",
   "execution_count": 6,
   "id": "94250cb7",
   "metadata": {
    "ExecuteTime": {
     "end_time": "2024-04-18T04:18:51.796996Z",
     "start_time": "2024-04-18T03:10:55.161589Z"
    }
   },
   "outputs": [
    {
     "name": "stdout",
     "output_type": "stream",
     "text": [
      "repo_source  ceasefire_aljazeera\n",
      "<Response [201]>\n",
      "201 {'narrativeDetails': {'narrativeId': 'f9902ead', 'narrativeMetadata': {'published': '2024-03-25T00:00:00', 'source': 'Al Jazeera', 'title': 'UN Security Council demands immediate Gaza ceasefire as US abstains', 'url': 'https://www.aljazeera.com/news/2024/3/25/un-security-council-adopts-resolution-calling-for-immediate-gaza-ceasefire'}, 'numberIngested': 10, 'numberOfSentences': 40, 'numberOfTriples': '560', 'processed': '2024-04-17T23:18:52'}, 'repository': 'ceasefire'}\n",
      "\n",
      "repo_source  ceasefire_wsj\n",
      "<Response [201]>\n",
      "201 {'narrativeDetails': {'narrativeId': '53f8dde0', 'narrativeMetadata': {'published': '2024-03-25T00:00:00', 'source': 'Wall Street Journal', 'title': 'Israel Cancels Visit to Washington After U.S. Abstains on U.N. Cease-Fire Resolution', 'url': 'https://www.wsj.com/world/middle-east/hostage-talks-stall-as-israeli-defense-minister-arrives-in-washington-ea36821d'}, 'numberIngested': 10, 'numberOfSentences': 46, 'numberOfTriples': '597', 'processed': '2024-04-17T23:27:20'}, 'repository': 'ceasefire'}\n",
      "\n",
      "repo_source  ceasefire_breitbart\n",
      "<Response [201]>\n",
      "201 {'narrativeDetails': {'narrativeId': '5854e6a0', 'narrativeMetadata': {'published': '2024-03-25T00:00:00', 'source': 'Breitbart', 'title': 'GOP Blasts Biden’s ‘Unconscionable’ U.N. Vote Abstention on Gaza', 'url': 'https://www.breitbart.com/politics/2024/03/25/gop-blasts-bidens-unconscionable-un-vote-abstention-gaza-anti-israel-president/'}, 'numberIngested': 10, 'numberOfSentences': 36, 'numberOfTriples': '1353', 'processed': '2024-04-17T23:46:34'}, 'repository': 'ceasefire'}\n",
      "\n",
      "repo_source  ceasefire_fox\n",
      "<Response [201]>\n",
      "201 {'narrativeDetails': {'narrativeId': 'c274754a', 'narrativeMetadata': {'published': '2024-03-25T00:00:00', 'source': 'Fox News', 'title': \"Netanyahu cancels Israeli delegation's trip to Washington after US fails to veto UN cease-fire resolution\", 'url': 'https://www.foxnews.com/politics/netanyahu-cancels-israeli-delegations-trip-washington-us-fails-veto-un-cease-fire-resolution'}, 'numberIngested': 10, 'numberOfSentences': 14, 'numberOfTriples': '440', 'processed': '2024-04-17T23:52:36'}, 'repository': 'ceasefire'}\n",
      "\n",
      "repo_source  ceasefire_watimes\n",
      "<Response [201]>\n",
      "201 {'narrativeDetails': {'narrativeId': '864d90c7', 'narrativeMetadata': {'published': '2024-03-25T00:00:00', 'source': 'Washington Times', 'title': 'White House defends its refusal to block U.N. cease-fire resolution', 'url': 'https://www.washingtontimes.com/news/2024/mar/25/white-house-defends-its-refusal-to-block-un-cease-/'}, 'numberIngested': 9, 'numberOfSentences': 10, 'numberOfTriples': '382', 'processed': '2024-04-17T23:57:26'}, 'repository': 'ceasefire'}\n",
      "\n",
      "repo_source  ceasefire_cnn\n",
      "<Response [201]>\n",
      "201 {'narrativeDetails': {'narrativeId': '6140edac', 'narrativeMetadata': {'published': '2024-03-25T00:00:00', 'source': 'CNN', 'title': 'Israel cancels Washington visit after US allows UN Gaza ceasefire resolution to pass', 'url': 'https://www.cnn.com/2024/03/25/middleeast/un-security-council-gaza-israel-ceasefire-intl/index.html'}, 'numberIngested': 10, 'numberOfSentences': 36, 'numberOfTriples': '568', 'processed': '2024-04-18T00:04:47'}, 'repository': 'ceasefire'}\n",
      "\n",
      "repo_source  ceasefire_huffpost\n",
      "<Response [201]>\n",
      "201 {'narrativeDetails': {'narrativeId': 'e03db09d', 'narrativeMetadata': {'published': '2024-03-25T00:00:00', 'source': 'Huffington Post', 'title': 'UN Demand For Gaza Cease-fire Provokes Strongest Clash Between US And Israel Since War Began', 'url': 'https://www.huffpost.com/entry/un-cease-fire-gaza_n_66019107e4b08460c3e7dc60'}, 'numberIngested': 10, 'numberOfSentences': 48, 'numberOfTriples': '524', 'processed': '2024-04-18T00:11:37'}, 'repository': 'ceasefire'}\n",
      "\n",
      "repo_source  ceasefire_nyt\n",
      "<Response [201]>\n",
      "201 {'narrativeDetails': {'narrativeId': '7633c4af', 'narrativeMetadata': {'published': '2024-03-25T00:00:00', 'source': 'New York Times', 'title': 'U.N. Security Council Calls for Immediate Cease-Fire in Gaza as U.S. Abstains', 'url': 'https://www.nytimes.com/2024/03/25/world/middleeast/un-security-council-gaza-ceasefire.html?searchResultPosition=2'}, 'numberIngested': 10, 'numberOfSentences': 43, 'numberOfTriples': '558', 'processed': '2024-04-18T00:18:27'}, 'repository': 'ceasefire'}\n",
      "\n"
     ]
    }
   ],
   "source": [
    "ingest_articles('ceasefire')"
   ]
  },
  {
   "cell_type": "code",
   "execution_count": 7,
   "id": "74076cba",
   "metadata": {
    "ExecuteTime": {
     "end_time": "2024-04-18T05:20:12.839078Z",
     "start_time": "2024-04-18T04:25:44.752263Z"
    }
   },
   "outputs": [
    {
     "name": "stdout",
     "output_type": "stream",
     "text": [
      "repo_source  fl_abortion_aljazeera\n",
      "<Response [201]>\n",
      "201 {'narrativeDetails': {'narrativeId': '3cfe546b', 'narrativeMetadata': {'published': '2024-04-02T00:00:00', 'source': 'Al Jazeera', 'title': 'Biden denounces Florida abortion ruling as ‘outrageous’ as state vote looms', 'url': 'https://www.aljazeera.com/news/2024/4/2/biden-denounces-florida-abortion-ruling-as-outrageous-as-state-vote-looms'}, 'numberIngested': 10, 'numberOfSentences': 35, 'numberOfTriples': '511', 'processed': '2024-04-18T00:32:00'}, 'repository': 'fl_abortion'}\n",
      "\n",
      "repo_source  fl_abortion_wsj\n",
      "<Response [201]>\n",
      "201 {'narrativeDetails': {'narrativeId': '3c6c05f5', 'narrativeMetadata': {'published': '2024-03-25T00:00:00', 'source': 'Wall Street Journal', 'title': 'Florida Abortion Rulings to Keep Issue Front and Center in November', 'url': 'https://www.wsj.com/politics/elections/florida-abortion-rulings-to-keep-issue-front-and-center-in-november-1168511c'}, 'numberIngested': 10, 'numberOfSentences': 33, 'numberOfTriples': '498', 'processed': '2024-04-18T00:37:58'}, 'repository': 'fl_abortion'}\n",
      "\n",
      "repo_source  fl_abortion_breitbart\n",
      "<Response [201]>\n",
      "201 {'narrativeDetails': {'narrativeId': 'd71814a5', 'narrativeMetadata': {'published': '2024-03-25T00:00:00', 'source': 'Breitbart', 'title': 'Florida Supreme Court Upholds 15-Week Abortion Limit, But Voters Will Decide in November', 'url': 'https://www.breitbart.com/politics/2024/04/01/florida-supreme-court-upholds-15-week-abortion-limit-but-voters-will-decide-in-november/'}, 'numberIngested': 10, 'numberOfSentences': 32, 'numberOfTriples': '500', 'processed': '2024-04-18T00:44:54'}, 'repository': 'fl_abortion'}\n",
      "\n",
      "repo_source  fl_abortion_fox\n",
      "<Response [201]>\n",
      "201 {'narrativeDetails': {'narrativeId': '4c70744c', 'narrativeMetadata': {'published': '2024-03-25T00:00:00', 'source': 'Fox News', 'title': 'Florida Supreme Court approves abortion ballot initiative while upholding 15-week ban', 'url': 'https://www.foxnews.com/politics/florida-supreme-court-approves-abortion-ballot-initiative-upholding-15-week-ban'}, 'numberIngested': 10, 'numberOfSentences': 13, 'numberOfTriples': '466', 'processed': '2024-04-18T00:51:06'}, 'repository': 'fl_abortion'}\n",
      "\n",
      "repo_source  fl_abortion_watimes\n",
      "<Response [201]>\n",
      "201 {'narrativeDetails': {'narrativeId': 'de72054e', 'narrativeMetadata': {'published': '2024-03-25T00:00:00', 'source': 'Washington Times', 'title': 'Florida Supreme Court upholds state’s 15-week ban on most abortions, paving way for 6-week ban', 'url': 'https://www.washingtontimes.com/news/2024/apr/1/florida-supreme-court-upholds-states-15-week-ban-2/'}, 'numberIngested': 10, 'numberOfSentences': 17, 'numberOfTriples': '344', 'processed': '2024-04-18T00:55:33'}, 'repository': 'fl_abortion'}\n",
      "\n",
      "repo_source  fl_abortion_cnn\n",
      "<Response [201]>\n",
      "201 {'narrativeDetails': {'narrativeId': '0c7fa649', 'narrativeMetadata': {'published': '2024-04-02T00:00:00', 'source': 'CNN', 'title': 'Florida six-week abortion ban will soon become law, but voters will consider a constitutional amendment this fall', 'url': 'https://www.cnn.com/2024/04/01/politics/florida-six-week-abortion-ban/index.html'}, 'numberIngested': 10, 'numberOfSentences': 47, 'numberOfTriples': '650', 'processed': '2024-04-18T01:04:44'}, 'repository': 'fl_abortion'}\n",
      "\n",
      "repo_source  fl_abortion_huffpost\n",
      "<Response [201]>\n",
      "201 {'narrativeDetails': {'narrativeId': '703b9007', 'narrativeMetadata': {'published': '2024-03-25T00:00:00', 'source': 'Huffington Post', 'title': 'Top Florida Court Rules Against Protections For Abortion, Greenlights 6-Week Ban', 'url': 'https://www.huffpost.com/entry/florida-court-abortion-6-week-ban_n_65088b87e4b0f04446230d7e'}, 'numberIngested': 10, 'numberOfSentences': 37, 'numberOfTriples': '553', 'processed': '2024-04-18T01:12:46'}, 'repository': 'fl_abortion'}\n",
      "\n",
      "repo_source  fl_abortion_nyt\n",
      "<Response [201]>\n",
      "201 {'narrativeDetails': {'narrativeId': '2ff893e9', 'narrativeMetadata': {'published': '2024-03-25T00:00:00', 'source': 'New York Times', 'title': 'Florida Court Allows 6-Week Abortion Ban, but Voters Will Get to Weigh In', 'url': 'https://www.nytimes.com/2024/04/01/us/florida-abortion-law-supreme-court.html'}, 'numberIngested': 10, 'numberOfSentences': 36, 'numberOfTriples': '556', 'processed': '2024-04-18T01:19:52'}, 'repository': 'fl_abortion'}\n",
      "\n"
     ]
    }
   ],
   "source": [
    "ingest_articles('fl_abortion')"
   ]
  },
  {
   "cell_type": "code",
   "execution_count": 8,
   "id": "44b297a9",
   "metadata": {
    "ExecuteTime": {
     "end_time": "2024-04-18T12:35:19.655530Z",
     "start_time": "2024-04-18T11:38:03.748702Z"
    }
   },
   "outputs": [
    {
     "name": "stdout",
     "output_type": "stream",
     "text": [
      "repo_source  trump_bond_aljazeera\n",
      "<Response [201]>\n",
      "201 {'narrativeDetails': {'narrativeId': 'e2ba8164', 'narrativeMetadata': {'published': '2024-03-25T00:00:00', 'source': 'Al Jazeera', 'title': 'New York court lowers $454m bond as Trump appeals civil fraud case', 'url': 'https://www.aljazeera.com/news/2024/3/25/new-york-court-pauses-collection-of-454m-in-trump-civil-fraud-case'}, 'numberIngested': 10, 'numberOfSentences': 23, 'numberOfTriples': '360', 'processed': '2024-04-18T07:43:27'}, 'repository': 'trump_bond'}\n",
      "\n",
      "repo_source  trump_bond_wsj\n",
      "<Response [201]>\n",
      "201 {'narrativeDetails': {'narrativeId': '75600a62', 'narrativeMetadata': {'published': '2024-03-25T00:00:00', 'source': 'Wall Street Journal', 'title': 'Trump Can Post Smaller $175 Million Bond in Civil Fraud Case', 'url': 'https://www.wsj.com/us-news/law/donald-trump-new-york-fraud-bond-due-05f590e4'}, 'numberIngested': 10, 'numberOfSentences': 37, 'numberOfTriples': '407', 'processed': '2024-04-18T07:50:10'}, 'repository': 'trump_bond'}\n",
      "\n",
      "repo_source  trump_bond_breitbart\n",
      "<Response [201]>\n",
      "201 {'narrativeDetails': {'narrativeId': '4ff4be2d', 'narrativeMetadata': {'published': '2024-03-25T00:00:00', 'source': 'Breitbart', 'title': '‘Partisan Hacks’: Conservatives React to Trump Bond Ruling', 'url': 'https://www.breitbart.com/politics/2024/03/25/partisan-hacks-conservatives-react-trump-bond-ruling/'}, 'numberIngested': 10, 'numberOfSentences': 21, 'numberOfTriples': '552', 'processed': '2024-04-18T07:59:20'}, 'repository': 'trump_bond'}\n",
      "\n",
      "repo_source  trump_bond_fox\n",
      "<Response [201]>\n",
      "201 {'narrativeDetails': {'narrativeId': '50863878', 'narrativeMetadata': {'published': '2024-03-25T00:00:00', 'source': 'Fox News', 'title': \"Trump's $454M judgment bond slashed by more than half in appeals court ruling\", 'url': 'https://www.foxnews.com/politics/trumps-454m-judgment-bond-slashed-more-than-half-appeals-court-ruling'}, 'numberIngested': 10, 'numberOfSentences': 39, 'numberOfTriples': '685', 'processed': '2024-04-18T08:10:18'}, 'repository': 'trump_bond'}\n",
      "\n",
      "repo_source  trump_bond_watimes\n",
      "<Response [201]>\n",
      "201 {'narrativeDetails': {'narrativeId': 'cd2b1cde', 'narrativeMetadata': {'published': '2024-03-25T00:00:00', 'source': 'Washington Times', 'title': 'Trump can post smaller bond amount of $175M within 10 days, appeals court rules', 'url': 'https://www.washingtontimes.com/news/2024/mar/25/donald-trump-can-post-smaller-bond-amount-of-175m-/'}, 'numberIngested': 10, 'numberOfSentences': 18, 'numberOfTriples': '448', 'processed': '2024-04-18T08:17:18'}, 'repository': 'trump_bond'}\n",
      "\n",
      "repo_source  trump_bond_cnn\n",
      "<Response [201]>\n",
      "201 {'narrativeDetails': {'narrativeId': 'c087d40b', 'narrativeMetadata': {'published': '2024-03-25T00:00:00', 'source': 'CNN', 'title': 'Trump bond lowered to $175 million as he appeals civil fraud judgment in New York', 'url': 'https://www.cnn.com/2024/03/25/politics/trump-civil-fraud-trial-bond/index.html'}, 'numberIngested': 7, 'numberOfSentences': 8, 'numberOfTriples': '288', 'processed': '2024-04-18T08:21:33'}, 'repository': 'trump_bond'}\n",
      "\n",
      "repo_source  trump_bond_huffpost\n",
      "<Response [201]>\n",
      "201 {'narrativeDetails': {'narrativeId': '4db4f3a6', 'narrativeMetadata': {'published': '2024-03-25T00:00:00', 'source': 'Huffington Post', 'title': \"Judge Reduces Donald Trump's Bond In Civil Fraud Appeal To $175 Million\", 'url': 'https://www.huffpost.com/entry/trump-bond-reduced-fraud-appeal_n_660198c0e4b059750143d44c'}, 'numberIngested': 10, 'numberOfSentences': 17, 'numberOfTriples': '386', 'processed': '2024-04-18T08:27:33'}, 'repository': 'trump_bond'}\n",
      "\n",
      "repo_source  trump_bond_nyt\n",
      "<Response [201]>\n",
      "201 {'narrativeDetails': {'narrativeId': '37dc5383', 'narrativeMetadata': {'published': '2024-03-25T00:00:00', 'source': 'New York Times', 'title': 'Trump’s Bond in Civil Fraud Case Is Reduced to $175 Million', 'url': 'https://www.nytimes.com/2024/03/25/nyregion/trump-bond-reduced.html'}, 'numberIngested': 10, 'numberOfSentences': 47, 'numberOfTriples': '385', 'processed': '2024-04-18T08:34:52'}, 'repository': 'trump_bond'}\n",
      "\n"
     ]
    }
   ],
   "source": [
    "ingest_articles('trump_bond')"
   ]
  },
  {
   "cell_type": "code",
   "execution_count": 9,
   "id": "56ad7165",
   "metadata": {
    "ExecuteTime": {
     "end_time": "2024-04-18T16:05:19.084652Z",
     "start_time": "2024-04-18T14:58:42.231359Z"
    },
    "scrolled": true
   },
   "outputs": [
    {
     "name": "stdout",
     "output_type": "stream",
     "text": [
      "repo_source  trump_trial_aljazeera\n",
      "<Response [201]>\n",
      "201 {'narrativeDetails': {'narrativeId': '0cb2c3c8', 'narrativeMetadata': {'published': '2024-04-15T00:00:00', 'source': 'Al Jazeera', 'title': 'Six takeaways from first day of Trump’s New York hush money criminal trial', 'url': 'https://www.aljazeera.com/news/2024/4/15/five-takeaways-from-first-day-of-trumps-historic-new-york-cirminal-trial'}, 'numberIngested': 10, 'numberOfSentences': 65, 'numberOfTriples': '433', 'processed': '2024-04-18T11:06:16'}, 'repository': 'trump_trial'}\n",
      "\n",
      "repo_source  trump_trial_wsj\n",
      "<Response [201]>\n",
      "201 {'narrativeDetails': {'narrativeId': '422e8d21', 'narrativeMetadata': {'published': '2024-04-15T00:00:00', 'source': 'Wall Street Journal', 'title': 'Donald Trump Faces Deep Blue Jury Pool as Hush-Money Case Begins', 'url': 'https://www.wsj.com/us-news/law/trump-hush-money-trial-jury-2bc58769'}, 'numberIngested': 10, 'numberOfSentences': 40, 'numberOfTriples': '408', 'processed': '2024-04-18T11:14:12'}, 'repository': 'trump_trial'}\n",
      "\n",
      "repo_source  trump_trial_breitbart\n",
      "<Response [201]>\n",
      "201 {'narrativeDetails': {'narrativeId': '97aebc56', 'narrativeMetadata': {'published': '2024-04-15T00:00:00', 'source': 'Breitbart', 'title': 'Unprecedented Trump Criminal Trial Begins with Jury Selection', 'url': 'https://www.breitbart.com/politics/2024/04/15/unprecedented-trump-criminal-trial-begins-with-jury-selection/'}, 'numberIngested': 10, 'numberOfSentences': 20, 'numberOfTriples': '405', 'processed': '2024-04-18T11:21:13'}, 'repository': 'trump_trial'}\n",
      "\n",
      "repo_source  trump_trial_fox\n",
      "<Response [201]>\n",
      "201 {'narrativeDetails': {'narrativeId': '94bb2f7c', 'narrativeMetadata': {'published': '2024-04-15T00:00:00', 'source': 'Fox News', 'title': 'Trump hush money trial begins in New York City with jury selection', 'url': 'https://www.foxnews.com/politics/trump-bragg-hush-money-trial-begins-new-york-city-jury-selection'}, 'numberIngested': 10, 'numberOfSentences': 37, 'numberOfTriples': '559', 'processed': '2024-04-18T11:31:10'}, 'repository': 'trump_trial'}\n",
      "\n",
      "repo_source  trump_trial_watimes\n",
      "<Response [201]>\n",
      "201 {'narrativeDetails': {'narrativeId': '9ddd1955', 'narrativeMetadata': {'published': '2024-04-15T00:00:00', 'source': 'Washington Times', 'title': 'Trump’s history-making hush-money trial begins with challenge of picking a jury', 'url': 'https://www.washingtontimes.com/news/2024/apr/15/trumps-hush-money-trial-begins-with-challenge-of-p/'}, 'numberIngested': 10, 'numberOfSentences': 43, 'numberOfTriples': '498', 'processed': '2024-04-18T11:40:51'}, 'repository': 'trump_trial'}\n",
      "\n",
      "repo_source  trump_trial_cnn\n",
      "<Response [201]>\n",
      "201 {'narrativeDetails': {'narrativeId': 'd65d1f22', 'narrativeMetadata': {'published': '2024-04-15T00:00:00', 'source': 'CNN', 'title': 'Trump has an unusual request on trial Day 1', 'url': 'https://www.cnn.com/2024/04/15/politics/trump-trial-day-1-what-matters/index.html'}, 'numberIngested': 10, 'numberOfSentences': 51, 'numberOfTriples': '448', 'processed': '2024-04-18T11:49:23'}, 'repository': 'trump_trial'}\n",
      "\n",
      "repo_source  trump_trial_huffpost\n",
      "<Response [201]>\n",
      "201 {'narrativeDetails': {'narrativeId': 'a362c34e', 'narrativeMetadata': {'published': '2024-04-12T00:00:00', 'source': 'Huffington Post', 'title': 'Manhattan Court To Find Jurors To Hear First-Ever Criminal Case Against An Ex-President', 'url': 'https://www.huffpost.com/entry/trump-bond-reduced-fraud-appeal_n_660198c0e4b059750143d44c'}, 'numberIngested': 10, 'numberOfSentences': 41, 'numberOfTriples': '496', 'processed': '2024-04-18T11:57:50'}, 'repository': 'trump_trial'}\n",
      "\n",
      "repo_source  trump_trial_nyt\n",
      "<Response [201]>\n",
      "201 {'narrativeDetails': {'narrativeId': 'e06e5d40', 'narrativeMetadata': {'published': '2024-04-15T00:00:00', 'source': 'New York Times', 'title': 'A Historic Day', 'url': 'https://www.nytimes.com/2024/04/15/us/politics/trump-trial-manhattan-first-day.html'}, 'numberIngested': 10, 'numberOfSentences': 39, 'numberOfTriples': '345', 'processed': '2024-04-18T12:04:51'}, 'repository': 'trump_trial'}\n",
      "\n"
     ]
    }
   ],
   "source": [
    "ingest_articles('trump_trial')"
   ]
  },
  {
   "cell_type": "code",
   "execution_count": 10,
   "id": "b59749b4",
   "metadata": {
    "ExecuteTime": {
     "end_time": "2024-04-18T20:21:37.089842Z",
     "start_time": "2024-04-18T20:21:35.732403Z"
    }
   },
   "outputs": [
    {
     "name": "stdout",
     "output_type": "stream",
     "text": [
      "200 {\n",
      " \"narratives\": [\n",
      "  {\n",
      "   \"narrativeId\": \"0cb2c3c8\",\n",
      "   \"narrativeMetadata\": {\n",
      "    \"published\": \"2024-04-15T00:00:00\",\n",
      "    \"source\": \"Al Jazeera\",\n",
      "    \"title\": \"Six takeaways from first day of Trump\\u2019s New York hush money criminal trial\",\n",
      "    \"url\": \"https://www.aljazeera.com/news/2024/4/15/five-takeaways-from-first-day-of-trumps-historic-new-york-cirminal-trial\"\n",
      "   },\n",
      "   \"numberIngested\": \"10\",\n",
      "   \"numberOfSentences\": \"65\",\n",
      "   \"numberOfTriples\": \"433\",\n",
      "   \"processed\": \"2024-04-18T11:06:16\"\n",
      "  },\n",
      "  {\n",
      "   \"narrativeId\": \"422e8d21\",\n",
      "   \"narrativeMetadata\": {\n",
      "    \"published\": \"2024-04-15T00:00:00\",\n",
      "    \"source\": \"Wall Street Journal\",\n",
      "    \"title\": \"Donald Trump Faces Deep Blue Jury Pool as Hush-Money Case Begins\",\n",
      "    \"url\": \"https://www.wsj.com/us-news/law/trump-hush-money-trial-jury-2bc58769\"\n",
      "   },\n",
      "   \"numberIngested\": \"10\",\n",
      "   \"numberOfSentences\": \"40\",\n",
      "   \"numberOfTriples\": \"408\",\n",
      "   \"processed\": \"2024-04-18T11:14:12\"\n",
      "  },\n",
      "  {\n",
      "   \"narrativeId\": \"97aebc56\",\n",
      "   \"narrativeMetadata\": {\n",
      "    \"published\": \"2024-04-15T00:00:00\",\n",
      "    \"source\": \"Breitbart\",\n",
      "    \"title\": \"Unprecedented Trump Criminal Trial Begins with Jury Selection\",\n",
      "    \"url\": \"https://www.breitbart.com/politics/2024/04/15/unprecedented-trump-criminal-trial-begins-with-jury-selection/\"\n",
      "   },\n",
      "   \"numberIngested\": \"10\",\n",
      "   \"numberOfSentences\": \"20\",\n",
      "   \"numberOfTriples\": \"405\",\n",
      "   \"processed\": \"2024-04-18T11:21:13\"\n",
      "  },\n",
      "  {\n",
      "   \"narrativeId\": \"94bb2f7c\",\n",
      "   \"narrativeMetadata\": {\n",
      "    \"published\": \"2024-04-15T00:00:00\",\n",
      "    \"source\": \"Fox News\",\n",
      "    \"title\": \"Trump hush money trial begins in New York City with jury selection\",\n",
      "    \"url\": \"https://www.foxnews.com/politics/trump-bragg-hush-money-trial-begins-new-york-city-jury-selection\"\n",
      "   },\n",
      "   \"numberIngested\": \"10\",\n",
      "   \"numberOfSentences\": \"37\",\n",
      "   \"numberOfTriples\": \"559\",\n",
      "   \"processed\": \"2024-04-18T11:31:10\"\n",
      "  },\n",
      "  {\n",
      "   \"narrativeId\": \"9ddd1955\",\n",
      "   \"narrativeMetadata\": {\n",
      "    \"published\": \"2024-04-15T00:00:00\",\n",
      "    \"source\": \"Washington Times\",\n",
      "    \"title\": \"Trump\\u2019s history-making hush-money trial begins with challenge of picking a jury\",\n",
      "    \"url\": \"https://www.washingtontimes.com/news/2024/apr/15/trumps-hush-money-trial-begins-with-challenge-of-p/\"\n",
      "   },\n",
      "   \"numberIngested\": \"10\",\n",
      "   \"numberOfSentences\": \"43\",\n",
      "   \"numberOfTriples\": \"498\",\n",
      "   \"processed\": \"2024-04-18T11:40:51\"\n",
      "  },\n",
      "  {\n",
      "   \"narrativeId\": \"d65d1f22\",\n",
      "   \"narrativeMetadata\": {\n",
      "    \"published\": \"2024-04-15T00:00:00\",\n",
      "    \"source\": \"CNN\",\n",
      "    \"title\": \"Trump has an unusual request on trial Day 1\",\n",
      "    \"url\": \"https://www.cnn.com/2024/04/15/politics/trump-trial-day-1-what-matters/index.html\"\n",
      "   },\n",
      "   \"numberIngested\": \"10\",\n",
      "   \"numberOfSentences\": \"51\",\n",
      "   \"numberOfTriples\": \"448\",\n",
      "   \"processed\": \"2024-04-18T11:49:23\"\n",
      "  },\n",
      "  {\n",
      "   \"narrativeId\": \"a362c34e\",\n",
      "   \"narrativeMetadata\": {\n",
      "    \"published\": \"2024-04-12T00:00:00\",\n",
      "    \"source\": \"Huffington Post\",\n",
      "    \"title\": \"Manhattan Court To Find Jurors To Hear First-Ever Criminal Case Against An Ex-President\",\n",
      "    \"url\": \"https://www.huffpost.com/entry/trump-bond-reduced-fraud-appeal_n_660198c0e4b059750143d44c\"\n",
      "   },\n",
      "   \"numberIngested\": \"10\",\n",
      "   \"numberOfSentences\": \"41\",\n",
      "   \"numberOfTriples\": \"496\",\n",
      "   \"processed\": \"2024-04-18T11:57:50\"\n",
      "  },\n",
      "  {\n",
      "   \"narrativeId\": \"e06e5d40\",\n",
      "   \"narrativeMetadata\": {\n",
      "    \"published\": \"2024-04-15T00:00:00\",\n",
      "    \"source\": \"New York Times\",\n",
      "    \"title\": \"A Historic Day\",\n",
      "    \"url\": \"https://www.nytimes.com/2024/04/15/us/politics/trump-trial-manhattan-first-day.html\"\n",
      "   },\n",
      "   \"numberIngested\": \"10\",\n",
      "   \"numberOfSentences\": \"39\",\n",
      "   \"numberOfTriples\": \"345\",\n",
      "   \"processed\": \"2024-04-18T12:04:51\"\n",
      "  }\n",
      " ],\n",
      " \"repository\": \"trump_trial\"\n",
      "}\n"
     ]
    }
   ],
   "source": [
    "# Check what articles are in the repository \n",
    "response = requests.get('http://127.0.0.1:5000/dna/v1/repositories/narratives?repository=trump_trial')\n",
    "print(response.status_code, json.dumps(response.json(), indent=1))"
   ]
  },
  {
   "cell_type": "code",
   "execution_count": 3,
   "id": "df1b8f4a",
   "metadata": {
    "ExecuteTime": {
     "end_time": "2024-04-23T20:57:45.919794Z",
     "start_time": "2024-04-23T20:57:44.133454Z"
    }
   },
   "outputs": [
    {
     "name": "stdout",
     "output_type": "stream",
     "text": [
      "500\n"
     ]
    }
   ],
   "source": [
    "response = requests.get('http://127.0.0.1:5000/dna/v1/repositories/narratives/graphs?repository=trump_trial&narrativeId=a362c34e')\n",
    "print(response.status_code)"
   ]
  },
  {
   "cell_type": "code",
   "execution_count": null,
   "id": "2c5776d8",
   "metadata": {},
   "outputs": [],
   "source": []
  }
 ],
 "metadata": {
  "kernelspec": {
   "display_name": "Python 3",
   "language": "python",
   "name": "python3"
  },
  "language_info": {
   "codemirror_mode": {
    "name": "ipython",
    "version": 3
   },
   "file_extension": ".py",
   "mimetype": "text/x-python",
   "name": "python",
   "nbconvert_exporter": "python",
   "pygments_lexer": "ipython3",
   "version": "3.8.9"
  },
  "varInspector": {
   "cols": {
    "lenName": 16,
    "lenType": 16,
    "lenVar": 40
   },
   "kernels_config": {
    "python": {
     "delete_cmd_postfix": "",
     "delete_cmd_prefix": "del ",
     "library": "var_list.py",
     "varRefreshCmd": "print(var_dic_list())"
    },
    "r": {
     "delete_cmd_postfix": ") ",
     "delete_cmd_prefix": "rm(",
     "library": "var_list.r",
     "varRefreshCmd": "cat(var_dic_list()) "
    }
   },
   "position": {
    "height": "144.844px",
    "left": "1211px",
    "right": "20px",
    "top": "120px",
    "width": "350px"
   },
   "types_to_exclude": [
    "module",
    "function",
    "builtin_function_or_method",
    "instance",
    "_Feature"
   ],
   "window_display": false
  }
 },
 "nbformat": 4,
 "nbformat_minor": 5
}
