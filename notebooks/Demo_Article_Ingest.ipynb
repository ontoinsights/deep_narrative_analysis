{
 "cells": [
  {
   "cell_type": "markdown",
   "id": "80c27981",
   "metadata": {},
   "source": [
    "# Input several news articles into the Stardog DNA repositories\n",
    "\n",
    "There are 8 articles from different sources on the topics of the UN Gaza Ceasefire vote, the lowering of the Trump bond payment and the FL Supreme Court upholding the 6-week abortion ban.\n",
    "\n",
    "Make sure that: \n",
    "* The DNA flask is running (execute 'flask run' from the dna directory)"
   ]
  },
  {
   "cell_type": "code",
   "execution_count": 2,
   "id": "3e740c1b",
   "metadata": {
    "ExecuteTime": {
     "end_time": "2024-04-08T17:51:07.140015Z",
     "start_time": "2024-04-08T17:51:07.070821Z"
    }
   },
   "outputs": [],
   "source": [
    "import json\n",
    "import requests"
   ]
  },
  {
   "cell_type": "code",
   "execution_count": 2,
   "id": "6821e82a",
   "metadata": {
    "ExecuteTime": {
     "end_time": "2024-04-08T03:45:50.854794Z",
     "start_time": "2024-04-08T03:45:48.521354Z"
    }
   },
   "outputs": [
    {
     "name": "stdout",
     "output_type": "stream",
     "text": [
      "404 <Response [404]>\n",
      "404 <Response [404]>\n",
      "404 <Response [404]>\n"
     ]
    }
   ],
   "source": [
    "# Delete repositories (if they exist)\n",
    "response = requests.delete('http://127.0.0.1:5000/dna/v1/repositories?repository=ceasefire')\n",
    "print(response.status_code, response) \n",
    "response = requests.delete('http://127.0.0.1:5000/dna/v1/repositories?repository=trump_bond')\n",
    "print(response.status_code, response) \n",
    "response = requests.delete('http://127.0.0.1:5000/dna/v1/repositories?repository=fl_abortion')\n",
    "print(response.status_code, response) "
   ]
  },
  {
   "cell_type": "code",
   "execution_count": 3,
   "id": "5ed2299c",
   "metadata": {
    "ExecuteTime": {
     "end_time": "2024-04-08T03:45:55.970613Z",
     "start_time": "2024-04-08T03:45:52.007083Z"
    }
   },
   "outputs": [
    {
     "name": "stdout",
     "output_type": "stream",
     "text": [
      "201 <Response [201]>\n",
      "201 <Response [201]>\n",
      "201 <Response [201]>\n",
      "200 [{'created': '2024-04-07T23:45:52', 'repository': 'ceasefire'}, {'created': '2024-04-07T23:45:53', 'repository': 'trump_bond'}, {'created': '2024-04-07T23:45:55', 'repository': 'fl_abortion'}]\n"
     ]
    }
   ],
   "source": [
    "# Create the repositories for the news articles\n",
    "response = requests.post('http://127.0.0.1:5000/dna/v1/repositories?repository=ceasefire')\n",
    "print(response.status_code, response) \n",
    "response = requests.post('http://127.0.0.1:5000/dna/v1/repositories?repository=trump_bond')\n",
    "print(response.status_code, response) \n",
    "response = requests.post('http://127.0.0.1:5000/dna/v1/repositories?repository=fl_abortion')\n",
    "print(response.status_code, response) \n",
    "# Verify that the repositories were created\n",
    "response = requests.get('http://127.0.0.1:5000/dna/v1/repositories')\n",
    "print(response.status_code, response.json()) "
   ]
  },
  {
   "cell_type": "code",
   "execution_count": 3,
   "id": "2e31485e",
   "metadata": {
    "ExecuteTime": {
     "end_time": "2024-04-08T17:51:33.252255Z",
     "start_time": "2024-04-08T17:51:33.240940Z"
    },
    "code_folding": []
   },
   "outputs": [],
   "source": [
    "# Articles for ingest\n",
    "ceasefire_aljazeera = {\n",
    "            \"title\": \"UN Security Council demands immediate Gaza ceasefire as US abstains\",\n",
    "            \"published\": \"2024-03-25T00:00:00\",\n",
    "            \"url\": \"https://www.aljazeera.com/news/2024/3/25/un-security-council-adopts-resolution-calling-for-immediate-gaza-ceasefire\"}\n",
    "ceasefire_breitbart = {\n",
    "            \"title\": \"GOP Blasts Biden’s ‘Unconscionable’ U.N. Vote Abstention on Gaza\",\n",
    "            \"published\": \"2024-03-25T00:00:00\",\n",
    "            \"url\": \"https://www.breitbart.com/politics/2024/03/25/gop-blasts-bidens-unconscionable-un-vote-abstention-gaza-anti-israel-president/\"}\n",
    "ceasefire_cnn = {\n",
    "            \"title\": \"Israel cancels Washington visit after US allows UN Gaza ceasefire resolution to pass\",\n",
    "            \"published\": \"2024-03-25T00:00:00\",\n",
    "            \"url\": \"https://www.cnn.com/2024/03/25/middleeast/un-security-council-gaza-israel-ceasefire-intl/index.html\"}\n",
    "ceasefire_fox = {\n",
    "            \"title\": \"Netanyahu cancels Israeli delegation's trip to Washington after US fails to veto UN cease-fire resolution\",\n",
    "            \"published\": \"2024-03-25T00:00:00\",\n",
    "            \"url\": \"https://www.foxnews.com/politics/netanyahu-cancels-israeli-delegations-trip-washington-us-fails-veto-un-cease-fire-resolution\"}\n",
    "ceasefire_huffpost = {\n",
    "            \"title\": \"UN Demand For Gaza Cease-fire Provokes Strongest Clash Between US And Israel Since War Began\",\n",
    "            \"published\": \"2024-03-25T00:00:00\",\n",
    "            \"url\": \"https://www.huffpost.com/entry/un-cease-fire-gaza_n_66019107e4b08460c3e7dc60\"}\n",
    "ceasefire_nyt = {\n",
    "            \"title\": \"U.N. Security Council Calls for Immediate Cease-Fire in Gaza as U.S. Abstains\",\n",
    "            \"published\": \"2024-03-25T00:00:00\",\n",
    "            \"url\": \"https://www.nytimes.com/2024/03/25/world/middleeast/un-security-council-gaza-ceasefire.html?searchResultPosition=2\"}\n",
    "ceasefire_watimes = {\n",
    "            \"title\": \"White House defends its refusal to block U.N. cease-fire resolution\",\n",
    "            \"published\": \"2024-03-25T00:00:00\",\n",
    "            \"url\": \"https://www.washingtontimes.com/news/2024/mar/25/white-house-defends-its-refusal-to-block-un-cease-/\"}\n",
    "ceasefire_wsj = {\n",
    "            \"title\": \"Israel Cancels Visit to Washington After U.S. Abstains on U.N. Cease-Fire Resolution\",\n",
    "            \"published\": \"2024-03-25T00:00:00\",\n",
    "            \"url\": \"https://www.wsj.com/world/middle-east/hostage-talks-stall-as-israeli-defense-minister-arrives-in-washington-ea36821d?mod=Searchresults_pos2&page=1\"}\n",
    "\n",
    "fl_abortion_aljazeera = {\n",
    "            \"title\": \"Biden denounces Florida abortion ruling as ‘outrageous’ as state vote looms\",\n",
    "            \"published\": \"2024-04-02T00:00:00\",\n",
    "            \"url\": \"https://www.aljazeera.com/news/2024/4/2/biden-denounces-florida-abortion-ruling-as-outrageous-as-state-vote-looms\"}\n",
    "fl_abortion_breitbart = {\n",
    "            \"title\": \"Florida Supreme Court Upholds 15-Week Abortion Limit, But Voters Will Decide in November\",\n",
    "            \"published\": \"2024-03-25T00:00:00\",\n",
    "            \"url\": \"https://www.breitbart.com/politics/2024/04/01/florida-supreme-court-upholds-15-week-abortion-limit-but-voters-will-decide-in-november/\"}\n",
    "fl_abortion_cnn = {\n",
    "            \"title\": \"Florida six-week abortion ban will soon become law, but voters will consider a constitutional amendment this fall\",\n",
    "            \"published\": \"2024-04-02T00:00:00\",\n",
    "            \"url\": \"https://www.cnn.com/2024/04/01/politics/florida-six-week-abortion-ban/index.html\"}\n",
    "fl_abortion_fox = {\n",
    "            \"title\": \"Florida Supreme Court approves abortion ballot initiative while upholding 15-week ban\",\n",
    "            \"published\": \"2024-03-25T00:00:00\",\n",
    "            \"url\": \"https://www.foxnews.com/politics/florida-supreme-court-approves-abortion-ballot-initiative-upholding-15-week-ban\"}\n",
    "fl_abortion_huffpost = {\n",
    "            \"title\": \"Top Florida Court Rules Against Protections For Abortion, Greenlights 6-Week Ban\",\n",
    "            \"published\": \"2024-03-25T00:00:00\",\n",
    "            \"url\": \"https://www.huffpost.com/entry/florida-court-abortion-6-week-ban_n_65088b87e4b0f04446230d7e\"}\n",
    "fl_abortion_nyt = {\n",
    "            \"title\": \"Florida Court Allows 6-Week Abortion Ban, but Voters Will Get to Weigh In\",\n",
    "            \"published\": \"2024-03-25T00:00:00\",\n",
    "            \"url\": \"https://www.nytimes.com/2024/04/01/us/florida-abortion-law-supreme-court.html?searchResultPosition=1\"}\n",
    "fl_abortion_watimes = {\n",
    "            \"title\": \"Florida Supreme Court upholds state’s 15-week ban on most abortions, paving way for 6-week ban\",\n",
    "            \"published\": \"2024-03-25T00:00:00\",\n",
    "            \"url\": \"https://www.washingtontimes.com/news/2024/apr/1/florida-supreme-court-upholds-states-15-week-ban-2/\"}\n",
    "fl_abortion_wsj = {\n",
    "            \"title\": \"Florida Abortion Rulings to Keep Issue Front and Center in November\",\n",
    "            \"published\": \"2024-03-25T00:00:00\",\n",
    "            \"url\": \"https://www.wsj.com/politics/elections/florida-abortion-rulings-to-keep-issue-front-and-center-in-november-1168511c\"}\n",
    "\n",
    "trump_bond_aljazeera = {\n",
    "            \"title\": \"New York court lowers $454m bond as Trump appeals civil fraud case\",\n",
    "            \"published\": \"2024-03-25T00:00:00\",\n",
    "            \"url\": \"https://www.aljazeera.com/news/2024/3/25/new-york-court-pauses-collection-of-454m-in-trump-civil-fraud-case\"}\n",
    "trump_bond_breitbart = {\n",
    "            \"title\": \"‘Partisan Hacks’: Conservatives React to Trump Bond Ruling\",\n",
    "            \"published\": \"2024-03-25T00:00:00\",\n",
    "            \"url\": \"https://www.breitbart.com/politics/2024/03/25/partisan-hacks-conservatives-react-trump-bond-ruling/\"}\n",
    "trump_bond_cnn = {\n",
    "            \"title\": \"Trump bond lowered to $175 million as he appeals civil fraud judgment in New York\",\n",
    "            \"published\": \"2024-03-25T00:00:00\",\n",
    "            \"url\": \"https://www.cnn.com/2024/03/25/politics/trump-civil-fraud-trial-bond/index.html\"}\n",
    "trump_bond_fox = {\n",
    "            \"title\": \"Trump's $454M judgment bond slashed by more than half in appeals court ruling\",\n",
    "            \"published\": \"2024-03-25T00:00:00\",\n",
    "            \"url\": \"https://www.foxnews.com/politics/trumps-454m-judgment-bond-slashed-more-than-half-appeals-court-ruling\"}\n",
    "trump_bond_huffpost = {\n",
    "            \"title\": \"Judge Reduces Donald Trump's Bond In Civil Fraud Appeal To $175 Million\",\n",
    "            \"published\": \"2024-03-25T00:00:00\",\n",
    "            \"url\": \"https://www.huffpost.com/entry/trump-bond-reduced-fraud-appeal_n_660198c0e4b059750143d44c\"}\n",
    "trump_bond_nyt = {\n",
    "            \"title\": \"Trump’s Bond in Civil Fraud Case Is Reduced to $175 Million\",\n",
    "            \"published\": \"2024-03-25T00:00:00\",\n",
    "            \"url\": \"https://www.nytimes.com/2024/03/25/nyregion/trump-bond-reduced.html?searchResultPosition=1\"}\n",
    "trump_bond_watimes = {\n",
    "            \"title\": \"Trump can post smaller bond amount of $175M within 10 days, appeals court rules\",\n",
    "            \"published\": \"2024-03-25T00:00:00\",\n",
    "            \"url\": \"https://www.washingtontimes.com/news/2024/mar/25/donald-trump-can-post-smaller-bond-amount-of-175m-/\"}\n",
    "trump_bond_wsj = {\n",
    "            \"title\": \"Trump Can Post Smaller $175 Million Bond in Civil Fraud Case\",\n",
    "            \"published\": \"2024-03-25T00:00:00\",\n",
    "            \"url\": \"https://www.wsj.com/us-news/law/donald-trump-new-york-fraud-bond-due-05f590e4?mod=Searchresults_pos1&page=1\"}\n",
    "\n",
    "repos = ['ceasefire', 'fl_abortion', 'trump_bond']\n",
    "# 2 ~neutral sources (Al Jazeera, WSJ), 3 right/conservative sources(Breitbart, Fox, WA Times)\n",
    "#    3 left/liberal sources (CNN, Huffington Post, NYT)\n",
    "sources = {'aljazeera': 'Al Jazeera',    # ~ neutral\n",
    "           'wsj': 'Wall Street Journal',\n",
    "           'breitbart': 'Breitbart',     # conservative\n",
    "           'fox': 'Fox News',\n",
    "           'watimes': 'Washington Times',\n",
    "           'cnn': 'CNN',                 # liberal\n",
    "           'huffpost': 'Huffington Post',\n",
    "           'nyt': 'New York Times'}"
   ]
  },
  {
   "cell_type": "code",
   "execution_count": 4,
   "id": "4027a3f0",
   "metadata": {
    "ExecuteTime": {
     "end_time": "2024-04-08T17:51:36.363361Z",
     "start_time": "2024-04-08T17:51:36.358281Z"
    },
    "code_folding": [],
    "scrolled": true
   },
   "outputs": [],
   "source": [
    "# Function to ingest the first 10 sentences of the 8 news articles regarding a specific topic \n",
    "# (ingested to the topic repository)\n",
    "# for repo in repos:\n",
    "def ingest_articles(repo: str): \n",
    "    for source in sources:\n",
    "        repo_source = f'{repo}_{source}'\n",
    "        print('repo_source ', repo_source)\n",
    "        with open(f'articles/{repo_source}.txt', 'r') as news:\n",
    "            news_text = news.read()  \n",
    "        metadata = globals()[repo_source]\n",
    "        req_dict = metadata\n",
    "        req_dict[\"source\"] = sources[source]\n",
    "        req_dict[\"text\"] = news_text\n",
    "        response = requests.post(\n",
    "            f'http://127.0.0.1:5000/dna/v1/repositories/narratives?repository={repo}&sentences=10',\n",
    "            json=req_dict)\n",
    "        print(response)\n",
    "        print(response.status_code, response.json())\n",
    "        print()"
   ]
  },
  {
   "cell_type": "code",
   "execution_count": 7,
   "id": "94250cb7",
   "metadata": {
    "ExecuteTime": {
     "end_time": "2024-04-08T05:24:45.399728Z",
     "start_time": "2024-04-08T03:46:38.212087Z"
    }
   },
   "outputs": [
    {
     "name": "stdout",
     "output_type": "stream",
     "text": [
      "repo_source  ceasefire_aljazeera\n",
      "<Response [201]>\n",
      "201 {'narrativeDetails': {'narrativeId': '30a77b5e', 'narrativeMetadata': {'published': '2024-03-25T00:00:00', 'source': 'Al Jazeera', 'title': 'UN Security Council demands immediate Gaza ceasefire as US abstains', 'url': 'https://www.aljazeera.com/news/2024/3/25/un-security-council-adopts-resolution-calling-for-immediate-gaza-ceasefire'}, 'numberIngested': 10, 'numberOfSentences': 40, 'numberOfTriples': '642', 'processed': '2024-04-07T23:58:20'}, 'repository': 'ceasefire'}\n",
      "\n",
      "repo_source  ceasefire_wsj\n",
      "<Response [201]>\n",
      "201 {'narrativeDetails': {'narrativeId': '0078ba74', 'narrativeMetadata': {'published': '2024-03-25T00:00:00', 'source': 'Wall Street Journal', 'title': 'Israel Cancels Visit to Washington After U.S. Abstains on U.N. Cease-Fire Resolution', 'url': 'https://www.wsj.com/world/middle-east/hostage-talks-stall-as-israeli-defense-minister-arrives-in-washington-ea36821d?mod=Searchresults_pos2&page=1'}, 'numberIngested': 10, 'numberOfSentences': 46, 'numberOfTriples': '630', 'processed': '2024-04-08T00:09:32'}, 'repository': 'ceasefire'}\n",
      "\n",
      "repo_source  ceasefire_breitbart\n",
      "<Response [201]>\n",
      "201 {'narrativeDetails': {'narrativeId': '13c0eb8a', 'narrativeMetadata': {'published': '2024-03-25T00:00:00', 'source': 'Breitbart', 'title': 'GOP Blasts Biden’s ‘Unconscionable’ U.N. Vote Abstention on Gaza', 'url': 'https://www.breitbart.com/politics/2024/03/25/gop-blasts-bidens-unconscionable-un-vote-abstention-gaza-anti-israel-president/'}, 'numberIngested': 10, 'numberOfSentences': 36, 'numberOfTriples': '1482', 'processed': '2024-04-08T00:34:19'}, 'repository': 'ceasefire'}\n",
      "\n",
      "repo_source  ceasefire_fox\n",
      "<Response [201]>\n",
      "201 {'narrativeDetails': {'narrativeId': '08d6b5ca', 'narrativeMetadata': {'published': '2024-03-25T00:00:00', 'source': 'Fox News', 'title': \"Netanyahu cancels Israeli delegation's trip to Washington after US fails to veto UN cease-fire resolution\", 'url': 'https://www.foxnews.com/politics/netanyahu-cancels-israeli-delegations-trip-washington-us-fails-veto-un-cease-fire-resolution'}, 'numberIngested': 10, 'numberOfSentences': 14, 'numberOfTriples': '468', 'processed': '2024-04-08T00:39:57'}, 'repository': 'ceasefire'}\n",
      "\n",
      "repo_source  ceasefire_watimes\n",
      "<Response [201]>\n",
      "201 {'narrativeDetails': {'narrativeId': '123206b6', 'narrativeMetadata': {'published': '2024-03-25T00:00:00', 'source': 'Washington Times', 'title': 'White House defends its refusal to block U.N. cease-fire resolution', 'url': 'https://www.washingtontimes.com/news/2024/mar/25/white-house-defends-its-refusal-to-block-un-cease-/'}, 'numberIngested': 9, 'numberOfSentences': 10, 'numberOfTriples': '396', 'processed': '2024-04-08T00:46:03'}, 'repository': 'ceasefire'}\n",
      "\n",
      "repo_source  ceasefire_cnn\n",
      "<Response [201]>\n",
      "201 {'narrativeDetails': {'narrativeId': '62191aee', 'narrativeMetadata': {'published': '2024-03-25T00:00:00', 'source': 'CNN', 'title': 'Israel cancels Washington visit after US allows UN Gaza ceasefire resolution to pass', 'url': 'https://www.cnn.com/2024/03/25/middleeast/un-security-council-gaza-israel-ceasefire-intl/index.html'}, 'numberIngested': 10, 'numberOfSentences': 36, 'numberOfTriples': '598', 'processed': '2024-04-08T00:57:17'}, 'repository': 'ceasefire'}\n",
      "\n",
      "repo_source  ceasefire_huffpost\n",
      "<Response [201]>\n",
      "201 {'narrativeDetails': {'narrativeId': '717a89eb', 'narrativeMetadata': {'published': '2024-03-25T00:00:00', 'source': 'Huffington Post', 'title': 'UN Demand For Gaza Cease-fire Provokes Strongest Clash Between US And Israel Since War Began', 'url': 'https://www.huffpost.com/entry/un-cease-fire-gaza_n_66019107e4b08460c3e7dc60'}, 'numberIngested': 10, 'numberOfSentences': 48, 'numberOfTriples': '574', 'processed': '2024-04-08T01:12:25'}, 'repository': 'ceasefire'}\n",
      "\n",
      "repo_source  ceasefire_nyt\n",
      "<Response [201]>\n",
      "201 {'narrativeDetails': {'narrativeId': '3ee19abf', 'narrativeMetadata': {'published': '2024-03-25T00:00:00', 'source': 'New York Times', 'title': 'U.N. Security Council Calls for Immediate Cease-Fire in Gaza as U.S. Abstains', 'url': 'https://www.nytimes.com/2024/03/25/world/middleeast/un-security-council-gaza-ceasefire.html?searchResultPosition=2'}, 'numberIngested': 10, 'numberOfSentences': 43, 'numberOfTriples': '582', 'processed': '2024-04-08T01:24:26'}, 'repository': 'ceasefire'}\n",
      "\n"
     ]
    }
   ],
   "source": [
    "ingest_articles('ceasefire')"
   ]
  },
  {
   "cell_type": "code",
   "execution_count": 8,
   "id": "74076cba",
   "metadata": {
    "ExecuteTime": {
     "end_time": "2024-04-08T13:39:38.833375Z",
     "start_time": "2024-04-08T12:02:32.694097Z"
    }
   },
   "outputs": [
    {
     "name": "stdout",
     "output_type": "stream",
     "text": [
      "repo_source  trump_bond_aljazeera\n",
      "<Response [201]>\n",
      "201 {'narrativeDetails': {'narrativeId': '6eb758af', 'narrativeMetadata': {'published': '2024-03-25T00:00:00', 'source': 'Al Jazeera', 'title': 'New York court lowers $454m bond as Trump appeals civil fraud case', 'url': 'https://www.aljazeera.com/news/2024/3/25/new-york-court-pauses-collection-of-454m-in-trump-civil-fraud-case'}, 'numberIngested': 10, 'numberOfSentences': 23, 'numberOfTriples': '390', 'processed': '2024-04-08T08:13:00'}, 'repository': 'trump_bond'}\n",
      "\n",
      "repo_source  trump_bond_wsj\n",
      "<Response [201]>\n",
      "201 {'narrativeDetails': {'narrativeId': 'bcd697f2', 'narrativeMetadata': {'published': '2024-03-25T00:00:00', 'source': 'Wall Street Journal', 'title': 'Trump Can Post Smaller $175 Million Bond in Civil Fraud Case', 'url': 'https://www.wsj.com/us-news/law/donald-trump-new-york-fraud-bond-due-05f590e4?mod=Searchresults_pos1&page=1'}, 'numberIngested': 10, 'numberOfSentences': 37, 'numberOfTriples': '464', 'processed': '2024-04-08T08:24:15'}, 'repository': 'trump_bond'}\n",
      "\n",
      "repo_source  trump_bond_breitbart\n",
      "<Response [201]>\n",
      "201 {'narrativeDetails': {'narrativeId': '32440846', 'narrativeMetadata': {'published': '2024-03-25T00:00:00', 'source': 'Breitbart', 'title': '‘Partisan Hacks’: Conservatives React to Trump Bond Ruling', 'url': 'https://www.breitbart.com/politics/2024/03/25/partisan-hacks-conservatives-react-trump-bond-ruling/'}, 'numberIngested': 10, 'numberOfSentences': 21, 'numberOfTriples': '591', 'processed': '2024-04-08T08:38:35'}, 'repository': 'trump_bond'}\n",
      "\n",
      "repo_source  trump_bond_fox\n",
      "<Response [201]>\n",
      "201 {'narrativeDetails': {'narrativeId': '8305f8e4', 'narrativeMetadata': {'published': '2024-03-25T00:00:00', 'source': 'Fox News', 'title': \"Trump's $454M judgment bond slashed by more than half in appeals court ruling\", 'url': 'https://www.foxnews.com/politics/trumps-454m-judgment-bond-slashed-more-than-half-appeals-court-ruling'}, 'numberIngested': 10, 'numberOfSentences': 39, 'numberOfTriples': '745', 'processed': '2024-04-08T08:55:10'}, 'repository': 'trump_bond'}\n",
      "\n",
      "repo_source  trump_bond_watimes\n",
      "<Response [201]>\n",
      "201 {'narrativeDetails': {'narrativeId': '42a15f5c', 'narrativeMetadata': {'published': '2024-03-25T00:00:00', 'source': 'Washington Times', 'title': 'Trump can post smaller bond amount of $175M within 10 days, appeals court rules', 'url': 'https://www.washingtontimes.com/news/2024/mar/25/donald-trump-can-post-smaller-bond-amount-of-175m-/'}, 'numberIngested': 10, 'numberOfSentences': 18, 'numberOfTriples': '470', 'processed': '2024-04-08T09:09:05'}, 'repository': 'trump_bond'}\n",
      "\n",
      "repo_source  trump_bond_cnn\n",
      "<Response [201]>\n",
      "201 {'narrativeDetails': {'narrativeId': 'a7fe274d', 'narrativeMetadata': {'published': '2024-03-25T00:00:00', 'source': 'CNN', 'title': 'Trump bond lowered to $175 million as he appeals civil fraud judgment in New York', 'url': 'https://www.cnn.com/2024/03/25/politics/trump-civil-fraud-trial-bond/index.html'}, 'numberIngested': 7, 'numberOfSentences': 8, 'numberOfTriples': '339', 'processed': '2024-04-08T09:15:07'}, 'repository': 'trump_bond'}\n",
      "\n",
      "repo_source  trump_bond_huffpost\n",
      "<Response [201]>\n",
      "201 {'narrativeDetails': {'narrativeId': '242a4bc0', 'narrativeMetadata': {'published': '2024-03-25T00:00:00', 'source': 'Huffington Post', 'title': \"Judge Reduces Donald Trump's Bond In Civil Fraud Appeal To $175 Million\", 'url': 'https://www.huffpost.com/entry/trump-bond-reduced-fraud-appeal_n_660198c0e4b059750143d44c'}, 'numberIngested': 10, 'numberOfSentences': 17, 'numberOfTriples': '410', 'processed': '2024-04-08T09:25:46'}, 'repository': 'trump_bond'}\n",
      "\n",
      "repo_source  trump_bond_nyt\n",
      "<Response [201]>\n",
      "201 {'narrativeDetails': {'narrativeId': '9f3a7893', 'narrativeMetadata': {'published': '2024-03-25T00:00:00', 'source': 'New York Times', 'title': 'Trump’s Bond in Civil Fraud Case Is Reduced to $175 Million', 'url': 'https://www.nytimes.com/2024/03/25/nyregion/trump-bond-reduced.html?searchResultPosition=1'}, 'numberIngested': 10, 'numberOfSentences': 47, 'numberOfTriples': '417', 'processed': '2024-04-08T09:39:09'}, 'repository': 'trump_bond'}\n",
      "\n"
     ]
    }
   ],
   "source": [
    "ingest_articles('trump_bond')"
   ]
  },
  {
   "cell_type": "code",
   "execution_count": 9,
   "id": "44b297a9",
   "metadata": {
    "ExecuteTime": {
     "end_time": "2024-04-08T17:48:08.954459Z",
     "start_time": "2024-04-08T13:54:26.748624Z"
    }
   },
   "outputs": [
    {
     "name": "stdout",
     "output_type": "stream",
     "text": [
      "repo_source  fl_abortion_aljazeera\n",
      "<Response [201]>\n",
      "201 {'narrativeDetails': {'narrativeId': '84462f39', 'narrativeMetadata': {'published': '2024-04-02T00:00:00', 'source': 'Al Jazeera', 'title': 'Biden denounces Florida abortion ruling as ‘outrageous’ as state vote looms', 'url': 'https://www.aljazeera.com/news/2024/4/2/biden-denounces-florida-abortion-ruling-as-outrageous-as-state-vote-looms'}, 'numberIngested': 10, 'numberOfSentences': 35, 'numberOfTriples': '538', 'processed': '2024-04-08T10:07:21'}, 'repository': 'fl_abortion'}\n",
      "\n",
      "repo_source  fl_abortion_wsj\n",
      "<Response [201]>\n",
      "201 {'narrativeDetails': {'narrativeId': '3d500f8c', 'narrativeMetadata': {'published': '2024-03-25T00:00:00', 'source': 'Wall Street Journal', 'title': 'Florida Abortion Rulings to Keep Issue Front and Center in November', 'url': 'https://www.wsj.com/politics/elections/florida-abortion-rulings-to-keep-issue-front-and-center-in-november-1168511c'}, 'numberIngested': 10, 'numberOfSentences': 33, 'numberOfTriples': '559', 'processed': '2024-04-08T10:16:36'}, 'repository': 'fl_abortion'}\n",
      "\n",
      "repo_source  fl_abortion_breitbart\n"
     ]
    },
    {
     "ename": "KeyboardInterrupt",
     "evalue": "",
     "output_type": "error",
     "traceback": [
      "\u001b[0;31m---------------------------------------------------------------------------\u001b[0m",
      "\u001b[0;31mKeyboardInterrupt\u001b[0m                         Traceback (most recent call last)",
      "\u001b[0;32m<ipython-input-9-b2a18c7d3a3a>\u001b[0m in \u001b[0;36m<module>\u001b[0;34m\u001b[0m\n\u001b[0;32m----> 1\u001b[0;31m \u001b[0mingest_articles\u001b[0m\u001b[0;34m(\u001b[0m\u001b[0;34m'fl_abortion'\u001b[0m\u001b[0;34m)\u001b[0m\u001b[0;34m\u001b[0m\u001b[0;34m\u001b[0m\u001b[0m\n\u001b[0m",
      "\u001b[0;32m<ipython-input-6-1d12e1f08ff0>\u001b[0m in \u001b[0;36mingest_articles\u001b[0;34m(repo)\u001b[0m\n\u001b[1;32m     12\u001b[0m         \u001b[0mreq_dict\u001b[0m\u001b[0;34m[\u001b[0m\u001b[0;34m\"source\"\u001b[0m\u001b[0;34m]\u001b[0m \u001b[0;34m=\u001b[0m \u001b[0msources\u001b[0m\u001b[0;34m[\u001b[0m\u001b[0msource\u001b[0m\u001b[0;34m]\u001b[0m\u001b[0;34m\u001b[0m\u001b[0;34m\u001b[0m\u001b[0m\n\u001b[1;32m     13\u001b[0m         \u001b[0mreq_dict\u001b[0m\u001b[0;34m[\u001b[0m\u001b[0;34m\"text\"\u001b[0m\u001b[0;34m]\u001b[0m \u001b[0;34m=\u001b[0m \u001b[0mnews_text\u001b[0m\u001b[0;34m\u001b[0m\u001b[0;34m\u001b[0m\u001b[0m\n\u001b[0;32m---> 14\u001b[0;31m         response = requests.post(\n\u001b[0m\u001b[1;32m     15\u001b[0m             \u001b[0;34mf'http://127.0.0.1:5000/dna/v1/repositories/narratives?repository={repo}&sentences=10'\u001b[0m\u001b[0;34m,\u001b[0m\u001b[0;34m\u001b[0m\u001b[0;34m\u001b[0m\u001b[0m\n\u001b[1;32m     16\u001b[0m             json=req_dict)\n",
      "\u001b[0;32m~/.pyenv/versions/3.8.9/lib/python3.8/site-packages/requests/api.py\u001b[0m in \u001b[0;36mpost\u001b[0;34m(url, data, json, **kwargs)\u001b[0m\n\u001b[1;32m    117\u001b[0m     \"\"\"\n\u001b[1;32m    118\u001b[0m \u001b[0;34m\u001b[0m\u001b[0m\n\u001b[0;32m--> 119\u001b[0;31m     \u001b[0;32mreturn\u001b[0m \u001b[0mrequest\u001b[0m\u001b[0;34m(\u001b[0m\u001b[0;34m'post'\u001b[0m\u001b[0;34m,\u001b[0m \u001b[0murl\u001b[0m\u001b[0;34m,\u001b[0m \u001b[0mdata\u001b[0m\u001b[0;34m=\u001b[0m\u001b[0mdata\u001b[0m\u001b[0;34m,\u001b[0m \u001b[0mjson\u001b[0m\u001b[0;34m=\u001b[0m\u001b[0mjson\u001b[0m\u001b[0;34m,\u001b[0m \u001b[0;34m**\u001b[0m\u001b[0mkwargs\u001b[0m\u001b[0;34m)\u001b[0m\u001b[0;34m\u001b[0m\u001b[0;34m\u001b[0m\u001b[0m\n\u001b[0m\u001b[1;32m    120\u001b[0m \u001b[0;34m\u001b[0m\u001b[0m\n\u001b[1;32m    121\u001b[0m \u001b[0;34m\u001b[0m\u001b[0m\n",
      "\u001b[0;32m~/.pyenv/versions/3.8.9/lib/python3.8/site-packages/requests/api.py\u001b[0m in \u001b[0;36mrequest\u001b[0;34m(method, url, **kwargs)\u001b[0m\n\u001b[1;32m     59\u001b[0m     \u001b[0;31m# cases, and look like a memory leak in others.\u001b[0m\u001b[0;34m\u001b[0m\u001b[0;34m\u001b[0m\u001b[0;34m\u001b[0m\u001b[0m\n\u001b[1;32m     60\u001b[0m     \u001b[0;32mwith\u001b[0m \u001b[0msessions\u001b[0m\u001b[0;34m.\u001b[0m\u001b[0mSession\u001b[0m\u001b[0;34m(\u001b[0m\u001b[0;34m)\u001b[0m \u001b[0;32mas\u001b[0m \u001b[0msession\u001b[0m\u001b[0;34m:\u001b[0m\u001b[0;34m\u001b[0m\u001b[0;34m\u001b[0m\u001b[0m\n\u001b[0;32m---> 61\u001b[0;31m         \u001b[0;32mreturn\u001b[0m \u001b[0msession\u001b[0m\u001b[0;34m.\u001b[0m\u001b[0mrequest\u001b[0m\u001b[0;34m(\u001b[0m\u001b[0mmethod\u001b[0m\u001b[0;34m=\u001b[0m\u001b[0mmethod\u001b[0m\u001b[0;34m,\u001b[0m \u001b[0murl\u001b[0m\u001b[0;34m=\u001b[0m\u001b[0murl\u001b[0m\u001b[0;34m,\u001b[0m \u001b[0;34m**\u001b[0m\u001b[0mkwargs\u001b[0m\u001b[0;34m)\u001b[0m\u001b[0;34m\u001b[0m\u001b[0;34m\u001b[0m\u001b[0m\n\u001b[0m\u001b[1;32m     62\u001b[0m \u001b[0;34m\u001b[0m\u001b[0m\n\u001b[1;32m     63\u001b[0m \u001b[0;34m\u001b[0m\u001b[0m\n",
      "\u001b[0;32m~/.pyenv/versions/3.8.9/lib/python3.8/site-packages/requests/sessions.py\u001b[0m in \u001b[0;36mrequest\u001b[0;34m(self, method, url, params, data, headers, cookies, files, auth, timeout, allow_redirects, proxies, hooks, stream, verify, cert, json)\u001b[0m\n\u001b[1;32m    540\u001b[0m         }\n\u001b[1;32m    541\u001b[0m         \u001b[0msend_kwargs\u001b[0m\u001b[0;34m.\u001b[0m\u001b[0mupdate\u001b[0m\u001b[0;34m(\u001b[0m\u001b[0msettings\u001b[0m\u001b[0;34m)\u001b[0m\u001b[0;34m\u001b[0m\u001b[0;34m\u001b[0m\u001b[0m\n\u001b[0;32m--> 542\u001b[0;31m         \u001b[0mresp\u001b[0m \u001b[0;34m=\u001b[0m \u001b[0mself\u001b[0m\u001b[0;34m.\u001b[0m\u001b[0msend\u001b[0m\u001b[0;34m(\u001b[0m\u001b[0mprep\u001b[0m\u001b[0;34m,\u001b[0m \u001b[0;34m**\u001b[0m\u001b[0msend_kwargs\u001b[0m\u001b[0;34m)\u001b[0m\u001b[0;34m\u001b[0m\u001b[0;34m\u001b[0m\u001b[0m\n\u001b[0m\u001b[1;32m    543\u001b[0m \u001b[0;34m\u001b[0m\u001b[0m\n\u001b[1;32m    544\u001b[0m         \u001b[0;32mreturn\u001b[0m \u001b[0mresp\u001b[0m\u001b[0;34m\u001b[0m\u001b[0;34m\u001b[0m\u001b[0m\n",
      "\u001b[0;32m~/.pyenv/versions/3.8.9/lib/python3.8/site-packages/requests/sessions.py\u001b[0m in \u001b[0;36msend\u001b[0;34m(self, request, **kwargs)\u001b[0m\n\u001b[1;32m    653\u001b[0m \u001b[0;34m\u001b[0m\u001b[0m\n\u001b[1;32m    654\u001b[0m         \u001b[0;31m# Send the request\u001b[0m\u001b[0;34m\u001b[0m\u001b[0;34m\u001b[0m\u001b[0;34m\u001b[0m\u001b[0m\n\u001b[0;32m--> 655\u001b[0;31m         \u001b[0mr\u001b[0m \u001b[0;34m=\u001b[0m \u001b[0madapter\u001b[0m\u001b[0;34m.\u001b[0m\u001b[0msend\u001b[0m\u001b[0;34m(\u001b[0m\u001b[0mrequest\u001b[0m\u001b[0;34m,\u001b[0m \u001b[0;34m**\u001b[0m\u001b[0mkwargs\u001b[0m\u001b[0;34m)\u001b[0m\u001b[0;34m\u001b[0m\u001b[0;34m\u001b[0m\u001b[0m\n\u001b[0m\u001b[1;32m    656\u001b[0m \u001b[0;34m\u001b[0m\u001b[0m\n\u001b[1;32m    657\u001b[0m         \u001b[0;31m# Total elapsed time of the request (approximately)\u001b[0m\u001b[0;34m\u001b[0m\u001b[0;34m\u001b[0m\u001b[0;34m\u001b[0m\u001b[0m\n",
      "\u001b[0;32m~/.pyenv/versions/3.8.9/lib/python3.8/site-packages/requests/adapters.py\u001b[0m in \u001b[0;36msend\u001b[0;34m(self, request, stream, timeout, verify, cert, proxies)\u001b[0m\n\u001b[1;32m    437\u001b[0m         \u001b[0;32mtry\u001b[0m\u001b[0;34m:\u001b[0m\u001b[0;34m\u001b[0m\u001b[0;34m\u001b[0m\u001b[0m\n\u001b[1;32m    438\u001b[0m             \u001b[0;32mif\u001b[0m \u001b[0;32mnot\u001b[0m \u001b[0mchunked\u001b[0m\u001b[0;34m:\u001b[0m\u001b[0;34m\u001b[0m\u001b[0;34m\u001b[0m\u001b[0m\n\u001b[0;32m--> 439\u001b[0;31m                 resp = conn.urlopen(\n\u001b[0m\u001b[1;32m    440\u001b[0m                     \u001b[0mmethod\u001b[0m\u001b[0;34m=\u001b[0m\u001b[0mrequest\u001b[0m\u001b[0;34m.\u001b[0m\u001b[0mmethod\u001b[0m\u001b[0;34m,\u001b[0m\u001b[0;34m\u001b[0m\u001b[0;34m\u001b[0m\u001b[0m\n\u001b[1;32m    441\u001b[0m                     \u001b[0murl\u001b[0m\u001b[0;34m=\u001b[0m\u001b[0murl\u001b[0m\u001b[0;34m,\u001b[0m\u001b[0;34m\u001b[0m\u001b[0;34m\u001b[0m\u001b[0m\n",
      "\u001b[0;32m~/.pyenv/versions/3.8.9/lib/python3.8/site-packages/urllib3/connectionpool.py\u001b[0m in \u001b[0;36murlopen\u001b[0;34m(self, method, url, body, headers, retries, redirect, assert_same_host, timeout, pool_timeout, release_conn, chunked, body_pos, **response_kw)\u001b[0m\n\u001b[1;32m    697\u001b[0m \u001b[0;34m\u001b[0m\u001b[0m\n\u001b[1;32m    698\u001b[0m             \u001b[0;31m# Make the request on the httplib connection object.\u001b[0m\u001b[0;34m\u001b[0m\u001b[0;34m\u001b[0m\u001b[0;34m\u001b[0m\u001b[0m\n\u001b[0;32m--> 699\u001b[0;31m             httplib_response = self._make_request(\n\u001b[0m\u001b[1;32m    700\u001b[0m                 \u001b[0mconn\u001b[0m\u001b[0;34m,\u001b[0m\u001b[0;34m\u001b[0m\u001b[0;34m\u001b[0m\u001b[0m\n\u001b[1;32m    701\u001b[0m                 \u001b[0mmethod\u001b[0m\u001b[0;34m,\u001b[0m\u001b[0;34m\u001b[0m\u001b[0;34m\u001b[0m\u001b[0m\n",
      "\u001b[0;32m~/.pyenv/versions/3.8.9/lib/python3.8/site-packages/urllib3/connectionpool.py\u001b[0m in \u001b[0;36m_make_request\u001b[0;34m(self, conn, method, url, timeout, chunked, **httplib_request_kw)\u001b[0m\n\u001b[1;32m    443\u001b[0m                     \u001b[0;31m# Python 3 (including for exceptions like SystemExit).\u001b[0m\u001b[0;34m\u001b[0m\u001b[0;34m\u001b[0m\u001b[0;34m\u001b[0m\u001b[0m\n\u001b[1;32m    444\u001b[0m                     \u001b[0;31m# Otherwise it looks like a bug in the code.\u001b[0m\u001b[0;34m\u001b[0m\u001b[0;34m\u001b[0m\u001b[0;34m\u001b[0m\u001b[0m\n\u001b[0;32m--> 445\u001b[0;31m                     \u001b[0msix\u001b[0m\u001b[0;34m.\u001b[0m\u001b[0mraise_from\u001b[0m\u001b[0;34m(\u001b[0m\u001b[0me\u001b[0m\u001b[0;34m,\u001b[0m \u001b[0;32mNone\u001b[0m\u001b[0;34m)\u001b[0m\u001b[0;34m\u001b[0m\u001b[0;34m\u001b[0m\u001b[0m\n\u001b[0m\u001b[1;32m    446\u001b[0m         \u001b[0;32mexcept\u001b[0m \u001b[0;34m(\u001b[0m\u001b[0mSocketTimeout\u001b[0m\u001b[0;34m,\u001b[0m \u001b[0mBaseSSLError\u001b[0m\u001b[0;34m,\u001b[0m \u001b[0mSocketError\u001b[0m\u001b[0;34m)\u001b[0m \u001b[0;32mas\u001b[0m \u001b[0me\u001b[0m\u001b[0;34m:\u001b[0m\u001b[0;34m\u001b[0m\u001b[0;34m\u001b[0m\u001b[0m\n\u001b[1;32m    447\u001b[0m             \u001b[0mself\u001b[0m\u001b[0;34m.\u001b[0m\u001b[0m_raise_timeout\u001b[0m\u001b[0;34m(\u001b[0m\u001b[0merr\u001b[0m\u001b[0;34m=\u001b[0m\u001b[0me\u001b[0m\u001b[0;34m,\u001b[0m \u001b[0murl\u001b[0m\u001b[0;34m=\u001b[0m\u001b[0murl\u001b[0m\u001b[0;34m,\u001b[0m \u001b[0mtimeout_value\u001b[0m\u001b[0;34m=\u001b[0m\u001b[0mread_timeout\u001b[0m\u001b[0;34m)\u001b[0m\u001b[0;34m\u001b[0m\u001b[0;34m\u001b[0m\u001b[0m\n",
      "\u001b[0;32m~/.pyenv/versions/3.8.9/lib/python3.8/site-packages/urllib3/packages/six.py\u001b[0m in \u001b[0;36mraise_from\u001b[0;34m(value, from_value)\u001b[0m\n",
      "\u001b[0;32m~/.pyenv/versions/3.8.9/lib/python3.8/site-packages/urllib3/connectionpool.py\u001b[0m in \u001b[0;36m_make_request\u001b[0;34m(self, conn, method, url, timeout, chunked, **httplib_request_kw)\u001b[0m\n\u001b[1;32m    438\u001b[0m                 \u001b[0;31m# Python 3\u001b[0m\u001b[0;34m\u001b[0m\u001b[0;34m\u001b[0m\u001b[0;34m\u001b[0m\u001b[0m\n\u001b[1;32m    439\u001b[0m                 \u001b[0;32mtry\u001b[0m\u001b[0;34m:\u001b[0m\u001b[0;34m\u001b[0m\u001b[0;34m\u001b[0m\u001b[0m\n\u001b[0;32m--> 440\u001b[0;31m                     \u001b[0mhttplib_response\u001b[0m \u001b[0;34m=\u001b[0m \u001b[0mconn\u001b[0m\u001b[0;34m.\u001b[0m\u001b[0mgetresponse\u001b[0m\u001b[0;34m(\u001b[0m\u001b[0;34m)\u001b[0m\u001b[0;34m\u001b[0m\u001b[0;34m\u001b[0m\u001b[0m\n\u001b[0m\u001b[1;32m    441\u001b[0m                 \u001b[0;32mexcept\u001b[0m \u001b[0mBaseException\u001b[0m \u001b[0;32mas\u001b[0m \u001b[0me\u001b[0m\u001b[0;34m:\u001b[0m\u001b[0;34m\u001b[0m\u001b[0;34m\u001b[0m\u001b[0m\n\u001b[1;32m    442\u001b[0m                     \u001b[0;31m# Remove the TypeError from the exception chain in\u001b[0m\u001b[0;34m\u001b[0m\u001b[0;34m\u001b[0m\u001b[0;34m\u001b[0m\u001b[0m\n",
      "\u001b[0;32m~/.pyenv/versions/3.8.9/lib/python3.8/http/client.py\u001b[0m in \u001b[0;36mgetresponse\u001b[0;34m(self)\u001b[0m\n\u001b[1;32m   1342\u001b[0m         \u001b[0;32mtry\u001b[0m\u001b[0;34m:\u001b[0m\u001b[0;34m\u001b[0m\u001b[0;34m\u001b[0m\u001b[0m\n\u001b[1;32m   1343\u001b[0m             \u001b[0;32mtry\u001b[0m\u001b[0;34m:\u001b[0m\u001b[0;34m\u001b[0m\u001b[0;34m\u001b[0m\u001b[0m\n\u001b[0;32m-> 1344\u001b[0;31m                 \u001b[0mresponse\u001b[0m\u001b[0;34m.\u001b[0m\u001b[0mbegin\u001b[0m\u001b[0;34m(\u001b[0m\u001b[0;34m)\u001b[0m\u001b[0;34m\u001b[0m\u001b[0;34m\u001b[0m\u001b[0m\n\u001b[0m\u001b[1;32m   1345\u001b[0m             \u001b[0;32mexcept\u001b[0m \u001b[0mConnectionError\u001b[0m\u001b[0;34m:\u001b[0m\u001b[0;34m\u001b[0m\u001b[0;34m\u001b[0m\u001b[0m\n\u001b[1;32m   1346\u001b[0m                 \u001b[0mself\u001b[0m\u001b[0;34m.\u001b[0m\u001b[0mclose\u001b[0m\u001b[0;34m(\u001b[0m\u001b[0;34m)\u001b[0m\u001b[0;34m\u001b[0m\u001b[0;34m\u001b[0m\u001b[0m\n",
      "\u001b[0;32m~/.pyenv/versions/3.8.9/lib/python3.8/http/client.py\u001b[0m in \u001b[0;36mbegin\u001b[0;34m(self)\u001b[0m\n\u001b[1;32m    305\u001b[0m         \u001b[0;31m# read until we get a non-100 response\u001b[0m\u001b[0;34m\u001b[0m\u001b[0;34m\u001b[0m\u001b[0;34m\u001b[0m\u001b[0m\n\u001b[1;32m    306\u001b[0m         \u001b[0;32mwhile\u001b[0m \u001b[0;32mTrue\u001b[0m\u001b[0;34m:\u001b[0m\u001b[0;34m\u001b[0m\u001b[0;34m\u001b[0m\u001b[0m\n\u001b[0;32m--> 307\u001b[0;31m             \u001b[0mversion\u001b[0m\u001b[0;34m,\u001b[0m \u001b[0mstatus\u001b[0m\u001b[0;34m,\u001b[0m \u001b[0mreason\u001b[0m \u001b[0;34m=\u001b[0m \u001b[0mself\u001b[0m\u001b[0;34m.\u001b[0m\u001b[0m_read_status\u001b[0m\u001b[0;34m(\u001b[0m\u001b[0;34m)\u001b[0m\u001b[0;34m\u001b[0m\u001b[0;34m\u001b[0m\u001b[0m\n\u001b[0m\u001b[1;32m    308\u001b[0m             \u001b[0;32mif\u001b[0m \u001b[0mstatus\u001b[0m \u001b[0;34m!=\u001b[0m \u001b[0mCONTINUE\u001b[0m\u001b[0;34m:\u001b[0m\u001b[0;34m\u001b[0m\u001b[0;34m\u001b[0m\u001b[0m\n\u001b[1;32m    309\u001b[0m                 \u001b[0;32mbreak\u001b[0m\u001b[0;34m\u001b[0m\u001b[0;34m\u001b[0m\u001b[0m\n",
      "\u001b[0;32m~/.pyenv/versions/3.8.9/lib/python3.8/http/client.py\u001b[0m in \u001b[0;36m_read_status\u001b[0;34m(self)\u001b[0m\n\u001b[1;32m    266\u001b[0m \u001b[0;34m\u001b[0m\u001b[0m\n\u001b[1;32m    267\u001b[0m     \u001b[0;32mdef\u001b[0m \u001b[0m_read_status\u001b[0m\u001b[0;34m(\u001b[0m\u001b[0mself\u001b[0m\u001b[0;34m)\u001b[0m\u001b[0;34m:\u001b[0m\u001b[0;34m\u001b[0m\u001b[0;34m\u001b[0m\u001b[0m\n\u001b[0;32m--> 268\u001b[0;31m         \u001b[0mline\u001b[0m \u001b[0;34m=\u001b[0m \u001b[0mstr\u001b[0m\u001b[0;34m(\u001b[0m\u001b[0mself\u001b[0m\u001b[0;34m.\u001b[0m\u001b[0mfp\u001b[0m\u001b[0;34m.\u001b[0m\u001b[0mreadline\u001b[0m\u001b[0;34m(\u001b[0m\u001b[0m_MAXLINE\u001b[0m \u001b[0;34m+\u001b[0m \u001b[0;36m1\u001b[0m\u001b[0;34m)\u001b[0m\u001b[0;34m,\u001b[0m \u001b[0;34m\"iso-8859-1\"\u001b[0m\u001b[0;34m)\u001b[0m\u001b[0;34m\u001b[0m\u001b[0;34m\u001b[0m\u001b[0m\n\u001b[0m\u001b[1;32m    269\u001b[0m         \u001b[0;32mif\u001b[0m \u001b[0mlen\u001b[0m\u001b[0;34m(\u001b[0m\u001b[0mline\u001b[0m\u001b[0;34m)\u001b[0m \u001b[0;34m>\u001b[0m \u001b[0m_MAXLINE\u001b[0m\u001b[0;34m:\u001b[0m\u001b[0;34m\u001b[0m\u001b[0;34m\u001b[0m\u001b[0m\n\u001b[1;32m    270\u001b[0m             \u001b[0;32mraise\u001b[0m \u001b[0mLineTooLong\u001b[0m\u001b[0;34m(\u001b[0m\u001b[0;34m\"status line\"\u001b[0m\u001b[0;34m)\u001b[0m\u001b[0;34m\u001b[0m\u001b[0;34m\u001b[0m\u001b[0m\n",
      "\u001b[0;32m~/.pyenv/versions/3.8.9/lib/python3.8/socket.py\u001b[0m in \u001b[0;36mreadinto\u001b[0;34m(self, b)\u001b[0m\n\u001b[1;32m    667\u001b[0m         \u001b[0;32mwhile\u001b[0m \u001b[0;32mTrue\u001b[0m\u001b[0;34m:\u001b[0m\u001b[0;34m\u001b[0m\u001b[0;34m\u001b[0m\u001b[0m\n\u001b[1;32m    668\u001b[0m             \u001b[0;32mtry\u001b[0m\u001b[0;34m:\u001b[0m\u001b[0;34m\u001b[0m\u001b[0;34m\u001b[0m\u001b[0m\n\u001b[0;32m--> 669\u001b[0;31m                 \u001b[0;32mreturn\u001b[0m \u001b[0mself\u001b[0m\u001b[0;34m.\u001b[0m\u001b[0m_sock\u001b[0m\u001b[0;34m.\u001b[0m\u001b[0mrecv_into\u001b[0m\u001b[0;34m(\u001b[0m\u001b[0mb\u001b[0m\u001b[0;34m)\u001b[0m\u001b[0;34m\u001b[0m\u001b[0;34m\u001b[0m\u001b[0m\n\u001b[0m\u001b[1;32m    670\u001b[0m             \u001b[0;32mexcept\u001b[0m \u001b[0mtimeout\u001b[0m\u001b[0;34m:\u001b[0m\u001b[0;34m\u001b[0m\u001b[0;34m\u001b[0m\u001b[0m\n\u001b[1;32m    671\u001b[0m                 \u001b[0mself\u001b[0m\u001b[0;34m.\u001b[0m\u001b[0m_timeout_occurred\u001b[0m \u001b[0;34m=\u001b[0m \u001b[0;32mTrue\u001b[0m\u001b[0;34m\u001b[0m\u001b[0;34m\u001b[0m\u001b[0m\n",
      "\u001b[0;31mKeyboardInterrupt\u001b[0m: "
     ]
    }
   ],
   "source": [
    "ingest_articles('fl_abortion')\n",
    "\n",
    "# Lost internet and stopped kernel after 2 articles (of 8) ingested"
   ]
  },
  {
   "cell_type": "code",
   "execution_count": 5,
   "id": "b59749b4",
   "metadata": {
    "ExecuteTime": {
     "end_time": "2024-04-08T17:51:51.167660Z",
     "start_time": "2024-04-08T17:51:49.373084Z"
    }
   },
   "outputs": [
    {
     "name": "stdout",
     "output_type": "stream",
     "text": [
      "200 {\n",
      " \"narratives\": [\n",
      "  {\n",
      "   \"narrativeId\": \"Narrative_84462f39\",\n",
      "   \"narrativeMetadata\": {\n",
      "    \"length\": \"10\",\n",
      "    \"published\": \"2024-04-02T00:00:00\",\n",
      "    \"source\": \"Al Jazeera\",\n",
      "    \"title\": \"Biden denounces Florida abortion ruling as \\u2018outrageous\\u2019 as state vote looms\",\n",
      "    \"url\": \"https://www.aljazeera.com/news/2024/4/2/biden-denounces-florida-abortion-ruling-as-outrageous-as-state-vote-looms\"\n",
      "   },\n",
      "   \"numberOfTriples\": \"538\",\n",
      "   \"processed\": \"2024-04-08T10:07:21\"\n",
      "  },\n",
      "  {\n",
      "   \"narrativeId\": \"Narrative_3d500f8c\",\n",
      "   \"narrativeMetadata\": {\n",
      "    \"length\": \"10\",\n",
      "    \"published\": \"2024-03-25T00:00:00\",\n",
      "    \"source\": \"Wall Street Journal\",\n",
      "    \"title\": \"Florida Abortion Rulings to Keep Issue Front and Center in November\",\n",
      "    \"url\": \"https://www.wsj.com/politics/elections/florida-abortion-rulings-to-keep-issue-front-and-center-in-november-1168511c\"\n",
      "   },\n",
      "   \"numberOfTriples\": \"559\",\n",
      "   \"processed\": \"2024-04-08T10:16:36\"\n",
      "  }\n",
      " ],\n",
      " \"repository\": \"fl_abortion\"\n",
      "}\n"
     ]
    }
   ],
   "source": [
    "# Check what articles are in the repository \n",
    "response = requests.get('http://127.0.0.1:5000/dna/v1/repositories/narratives?repository=fl_abortion')\n",
    "print(response.status_code, json.dumps(response.json(), indent=1))"
   ]
  },
  {
   "cell_type": "code",
   "execution_count": 6,
   "id": "6caa45d4",
   "metadata": {
    "ExecuteTime": {
     "end_time": "2024-04-08T17:53:21.037010Z",
     "start_time": "2024-04-08T17:53:21.032970Z"
    }
   },
   "outputs": [],
   "source": [
    "# Ingest single article\n",
    "def ingest_article(repo: str, source: str): \n",
    "    repo_source = f'{repo}_{source}'\n",
    "    print('repo_source ', repo_source)\n",
    "    with open(f'articles/{repo_source}.txt', 'r') as news:\n",
    "        news_text = news.read()  \n",
    "    metadata = globals()[repo_source]\n",
    "    req_dict = metadata\n",
    "    req_dict[\"source\"] = sources[source]\n",
    "    req_dict[\"text\"] = news_text\n",
    "    response = requests.post(\n",
    "        f'http://127.0.0.1:5000/dna/v1/repositories/narratives?repository={repo}&sentences=10',\n",
    "        json=req_dict)\n",
    "    print(response)\n",
    "    print(response.status_code, response.json())\n",
    "    print()"
   ]
  },
  {
   "cell_type": "code",
   "execution_count": 7,
   "id": "e95d184f",
   "metadata": {
    "ExecuteTime": {
     "end_time": "2024-04-08T18:08:01.421037Z",
     "start_time": "2024-04-08T17:53:46.896192Z"
    }
   },
   "outputs": [
    {
     "name": "stdout",
     "output_type": "stream",
     "text": [
      "repo_source  fl_abortion_breitbart\n",
      "<Response [201]>\n",
      "201 {'narrativeDetails': {'narrativeId': 'cf6d9a02', 'narrativeMetadata': {'published': '2024-03-25T00:00:00', 'source': 'Breitbart', 'title': 'Florida Supreme Court Upholds 15-Week Abortion Limit, But Voters Will Decide in November', 'url': 'https://www.breitbart.com/politics/2024/04/01/florida-supreme-court-upholds-15-week-abortion-limit-but-voters-will-decide-in-november/'}, 'numberIngested': 10, 'numberOfSentences': 32, 'numberOfTriples': '551', 'processed': '2024-04-08T14:07:20'}, 'repository': 'fl_abortion'}\n",
      "\n"
     ]
    }
   ],
   "source": [
    "# Continue ingest of FL abortion articles\n",
    "ingest_article('fl_abortion', 'breitbart')"
   ]
  },
  {
   "cell_type": "code",
   "execution_count": 9,
   "id": "234f01e9",
   "metadata": {
    "ExecuteTime": {
     "end_time": "2024-04-08T18:32:10.618646Z",
     "start_time": "2024-04-08T18:25:38.993799Z"
    }
   },
   "outputs": [
    {
     "name": "stdout",
     "output_type": "stream",
     "text": [
      "repo_source  fl_abortion_watimes\n",
      "<Response [201]>\n",
      "201 {'narrativeDetails': {'narrativeId': '0d7acc37', 'narrativeMetadata': {'published': '2024-03-25T00:00:00', 'source': 'Washington Times', 'title': 'Florida Supreme Court upholds state’s 15-week ban on most abortions, paving way for 6-week ban', 'url': 'https://www.washingtontimes.com/news/2024/apr/1/florida-supreme-court-upholds-states-15-week-ban-2/'}, 'numberIngested': 10, 'numberOfSentences': 17, 'numberOfTriples': '371', 'processed': '2024-04-08T14:31:39'}, 'repository': 'fl_abortion'}\n",
      "\n"
     ]
    }
   ],
   "source": [
    "ingest_article('fl_abortion', 'watimes')"
   ]
  },
  {
   "cell_type": "code",
   "execution_count": 10,
   "id": "057cda5d",
   "metadata": {
    "ExecuteTime": {
     "end_time": "2024-04-08T18:49:36.288443Z",
     "start_time": "2024-04-08T18:33:19.760229Z"
    }
   },
   "outputs": [
    {
     "name": "stdout",
     "output_type": "stream",
     "text": [
      "repo_source  fl_abortion_cnn\n",
      "<Response [201]>\n",
      "201 {'narrativeDetails': {'narrativeId': '3609ea98', 'narrativeMetadata': {'published': '2024-04-02T00:00:00', 'source': 'CNN', 'title': 'Florida six-week abortion ban will soon become law, but voters will consider a constitutional amendment this fall', 'url': 'https://www.cnn.com/2024/04/01/politics/florida-six-week-abortion-ban/index.html'}, 'numberIngested': 10, 'numberOfSentences': 47, 'numberOfTriples': '694', 'processed': '2024-04-08T14:49:07'}, 'repository': 'fl_abortion'}\n",
      "\n"
     ]
    }
   ],
   "source": [
    "ingest_article('fl_abortion', 'cnn')"
   ]
  },
  {
   "cell_type": "code",
   "execution_count": 11,
   "id": "275c3f06",
   "metadata": {
    "ExecuteTime": {
     "end_time": "2024-04-08T19:42:54.617075Z",
     "start_time": "2024-04-08T19:32:29.862900Z"
    }
   },
   "outputs": [
    {
     "name": "stdout",
     "output_type": "stream",
     "text": [
      "repo_source  fl_abortion_huffpost\n",
      "<Response [201]>\n",
      "201 {'narrativeDetails': {'narrativeId': '7070eb99', 'narrativeMetadata': {'published': '2024-03-25T00:00:00', 'source': 'Huffington Post', 'title': 'Top Florida Court Rules Against Protections For Abortion, Greenlights 6-Week Ban', 'url': 'https://www.huffpost.com/entry/florida-court-abortion-6-week-ban_n_65088b87e4b0f04446230d7e'}, 'numberIngested': 10, 'numberOfSentences': 37, 'numberOfTriples': '605', 'processed': '2024-04-08T15:42:29'}, 'repository': 'fl_abortion'}\n",
      "\n"
     ]
    }
   ],
   "source": [
    "ingest_article('fl_abortion', 'huffpost')"
   ]
  },
  {
   "cell_type": "code",
   "execution_count": 12,
   "id": "aabf2f49",
   "metadata": {
    "ExecuteTime": {
     "end_time": "2024-04-08T19:53:06.848946Z",
     "start_time": "2024-04-08T19:43:18.373282Z"
    }
   },
   "outputs": [
    {
     "name": "stdout",
     "output_type": "stream",
     "text": [
      "repo_source  fl_abortion_nyt\n",
      "<Response [201]>\n",
      "201 {'narrativeDetails': {'narrativeId': 'f5610134', 'narrativeMetadata': {'published': '2024-03-25T00:00:00', 'source': 'New York Times', 'title': 'Florida Court Allows 6-Week Abortion Ban, but Voters Will Get to Weigh In', 'url': 'https://www.nytimes.com/2024/04/01/us/florida-abortion-law-supreme-court.html?searchResultPosition=1'}, 'numberIngested': 10, 'numberOfSentences': 36, 'numberOfTriples': '595', 'processed': '2024-04-08T15:52:37'}, 'repository': 'fl_abortion'}\n",
      "\n"
     ]
    }
   ],
   "source": [
    "ingest_article('fl_abortion', 'nyt')"
   ]
  },
  {
   "cell_type": "code",
   "execution_count": 13,
   "id": "a3b8f5de",
   "metadata": {
    "ExecuteTime": {
     "end_time": "2024-04-08T20:26:47.065930Z",
     "start_time": "2024-04-08T20:12:57.544004Z"
    }
   },
   "outputs": [
    {
     "name": "stdout",
     "output_type": "stream",
     "text": [
      "repo_source  fl_abortion_fox\n",
      "<Response [201]>\n",
      "201 {'narrativeDetails': {'narrativeId': 'ff577472', 'narrativeMetadata': {'published': '2024-03-25T00:00:00', 'source': 'Fox News', 'title': 'Florida Supreme Court approves abortion ballot initiative while upholding 15-week ban', 'url': 'https://www.foxnews.com/politics/florida-supreme-court-approves-abortion-ballot-initiative-upholding-15-week-ban'}, 'numberIngested': 10, 'numberOfSentences': 13, 'numberOfTriples': '490', 'processed': '2024-04-08T16:26:20'}, 'repository': 'fl_abortion'}\n",
      "\n"
     ]
    }
   ],
   "source": [
    "ingest_article('fl_abortion', 'fox')"
   ]
  },
  {
   "cell_type": "code",
   "execution_count": 14,
   "id": "3c65a4a2",
   "metadata": {
    "ExecuteTime": {
     "end_time": "2024-04-08T20:28:00.309327Z",
     "start_time": "2024-04-08T20:27:58.687500Z"
    }
   },
   "outputs": [
    {
     "name": "stdout",
     "output_type": "stream",
     "text": [
      "200 {\n",
      " \"narratives\": [\n",
      "  {\n",
      "   \"narrativeId\": \"Narrative_84462f39\",\n",
      "   \"narrativeMetadata\": {\n",
      "    \"length\": \"10\",\n",
      "    \"published\": \"2024-04-02T00:00:00\",\n",
      "    \"source\": \"Al Jazeera\",\n",
      "    \"title\": \"Biden denounces Florida abortion ruling as \\u2018outrageous\\u2019 as state vote looms\",\n",
      "    \"url\": \"https://www.aljazeera.com/news/2024/4/2/biden-denounces-florida-abortion-ruling-as-outrageous-as-state-vote-looms\"\n",
      "   },\n",
      "   \"numberOfTriples\": \"538\",\n",
      "   \"processed\": \"2024-04-08T10:07:21\"\n",
      "  },\n",
      "  {\n",
      "   \"narrativeId\": \"Narrative_3d500f8c\",\n",
      "   \"narrativeMetadata\": {\n",
      "    \"length\": \"10\",\n",
      "    \"published\": \"2024-03-25T00:00:00\",\n",
      "    \"source\": \"Wall Street Journal\",\n",
      "    \"title\": \"Florida Abortion Rulings to Keep Issue Front and Center in November\",\n",
      "    \"url\": \"https://www.wsj.com/politics/elections/florida-abortion-rulings-to-keep-issue-front-and-center-in-november-1168511c\"\n",
      "   },\n",
      "   \"numberOfTriples\": \"559\",\n",
      "   \"processed\": \"2024-04-08T10:16:36\"\n",
      "  },\n",
      "  {\n",
      "   \"narrativeId\": \"Narrative_cf6d9a02\",\n",
      "   \"narrativeMetadata\": {\n",
      "    \"length\": \"10\",\n",
      "    \"published\": \"2024-03-25T00:00:00\",\n",
      "    \"source\": \"Breitbart\",\n",
      "    \"title\": \"Florida Supreme Court Upholds 15-Week Abortion Limit, But Voters Will Decide in November\",\n",
      "    \"url\": \"https://www.breitbart.com/politics/2024/04/01/florida-supreme-court-upholds-15-week-abortion-limit-but-voters-will-decide-in-november/\"\n",
      "   },\n",
      "   \"numberOfTriples\": \"551\",\n",
      "   \"processed\": \"2024-04-08T14:07:20\"\n",
      "  },\n",
      "  {\n",
      "   \"narrativeId\": \"Narrative_0d7acc37\",\n",
      "   \"narrativeMetadata\": {\n",
      "    \"length\": \"10\",\n",
      "    \"published\": \"2024-03-25T00:00:00\",\n",
      "    \"source\": \"Washington Times\",\n",
      "    \"title\": \"Florida Supreme Court upholds state\\u2019s 15-week ban on most abortions, paving way for 6-week ban\",\n",
      "    \"url\": \"https://www.washingtontimes.com/news/2024/apr/1/florida-supreme-court-upholds-states-15-week-ban-2/\"\n",
      "   },\n",
      "   \"numberOfTriples\": \"371\",\n",
      "   \"processed\": \"2024-04-08T14:31:39\"\n",
      "  },\n",
      "  {\n",
      "   \"narrativeId\": \"Narrative_3609ea98\",\n",
      "   \"narrativeMetadata\": {\n",
      "    \"length\": \"10\",\n",
      "    \"published\": \"2024-04-02T00:00:00\",\n",
      "    \"source\": \"CNN\",\n",
      "    \"title\": \"Florida six-week abortion ban will soon become law, but voters will consider a constitutional amendment this fall\",\n",
      "    \"url\": \"https://www.cnn.com/2024/04/01/politics/florida-six-week-abortion-ban/index.html\"\n",
      "   },\n",
      "   \"numberOfTriples\": \"694\",\n",
      "   \"processed\": \"2024-04-08T14:49:07\"\n",
      "  },\n",
      "  {\n",
      "   \"narrativeId\": \"Narrative_7070eb99\",\n",
      "   \"narrativeMetadata\": {\n",
      "    \"length\": \"10\",\n",
      "    \"published\": \"2024-03-25T00:00:00\",\n",
      "    \"source\": \"Huffington Post\",\n",
      "    \"title\": \"Top Florida Court Rules Against Protections For Abortion, Greenlights 6-Week Ban\",\n",
      "    \"url\": \"https://www.huffpost.com/entry/florida-court-abortion-6-week-ban_n_65088b87e4b0f04446230d7e\"\n",
      "   },\n",
      "   \"numberOfTriples\": \"605\",\n",
      "   \"processed\": \"2024-04-08T15:42:29\"\n",
      "  },\n",
      "  {\n",
      "   \"narrativeId\": \"Narrative_f5610134\",\n",
      "   \"narrativeMetadata\": {\n",
      "    \"length\": \"10\",\n",
      "    \"published\": \"2024-03-25T00:00:00\",\n",
      "    \"source\": \"New York Times\",\n",
      "    \"title\": \"Florida Court Allows 6-Week Abortion Ban, but Voters Will Get to Weigh In\",\n",
      "    \"url\": \"https://www.nytimes.com/2024/04/01/us/florida-abortion-law-supreme-court.html?searchResultPosition=1\"\n",
      "   },\n",
      "   \"numberOfTriples\": \"595\",\n",
      "   \"processed\": \"2024-04-08T15:52:37\"\n",
      "  },\n",
      "  {\n",
      "   \"narrativeId\": \"Narrative_ff577472\",\n",
      "   \"narrativeMetadata\": {\n",
      "    \"length\": \"10\",\n",
      "    \"published\": \"2024-03-25T00:00:00\",\n",
      "    \"source\": \"Fox News\",\n",
      "    \"title\": \"Florida Supreme Court approves abortion ballot initiative while upholding 15-week ban\",\n",
      "    \"url\": \"https://www.foxnews.com/politics/florida-supreme-court-approves-abortion-ballot-initiative-upholding-15-week-ban\"\n",
      "   },\n",
      "   \"numberOfTriples\": \"490\",\n",
      "   \"processed\": \"2024-04-08T16:26:20\"\n",
      "  }\n",
      " ],\n",
      " \"repository\": \"fl_abortion\"\n",
      "}\n"
     ]
    }
   ],
   "source": [
    "# Check what articles are in the repository \n",
    "response = requests.get('http://127.0.0.1:5000/dna/v1/repositories/narratives?repository=fl_abortion')\n",
    "print(response.status_code, json.dumps(response.json(), indent=1))"
   ]
  },
  {
   "cell_type": "code",
   "execution_count": null,
   "id": "b57d5361",
   "metadata": {},
   "outputs": [],
   "source": []
  }
 ],
 "metadata": {
  "kernelspec": {
   "display_name": "Python 3",
   "language": "python",
   "name": "python3"
  },
  "language_info": {
   "codemirror_mode": {
    "name": "ipython",
    "version": 3
   },
   "file_extension": ".py",
   "mimetype": "text/x-python",
   "name": "python",
   "nbconvert_exporter": "python",
   "pygments_lexer": "ipython3",
   "version": "3.8.9"
  },
  "varInspector": {
   "cols": {
    "lenName": 16,
    "lenType": 16,
    "lenVar": 40
   },
   "kernels_config": {
    "python": {
     "delete_cmd_postfix": "",
     "delete_cmd_prefix": "del ",
     "library": "var_list.py",
     "varRefreshCmd": "print(var_dic_list())"
    },
    "r": {
     "delete_cmd_postfix": ") ",
     "delete_cmd_prefix": "rm(",
     "library": "var_list.r",
     "varRefreshCmd": "cat(var_dic_list()) "
    }
   },
   "position": {
    "height": "144.844px",
    "left": "1211px",
    "right": "20px",
    "top": "120px",
    "width": "350px"
   },
   "types_to_exclude": [
    "module",
    "function",
    "builtin_function_or_method",
    "instance",
    "_Feature"
   ],
   "window_display": false
  }
 },
 "nbformat": 4,
 "nbformat_minor": 5
}
