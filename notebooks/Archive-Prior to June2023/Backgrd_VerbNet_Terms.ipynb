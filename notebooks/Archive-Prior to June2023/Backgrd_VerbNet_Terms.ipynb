{
 "cells": [
  {
   "cell_type": "markdown",
   "id": "022e3d81",
   "metadata": {},
   "source": [
    "# Collecting VerbNet Terms\n",
    "\n",
    "This notebook parses all the VerbNet .XML definitions - extracting all the possible PREDicates in the FRAME SEMANTICS and the ARG type-value tuples. This will allow DNA to understand/account for all the semantics that can be expressed.\n",
    "    \n",
    "An example XML structure is:\n",
    "```\n",
    "<VNCLASS xmlns:xsi=\"http://www.w3.org/2001/XMLSchema-instance\" ID=\"dedicate-79\" ...> \n",
    "    <MEMBERS>\n",
    "        <MEMBER name=\"dedicate\" wn=\"dedicate%2:32:00\" grouping=\"dedicate.01\"/>\n",
    "        <MEMBER name=\"devote\" wn=\"devote%2:32:00\" grouping=\"devote.01\"/>\n",
    "        <MEMBER name=\"commit\" wn=\"commit%2:32:01 commit%2:40:00\" grouping=\"commit.02\"/>\n",
    "    </MEMBERS>\n",
    "    <THEMROLES>\n",
    "        ...\n",
    "    </THEMROLES>\n",
    "    <FRAMES>\n",
    "        <FRAME>\n",
    "            <DESCRIPTION descriptionNumber=\"8.1\" primary=\"NP V NP S_ING\" secondary=\"NP-P-ING-SC; to-PP\" .../>\n",
    "            <EXAMPLES>\n",
    "                <EXAMPLE>I dedicated myself to the cause.</EXAMPLE>\n",
    "            </EXAMPLES>\n",
    "            <SYNTAX>\n",
    "                <NP value=\"Agent\">\n",
    "                    <SYNRESTRS/>\n",
    "                </NP>\n",
    "                <VERB/>\n",
    "                <NP value=\"Theme\">\n",
    "                    <SYNRESTRS/>\n",
    "                </NP>\n",
    "                <PREP value=\"to\">\n",
    "                    <SYNRESTRS/>\n",
    "                </PREP>\n",
    "                <NP value=\"Goal\">\n",
    "                    <SYNRESTRS/>\n",
    "                </NP>\n",
    "            </SYNTAX>\n",
    "            <SEMANTICS>\n",
    "                <PRED value=\"dedicate\">\n",
    "                    <ARGS>\n",
    "                        <ARG type=\"Event\" value=\"during(E)\"/>\n",
    "                        <ARG type=\"ThemRole\" value=\"Agent\"/>\n",
    "                        <ARG type=\"ThemRole\" value=\"Theme\"/>\n",
    "                        <ARG type=\"ThemRole\" value=\"Goal\"/>\n",
    "                    </ARGS>\n",
    "                </PRED>\n",
    "            </SEMANTICS>\n",
    "        </FRAME>\n",
    "        <FRAME>\n",
    "            <DESCRIPTION descriptionNumber=\"0.2\" primary=\"NP V NP PP.goal\" secondary=\"NP-PP; to-PP\" .../>\n",
    "            <EXAMPLES>\n",
    "                <EXAMPLE>I dedicated myself to the cause.</EXAMPLE>\n",
    "            </EXAMPLES>\n",
    "            <SYNTAX>\n",
    "                <NP value=\"Agent\">\n",
    "                    <SYNRESTRS/>\n",
    "                </NP>\n",
    "                <VERB/>\n",
    "                <NP value=\"Theme\">\n",
    "                    <SYNRESTRS/>\n",
    "                </NP>\n",
    "                <PREP value=\"to\">\n",
    "                    <SELRESTRS/>\n",
    "                </PREP>\n",
    "                <NP value=\"Goal\">\n",
    "                    <SYNRESTRS>\n",
    "                        <SYNRESTR Value=\"-\" type=\"sentential\"/>\n",
    "                    </SYNRESTRS>\n",
    "                </NP>\n",
    "            </SYNTAX>\n",
    "            <SEMANTICS>\n",
    "                <PRED value=\"dedicate\">\n",
    "                    <ARGS>\n",
    "                        <ARG type=\"Event\" value=\"during(E)\"/>\n",
    "                        <ARG type=\"ThemRole\" value=\"Agent\"/>\n",
    "                        <ARG type=\"ThemRole\" value=\"Theme\"/>\n",
    "                        <ARG type=\"ThemRole\" value=\"Goal\"/>\n",
    "                    </ARGS>\n",
    "                </PRED>\n",
    "            </SEMANTICS>\n",
    "        </FRAME>\n",
    "    </FRAMES>\n",
    "    <SUBCLASSES/>\n",
    "</VNCLASS>\n",
    "```\n",
    "\n",
    "The above results in capturing the following detail:\n",
    "* The possible PREDicates in the FRAME SEMANTICS => 'dedicate'\n",
    "* The ARG type-value tuples =>\n",
    "  * 'Event', 'during(E)'\n",
    "  * 'ThemRole', 'Agent'\n",
    "  * 'ThemRole', 'Theme'\n",
    "  * 'ThemRole', 'Goal'\n",
    "  "
   ]
  },
  {
   "cell_type": "code",
   "execution_count": 1,
   "id": "c24fabc7",
   "metadata": {
    "ExecuteTime": {
     "end_time": "2021-05-04T18:27:28.831610Z",
     "start_time": "2021-05-04T18:27:28.822609Z"
    }
   },
   "outputs": [],
   "source": [
    "# Imports\n",
    "from pathlib import Path\n",
    "import xml.etree.ElementTree as ET"
   ]
  },
  {
   "cell_type": "code",
   "execution_count": 2,
   "id": "31002093",
   "metadata": {
    "ExecuteTime": {
     "end_time": "2021-05-04T18:27:30.340395Z",
     "start_time": "2021-05-04T18:27:30.337957Z"
    }
   },
   "outputs": [],
   "source": [
    "# Constants\n",
    "verbnet_dir = '/Users/andreaw/Documents/VerbNet3.3'"
   ]
  },
  {
   "cell_type": "code",
   "execution_count": 4,
   "id": "ab5ef524",
   "metadata": {
    "ExecuteTime": {
     "end_time": "2021-05-04T18:31:24.534786Z",
     "start_time": "2021-05-04T18:31:24.367640Z"
    }
   },
   "outputs": [
    {
     "name": "stdout",
     "output_type": "stream",
     "text": [
      "['Adv', 'about', 'act', 'adjust', 'admit', 'adopt', 'agree', 'alive', 'allow', 'apart', 'appear', 'apply_heat', 'apply_material', 'approve', 'assess', 'attached', 'attempt', 'attract', 'authority_relationship', 'avoid', 'base', 'begin', 'believe', 'benefit', 'body_motion', 'body_process', 'body_reflex', 'calculate', 'capacity', 'cause', 'change_value', 'characterize', 'charge', 'conclude', 'confined', 'conflict', 'confront', 'consider', 'conspire', 'contact', 'contain', 'continue', 'convert', 'cooked', 'cooperate', 'cope', 'correlate', 'cost', 'covered', 'created_image', 'declare', 'dedicate', 'defend', 'degradation_material_integrity', 'delay', 'depend', 'describe', 'designated', 'desire', 'destroyed', 'different', 'direction', 'disappear', 'discomfort', 'discover', 'do', 'earn', 'emit', 'emotional_state', 'end', 'enforce', 'ensure', 'equals', 'exceed', 'exert_force', 'exist', 'experience', 'express', 'filled_with', 'financial_interest_in', 'financial_relationship', 'flinch', 'free', 'function', 'give_birth', 'group', 'harmed', 'harmonize', 'has_possession', 'help', 'in_reaction_to', 'indicate', 'involuntary', 'involve', 'license', 'limit', 'linger', 'location', 'made_of', 'manner', 'masquerade', 'meets', 'mingled', 'motion', 'necessitate', 'neglect', 'nonagentive_cause', 'occur', 'path_rel', 'perceive', 'perform', 'physical_form', 'position', 'promote', 'property', 'relate', 'require', 'risk', 'rotational_motion', 'rush', 'satisfy', 'search', 'seem', 'set_member', 'signify', 'sleep', 'social_interaction', 'spend', 'state', 'subjugated', 'successful_in', 'suffocate', 'support', 'suspect', 'take_care_of', 'take_in', 'think', 'time', 'together', 'transfer', 'transfer_info', 'understand', 'urge', 'use', 'utilize', 'value', 'visible', 'void', 'wear', 'weather', 'withdraw', 'work', 'yield']\n",
      "\n",
      "[('Constant', 'ch_of_loc'), ('Constant', 'ch_of_poss'), ('Constant', 'ch_of_state'), ('Constant', 'ch_on_scale'), ('Constant', 'deceptive'), ('Constant', 'directedmotion'), ('Constant', 'forceful'), ('Constant', 'hostile'), ('Constant', 'illegal'), ('Constant', 'playful'), ('Constant', 'quality'), ('Constant', 'toward'), ('Constant', 'tr_of_info'), ('Event', 'E'), ('Event', 'E0'), ('Event', 'E1'), ('Event', 'End(E)'), ('Event', 'during(E)'), ('Event', 'during(E0)'), ('Event', 'during(E1)'), ('Event', 'end(E)'), ('Event', 'end(E0)'), ('Event', 'end(E1)'), ('Event', 'result(E)'), ('Event', 'start(E)'), ('Event', 'start(E0)'), ('Event', 'start(E1)'), ('ThemRole', '?Agent'), ('ThemRole', '?Asset'), ('ThemRole', '?Attribute'), ('ThemRole', '?Beneficiary'), ('ThemRole', '?Causer'), ('ThemRole', '?Co-Agent'), ('ThemRole', '?Co-Patient'), ('ThemRole', '?Co-Theme'), ('ThemRole', '?Context'), ('ThemRole', '?Destination'), ('ThemRole', '?Experiencer'), ('ThemRole', '?Extent'), ('ThemRole', '?Final_Time'), ('ThemRole', '?Goal'), ('ThemRole', '?Initial_Location'), ('ThemRole', '?Initial_State'), ('ThemRole', '?Initial_state'), ('ThemRole', '?Instrument'), ('ThemRole', '?Location'), ('ThemRole', '?Material'), ('ThemRole', '?Path'), ('ThemRole', '?Patient'), ('ThemRole', '?Predicate'), ('ThemRole', '?Product'), ('ThemRole', '?Recipient'), ('ThemRole', '?Recipient_i'), ('ThemRole', '?Result'), ('ThemRole', '?Source'), ('ThemRole', '?Source_j'), ('ThemRole', '?Stimulus'), ('ThemRole', '?Theme'), ('ThemRole', '?Theme_j'), ('ThemRole', '?Topic'), ('ThemRole', '?Trajectory'), ('ThemRole', '?Value'), ('ThemRole', 'Affector'), ('ThemRole', 'Agent'), ('ThemRole', 'Agent_i'), ('ThemRole', 'Agent_j'), ('ThemRole', 'Asset'), ('ThemRole', 'Attribute'), ('ThemRole', 'Axis'), ('ThemRole', 'Beneficiary'), ('ThemRole', 'Causer'), ('ThemRole', 'Co-Agent'), ('ThemRole', 'Co-Patient'), ('ThemRole', 'Co-Theme'), ('ThemRole', 'Co-agent'), ('ThemRole', 'Context'), ('ThemRole', 'Destination'), ('ThemRole', 'Direction'), ('ThemRole', 'Duration'), ('ThemRole', 'E'), ('ThemRole', 'Experiencer'), ('ThemRole', 'Extent'), ('ThemRole', 'Final_Time'), ('ThemRole', 'Goal'), ('ThemRole', 'Goal_i'), ('ThemRole', 'Goal_j'), ('ThemRole', 'Initial_Location'), ('ThemRole', 'Initial_State'), ('ThemRole', 'Instrument'), ('ThemRole', 'Location'), ('ThemRole', 'Location_i'), ('ThemRole', 'Location_j'), ('ThemRole', 'Material'), ('ThemRole', 'Path'), ('ThemRole', 'Patient'), ('ThemRole', 'Patient_i'), ('ThemRole', 'Patient_j'), ('ThemRole', 'Pivot'), ('ThemRole', 'Precondition'), ('ThemRole', 'Predicate'), ('ThemRole', 'Product'), ('ThemRole', 'Recipient'), ('ThemRole', 'Recipient_i'), ('ThemRole', 'Recipient_j'), ('ThemRole', 'Result'), ('ThemRole', 'Source'), ('ThemRole', 'Source_i'), ('ThemRole', 'Source_j'), ('ThemRole', 'Stimulus'), ('ThemRole', 'Stimulus, Attribute'), ('ThemRole', 'Theme'), ('ThemRole', 'Theme_i'), ('ThemRole', 'Theme_j'), ('ThemRole', 'Topic'), ('ThemRole', 'Trajectory'), ('ThemRole', 'Value'), ('VerbSpecific', '?Emotion'), ('VerbSpecific', '?Material'), ('VerbSpecific', '?Patient'), ('VerbSpecific', '?Prep'), ('VerbSpecific', '?Theme'), ('VerbSpecific', 'Direction'), ('VerbSpecific', 'Emotion'), ('VerbSpecific', 'Endstate'), ('VerbSpecific', 'Form'), ('VerbSpecific', 'Instrument'), ('VerbSpecific', 'Light'), ('VerbSpecific', 'Motion'), ('VerbSpecific', 'Odor'), ('VerbSpecific', 'Pos'), ('VerbSpecific', 'Prep'), ('VerbSpecific', 'Prop'), ('VerbSpecific', 'Role'), ('VerbSpecific', 'Sound'), ('VerbSpecific', 'Theme_i'), ('VerbSpecific', 'Theme_j'), ('VerbSpecific', 'Weather_type'), ('VerbSpecific', 'motion'), ('VerbSpecific', 'prep')]\n"
     ]
    }
   ],
   "source": [
    "preds = set()\n",
    "args = set()\n",
    "\n",
    "def get_arg_details(etree):\n",
    "    for arg in etree.findall('./FRAMES/FRAME/SEMANTICS/PRED/ARGS/ARG'):\n",
    "        args.add((arg.attrib[\"type\"], arg.attrib[\"value\"]))\n",
    "    \n",
    "    # Recursively process the subclasses\n",
    "    for subclass in etree.findall('./SUBCLASSES/VNSUBCLASS'):\n",
    "        get_arg_details(subclass)\n",
    "\n",
    "def get_pred_details(etree):\n",
    "    for pred in etree.findall('./FRAMES/FRAME/SEMANTICS/PRED'):\n",
    "        preds.add(pred.attrib[\"value\"])\n",
    "        \n",
    "    # Recursively process the subclasses\n",
    "    for subclass in etree.findall('./SUBCLASSES/VNSUBCLASS'):\n",
    "        get_pred_details(subclass)\n",
    "        \n",
    "\n",
    "# Process each of the VerbNet files\n",
    "file_list = Path(verbnet_dir).glob('**/*.xml')\n",
    "for file_path in file_list:\n",
    "    file_str = str(file_path)\n",
    "    with open(file_str, 'r') as xml_file:\n",
    "        xml_in = xml_file.read()\n",
    "        \n",
    "    # Create the tree\n",
    "    vn_class = ET.fromstring(xml_in)\n",
    "    # Process from the top down, recursively\n",
    "    get_pred_details(vn_class)\n",
    "    get_arg_details(vn_class)\n",
    "    \n",
    "print(sorted(preds))\n",
    "print()\n",
    "print(sorted(args))"
   ]
  },
  {
   "cell_type": "code",
   "execution_count": 5,
   "id": "21656edf",
   "metadata": {
    "ExecuteTime": {
     "end_time": "2021-05-04T18:50:13.341334Z",
     "start_time": "2021-05-04T18:50:13.086143Z"
    }
   },
   "outputs": [
    {
     "name": "stdout",
     "output_type": "stream",
     "text": [
      "['Adv', 'about', 'act', 'adjust', 'adjusted', 'admit', 'adopt', 'agree', 'alive', 'allow', 'apart', 'appear', 'apply_heat', 'apply_material', 'approve', 'assess', 'attached', 'attempt', 'attract', 'authority_relationship', 'avoid', 'base', 'be', 'becomes', 'begin', 'believe', 'benefit', 'body_motion', 'body_process', 'body_reflex', 'body_sensation', 'calculate', 'capacity', 'cause', 'change_value', 'characterize', 'charge', 'co-temporal', 'conclude', 'confined', 'conflict', 'confront', 'consider', 'conspire', 'contact', 'contain', 'continue', 'convert', 'cooked', 'cooperate', 'cope', 'correlate', 'correlated', 'cost', 'covered', 'create_image', 'created_image', 'declare', 'dedicate', 'defend', 'degradation_material_integrity', 'delay', 'depend', 'describe', 'designated', 'desire', 'destroyed', 'develop', 'different', 'direction', 'disappear', 'discomfort', 'discover', 'do', 'duration', 'earn', 'elliptical_motion', 'emit', 'emotional_state', 'end', 'enforce', 'ensure', 'equals', 'exceed', 'exert_force', 'exist', 'experience', 'express', 'fictive_motion', 'filled_with', 'financial_interest_in', 'financial_relationship', 'flinch', 'free', 'full_of', 'function', 'give_birth', 'group', 'harmed', 'harmonize', 'has_configuration', 'has_information', 'has_location', 'has_organization_role', 'has_orientation', 'has_position', 'has_possession', 'has_property', 'has_role', 'has_set_member', 'has_state', 'has_val', 'help', 'in_reaction_to', 'indicate', 'intend', 'intrinsic_motion', 'involuntary', 'involve', 'irrealis', 'license', 'limit', 'linger', 'location', 'made_of', 'manner', 'masquerade', 'material_integrity_state', 'meets', 'mingled', 'motion', 'necessitate', 'neglect', 'nonagentive_cause', 'occur', 'opposition', 'overlaps', 'part_of', 'path_rel', 'penetrating', 'perceive', 'perform', 'physical_form', 'position', 'promote', 'property', 'relate', 'repeated_sequence', 'require', 'risk', 'rotational_motion', 'rush', 'satisfy', 'search', 'seem', 'set_member', 'signify', 'sleep', 'social_interaction', 'spend', 'state', 'subjugated', 'successful_in', 'suffocate', 'support', 'suspect', 'take_care_of', 'take_in', 'think', 'time', 'together', 'transfer', 'transfer_info', 'understand', 'urge', 'use', 'utilize', 'value', 'visible', 'void', 'wear', 'weather', 'withdraw', 'work', 'yield']\n",
      "\n",
      "[('Constant', 'DirectedMotion'), ('Constant', 'Directedmotion'), ('Constant', 'Forceful'), ('Constant', 'Illegal'), ('Constant', 'Movement'), ('Constant', 'Quality'), ('Constant', 'ch_of_loc'), ('Constant', 'ch_of_poss'), ('Constant', 'ch_of_state'), ('Constant', 'ch_on_scale'), ('Constant', 'deceptive'), ('Constant', 'directedmotion'), ('Constant', 'forceful'), ('Constant', 'hostile'), ('Constant', 'illegal'), ('Constant', 'playful'), ('Constant', 'quality'), ('Constant', 'toward'), ('Constant', 'tr_of_info'), ('Constant', 'unseriously'), ('Event', 'E'), ('Event', 'E0'), ('Event', 'E1'), ('Event', 'End(E)'), ('Event', 'during(E)'), ('Event', 'during(E0)'), ('Event', 'during(E1)'), ('Event', 'e'), ('Event', 'e1'), ('Event', 'e2'), ('Event', 'e3'), ('Event', 'e4'), ('Event', 'e5'), ('Event', 'e6'), ('Event', 'e7'), ('Event', 'e8'), ('Event', 'end(E)'), ('Event', 'end(E0)'), ('Event', 'end(E1)'), ('Event', 'result(E)'), ('Event', 'start(E)'), ('Event', 'start(E0)'), ('Event', 'start(E1)'), ('Event', 'Ë'), ('Event', 'ë'), ('Event', 'ë1'), ('Event', 'ë2'), ('Event', 'ë3'), ('Event', 'ë4'), ('Event', 'ë5'), ('PredSpecific', '?Initial_Location'), ('PredSpecific', 'Agent'), ('PredSpecific', 'Attribute'), ('PredSpecific', 'Beneficiary'), ('PredSpecific', 'Destination'), ('PredSpecific', 'Duration'), ('PredSpecific', 'Experiencer'), ('PredSpecific', 'Extent'), ('PredSpecific', 'Goal'), ('PredSpecific', 'Initial_Location'), ('PredSpecific', 'Initial_State'), ('PredSpecific', 'Position'), ('PredSpecific', 'Predicate'), ('PredSpecific', 'Recipient'), ('PredSpecific', 'Result'), ('PredSpecific', 'Source'), ('PredSpecific', 'Theme'), ('PredSpecific', 'Topic'), ('PredSpecific', 'Trajectory'), ('PredSpecific', 'V_Final_State'), ('PredSpecific', 'V_Result'), ('ThemRole', '?Agent'), ('ThemRole', '?Asset'), ('ThemRole', '?Attribute'), ('ThemRole', '?Beneficiary'), ('ThemRole', '?Causer'), ('ThemRole', '?Co-Agent'), ('ThemRole', '?Co-Patient'), ('ThemRole', '?Co-Theme'), ('ThemRole', '?Context'), ('ThemRole', '?Destination'), ('ThemRole', '?Experiencer'), ('ThemRole', '?Extent'), ('ThemRole', '?Final_Time'), ('ThemRole', '?Goal'), ('ThemRole', '?Initial_Location'), ('ThemRole', '?Initial_State'), ('ThemRole', '?Initial_location'), ('ThemRole', '?Initial_state'), ('ThemRole', '?Instrument'), ('ThemRole', '?Location'), ('ThemRole', '?Location_I'), ('ThemRole', '?Location_J'), ('ThemRole', '?Material'), ('ThemRole', '?Path'), ('ThemRole', '?Patient'), ('ThemRole', '?Pivot'), ('ThemRole', '?Predicate'), ('ThemRole', '?Product'), ('ThemRole', '?Recipient'), ('ThemRole', '?Recipient_i'), ('ThemRole', '?Result'), ('ThemRole', '?Source'), ('ThemRole', '?Source_j'), ('ThemRole', '?Stimulus'), ('ThemRole', '?Theme'), ('ThemRole', '?Theme_j'), ('ThemRole', '?Topic'), ('ThemRole', '?Topic_I'), ('ThemRole', '?Topic_J'), ('ThemRole', '?Trajectory'), ('ThemRole', '?Value'), ('ThemRole', 'Affector'), ('ThemRole', 'Agent'), ('ThemRole', 'Agent_I'), ('ThemRole', 'Agent_J'), ('ThemRole', 'Agent_i'), ('ThemRole', 'Agent_j'), ('ThemRole', 'Asset'), ('ThemRole', 'Attribute'), ('ThemRole', 'Axis'), ('ThemRole', 'Beneficiary'), ('ThemRole', 'Causer'), ('ThemRole', 'Circumstance'), ('ThemRole', 'Co-Agent'), ('ThemRole', 'Co-Patient'), ('ThemRole', 'Co-Theme'), ('ThemRole', 'Co-agent'), ('ThemRole', 'Context'), ('ThemRole', 'Destination'), ('ThemRole', 'Direction'), ('ThemRole', 'Duration'), ('ThemRole', 'E'), ('ThemRole', 'Experiencer'), ('ThemRole', 'Extent'), ('ThemRole', 'Final_Time'), ('ThemRole', 'Goal'), ('ThemRole', 'Goal_i'), ('ThemRole', 'Goal_j'), ('ThemRole', 'Initial_Location'), ('ThemRole', 'Initial_State'), ('ThemRole', 'Initial_location'), ('ThemRole', 'Instrument'), ('ThemRole', 'Location'), ('ThemRole', 'Location_I'), ('ThemRole', 'Location_J'), ('ThemRole', 'Location_i'), ('ThemRole', 'Location_j'), ('ThemRole', 'Manner'), ('ThemRole', 'Material'), ('ThemRole', 'Path'), ('ThemRole', 'Patient'), ('ThemRole', 'Patient_I'), ('ThemRole', 'Patient_J'), ('ThemRole', 'Patient_i'), ('ThemRole', 'Patient_j'), ('ThemRole', 'Pivot'), ('ThemRole', 'Precondition'), ('ThemRole', 'Predicate'), ('ThemRole', 'Product'), ('ThemRole', 'Recipient'), ('ThemRole', 'Recipient_i'), ('ThemRole', 'Recipient_j'), ('ThemRole', 'Result'), ('ThemRole', 'Source'), ('ThemRole', 'Source_i'), ('ThemRole', 'Source_j'), ('ThemRole', 'Stimulus'), ('ThemRole', 'Stimulus, Attribute'), ('ThemRole', 'Theme'), ('ThemRole', 'Theme '), ('ThemRole', 'Theme_I'), ('ThemRole', 'Theme_J'), ('ThemRole', 'Theme_i'), ('ThemRole', 'Theme_j'), ('ThemRole', 'Topic'), ('ThemRole', 'Topic_I'), ('ThemRole', 'Topic_J'), ('ThemRole', 'Trajectory'), ('ThemRole', 'V_Final_State'), ('ThemRole', 'Value'), ('ThemRole', 'e1'), ('ThemRole', 'e2'), ('VerbSpecific', '?Causer'), ('VerbSpecific', '?Emotion'), ('VerbSpecific', '?Material'), ('VerbSpecific', '?Patient'), ('VerbSpecific', '?Prep'), ('VerbSpecific', '?Theme'), ('VerbSpecific', 'Causer'), ('VerbSpecific', 'Destination'), ('VerbSpecific', 'Direction'), ('VerbSpecific', 'Emotion'), ('VerbSpecific', 'Endstate'), ('VerbSpecific', 'Form'), ('VerbSpecific', 'Instrument'), ('VerbSpecific', 'Light'), ('VerbSpecific', 'Motion'), ('VerbSpecific', 'Movement'), ('VerbSpecific', 'Odor'), ('VerbSpecific', 'Pos'), ('VerbSpecific', 'Prep'), ('VerbSpecific', 'Prop'), ('VerbSpecific', 'Result'), ('VerbSpecific', 'Role'), ('VerbSpecific', 'Sound'), ('VerbSpecific', 'Theme_i'), ('VerbSpecific', 'Theme_j'), ('VerbSpecific', 'V_Attribute'), ('VerbSpecific', 'V_Configuration'), ('VerbSpecific', 'V_Direction'), ('VerbSpecific', 'V_Final_State'), ('VerbSpecific', 'V_Form'), ('VerbSpecific', 'V_Instrument'), ('VerbSpecific', 'V_Manner'), ('VerbSpecific', 'V_Material'), ('VerbSpecific', 'V_Orientation'), ('VerbSpecific', 'V_Position'), ('VerbSpecific', 'V_Sound'), ('VerbSpecific', 'V_State'), ('VerbSpecific', 'V_Theme'), ('VerbSpecific', 'V_Theme '), ('VerbSpecific', 'Weather_type'), ('VerbSpecific', 'motion'), ('VerbSpecific', 'prep')]\n"
     ]
    }
   ],
   "source": [
    "# Process again for VerbNet 3.4\n",
    "verbnet_dir = '/Users/andreaw/Documents/VerbNet3.4'\n",
    "\n",
    "# Process each of the VerbNet files\n",
    "file_list = Path(verbnet_dir).glob('**/*.xml')\n",
    "for file_path in file_list:\n",
    "    file_str = str(file_path)\n",
    "    with open(file_str, 'r') as xml_file:\n",
    "        xml_in = xml_file.read()\n",
    "        \n",
    "    # Create the tree\n",
    "    vn_class = ET.fromstring(xml_in)\n",
    "    # Process from the top down, recursively\n",
    "    get_pred_details(vn_class)\n",
    "    get_arg_details(vn_class)\n",
    "    \n",
    "print(sorted(preds))\n",
    "print()\n",
    "print(sorted(args))"
   ]
  },
  {
   "cell_type": "code",
   "execution_count": null,
   "id": "bc06fc6f",
   "metadata": {},
   "outputs": [],
   "source": []
  }
 ],
 "metadata": {
  "kernelspec": {
   "display_name": "Python 3",
   "language": "python",
   "name": "python3"
  },
  "language_info": {
   "codemirror_mode": {
    "name": "ipython",
    "version": 3
   },
   "file_extension": ".py",
   "mimetype": "text/x-python",
   "name": "python",
   "nbconvert_exporter": "python",
   "pygments_lexer": "ipython3",
   "version": "3.8.9"
  },
  "varInspector": {
   "cols": {
    "lenName": 16,
    "lenType": 16,
    "lenVar": 40
   },
   "kernels_config": {
    "python": {
     "delete_cmd_postfix": "",
     "delete_cmd_prefix": "del ",
     "library": "var_list.py",
     "varRefreshCmd": "print(var_dic_list())"
    },
    "r": {
     "delete_cmd_postfix": ") ",
     "delete_cmd_prefix": "rm(",
     "library": "var_list.r",
     "varRefreshCmd": "cat(var_dic_list()) "
    }
   },
   "oldHeight": 122,
   "position": {
    "height": "40px",
    "left": "1383px",
    "right": "20px",
    "top": "120px",
    "width": "250px"
   },
   "types_to_exclude": [
    "module",
    "function",
    "builtin_function_or_method",
    "instance",
    "_Feature"
   ],
   "varInspector_section_display": "none",
   "window_display": true
  }
 },
 "nbformat": 4,
 "nbformat_minor": 5
}
