{
 "cells": [
  {
   "cell_type": "markdown",
   "id": "ad98d76d",
   "metadata": {},
   "source": [
    "# OpenAI Usage"
   ]
  },
  {
   "cell_type": "markdown",
   "id": "455b3f25",
   "metadata": {},
   "source": [
    "## Description \n",
    "Input and process sentences using OpenAI's API"
   ]
  },
  {
   "cell_type": "code",
   "execution_count": 1,
   "id": "eb6b0a9c",
   "metadata": {
    "ExecuteTime": {
     "end_time": "2023-08-23T18:32:22.034837Z",
     "start_time": "2023-08-23T18:32:21.862251Z"
    }
   },
   "outputs": [
    {
     "data": {
      "text/plain": [
       "True"
      ]
     },
     "execution_count": 1,
     "metadata": {},
     "output_type": "execute_result"
    }
   ],
   "source": [
    "import json\n",
    "import os\n",
    "import openai\n",
    "from dotenv import load_dotenv\n",
    "load_dotenv()  # take environment variables from .env"
   ]
  },
  {
   "cell_type": "code",
   "execution_count": 3,
   "id": "3cfa62d6",
   "metadata": {
    "ExecuteTime": {
     "end_time": "2023-08-23T18:33:31.893204Z",
     "start_time": "2023-08-23T18:33:22.280232Z"
    }
   },
   "outputs": [
    {
     "name": "stdout",
     "output_type": "stream",
     "text": [
      "{\n",
      "  \"id\": \"chatcmpl-7qmxO29SdxsNXZPVmOTy0hM6hNloY\",\n",
      "  \"object\": \"chat.completion\",\n",
      "  \"created\": 1692815602,\n",
      "  \"model\": \"gpt-3.5-turbo-0613\",\n",
      "  \"choices\": [\n",
      "    {\n",
      "      \"index\": 0,\n",
      "      \"message\": {\n",
      "        \"role\": \"assistant\",\n",
      "        \"content\": \"{'sent_text': 'Liz Cheney was beaten by Harriet Hageman in the WY primary.',\\n 'sent_person': 'third',\\n 'sent_summary': 'Liz Cheney lost to Harriet Hageman in the Wyoming primary.',\\n 'sent_label': 'Primary Election Result',\\n 'sent_categories': [{'category': 37, 'reason': 'The sentence describes a political occurrence, specifically a primary election result.'}],\\n 'verb_phrase': 'was beaten',\\n 'tense': 'past',\\n 'verb_is_stative': False,\\n 'verb_voice': 'passive',\\n 'verb_sentiment': 'negative',\\n 'verb_categories': [{'category': 23, 'reason': 'The verb phrase \\\"was beaten\\\" indicates a loss in the election.'}],\\n 'subject_text': 'Liz Cheney',\\n 'subject_is_plural': False,\\n 'subject_semantics': 'person',\\n 'object_text': 'Harriet Hageman',\\n 'object_is_plural': False,\\n 'object_semantics': 'person',\\n 'errors': False}\"\n",
      "      },\n",
      "      \"finish_reason\": \"stop\"\n",
      "    }\n",
      "  ],\n",
      "  \"usage\": {\n",
      "    \"prompt_tokens\": 1341,\n",
      "    \"completion_tokens\": 209,\n",
      "    \"total_tokens\": 1550\n",
      "  }\n",
      "}\n"
     ]
    }
   ],
   "source": [
    "openai.api_key = os.environ.get(\"OPENAI_API_KEY\")\n",
    "output_format = {\n",
    "    \"sent_text\": \"string\",\n",
    "    \"sent_person\": \"string\",\n",
    "    \"sent_summary\": \"string\",\n",
    "    \"sent_label\": \"string\",\n",
    "    \"sent_categories\": [{\n",
    "        \"category\": \"int\",\n",
    "        \"reason\": \"string\"\n",
    "    }],\n",
    "    \"verb_phrase\": \"string\",\n",
    "    \"tense\": \"string\",\n",
    "    \"verb_is_stative\": \"bool\",\n",
    "    \"verb_voice\": \"string\",\n",
    "    \"verb_sentiment\": \"string\",\n",
    "    \"verb_categories\": [{\n",
    "        \"category\": \"int\",\n",
    "        \"reason\": \"string\"\n",
    "    }],\n",
    "    \"subject_text\": \"string\",\n",
    "    \"subject_is_plural\": \"boolean\",\n",
    "    \"subject_semantics\": \"string\",\n",
    "    \"object_text\": \"string\",\n",
    "    \"object_is_plural\": \"boolean\",\n",
    "    \"object_semantics\": \"string\",\n",
    "    \"errors\": \"boolean\"\n",
    "}\n",
    "prompt1 = 'You are a linguist and NLP expert. ' \\\n",
    "    'Sentence: sent_text ' \\\n",
    "    'For the Sentence provided, indicate if it is in the first, second or third person, ' \\\n",
    "    'and if there are grammatical or spelling errors in it. Also, provide a summarization of the ' \\\n",
    "    'Sentence, and create a short label for it in 30 characters or less. ' \\\n",
    "    'Indicate the possible semantic categories of the Sentence based on ALL the words in the Sentence, ' \\\n",
    "    'using the numbers of at least 2 of the categories listed below. ' \\\n",
    "    'Explain the reasoning for the categorizations. ' \\\n",
    "    'Indicate the main verb phrase and the verb tense, whether the verb is active or stative, and ' \\\n",
    "    'if the verb is in an active or passive voice. ' \\\n",
    "    'Make sure to capture the full text of phrasal verbs such as \"lock up\" or \"talk down to\", ' \\\n",
    "    'and the sentiment of the verb phrase - whether positive, negative or neutral. ' \\\n",
    "    'Indicate the possible meanings of the verb phrase based on the explicit Sentence text, ' \\\n",
    "    'using the numbers of at least 2 semantic categories. Explain the reasoning for the categorizations. '\n",
    "prompt2 = 'The semantic categories are: ' \\\n",
    "    '1. acquisition such as by purchase or sale, gift-giving, donation, finding something, capture, seizure, ' \\\n",
    "    'robbery and theft ' \\\n",
    "    '2. aggressive, hostile or criminal act such as attack, assault, coercion, intimidation, bribery, threatening, ' \\\n",
    "    'deception, dishonesty, betrayal, resistance, murder, homicide, invasion, occupation ' \\\n",
    "    '3. agreement such as coming to an agreement, agreeing on something, and signing a contract ' \\\n",
    "    '4. any type of agricultural, apiculture, viniculture and aquacultural act or event ' \\\n",
    "    '5. any type of art and entertainment act or event including attending a movie, visiting a museum, ' \\\n",
    "    'playing a game, and hiking ' \\\n",
    "    '6. any attempt to do or achieve something ' \\\n",
    "    '7. avoidance such as bans, boycotts, escape, evasion, ignoring, overlooking, prevention and concealment ' \\\n",
    "    '8. bodily act such as movement, eating, drinking, grooming and sleeping ' \\\n",
    "    '9. change such as increase, decrease or physical change such as melting, bending and vaporization ' \\\n",
    "    '10. any type of cognition such as thinking, focusing, reading, assessing, characterizing, believing, making a ' \\\n",
    "    'decision, remembering or forgetting, having a goal, learning, having knowledge or skills, and understanding ' \\\n",
    "    '11. any type of emotion or feeling ' \\\n",
    "    '12. any type of sensory perception including pain and hunger ' \\\n",
    "    '13. any type of communication, communicating and speech acts such as recommending, acknowledging, denying, ' \\\n",
    "    'promising, making a request, boasting, joking, greeting, asking a question, granting permission, refusing, ' \\\n",
    "    'rejecting, deriding, slandering or surrendering ' \\\n",
    "    '14. competition or competing including playing a game ' \\\n",
    "    '15. continuation ' \\\n",
    "    '16. delay or wait' \\\n",
    "    '17. disagreement or dispute ' \\\n",
    "    '18. distribution or supply of something ' \\\n",
    "    '19. start of something' \\\n",
    "    '20. end of something, some event, or someone ' \\\n",
    "    '21. success ' \\\n",
    "    '22. failure ' \\\n",
    "    '23. win or loss ' \\\n",
    "    '24. any type of environmental or ecological event such as a disaster, weather event, or natural phenomenon ' \\\n",
    "    '25. any type of economic event such as a recesssion or inflation ' \\\n",
    "    '26. any type of financial event such as depositing or withdrawing money, releasing an annual report or ' \\\n",
    "    'paying taxes ' \\\n",
    "    '27. health-related event or act such as contracting a disease, addiction, a physical injury, frailty, ' \\\n",
    "    'having an allergic reaction, getting a vaccine, malnutrition and sterility ' \\\n",
    "    '28. impact and collision ' \\\n",
    "    '29. inclusion, unification and attachment such as adding to a list and assembling something ' \\\n",
    "    '30. information and data handling including IT operations ' \\\n",
    "    '31. issuing and publishing such as a newspaper, magazine or press release ' \\\n",
    "    '32. any legal or judicial event such as a trial, verdict, jury selection and judicial ruling ' \\\n",
    "    '33. life event such as birth, death, marriage and divorce ' \\\n",
    "    '34. measurement, measuring and reported assessment, count, percentages, etc. ' \\\n",
    "    '35. meeting and encounter such as party, chance encounter or ceremony ' \\\n",
    "    '36. any type of movement, travel or transportation such as entering or leaving a port or train station, ' \\\n",
    "    'traveling on a road, loading a truck or rail car, or making incremental changes such as pouring liquid from ' \\\n",
    "    'one container to another ' \\\n",
    "    '37. any political occurrence such as an election, coup or transfer of power, and political campaign ' \\\n",
    "    '38. any type of production, manufacture and creation event such as designing, building or producing ' \\\n",
    "    'products in a factory ' \\\n",
    "    '39. punishment ' \\\n",
    "    '40. reward and compensation ' \\\n",
    "    '41. removal and restriction including removal of raw materials or a siege ' \\\n",
    "    '42. return, recovery and release ' \\\n",
    "    '43. risk taking including gambling ' \\\n",
    "    '44. search ' \\\n",
    "    '45. separation ' \\\n",
    "    '46. any type of space event such as a meteor shower, sun spots, eclipse, or rocket or satellite launch ' \\\n",
    "    '47. any type of storage event such as moving cargo into or from storage, stockpiling or hoarding ' \\\n",
    "    '48. substitution of something or someone for something or someone else ' \\\n",
    "    '49. utilization and consumption ' \\\n",
    "    '50. violation of agreement ' \\\n",
    "    '51. possession ' \\\n",
    "    '52. description of a characteristic or an attribute of a person, place, event, or thing such as its shape, ' \\\n",
    "    'temperature, color, weight, population, level of pollution, and percentage '\n",
    "prompt3 = \\\n",
    "    'Determine all the sentence subjects and objects, if subjects and/or objects are present. ' \\\n",
    "    'Indicate if any of the subjects and/or objects are singular or plural, and indicate their semantics as ' \\\n",
    "    '\"person\", \"government\", \"organization, sub-organization or group of persons\", \"animal\", ' \\\n",
    "    '\"plant\", \"place\", \"environment or condition\", inanimate object or substance\", \"historical event\", ' \\\n",
    "    '\"law, policy or legal decision\", \"quantity or measurement\", or \"other\". '\n",
    "prompt4 = f'Return the response as a JSON object with a shape of {output_format} '\n",
    "\n",
    "response = openai.ChatCompletion.create(\n",
    "    model=\"gpt-3.5-turbo\",\n",
    "    messages=[\n",
    "        {\"role\": \"user\", \"content\": \n",
    "         prompt1.replace(\"sent_text\", \"Liz Cheney was beaten by Harriet Hageman in the WY primary.\")\n",
    "         +prompt2+prompt3+prompt4}\n",
    "    ],\n",
    "    temperature=0.3\n",
    ")\n",
    "print(response)"
   ]
  },
  {
   "cell_type": "code",
   "execution_count": 4,
   "id": "72a38530",
   "metadata": {
    "ExecuteTime": {
     "end_time": "2023-08-23T18:34:13.877538Z",
     "start_time": "2023-08-23T18:34:05.798315Z"
    }
   },
   "outputs": [
    {
     "name": "stdout",
     "output_type": "stream",
     "text": [
      "{\n",
      "  \"id\": \"chatcmpl-7qmy6khsdGjCToRX4PVokE7mHmLHD\",\n",
      "  \"object\": \"chat.completion\",\n",
      "  \"created\": 1692815646,\n",
      "  \"model\": \"gpt-3.5-turbo-0613\",\n",
      "  \"choices\": [\n",
      "    {\n",
      "      \"index\": 0,\n",
      "      \"message\": {\n",
      "        \"role\": \"assistant\",\n",
      "        \"content\": \"{'sent_text': 'The economy was sluggish.',\\n 'sent_person': 'third',\\n 'sent_summary': 'The economy was slow.',\\n 'sent_label': 'Economy Sluggish',\\n 'sent_categories': [{'category': 25, 'reason': 'The sentence is about the state of the economy.'}],\\n 'verb_phrase': 'was sluggish',\\n 'tense': 'past',\\n 'verb_is_stative': True,\\n 'verb_voice': 'active',\\n 'verb_sentiment': 'negative',\\n 'verb_categories': [{'category': 9, 'reason': 'The verb phrase describes a state of the economy.'}],\\n 'subject_text': 'The economy',\\n 'subject_is_plural': False,\\n 'subject_semantics': 'environment or condition',\\n 'object_text': '',\\n 'object_is_plural': False,\\n 'object_semantics': '',\\n 'errors': False}\"\n",
      "      },\n",
      "      \"finish_reason\": \"stop\"\n",
      "    }\n",
      "  ],\n",
      "  \"usage\": {\n",
      "    \"prompt_tokens\": 1330,\n",
      "    \"completion_tokens\": 174,\n",
      "    \"total_tokens\": 1504\n",
      "  }\n",
      "}\n"
     ]
    }
   ],
   "source": [
    "response = openai.ChatCompletion.create(\n",
    "    model=\"gpt-3.5-turbo\",\n",
    "    messages=[\n",
    "        {\"role\": \"user\", \"content\": \n",
    "         prompt1.replace(\"sent_text\", \"The economy was sluggish.\")+prompt2+prompt3+prompt4}\n",
    "    ],\n",
    "    temperature=0\n",
    ")\n",
    "print(response)"
   ]
  },
  {
   "cell_type": "code",
   "execution_count": 5,
   "id": "712a571d",
   "metadata": {
    "ExecuteTime": {
     "end_time": "2023-08-23T18:34:45.672415Z",
     "start_time": "2023-08-23T18:34:31.465906Z"
    }
   },
   "outputs": [
    {
     "name": "stdout",
     "output_type": "stream",
     "text": [
      "{\n",
      "  \"id\": \"chatcmpl-7qmyWkXrmBOtv24HnH35mqMni4fFq\",\n",
      "  \"object\": \"chat.completion\",\n",
      "  \"created\": 1692815672,\n",
      "  \"model\": \"gpt-3.5-turbo-0613\",\n",
      "  \"choices\": [\n",
      "    {\n",
      "      \"index\": 0,\n",
      "      \"message\": {\n",
      "        \"role\": \"assistant\",\n",
      "        \"content\": \"{\\n  \\\"sent_text\\\": \\\"The judge threw the book at the criminal.\\\",\\n  \\\"sent_person\\\": \\\"third\\\",\\n  \\\"sent_summary\\\": \\\"The judge punished the criminal severely.\\\",\\n  \\\"sent_label\\\": \\\"Judge punishes criminal\\\",\\n  \\\"sent_categories\\\": [\\n    {\\n      \\\"category\\\": 32,\\n      \\\"reason\\\": \\\"The sentence mentions a judge and a criminal, indicating a legal or judicial event.\\\"\\n    },\\n    {\\n      \\\"category\\\": 39,\\n      \\\"reason\\\": \\\"The sentence describes the judge's action of punishing the criminal.\\\"\\n    }\\n  ],\\n  \\\"verb_phrase\\\": \\\"threw the book at\\\",\\n  \\\"tense\\\": \\\"past\\\",\\n  \\\"verb_is_stative\\\": false,\\n  \\\"verb_voice\\\": \\\"active\\\",\\n  \\\"verb_sentiment\\\": \\\"negative\\\",\\n  \\\"verb_categories\\\": [\\n    {\\n      \\\"category\\\": 39,\\n      \\\"reason\\\": \\\"The verb phrase 'threw the book at' implies a punishment.\\\"\\n    },\\n    {\\n      \\\"category\\\": 6,\\n      \\\"reason\\\": \\\"The verb phrase 'threw the book at' indicates an attempt to punish or achieve something.\\\"\\n    }\\n  ],\\n  \\\"subject_text\\\": \\\"The judge\\\",\\n  \\\"subject_is_plural\\\": false,\\n  \\\"subject_semantics\\\": \\\"person\\\",\\n  \\\"object_text\\\": \\\"the criminal\\\",\\n  \\\"object_is_plural\\\": false,\\n  \\\"object_semantics\\\": \\\"person\\\",\\n  \\\"errors\\\": false\\n}\"\n",
      "      },\n",
      "      \"finish_reason\": \"stop\"\n",
      "    }\n",
      "  ],\n",
      "  \"usage\": {\n",
      "    \"prompt_tokens\": 1334,\n",
      "    \"completion_tokens\": 294,\n",
      "    \"total_tokens\": 1628\n",
      "  }\n",
      "}\n"
     ]
    }
   ],
   "source": [
    "response = openai.ChatCompletion.create(\n",
    "    model=\"gpt-3.5-turbo\",\n",
    "    messages=[\n",
    "        {\"role\": \"user\", \"content\": \n",
    "         prompt1.replace(\"sent_text\", \"The judge threw the book at the criminal.\")+prompt2+prompt3+prompt4}\n",
    "    ],\n",
    "    temperature=0.3\n",
    ")\n",
    "print(response)"
   ]
  },
  {
   "cell_type": "code",
   "execution_count": 7,
   "id": "2f517ee8",
   "metadata": {
    "ExecuteTime": {
     "end_time": "2023-08-23T18:35:54.226109Z",
     "start_time": "2023-08-23T18:35:46.084825Z"
    }
   },
   "outputs": [
    {
     "name": "stdout",
     "output_type": "stream",
     "text": [
      "{\n",
      "  \"id\": \"chatcmpl-7qmziHc9SkT9b4S4WgqziU32x9Hck\",\n",
      "  \"object\": \"chat.completion\",\n",
      "  \"created\": 1692815746,\n",
      "  \"model\": \"gpt-3.5-turbo-0613\",\n",
      "  \"choices\": [\n",
      "    {\n",
      "      \"index\": 0,\n",
      "      \"message\": {\n",
      "        \"role\": \"assistant\",\n",
      "        \"content\": \"{'sent_text': 'The weather is warm.',\\n 'sent_person': 'third',\\n 'sent_summary': 'The weather is warm.',\\n 'sent_label': 'Warm weather',\\n 'sent_categories': [{'category': 23, 'reason': 'The sentence describes the state of the weather.'}],\\n 'verb_phrase': 'is warm',\\n 'tense': 'present',\\n 'verb_is_stative': True,\\n 'verb_voice': 'active',\\n 'verb_sentiment': 'positive',\\n 'verb_categories': [{'category': 9, 'reason': 'The verb phrase describes a physical change in temperature.'}],\\n 'subject_text': 'The weather',\\n 'subject_is_plural': False,\\n 'subject_semantics': 'environment or condition',\\n 'object_text': '',\\n 'object_is_plural': False,\\n 'object_semantics': '',\\n 'errors': False}\"\n",
      "      },\n",
      "      \"finish_reason\": \"stop\"\n",
      "    }\n",
      "  ],\n",
      "  \"usage\": {\n",
      "    \"prompt_tokens\": 1330,\n",
      "    \"completion_tokens\": 170,\n",
      "    \"total_tokens\": 1500\n",
      "  }\n",
      "}\n"
     ]
    }
   ],
   "source": [
    "response = openai.ChatCompletion.create(\n",
    "    model=\"gpt-3.5-turbo\",\n",
    "    messages=[\n",
    "        {\"role\": \"user\", \"content\": \n",
    "         prompt1.replace(\"sent_text\", \"The weather is warm.\")+prompt2+prompt3+prompt4}\n",
    "    ],\n",
    "    temperature=0\n",
    ")\n",
    "print(response)"
   ]
  },
  {
   "cell_type": "code",
   "execution_count": 8,
   "id": "a1b6a4f9",
   "metadata": {
    "ExecuteTime": {
     "end_time": "2023-08-23T18:36:27.359457Z",
     "start_time": "2023-08-23T18:36:15.786436Z"
    }
   },
   "outputs": [
    {
     "name": "stdout",
     "output_type": "stream",
     "text": [
      "{\n",
      "  \"id\": \"chatcmpl-7qn0CdowOUGxjd391PV0KWYGozDL4\",\n",
      "  \"object\": \"chat.completion\",\n",
      "  \"created\": 1692815776,\n",
      "  \"model\": \"gpt-3.5-turbo-0613\",\n",
      "  \"choices\": [\n",
      "    {\n",
      "      \"index\": 0,\n",
      "      \"message\": {\n",
      "        \"role\": \"assistant\",\n",
      "        \"content\": \"{\\n  \\\"sent_text\\\": \\\"Mary is prety.\\\",\\n  \\\"sent_person\\\": \\\"third\\\",\\n  \\\"sent_summary\\\": \\\"Mary is pretty.\\\",\\n  \\\"sent_label\\\": \\\"Mary is pretty\\\",\\n  \\\"sent_categories\\\": [\\n    {\\n      \\\"category\\\": 11,\\n      \\\"reason\\\": \\\"The sentence describes a feeling or emotion.\\\"\\n    },\\n    {\\n      \\\"category\\\": 52,\\n      \\\"reason\\\": \\\"The sentence describes a characteristic of a person.\\\"\\n    }\\n  ],\\n  \\\"verb_phrase\\\": \\\"is pretty\\\",\\n  \\\"tense\\\": \\\"present\\\",\\n  \\\"verb_is_stative\\\": true,\\n  \\\"verb_voice\\\": \\\"active\\\",\\n  \\\"verb_sentiment\\\": \\\"positive\\\",\\n  \\\"verb_categories\\\": [\\n    {\\n      \\\"category\\\": 11,\\n      \\\"reason\\\": \\\"The verb phrase expresses a positive feeling or emotion.\\\"\\n    },\\n    {\\n      \\\"category\\\": 52,\\n      \\\"reason\\\": \\\"The verb phrase describes a characteristic of a person.\\\"\\n    }\\n  ],\\n  \\\"subject_text\\\": \\\"Mary\\\",\\n  \\\"subject_is_plural\\\": false,\\n  \\\"subject_semantics\\\": \\\"person\\\",\\n  \\\"object_text\\\": \\\"\\\",\\n  \\\"object_is_plural\\\": false,\\n  \\\"object_semantics\\\": \\\"\\\",\\n  \\\"errors\\\": true\\n}\"\n",
      "      },\n",
      "      \"finish_reason\": \"stop\"\n",
      "    }\n",
      "  ],\n",
      "  \"usage\": {\n",
      "    \"prompt_tokens\": 1330,\n",
      "    \"completion_tokens\": 253,\n",
      "    \"total_tokens\": 1583\n",
      "  }\n",
      "}\n"
     ]
    }
   ],
   "source": [
    "response = openai.ChatCompletion.create(\n",
    "    model=\"gpt-3.5-turbo\",\n",
    "    messages=[\n",
    "        {\"role\": \"user\", \"content\": \n",
    "         prompt1.replace(\"sent_text\", \"Mary is prety.\")+prompt2+prompt3+prompt4}\n",
    "    ],\n",
    "    temperature=0\n",
    ")\n",
    "print(response)"
   ]
  },
  {
   "cell_type": "code",
   "execution_count": null,
   "id": "d08e8273",
   "metadata": {},
   "outputs": [],
   "source": []
  }
 ],
 "metadata": {
  "kernelspec": {
   "display_name": "Python 3",
   "language": "python",
   "name": "python3"
  },
  "language_info": {
   "codemirror_mode": {
    "name": "ipython",
    "version": 3
   },
   "file_extension": ".py",
   "mimetype": "text/x-python",
   "name": "python",
   "nbconvert_exporter": "python",
   "pygments_lexer": "ipython3",
   "version": "3.8.9"
  },
  "varInspector": {
   "cols": {
    "lenName": 16,
    "lenType": 16,
    "lenVar": 40
   },
   "kernels_config": {
    "python": {
     "delete_cmd_postfix": "",
     "delete_cmd_prefix": "del ",
     "library": "var_list.py",
     "varRefreshCmd": "print(var_dic_list())"
    },
    "r": {
     "delete_cmd_postfix": ") ",
     "delete_cmd_prefix": "rm(",
     "library": "var_list.r",
     "varRefreshCmd": "cat(var_dic_list()) "
    }
   },
   "position": {
    "height": "144.659px",
    "left": "966.455px",
    "right": "20px",
    "top": "121px",
    "width": "350px"
   },
   "types_to_exclude": [
    "module",
    "function",
    "builtin_function_or_method",
    "instance",
    "_Feature"
   ],
   "window_display": true
  }
 },
 "nbformat": 4,
 "nbformat_minor": 5
}
