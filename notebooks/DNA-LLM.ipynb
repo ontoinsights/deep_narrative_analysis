{
 "cells": [
  {
   "cell_type": "markdown",
   "id": "ad98d76d",
   "metadata": {},
   "source": [
    "# OpenAI Usage"
   ]
  },
  {
   "cell_type": "markdown",
   "id": "455b3f25",
   "metadata": {},
   "source": [
    "## Description \n",
    "Input and process sentences using OpenAI's API"
   ]
  },
  {
   "cell_type": "code",
   "execution_count": 1,
   "id": "eb6b0a9c",
   "metadata": {
    "ExecuteTime": {
     "end_time": "2023-08-28T18:43:40.480676Z",
     "start_time": "2023-08-28T18:43:40.205209Z"
    }
   },
   "outputs": [
    {
     "data": {
      "text/plain": [
       "True"
      ]
     },
     "execution_count": 1,
     "metadata": {},
     "output_type": "execute_result"
    }
   ],
   "source": [
    "import json\n",
    "import os\n",
    "import openai\n",
    "from dotenv import load_dotenv\n",
    "load_dotenv()  # take environment variables from .env"
   ]
  },
  {
   "cell_type": "code",
   "execution_count": 2,
   "id": "3cfa62d6",
   "metadata": {
    "ExecuteTime": {
     "end_time": "2023-08-28T18:43:47.314130Z",
     "start_time": "2023-08-28T18:43:47.305462Z"
    },
    "scrolled": true
   },
   "outputs": [],
   "source": [
    "openai.api_key = os.environ.get(\"OPENAI_API_KEY\")\n",
    "sent_format = { \n",
    "    \"sent_text\": \"string\",\n",
    "    \"sent_person\": \"string\",\n",
    "    \"sent_grade\": \"string\",\n",
    "    \"sent_summary\": \"string\",\n",
    "    \"sent_sentiment\": \"string\",\n",
    "    \"sent_categories\": [{\n",
    "        \"category\": \"int\",\n",
    "        \"reason\": \"string\"\n",
    "    }]\n",
    "}\n",
    "\n",
    "chunk_format = {\n",
    "    \"verb_phrase\": \"string\",\n",
    "    \"tense\": \"string\",\n",
    "    \"verb_is_stative\": \"bool\",\n",
    "    \"verb_voice\": \"string\",\n",
    "    \"verb_sentiment\": \"string\",\n",
    "    \"verb_categories\": [{\n",
    "        \"category\": \"int\",\n",
    "        \"reason\": \"string\"\n",
    "    }],\n",
    "    \"subjects\": [{ \n",
    "        \"subj_text\": \"string\",\n",
    "        \"subj_is_plural\": \"boolean\",\n",
    "        \"subj_semantics\": \"string\",\n",
    "        \"semantic_category\": \"int\"\n",
    "    }],\n",
    "    \"objects\": [{\n",
    "        \"obj_text\": \"string\",\n",
    "        \"obj_is_plural\": \"boolean\",\n",
    "        \"obj_semantics\": \"string\",\n",
    "        \"semantic_category\": \"int\"\n",
    "    }],\n",
    "    \"errors\": \"boolean\"\n",
    "}\n",
    "\n",
    "\n",
    "categories_prompt = 'The semantic categories are: ' \\\n",
    "    '1. acquisition such as by purchase or sale, gift-giving, donation, finding something, seizure, ' \\\n",
    "    'robbery and theft ' \\\n",
    "    '2. aggressive, hostile or criminal act such as attack, assault, coercion, intimidation, bribery, threatening, ' \\\n",
    "    'deception, dishonesty, betrayal, resistance, murder, homicide, invasion, occupation ' \\\n",
    "    '3. taking captive or capturing a person or animal ' \\\n",
    "    '4. agreement such as coming to an agreement, agreeing on something, and signing a contract ' \\\n",
    "    '5. disagreement or dispute ' \\\n",
    "    '6. violation of agreement ' \\\n",
    "    '7. any type of agricultural, apiculture, viniculture and aquacultural act or event ' \\\n",
    "    '8. any type of art and entertainment act or event including attending a movie, visiting a museum, ' \\\n",
    "    'playing a game, and hiking ' \\\n",
    "    '9. any attempt to do or achieve something ' \\\n",
    "    '10. avoidance such as bans, boycotts, escape, evasion, ignoring, overlooking, prevention and concealment ' \\\n",
    "    '11. bodily act such as movement, eating, drinking, grooming and sleeping ' \\\n",
    "    '12. change such as increase, decrease or physical change such as melting, bending and vaporization ' \\\n",
    "    '13. any type of cognition such as thinking, focusing, reading, assessing, characterizing, believing, making a ' \\\n",
    "    'decision, remembering or forgetting, having a goal, learning, having knowledge or skills, and understanding ' \\\n",
    "    'with the exception of emotions, feelings and sensory perception ' \\\n",
    "    '14. any type of emotion or feeling ' \\\n",
    "    '15. any type of sensory perception including pain and hunger ' \\\n",
    "    '16. any type of communication, communicating and speech acts such as recommending, acknowledging, denying, ' \\\n",
    "    'promising, making a request, boasting, joking, greeting, asking a question, granting permission, refusing, ' \\\n",
    "    'rejecting, deriding, slandering or surrendering ' \\\n",
    "    '17. competition or competing including playing a game ' \\\n",
    "    '18. continuation ' \\\n",
    "    '19. delay or wait' \\\n",
    "    '20. distribution or supply of something ' \\\n",
    "    '21. start of something ' \\\n",
    "    '22. end of something ' \\\n",
    "    '23. success ' \\\n",
    "    '24. failure ' \\\n",
    "    '25. win or loss ' \\\n",
    "    '26. any type of environmental or ecological event such as a disaster, weather event, or natural phenomenon ' \\\n",
    "    '27. any type of economic event such as a recesssion or inflation ' \\\n",
    "    '28. any type of financial event such as depositing or withdrawing money, releasing an annual report or ' \\\n",
    "    'paying taxes ' \\\n",
    "    '29. health-related event or act such as contracting a disease, addiction, a physical injury, frailty, ' \\\n",
    "    'having an allergic reaction, getting a vaccine, malnutrition and sterility ' \\\n",
    "    '30. impact and collision ' \\\n",
    "    '31. inclusion, unification and attachment such as adding to a list and assembling something ' \\\n",
    "    '32. separation ' \\\n",
    "    '33. information and data handling including IT operations ' \\\n",
    "    '34. issuing and publishing such as a newspaper, magazine or press release ' \\\n",
    "    '35. any legal or judicial event such as a trial, verdict, jury selection and judicial ruling ' \\\n",
    "    '36. life event such as birth, death, marriage and divorce ' \\\n",
    "    '37. measurement, measuring and reported assessment, count, percentages, etc. ' \\\n",
    "    '38. meeting and encounter such as party, chance encounter or ceremony ' \\\n",
    "    '39. any type of movement, travel or transportation such as entering or leaving a port or train station, ' \\\n",
    "    'traveling on a road, loading a truck or rail car, or making incremental changes such as pouring liquid from ' \\\n",
    "    'one container to another ' \\\n",
    "    '40. any political occurrence such as an election, coup or transfer of power, and political campaign ' \\\n",
    "    '41. any type of production, manufacture and creation event such as designing, building or producing ' \\\n",
    "    'products in a factory ' \\\n",
    "    '42. punishment ' \\\n",
    "    '43. reward and compensation ' \\\n",
    "    '44. removal of something ' \\\n",
    "    '45. restriction or blockage of movement, access, flow or freedom ' \\\n",
    "    '46. return, recovery and release ' \\\n",
    "    '47. risk taking including gambling ' \\\n",
    "    '48. search ' \\\n",
    "    '49. any type of space event such as a meteor shower, sun spots, eclipse, or rocket or satellite launch ' \\\n",
    "    '50. any type of storage event such as moving cargo into or from storage, stockpiling or hoarding ' \\\n",
    "    '51. substitution of something or someone for something or someone else ' \\\n",
    "    '52. utilization and consumption ' \\\n",
    "    '53. possession ' \\\n",
    "    '54. description of a characteristic or an attribute of a person, place, event, or thing such as its shape, ' \\\n",
    "    'temperature, color, weight, population, level of pollution, and percentage '\n",
    "\n",
    "# Changed from 5 to 3 categories as 5 often was a 'stretch'\n",
    "sent_prompt = 'You are a linguist and NLP expert. Article title: {article_title} ' \\\n",
    "    'Sentence text: {sent_text} ' + \\\n",
    "    f'Semantic categories: {categories_prompt} ' + \\\n",
    "    'For the Sentence provided, indicate if it is in the first, second or third person, its sentiment, ' \\\n",
    "    'and if there are grammatical or spelling errors in it. Also, estimate the expected school grade level ' \\\n",
    "    'where a reader understands the Sentence, and create a summary in 8 words or less. ' \\\n",
    "    'Indicate the numbers of the 3 closest semantic categories of the Sentence based on the context ' \\\n",
    "    'given by the title, and the words in the Sentence. Explain the reasoning for the categorizations. ' + \\\n",
    "    f'Return the response as a JSON object with a shape of {sent_format}'\n",
    "\n",
    "chunk_prompt = 'You are a linguist and NLP expert. ' \\\n",
    "    'Here is a Chunk text ({chunk_text}) from the sentence ({sent_text}). ' + \\\n",
    "    f'Semantic categories: {categories_prompt} ' + \\\n",
    "    'Indicate the verb phrase of the Chunk, its tense, whether the verb is active or stative, and ' \\\n",
    "    'if the verb is in an active or passive voice. ' \\\n",
    "    'Make sure to capture the full text of phrasal verbs such as \"lock up\" or \"talk down to\", ' \\\n",
    "    'and the sentiment of the verb phrase - whether positive, negative or neutral. ' \\\n",
    "    'Indicate the numbers of the 3 closest semantic categories of the verb phrase based on the Sentence text, ' \\\n",
    "    'and the words in the Chunk. Explain the reasoning for the categorizations. ' \\\n",
    "    'Also return all the Chunk subjects and objects, if subjects and/or objects are present. ' \\\n",
    "    'Note that there may be 0, 1 or more than one subject or object. Find all of them. ' \\\n",
    "    'Indicate if any of the subjects and/or objects are singular or plural, and indicate their semantics as ' \\\n",
    "    '\"person\", \"government\", \"organization, sub-organization or group of persons\", \"animal\", ' \\\n",
    "    '\"plant\", \"place\", \"environment or condition\", \"inanimate object or substance\", \"historical event\", ' \\\n",
    "    '\"law, policy or legal decision\", \"quantity or measurement\", or \"other\". ' \\\n",
    "    'If possible, indicate the number of the closest semantic category of the subject or object. ' \\\n",
    "    'Explain the reasoning for the categorization. ' + \\\n",
    "    f'Return the response as a JSON object with a shape of {chunk_format}'\n",
    "\n",
    "article_sent1 = \"Rep. Liz Cheney (R-WY) compared herself to former President Abraham Lincoln during her concession speech shortly after her loss to Trump-backed Republican challenger Harriet Hageman.\"\n",
    "article_sent2 = \"Cheney claimed she lost her primary election only because she failed to “go along with President Trump’s lie about the 2020 election.”\"\n",
    "article_sent3 = \"Trump urged GOP voters to reject his critic.\"\n",
    "article_sent4 = 'U.S. Rep. Liz Cheney conceded defeat Tuesday in the Republican primary in Wyoming, an ' \\\n",
    "    'outcome that was a priority for former President Donald Trump as he urged GOP voters to reject ' \\\n",
    "    'one of his most prominent critics on Capitol Hill.'\n"
   ]
  },
  {
   "cell_type": "code",
   "execution_count": 4,
   "id": "b22b3135",
   "metadata": {
    "ExecuteTime": {
     "end_time": "2023-08-29T00:57:16.292304Z",
     "start_time": "2023-08-29T00:57:11.253097Z"
    }
   },
   "outputs": [
    {
     "name": "stdout",
     "output_type": "stream",
     "text": [
      "{\n",
      "  \"id\": \"chatcmpl-7shKZFVsw5F5Jl9LSCPua8UTHWxCY\",\n",
      "  \"object\": \"chat.completion\",\n",
      "  \"created\": 1693270631,\n",
      "  \"model\": \"gpt-3.5-turbo-0613\",\n",
      "  \"choices\": [\n",
      "    {\n",
      "      \"index\": 0,\n",
      "      \"message\": {\n",
      "        \"role\": \"assistant\",\n",
      "        \"content\": \"{\\n  \\\"sent_text\\\": \\\"Rep. Liz Cheney (R-WY) compared herself to former President Abraham Lincoln during her concession speech shortly after her loss to Trump-backed Republican challenger Harriet Hageman.\\\",\\n  \\\"sent_person\\\": \\\"third\\\",\\n  \\\"sent_grade\\\": \\\"12th\\\",\\n  \\\"sent_summary\\\": \\\"Cheney compares herself to Lincoln in concession speech.\\\",\\n  \\\"sent_sentiment\\\": \\\"neutral\\\",\\n  \\\"sent_categories\\\": [\\n    {\\n      \\\"category\\\": 40,\\n      \\\"reason\\\": \\\"The sentence mentions a political occurrence, specifically an election and a concession speech.\\\"\\n    },\\n    {\\n      \\\"category\\\": 25,\\n      \\\"reason\\\": \\\"The sentence mentions a loss in the election, indicating a win or loss event.\\\"\\n    },\\n    {\\n      \\\"category\\\": 16,\\n      \\\"reason\\\": \\\"The sentence describes a communication act, specifically a concession speech.\\\"\\n    }\\n  ]\\n}\"\n",
      "      },\n",
      "      \"finish_reason\": \"stop\"\n",
      "    }\n",
      "  ],\n",
      "  \"usage\": {\n",
      "    \"prompt_tokens\": 1098,\n",
      "    \"completion_tokens\": 185,\n",
      "    \"total_tokens\": 1283\n",
      "  }\n",
      "}\n"
     ]
    }
   ],
   "source": [
    "response = openai.ChatCompletion.create(\n",
    "    model=\"gpt-3.5-turbo\",\n",
    "    messages=[\n",
    "        {\"role\": \"user\", \"content\": \n",
    "         sent_prompt.replace(\"{article_title}\", \"Liz Cheney Loses WY Primary\").replace(\"{sent_text}\",article_sent1)}\n",
    "    ],\n",
    "    temperature=0.1\n",
    ")\n",
    "\n",
    "print(response)"
   ]
  },
  {
   "cell_type": "code",
   "execution_count": 5,
   "id": "e8e9897b",
   "metadata": {
    "ExecuteTime": {
     "end_time": "2023-08-29T00:57:51.722102Z",
     "start_time": "2023-08-29T00:57:47.404009Z"
    }
   },
   "outputs": [
    {
     "name": "stdout",
     "output_type": "stream",
     "text": [
      "{\n",
      "  \"id\": \"chatcmpl-7shL9rHmhxees7GHFc2UMJb6z1Wn8\",\n",
      "  \"object\": \"chat.completion\",\n",
      "  \"created\": 1693270667,\n",
      "  \"model\": \"gpt-3.5-turbo-0613\",\n",
      "  \"choices\": [\n",
      "    {\n",
      "      \"index\": 0,\n",
      "      \"message\": {\n",
      "        \"role\": \"assistant\",\n",
      "        \"content\": \"{\\n  \\\"sent_text\\\": \\\"Cheney claimed she lost her primary election only because she failed to \\u201cgo along with President Trump\\u2019s lie about the 2020 election.\\u201d\\\",\\n  \\\"sent_person\\\": \\\"third\\\",\\n  \\\"sent_grade\\\": \\\"12th\\\",\\n  \\\"sent_summary\\\": \\\"Liz Cheney lost primary for opposing Trump's election lie.\\\",\\n  \\\"sent_sentiment\\\": \\\"negative\\\",\\n  \\\"sent_categories\\\": [\\n    {\\n      \\\"category\\\": 40,\\n      \\\"reason\\\": \\\"The sentence mentions a primary election, which falls under the political occurrence category.\\\"\\n    },\\n    {\\n      \\\"category\\\": 16,\\n      \\\"reason\\\": \\\"The sentence involves communication and speech acts, as it mentions Cheney's claim.\\\"\\n    },\\n    {\\n      \\\"category\\\": 5,\\n      \\\"reason\\\": \\\"The sentence implies a disagreement or dispute between Cheney and President Trump.\\\"\\n    }\\n  ]\\n}\"\n",
      "      },\n",
      "      \"finish_reason\": \"stop\"\n",
      "    }\n",
      "  ],\n",
      "  \"usage\": {\n",
      "    \"prompt_tokens\": 1090,\n",
      "    \"completion_tokens\": 181,\n",
      "    \"total_tokens\": 1271\n",
      "  }\n",
      "}\n"
     ]
    }
   ],
   "source": [
    "response = openai.ChatCompletion.create(\n",
    "    model=\"gpt-3.5-turbo\",\n",
    "    messages=[\n",
    "        {\"role\": \"user\", \"content\": \n",
    "         sent_prompt.replace(\"{article_title}\", \"Liz Cheney Loses WY Primary\").replace(\"{sent_text}\",article_sent2)}\n",
    "    ],\n",
    "    temperature=0.1\n",
    ")\n",
    "\n",
    "print(response)"
   ]
  },
  {
   "cell_type": "code",
   "execution_count": 6,
   "id": "8bdfcc80",
   "metadata": {
    "ExecuteTime": {
     "end_time": "2023-08-29T00:58:03.006373Z",
     "start_time": "2023-08-29T00:57:58.821519Z"
    }
   },
   "outputs": [
    {
     "name": "stdout",
     "output_type": "stream",
     "text": [
      "{\n",
      "  \"id\": \"chatcmpl-7shLLb1TLjNntSNxXogRgz93GlaYU\",\n",
      "  \"object\": \"chat.completion\",\n",
      "  \"created\": 1693270679,\n",
      "  \"model\": \"gpt-3.5-turbo-0613\",\n",
      "  \"choices\": [\n",
      "    {\n",
      "      \"index\": 0,\n",
      "      \"message\": {\n",
      "        \"role\": \"assistant\",\n",
      "        \"content\": \"{\\n  \\\"sent_text\\\": \\\"Trump urged GOP voters to reject his critic.\\\",\\n  \\\"sent_person\\\": \\\"third\\\",\\n  \\\"sent_grade\\\": \\\"9th\\\",\\n  \\\"sent_summary\\\": \\\"Trump urges rejection of GOP critic.\\\",\\n  \\\"sent_sentiment\\\": \\\"negative\\\",\\n  \\\"sent_categories\\\": [\\n    {\\n      \\\"category\\\": 40,\\n      \\\"reason\\\": \\\"The sentence mentions a political occurrence, specifically an election campaign.\\\"\\n    },\\n    {\\n      \\\"category\\\": 16,\\n      \\\"reason\\\": \\\"The sentence involves communication and speech acts, as Trump is urging voters.\\\"\\n    },\\n    {\\n      \\\"category\\\": 5,\\n      \\\"reason\\\": \\\"There is a disagreement or dispute between Trump and his critic.\\\"\\n    }\\n  ]\\n}\"\n",
      "      },\n",
      "      \"finish_reason\": \"stop\"\n",
      "    }\n",
      "  ],\n",
      "  \"usage\": {\n",
      "    \"prompt_tokens\": 1072,\n",
      "    \"completion_tokens\": 150,\n",
      "    \"total_tokens\": 1222\n",
      "  }\n",
      "}\n"
     ]
    }
   ],
   "source": [
    "response = openai.ChatCompletion.create(\n",
    "    model=\"gpt-3.5-turbo\",\n",
    "    messages=[\n",
    "        {\"role\": \"user\", \"content\": \n",
    "         sent_prompt.replace(\"{article_title}\", \"Liz Cheney Loses WY Primary\").replace(\"{sent_text}\",article_sent3)}\n",
    "    ],\n",
    "    temperature=0.1\n",
    ")\n",
    "\n",
    "print(response)"
   ]
  },
  {
   "cell_type": "code",
   "execution_count": 7,
   "id": "36fcce6c",
   "metadata": {
    "ExecuteTime": {
     "end_time": "2023-08-29T00:58:32.134329Z",
     "start_time": "2023-08-29T00:58:27.305913Z"
    }
   },
   "outputs": [
    {
     "name": "stdout",
     "output_type": "stream",
     "text": [
      "{\n",
      "  \"id\": \"chatcmpl-7shLnrUfBIB9qr10TfMUZjAz1xQA9\",\n",
      "  \"object\": \"chat.completion\",\n",
      "  \"created\": 1693270707,\n",
      "  \"model\": \"gpt-3.5-turbo-0613\",\n",
      "  \"choices\": [\n",
      "    {\n",
      "      \"index\": 0,\n",
      "      \"message\": {\n",
      "        \"role\": \"assistant\",\n",
      "        \"content\": \"{\\n  \\\"sent_text\\\": \\\"U.S. Rep. Liz Cheney conceded defeat Tuesday in the Republican primary in Wyoming, an outcome that was a priority for former President Donald Trump as he urged GOP voters to reject one of his most prominent critics on Capitol Hill.\\\",\\n  \\\"sent_person\\\": \\\"third\\\",\\n  \\\"sent_grade\\\": \\\"12th\\\",\\n  \\\"sent_summary\\\": \\\"Liz Cheney loses Wyoming primary.\\\",\\n  \\\"sent_sentiment\\\": \\\"negative\\\",\\n  \\\"sent_categories\\\": [\\n    {\\n      \\\"category\\\": 40,\\n      \\\"reason\\\": \\\"The sentence mentions an election and political campaign.\\\"\\n    },\\n    {\\n      \\\"category\\\": 16,\\n      \\\"reason\\\": \\\"The sentence involves communication acts, such as urging voters.\\\"\\n    },\\n    {\\n      \\\"category\\\": 25,\\n      \\\"reason\\\": \\\"The sentence describes a loss in the primary.\\\"\\n    }\\n  ]\\n}\"\n",
      "      },\n",
      "      \"finish_reason\": \"stop\"\n",
      "    }\n",
      "  ],\n",
      "  \"usage\": {\n",
      "    \"prompt_tokens\": 1108,\n",
      "    \"completion_tokens\": 177,\n",
      "    \"total_tokens\": 1285\n",
      "  }\n",
      "}\n"
     ]
    }
   ],
   "source": [
    "response = openai.ChatCompletion.create(\n",
    "    model=\"gpt-3.5-turbo\",\n",
    "    messages=[\n",
    "        {\"role\": \"user\", \"content\": \n",
    "         sent_prompt.replace(\"{article_title}\", \"Liz Cheney Loses WY Primary\").replace(\"{sent_text}\",article_sent4)}\n",
    "    ],\n",
    "    temperature=0.1\n",
    ")\n",
    "\n",
    "print(response)"
   ]
  },
  {
   "cell_type": "code",
   "execution_count": 8,
   "id": "35b6316e",
   "metadata": {
    "ExecuteTime": {
     "end_time": "2023-08-29T00:58:36.331209Z",
     "start_time": "2023-08-29T00:58:32.219935Z"
    }
   },
   "outputs": [
    {
     "name": "stdout",
     "output_type": "stream",
     "text": [
      "{\n",
      "  \"id\": \"chatcmpl-7shLsdFlVS3kWsjf3AJamMRPBz32b\",\n",
      "  \"object\": \"chat.completion\",\n",
      "  \"created\": 1693270712,\n",
      "  \"model\": \"gpt-3.5-turbo-0613\",\n",
      "  \"choices\": [\n",
      "    {\n",
      "      \"index\": 0,\n",
      "      \"message\": {\n",
      "        \"role\": \"assistant\",\n",
      "        \"content\": \"{\\n  \\\"sent_text\\\": \\\"The economy was sluggish.\\\",\\n  \\\"sent_person\\\": \\\"third\\\",\\n  \\\"sent_grade\\\": \\\"9th\\\",\\n  \\\"sent_summary\\\": \\\"Sluggish economy.\\\",\\n  \\\"sent_sentiment\\\": \\\"negative\\\",\\n  \\\"sent_categories\\\": [\\n    {\\n      \\\"category\\\": 27,\\n      \\\"reason\\\": \\\"The sentence mentions the economy, which is related to economic events.\\\"\\n    },\\n    {\\n      \\\"category\\\": 12,\\n      \\\"reason\\\": \\\"The word 'sluggish' implies a change in the economy.\\\"\\n    },\\n    {\\n      \\\"category\\\": 37,\\n      \\\"reason\\\": \\\"The sentence provides information about the state of the economy.\\\"\\n    }\\n  ]\\n}\"\n",
      "      },\n",
      "      \"finish_reason\": \"stop\"\n",
      "    }\n",
      "  ],\n",
      "  \"usage\": {\n",
      "    \"prompt_tokens\": 1062,\n",
      "    \"completion_tokens\": 144,\n",
      "    \"total_tokens\": 1206\n",
      "  }\n",
      "}\n"
     ]
    }
   ],
   "source": [
    "response = openai.ChatCompletion.create(\n",
    "    model=\"gpt-3.5-turbo\",\n",
    "    messages=[\n",
    "        {\"role\": \"user\", \"content\": \n",
    "         sent_prompt.replace(\"{article_title}\", \"\").replace(\"{sent_text}\", \"The economy was sluggish.\")}\n",
    "    ],\n",
    "    temperature=0.1\n",
    ")\n",
    "\n",
    "print(response)"
   ]
  },
  {
   "cell_type": "code",
   "execution_count": 10,
   "id": "712a571d",
   "metadata": {
    "ExecuteTime": {
     "end_time": "2023-08-29T01:01:16.077412Z",
     "start_time": "2023-08-29T01:01:12.447310Z"
    }
   },
   "outputs": [
    {
     "name": "stdout",
     "output_type": "stream",
     "text": [
      "{\n",
      "  \"id\": \"chatcmpl-7shOSeL1UmDRLumlHjlY6DegBrIBl\",\n",
      "  \"object\": \"chat.completion\",\n",
      "  \"created\": 1693270872,\n",
      "  \"model\": \"gpt-3.5-turbo-0613\",\n",
      "  \"choices\": [\n",
      "    {\n",
      "      \"index\": 0,\n",
      "      \"message\": {\n",
      "        \"role\": \"assistant\",\n",
      "        \"content\": \"{\\n  \\\"sent_text\\\": \\\"The judge threw the book at the criminal.\\\",\\n  \\\"sent_person\\\": \\\"third\\\",\\n  \\\"sent_grade\\\": \\\"9th\\\",\\n  \\\"sent_summary\\\": \\\"Judge punishes criminal severely.\\\",\\n  \\\"sent_sentiment\\\": \\\"neutral\\\",\\n  \\\"sent_categories\\\": [\\n    {\\n      \\\"category\\\": 2,\\n      \\\"reason\\\": \\\"The sentence describes a criminal act.\\\"\\n    },\\n    {\\n      \\\"category\\\": 35,\\n      \\\"reason\\\": \\\"The sentence involves a legal event (trial and punishment).\\\"\\n    },\\n    {\\n      \\\"category\\\": 42,\\n      \\\"reason\\\": \\\"The sentence describes punishment.\\\"\\n    }\\n  ]\\n}\"\n",
      "      },\n",
      "      \"finish_reason\": \"stop\"\n",
      "    }\n",
      "  ],\n",
      "  \"usage\": {\n",
      "    \"prompt_tokens\": 1066,\n",
      "    \"completion_tokens\": 135,\n",
      "    \"total_tokens\": 1201\n",
      "  }\n",
      "}\n"
     ]
    }
   ],
   "source": [
    "response = openai.ChatCompletion.create(\n",
    "    model=\"gpt-3.5-turbo\",\n",
    "    messages=[\n",
    "        {\"role\": \"user\", \"content\": \n",
    "         sent_prompt.replace(\"{article_title}\", \"\").replace(\"{sent_text}\", \"The judge threw the book at the criminal.\")}\n",
    "    ],\n",
    "    temperature=0.1\n",
    ")\n",
    "\n",
    "print(response)"
   ]
  },
  {
   "cell_type": "code",
   "execution_count": 11,
   "id": "d08e8273",
   "metadata": {
    "ExecuteTime": {
     "end_time": "2023-08-29T01:01:19.971757Z",
     "start_time": "2023-08-29T01:01:16.164067Z"
    }
   },
   "outputs": [
    {
     "name": "stdout",
     "output_type": "stream",
     "text": [
      "{\n",
      "  \"id\": \"chatcmpl-7shOW4Ku6Gvhj8rIS7Mddw1RU8etB\",\n",
      "  \"object\": \"chat.completion\",\n",
      "  \"created\": 1693270876,\n",
      "  \"model\": \"gpt-3.5-turbo-0613\",\n",
      "  \"choices\": [\n",
      "    {\n",
      "      \"index\": 0,\n",
      "      \"message\": {\n",
      "        \"role\": \"assistant\",\n",
      "        \"content\": \"{\\n  \\\"sent_text\\\": \\\"Mary is not ugly.\\\",\\n  \\\"sent_person\\\": \\\"third\\\",\\n  \\\"sent_grade\\\": \\\"6th\\\",\\n  \\\"sent_summary\\\": \\\"Mary is not ugly.\\\",\\n  \\\"sent_sentiment\\\": \\\"positive\\\",\\n  \\\"sent_categories\\\": [\\n    {\\n      \\\"category\\\": 53,\\n      \\\"reason\\\": \\\"The sentence describes a characteristic of Mary.\\\"\\n    },\\n    {\\n      \\\"category\\\": 14,\\n      \\\"reason\\\": \\\"The sentence does not express any emotion or feeling.\\\"\\n    },\\n    {\\n      \\\"category\\\": 54,\\n      \\\"reason\\\": \\\"The sentence describes the attribute of Mary's appearance.\\\"\\n    }\\n  ]\\n}\"\n",
      "      },\n",
      "      \"finish_reason\": \"stop\"\n",
      "    }\n",
      "  ],\n",
      "  \"usage\": {\n",
      "    \"prompt_tokens\": 1062,\n",
      "    \"completion_tokens\": 134,\n",
      "    \"total_tokens\": 1196\n",
      "  }\n",
      "}\n"
     ]
    }
   ],
   "source": [
    "response = openai.ChatCompletion.create(\n",
    "    model=\"gpt-3.5-turbo\",\n",
    "    messages=[\n",
    "        {\"role\": \"user\", \"content\": \n",
    "         sent_prompt.replace(\"{article_title}\", \"\").replace(\"{sent_text}\", \"Mary is not ugly.\")}\n",
    "    ],\n",
    "    temperature=0.1\n",
    ")\n",
    "\n",
    "print(response)"
   ]
  },
  {
   "cell_type": "code",
   "execution_count": 12,
   "id": "2c3e8b85",
   "metadata": {
    "ExecuteTime": {
     "end_time": "2023-08-29T01:01:23.985209Z",
     "start_time": "2023-08-29T01:01:20.062612Z"
    }
   },
   "outputs": [
    {
     "name": "stdout",
     "output_type": "stream",
     "text": [
      "{\n",
      "  \"id\": \"chatcmpl-7shOaFPfdYZNwRED8HjfEnV4HxERE\",\n",
      "  \"object\": \"chat.completion\",\n",
      "  \"created\": 1693270880,\n",
      "  \"model\": \"gpt-3.5-turbo-0613\",\n",
      "  \"choices\": [\n",
      "    {\n",
      "      \"index\": 0,\n",
      "      \"message\": {\n",
      "        \"role\": \"assistant\",\n",
      "        \"content\": \"{\\n  \\\"sent_text\\\": \\\"Susan was apprehended by the police.\\\",\\n  \\\"sent_person\\\": \\\"third\\\",\\n  \\\"sent_grade\\\": \\\"8th\\\",\\n  \\\"sent_summary\\\": \\\"Susan arrested by police.\\\",\\n  \\\"sent_sentiment\\\": \\\"neutral\\\",\\n  \\\"sent_categories\\\": [\\n    {\\n      \\\"category\\\": 3,\\n      \\\"reason\\\": \\\"The sentence describes the act of being captured by the police.\\\"\\n    },\\n    {\\n      \\\"category\\\": 35,\\n      \\\"reason\\\": \\\"The sentence involves a legal event, specifically the act of apprehension by the police.\\\"\\n    },\\n    {\\n      \\\"category\\\": 36,\\n      \\\"reason\\\": \\\"The sentence describes a life event, specifically the arrest of Susan.\\\"\\n    }\\n  ]\\n}\"\n",
      "      },\n",
      "      \"finish_reason\": \"stop\"\n",
      "    }\n",
      "  ],\n",
      "  \"usage\": {\n",
      "    \"prompt_tokens\": 1065,\n",
      "    \"completion_tokens\": 151,\n",
      "    \"total_tokens\": 1216\n",
      "  }\n",
      "}\n"
     ]
    }
   ],
   "source": [
    "response = openai.ChatCompletion.create(\n",
    "    model=\"gpt-3.5-turbo\",\n",
    "    messages=[\n",
    "        {\"role\": \"user\", \"content\": \n",
    "         sent_prompt.replace(\"{article_title}\", \"\").replace(\"{sent_text}\", \"Susan was apprehended by the police.\")}\n",
    "    ],\n",
    "    temperature=0.1\n",
    ")\n",
    "\n",
    "print(response)"
   ]
  },
  {
   "cell_type": "code",
   "execution_count": 16,
   "id": "ef04dcdf",
   "metadata": {
    "ExecuteTime": {
     "end_time": "2023-08-29T01:05:30.789882Z",
     "start_time": "2023-08-29T01:05:12.763224Z"
    }
   },
   "outputs": [
    {
     "name": "stdout",
     "output_type": "stream",
     "text": [
      "{\n",
      "  \"id\": \"chatcmpl-7shSLyUm50NkHq48TJMwCqXKEWx3S\",\n",
      "  \"object\": \"chat.completion\",\n",
      "  \"created\": 1693271113,\n",
      "  \"model\": \"gpt-3.5-turbo-0613\",\n",
      "  \"choices\": [\n",
      "    {\n",
      "      \"index\": 0,\n",
      "      \"message\": {\n",
      "        \"role\": \"assistant\",\n",
      "        \"content\": \"{\\n  \\\"sent_text\\\": \\\"After she escaped from prison, Susan was apprehended by the police.\\\",\\n  \\\"sent_person\\\": \\\"third\\\",\\n  \\\"sent_grade\\\": \\\"8th\\\",\\n  \\\"sent_summary\\\": \\\"Escapee Susan caught by police.\\\",\\n  \\\"sent_sentiment\\\": \\\"neutral\\\",\\n  \\\"sent_categories\\\": [\\n    {\\n      \\\"category\\\": 3,\\n      \\\"reason\\\": \\\"The sentence describes the act of capturing a person.\\\"\\n    },\\n    {\\n      \\\"category\\\": 2,\\n      \\\"reason\\\": \\\"The sentence involves a criminal act of escaping from prison.\\\"\\n    },\\n    {\\n      \\\"category\\\": 35,\\n      \\\"reason\\\": \\\"The sentence mentions the involvement of the police, which relates to a legal event.\\\"\\n    }\\n  ]\\n}\"\n",
      "      },\n",
      "      \"finish_reason\": \"stop\"\n",
      "    }\n",
      "  ],\n",
      "  \"usage\": {\n",
      "    \"prompt_tokens\": 1071,\n",
      "    \"completion_tokens\": 154,\n",
      "    \"total_tokens\": 1225\n",
      "  }\n",
      "}\n",
      "{\n",
      "  \"id\": \"chatcmpl-7shSPcXs2dhCjA7ybMb7oXffC1BFJ\",\n",
      "  \"object\": \"chat.completion\",\n",
      "  \"created\": 1693271117,\n",
      "  \"model\": \"gpt-3.5-turbo-0613\",\n",
      "  \"choices\": [\n",
      "    {\n",
      "      \"index\": 0,\n",
      "      \"message\": {\n",
      "        \"role\": \"assistant\",\n",
      "        \"content\": \"{\\n  \\\"verb_phrase\\\": \\\"escaped from prison\\\",\\n  \\\"tense\\\": \\\"past\\\",\\n  \\\"verb_is_stative\\\": false,\\n  \\\"verb_voice\\\": \\\"active\\\",\\n  \\\"verb_sentiment\\\": \\\"negative\\\",\\n  \\\"verb_categories\\\": [\\n    {\\n      \\\"category\\\": 10,\\n      \\\"reason\\\": \\\"The verb phrase 'escaped from prison' falls under the semantic category of avoidance, as it represents the act of escaping from a place of confinement.\\\"\\n    },\\n    {\\n      \\\"category\\\": 3,\\n      \\\"reason\\\": \\\"The verb phrase 'escaped from prison' can also be categorized under taking captive or capturing a person or animal, as it implies that Susan was previously captured or held in prison.\\\"\\n    },\\n    {\\n      \\\"category\\\": 35,\\n      \\\"reason\\\": \\\"The verb phrase 'escaped from prison' can be associated with the legal or judicial event of a prison escape, which involves a trial, verdict, and judicial ruling.\\\"\\n    }\\n  ],\\n  \\\"subjects\\\": [\\n    {\\n      \\\"subj_text\\\": \\\"Susan\\\",\\n      \\\"subj_is_plural\\\": false,\\n      \\\"subj_semantics\\\": \\\"person\\\",\\n      \\\"semantic_category\\\": null\\n    }\\n  ],\\n  \\\"objects\\\": [],\\n  \\\"errors\\\": false\\n}\"\n",
      "      },\n",
      "      \"finish_reason\": \"stop\"\n",
      "    }\n",
      "  ],\n",
      "  \"usage\": {\n",
      "    \"prompt_tokens\": 1311,\n",
      "    \"completion_tokens\": 253,\n",
      "    \"total_tokens\": 1564\n",
      "  }\n",
      "}\n",
      "{\n",
      "  \"id\": \"chatcmpl-7shSV7M8Nt3UOX5iugya8ejqrfmUZ\",\n",
      "  \"object\": \"chat.completion\",\n",
      "  \"created\": 1693271123,\n",
      "  \"model\": \"gpt-3.5-turbo-0613\",\n",
      "  \"choices\": [\n",
      "    {\n",
      "      \"index\": 0,\n",
      "      \"message\": {\n",
      "        \"role\": \"assistant\",\n",
      "        \"content\": \"{\\n  \\\"verb_phrase\\\": \\\"was apprehended\\\",\\n  \\\"tense\\\": \\\"past\\\",\\n  \\\"verb_is_stative\\\": false,\\n  \\\"verb_voice\\\": \\\"passive\\\",\\n  \\\"verb_sentiment\\\": \\\"negative\\\",\\n  \\\"verb_categories\\\": [\\n    {\\n      \\\"category\\\": 3,\\n      \\\"reason\\\": \\\"The verb phrase 'was apprehended' falls under the semantic category of taking captive or capturing a person or animal.\\\"\\n    },\\n    {\\n      \\\"category\\\": 1,\\n      \\\"reason\\\": \\\"The verb phrase 'was apprehended' can also be associated with the semantic category of seizure, as Susan was apprehended by the police.\\\"\\n    },\\n    {\\n      \\\"category\\\": 35,\\n      \\\"reason\\\": \\\"The verb phrase 'was apprehended' can be related to the semantic category of any legal or judicial event, as Susan was apprehended by the police.\\\"\\n    }\\n  ],\\n  \\\"subjects\\\": [\\n    {\\n      \\\"subj_text\\\": \\\"Susan\\\",\\n      \\\"subj_is_plural\\\": false,\\n      \\\"subj_semantics\\\": \\\"person\\\",\\n      \\\"semantic_category\\\": null\\n    }\\n  ],\\n  \\\"objects\\\": [\\n    {\\n      \\\"obj_text\\\": \\\"police\\\",\\n      \\\"obj_is_plural\\\": true,\\n      \\\"obj_semantics\\\": \\\"government\\\",\\n      \\\"semantic_category\\\": null\\n    }\\n  ],\\n  \\\"errors\\\": false\\n}\"\n",
      "      },\n",
      "      \"finish_reason\": \"stop\"\n",
      "    }\n",
      "  ],\n",
      "  \"usage\": {\n",
      "    \"prompt_tokens\": 1314,\n",
      "    \"completion_tokens\": 278,\n",
      "    \"total_tokens\": 1592\n",
      "  }\n",
      "}\n"
     ]
    }
   ],
   "source": [
    "response = openai.ChatCompletion.create(\n",
    "    model=\"gpt-3.5-turbo\",\n",
    "    messages=[\n",
    "        {\"role\": \"user\", \"content\": \n",
    "         sent_prompt.replace(\"{article_title}\", \"\")\n",
    "         .replace(\"{sent_text}\", \"After she escaped from prison, Susan was apprehended by the police.\")}\n",
    "    ],\n",
    "    temperature=0.1\n",
    ")\n",
    "print(response)\n",
    "response = openai.ChatCompletion.create(\n",
    "    model=\"gpt-3.5-turbo\",\n",
    "    messages=[\n",
    "        {\"role\": \"user\", \"content\": \n",
    "         chunk_prompt.replace(\"{chunk_text}\", \"Susan escaped from prison\")\n",
    "         .replace(\"{sent_text}\", \"After she escaped from prison, Susan was apprehended by the police.\")}\n",
    "    ],\n",
    "    temperature=0.1\n",
    ")\n",
    "print(response)\n",
    "response = openai.ChatCompletion.create(\n",
    "    model=\"gpt-3.5-turbo\",\n",
    "    messages=[\n",
    "        {\"role\": \"user\", \"content\": \n",
    "         chunk_prompt.replace(\"{chunk_text}\", \"Susan was apprehended by the police\")\n",
    "         .replace(\"{sent_text}\", \"After she escaped from prison, Susan was apprehended by the police.\")}\n",
    "    ],\n",
    "    temperature=0.1\n",
    ")\n",
    "\n",
    "print(response)"
   ]
  },
  {
   "cell_type": "code",
   "execution_count": 17,
   "id": "9735b7ef",
   "metadata": {
    "ExecuteTime": {
     "end_time": "2023-08-29T01:05:54.787220Z",
     "start_time": "2023-08-29T01:05:50.579451Z"
    }
   },
   "outputs": [
    {
     "name": "stdout",
     "output_type": "stream",
     "text": [
      "{\n",
      "  \"id\": \"chatcmpl-7shSwRMmP2yEMuawhkAXLG0SBvL6w\",\n",
      "  \"object\": \"chat.completion\",\n",
      "  \"created\": 1693271150,\n",
      "  \"model\": \"gpt-3.5-turbo-0613\",\n",
      "  \"choices\": [\n",
      "    {\n",
      "      \"index\": 0,\n",
      "      \"message\": {\n",
      "        \"role\": \"assistant\",\n",
      "        \"content\": \"{\\n  \\\"sent_text\\\": \\\"Cheney's loss marked a remarkable fall of a powerful political dynasty.\\\",\\n  \\\"sent_person\\\": \\\"third\\\",\\n  \\\"sent_grade\\\": \\\"12th\\\",\\n  \\\"sent_summary\\\": \\\"Cheney's loss signifies a political dynasty's decline.\\\",\\n  \\\"sent_sentiment\\\": \\\"negative\\\",\\n  \\\"sent_categories\\\": [\\n    {\\n      \\\"category\\\": 40,\\n      \\\"reason\\\": \\\"The sentence mentions a political occurrence, specifically the loss of Cheney.\\\"\\n    },\\n    {\\n      \\\"category\\\": 23,\\n      \\\"reason\\\": \\\"The sentence describes the failure of a powerful political dynasty.\\\"\\n    },\\n    {\\n      \\\"category\\\": 25,\\n      \\\"reason\\\": \\\"The sentence mentions the loss of Cheney, indicating a loss or defeat.\\\"\\n    }\\n  ]\\n}\"\n",
      "      },\n",
      "      \"finish_reason\": \"stop\"\n",
      "    }\n",
      "  ],\n",
      "  \"usage\": {\n",
      "    \"prompt_tokens\": 1070,\n",
      "    \"completion_tokens\": 161,\n",
      "    \"total_tokens\": 1231\n",
      "  }\n",
      "}\n"
     ]
    }
   ],
   "source": [
    "response = openai.ChatCompletion.create(\n",
    "    model=\"gpt-3.5-turbo\",\n",
    "    messages=[\n",
    "        {\"role\": \"user\", \"content\": \n",
    "         sent_prompt.replace(\"{article_title}\", \"\").replace(\"{sent_text}\", \"Cheney's loss marked a remarkable fall of a powerful political dynasty.\")}\n",
    "    ],\n",
    "    temperature=0.1\n",
    ")\n",
    "\n",
    "print(response)"
   ]
  },
  {
   "cell_type": "code",
   "execution_count": null,
   "id": "fe36ce22",
   "metadata": {},
   "outputs": [],
   "source": []
  }
 ],
 "metadata": {
  "kernelspec": {
   "display_name": "Python 3",
   "language": "python",
   "name": "python3"
  },
  "language_info": {
   "codemirror_mode": {
    "name": "ipython",
    "version": 3
   },
   "file_extension": ".py",
   "mimetype": "text/x-python",
   "name": "python",
   "nbconvert_exporter": "python",
   "pygments_lexer": "ipython3",
   "version": "3.8.9"
  },
  "varInspector": {
   "cols": {
    "lenName": 16,
    "lenType": 16,
    "lenVar": 40
   },
   "kernels_config": {
    "python": {
     "delete_cmd_postfix": "",
     "delete_cmd_prefix": "del ",
     "library": "var_list.py",
     "varRefreshCmd": "print(var_dic_list())"
    },
    "r": {
     "delete_cmd_postfix": ") ",
     "delete_cmd_prefix": "rm(",
     "library": "var_list.r",
     "varRefreshCmd": "cat(var_dic_list()) "
    }
   },
   "position": {
    "height": "144.659px",
    "left": "966.455px",
    "right": "20px",
    "top": "121px",
    "width": "350px"
   },
   "types_to_exclude": [
    "module",
    "function",
    "builtin_function_or_method",
    "instance",
    "_Feature"
   ],
   "window_display": true
  }
 },
 "nbformat": 4,
 "nbformat_minor": 5
}
