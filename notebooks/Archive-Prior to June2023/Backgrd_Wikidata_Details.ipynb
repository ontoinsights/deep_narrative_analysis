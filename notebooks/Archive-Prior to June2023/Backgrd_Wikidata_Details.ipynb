{
 "cells": [
  {
   "cell_type": "markdown",
   "id": "e4266746",
   "metadata": {},
   "source": [
    "# Get Ethnicity, Religion and Political Ideology Labels from Wikidata "
   ]
  },
  {
   "cell_type": "code",
   "execution_count": 1,
   "id": "40508d2f",
   "metadata": {
    "ExecuteTime": {
     "end_time": "2022-10-28T01:27:23.887028Z",
     "start_time": "2022-10-28T01:27:23.818978Z"
    }
   },
   "outputs": [],
   "source": [
    "import requests\n",
    "query_wikidata_labels = \\\n",
    "    'SELECT DISTINCT ?label WHERE {?item wdt:P31 ?type . {{?item rdfs:label ?label . FILTER(lang(?label) = \"en\")} '\\\n",
    "    'UNION {?item skos:altLabel ?label . FILTER(lang(?label) = \"en\")}}}'\n",
    "item_dict = {':PoliticalIdeology': 'wd:Q12909644', ':Ethnicity': 'wd:Q41710', ':ReligiousBelief': 'wd:Q9174'}"
   ]
  },
  {
   "cell_type": "code",
   "execution_count": 2,
   "id": "77bc691a",
   "metadata": {
    "ExecuteTime": {
     "end_time": "2022-10-28T01:27:28.655887Z",
     "start_time": "2022-10-28T01:27:25.835755Z"
    }
   },
   "outputs": [],
   "source": [
    "for label_type in (':PoliticalIdeology', ':Ethnicity', ':ReligiousBelief'):\n",
    "    new_ttl = ['@prefix : <urn:ontoinsights:dna:> .', '@prefix dna: <urn:ontoinsights:dna:> .',\n",
    "               '@prefix rdfs: <http://www.w3.org/2000/01/rdf-schema#> .']\n",
    "    labels = []\n",
    "    query_labels = query_wikidata_labels.replace('?type', item_dict[label_type])\n",
    "    response = requests.get(\n",
    "        f'https://query.wikidata.org/sparql?format=json&query={query_labels}').json()\n",
    "    if 'results' in response and 'bindings' in response['results']:\n",
    "        results = response['results']['bindings']\n",
    "        for result in results:\n",
    "            labels.append(result['label']['value'].replace('\"', \"'\"))\n",
    "    for label in labels:\n",
    "        if label.isascii() and len(label) > 3 and ' of ' not in label and ' in ' not in label and \\\n",
    "                ' people' not in label and ' culture' not in label:\n",
    "            new_ttl.append(f'{label_type} :noun_synonym \"{label}\" .')\n",
    "    with open(f'{label_type[1:].lower()}_synonyms.ttl', 'w')as outf:\n",
    "        for next_ttl in new_ttl:\n",
    "            outf.write(f'{next_ttl}\\n')"
   ]
  },
  {
   "cell_type": "code",
   "execution_count": null,
   "id": "fb06e5b4",
   "metadata": {},
   "outputs": [],
   "source": []
  }
 ],
 "metadata": {
  "kernelspec": {
   "display_name": "Python 3 (ipykernel)",
   "language": "python",
   "name": "python3"
  },
  "language_info": {
   "codemirror_mode": {
    "name": "ipython",
    "version": 3
   },
   "file_extension": ".py",
   "mimetype": "text/x-python",
   "name": "python",
   "nbconvert_exporter": "python",
   "pygments_lexer": "ipython3",
   "version": "3.8.8"
  },
  "varInspector": {
   "cols": {
    "lenName": 16,
    "lenType": 16,
    "lenVar": 40
   },
   "kernels_config": {
    "python": {
     "delete_cmd_postfix": "",
     "delete_cmd_prefix": "del ",
     "library": "var_list.py",
     "varRefreshCmd": "print(var_dic_list())"
    },
    "r": {
     "delete_cmd_postfix": ") ",
     "delete_cmd_prefix": "rm(",
     "library": "var_list.r",
     "varRefreshCmd": "cat(var_dic_list()) "
    }
   },
   "types_to_exclude": [
    "module",
    "function",
    "builtin_function_or_method",
    "instance",
    "_Feature"
   ],
   "window_display": true
  }
 },
 "nbformat": 4,
 "nbformat_minor": 5
}
