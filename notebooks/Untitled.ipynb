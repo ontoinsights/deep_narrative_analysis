{
 "cells": [
  {
   "cell_type": "code",
   "execution_count": 1,
   "id": "a2125976",
   "metadata": {
    "ExecuteTime": {
     "end_time": "2023-01-03T20:38:30.883865Z",
     "start_time": "2023-01-03T20:38:30.786760Z"
    }
   },
   "outputs": [],
   "source": [
    "import os, time, pickle \n",
    "import configparser as cp\n",
    "import stardog\n",
    "\n",
    "from pathlib import Path\n",
    "from datetime import datetime\n",
    "import re\n",
    "import json"
   ]
  },
  {
   "cell_type": "code",
   "execution_count": 38,
   "id": "06b8b1ef",
   "metadata": {
    "ExecuteTime": {
     "end_time": "2023-01-05T05:01:55.609806Z",
     "start_time": "2023-01-05T05:01:55.598626Z"
    }
   },
   "outputs": [],
   "source": [
    "with open('communication-subclasses.ttl', 'r') as inttl:\n",
    "    intexts = inttl.read().split('\\n')\n",
    "    \n",
    "with open('communication-synonyms.ttl', 'w') as outsyn:\n",
    "    with open('new-communication-subclasses.ttl', 'w') as outttl:\n",
    "        class_name = ''\n",
    "        for intext in intexts:\n",
    "            if ' a owl:Class' in intext:\n",
    "                class_name = intext.split(' a ')[0]\n",
    "                outttl.write(f'{intext}\\n')\n",
    "            elif 'rdfs:label \"' in intext:\n",
    "                line_parts = intext.split('rdfs:label \"')\n",
    "                label = line_parts[1].strip()[0:-2]\n",
    "                if ' ' not in label:\n",
    "                    outsyn.write(f'{class_name} :noun_synonym \"{label.lower()}@en .\\n')\n",
    "                outttl.write(f'{line_parts[0]}rdfs:label \"{label}@en {line_parts[1].strip()[-1]}\\n')\n",
    "            elif ':definition \"' in intext:\n",
    "                line_parts = intext.split(':definition \"')\n",
    "                definition = line_parts[1].strip()[0:-2]\n",
    "                outttl.write(f'{line_parts[0]}:definition \"{definition}@en {line_parts[1].strip()[-1]}\\n')\n",
    "            elif ':example \"' in intext:\n",
    "                line_parts = intext.split(':example \"')\n",
    "                example = line_parts[1].strip()[0:-2]\n",
    "                outttl.write(f'{line_parts[0]}:example \"{example}@en {line_parts[1].strip()[-1]}\\n')\n",
    "            elif ':noun_synonym \"' in intext:\n",
    "                syns = intext.split('\"')\n",
    "                for i in range(1, len(syns)):\n",
    "                    if syns[i] not in (' , ', ', ', ' ;', ' .'):\n",
    "                        outsyn.write(f'{class_name} :noun_synonym \"{syns[i]}\"@en .\\n')\n",
    "            elif ':verb_synonym \"' in intext:\n",
    "                syns = intext.split('\"')\n",
    "                for i in range(1, len(syns)):\n",
    "                    if syns[i] not in (' , ', ', ', ' ;', ' .'):\n",
    "                        outsyn.write(f'{class_name} :verb_synonym \"{syns[i]}\"@en .\\n')\n",
    "            else:\n",
    "                outttl.write(f'{intext}\\n')\n",
    "                        "
   ]
  },
  {
   "cell_type": "code",
   "execution_count": null,
   "id": "56289977",
   "metadata": {},
   "outputs": [],
   "source": []
  },
  {
   "cell_type": "code",
   "execution_count": null,
   "id": "2140915e",
   "metadata": {},
   "outputs": [],
   "source": []
  }
 ],
 "metadata": {
  "kernelspec": {
   "display_name": "Python 3 (ipykernel)",
   "language": "python",
   "name": "python3"
  },
  "language_info": {
   "codemirror_mode": {
    "name": "ipython",
    "version": 3
   },
   "file_extension": ".py",
   "mimetype": "text/x-python",
   "name": "python",
   "nbconvert_exporter": "python",
   "pygments_lexer": "ipython3",
   "version": "3.8.8"
  },
  "varInspector": {
   "cols": {
    "lenName": 16,
    "lenType": 16,
    "lenVar": 40
   },
   "kernels_config": {
    "python": {
     "delete_cmd_postfix": "",
     "delete_cmd_prefix": "del ",
     "library": "var_list.py",
     "varRefreshCmd": "print(var_dic_list())"
    },
    "r": {
     "delete_cmd_postfix": ") ",
     "delete_cmd_prefix": "rm(",
     "library": "var_list.r",
     "varRefreshCmd": "cat(var_dic_list()) "
    }
   },
   "types_to_exclude": [
    "module",
    "function",
    "builtin_function_or_method",
    "instance",
    "_Feature"
   ],
   "window_display": true
  }
 },
 "nbformat": 4,
 "nbformat_minor": 5
}
