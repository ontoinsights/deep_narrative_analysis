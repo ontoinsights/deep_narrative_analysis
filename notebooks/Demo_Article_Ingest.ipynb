{
 "cells": [
  {
   "cell_type": "markdown",
   "id": "80c27981",
   "metadata": {},
   "source": [
    "# Input several news articles into the Stardog DNA repositories\n",
    "\n",
    "There are 8 articles from different sources on the topics of the UN Gaza Ceasefire vote, the lowering of the Trump bond payment, the start of the Trump NY trial in mid-April, and the FL Supreme Court upholding the 6-week abortion ban.\n",
    "\n",
    "Make sure that: \n",
    "* The DNA flask is running (execute 'flask run' from the dna directory)"
   ]
  },
  {
   "cell_type": "code",
   "execution_count": 1,
   "id": "3e740c1b",
   "metadata": {
    "ExecuteTime": {
     "end_time": "2024-04-17T18:43:18.011414Z",
     "start_time": "2024-04-17T18:43:17.938054Z"
    }
   },
   "outputs": [],
   "source": [
    "import json\n",
    "import requests"
   ]
  },
  {
   "cell_type": "code",
   "execution_count": 3,
   "id": "6821e82a",
   "metadata": {
    "ExecuteTime": {
     "end_time": "2024-04-17T18:44:00.636660Z",
     "start_time": "2024-04-17T18:43:57.183947Z"
    }
   },
   "outputs": [
    {
     "name": "stdout",
     "output_type": "stream",
     "text": [
      "404 <Response [404]>\n",
      "404 <Response [404]>\n",
      "404 <Response [404]>\n",
      "200 <Response [200]>\n"
     ]
    }
   ],
   "source": [
    "# Delete repositories (if they exist)\n",
    "response = requests.delete('http://127.0.0.1:5000/dna/v1/repositories?repository=ceasefire')\n",
    "print(response.status_code, response) \n",
    "response = requests.delete('http://127.0.0.1:5000/dna/v1/repositories?repository=trump_bond')\n",
    "print(response.status_code, response) \n",
    "response = requests.delete('http://127.0.0.1:5000/dna/v1/repositories?repository=fl_abortion')\n",
    "print(response.status_code, response) \n",
    "response = requests.delete('http://127.0.0.1:5000/dna/v1/repositories?repository=trump_trial')\n",
    "print(response.status_code, response) "
   ]
  },
  {
   "cell_type": "code",
   "execution_count": 4,
   "id": "5ed2299c",
   "metadata": {
    "ExecuteTime": {
     "end_time": "2024-04-17T18:44:19.490451Z",
     "start_time": "2024-04-17T18:44:14.468790Z"
    }
   },
   "outputs": [
    {
     "name": "stdout",
     "output_type": "stream",
     "text": [
      "201 <Response [201]>\n",
      "201 <Response [201]>\n",
      "201 <Response [201]>\n",
      "201 <Response [201]>\n",
      "200 [{'created': '2024-04-17T14:44:15', 'repository': 'ceasefire'}, {'created': '2024-04-17T14:44:16', 'repository': 'trump_bond'}, {'created': '2024-04-17T14:44:17', 'repository': 'fl_abortion'}, {'created': '2024-04-17T14:44:18', 'repository': 'trump_trial'}]\n"
     ]
    }
   ],
   "source": [
    "# Create the repositories for the news articles\n",
    "response = requests.post('http://127.0.0.1:5000/dna/v1/repositories?repository=ceasefire')\n",
    "print(response.status_code, response) \n",
    "response = requests.post('http://127.0.0.1:5000/dna/v1/repositories?repository=trump_bond')\n",
    "print(response.status_code, response) \n",
    "response = requests.post('http://127.0.0.1:5000/dna/v1/repositories?repository=fl_abortion')\n",
    "print(response.status_code, response) \n",
    "response = requests.post('http://127.0.0.1:5000/dna/v1/repositories?repository=trump_trial')\n",
    "print(response.status_code, response) \n",
    "# Verify that the repositories were created\n",
    "response = requests.get('http://127.0.0.1:5000/dna/v1/repositories')\n",
    "print(response.status_code, response.json()) "
   ]
  },
  {
   "cell_type": "code",
   "execution_count": 5,
   "id": "2e31485e",
   "metadata": {
    "ExecuteTime": {
     "end_time": "2024-04-17T18:45:20.165216Z",
     "start_time": "2024-04-17T18:45:20.153793Z"
    },
    "code_folding": []
   },
   "outputs": [],
   "source": [
    "# Articles for ingest\n",
    "ceasefire_aljazeera = {\n",
    "            \"title\": \"UN Security Council demands immediate Gaza ceasefire as US abstains\",\n",
    "            \"published\": \"2024-03-25T00:00:00\",\n",
    "            \"url\": \"https://www.aljazeera.com/news/2024/3/25/un-security-council-adopts-resolution-calling-for-immediate-gaza-ceasefire\"}\n",
    "ceasefire_breitbart = {\n",
    "            \"title\": \"GOP Blasts Biden’s ‘Unconscionable’ U.N. Vote Abstention on Gaza\",\n",
    "            \"published\": \"2024-03-25T00:00:00\",\n",
    "            \"url\": \"https://www.breitbart.com/politics/2024/03/25/gop-blasts-bidens-unconscionable-un-vote-abstention-gaza-anti-israel-president/\"}\n",
    "ceasefire_cnn = {\n",
    "            \"title\": \"Israel cancels Washington visit after US allows UN Gaza ceasefire resolution to pass\",\n",
    "            \"published\": \"2024-03-25T00:00:00\",\n",
    "            \"url\": \"https://www.cnn.com/2024/03/25/middleeast/un-security-council-gaza-israel-ceasefire-intl/index.html\"}\n",
    "ceasefire_fox = {\n",
    "            \"title\": \"Netanyahu cancels Israeli delegation's trip to Washington after US fails to veto UN cease-fire resolution\",\n",
    "            \"published\": \"2024-03-25T00:00:00\",\n",
    "            \"url\": \"https://www.foxnews.com/politics/netanyahu-cancels-israeli-delegations-trip-washington-us-fails-veto-un-cease-fire-resolution\"}\n",
    "ceasefire_huffpost = {\n",
    "            \"title\": \"UN Demand For Gaza Cease-fire Provokes Strongest Clash Between US And Israel Since War Began\",\n",
    "            \"published\": \"2024-03-25T00:00:00\",\n",
    "            \"url\": \"https://www.huffpost.com/entry/un-cease-fire-gaza_n_66019107e4b08460c3e7dc60\"}\n",
    "ceasefire_nyt = {\n",
    "            \"title\": \"U.N. Security Council Calls for Immediate Cease-Fire in Gaza as U.S. Abstains\",\n",
    "            \"published\": \"2024-03-25T00:00:00\",\n",
    "            \"url\": \"https://www.nytimes.com/2024/03/25/world/middleeast/un-security-council-gaza-ceasefire.html?searchResultPosition=2\"}\n",
    "ceasefire_watimes = {\n",
    "            \"title\": \"White House defends its refusal to block U.N. cease-fire resolution\",\n",
    "            \"published\": \"2024-03-25T00:00:00\",\n",
    "            \"url\": \"https://www.washingtontimes.com/news/2024/mar/25/white-house-defends-its-refusal-to-block-un-cease-/\"}\n",
    "ceasefire_wsj = {\n",
    "            \"title\": \"Israel Cancels Visit to Washington After U.S. Abstains on U.N. Cease-Fire Resolution\",\n",
    "            \"published\": \"2024-03-25T00:00:00\",\n",
    "            \"url\": \"https://www.wsj.com/world/middle-east/hostage-talks-stall-as-israeli-defense-minister-arrives-in-washington-ea36821d\"}\n",
    "\n",
    "fl_abortion_aljazeera = {\n",
    "            \"title\": \"Biden denounces Florida abortion ruling as ‘outrageous’ as state vote looms\",\n",
    "            \"published\": \"2024-04-02T00:00:00\",\n",
    "            \"url\": \"https://www.aljazeera.com/news/2024/4/2/biden-denounces-florida-abortion-ruling-as-outrageous-as-state-vote-looms\"}\n",
    "fl_abortion_breitbart = {\n",
    "            \"title\": \"Florida Supreme Court Upholds 15-Week Abortion Limit, But Voters Will Decide in November\",\n",
    "            \"published\": \"2024-03-25T00:00:00\",\n",
    "            \"url\": \"https://www.breitbart.com/politics/2024/04/01/florida-supreme-court-upholds-15-week-abortion-limit-but-voters-will-decide-in-november/\"}\n",
    "fl_abortion_cnn = {\n",
    "            \"title\": \"Florida six-week abortion ban will soon become law, but voters will consider a constitutional amendment this fall\",\n",
    "            \"published\": \"2024-04-02T00:00:00\",\n",
    "            \"url\": \"https://www.cnn.com/2024/04/01/politics/florida-six-week-abortion-ban/index.html\"}\n",
    "fl_abortion_fox = {\n",
    "            \"title\": \"Florida Supreme Court approves abortion ballot initiative while upholding 15-week ban\",\n",
    "            \"published\": \"2024-03-25T00:00:00\",\n",
    "            \"url\": \"https://www.foxnews.com/politics/florida-supreme-court-approves-abortion-ballot-initiative-upholding-15-week-ban\"}\n",
    "fl_abortion_huffpost = {\n",
    "            \"title\": \"Top Florida Court Rules Against Protections For Abortion, Greenlights 6-Week Ban\",\n",
    "            \"published\": \"2024-03-25T00:00:00\",\n",
    "            \"url\": \"https://www.huffpost.com/entry/florida-court-abortion-6-week-ban_n_65088b87e4b0f04446230d7e\"}\n",
    "fl_abortion_nyt = {\n",
    "            \"title\": \"Florida Court Allows 6-Week Abortion Ban, but Voters Will Get to Weigh In\",\n",
    "            \"published\": \"2024-03-25T00:00:00\",\n",
    "            \"url\": \"https://www.nytimes.com/2024/04/01/us/florida-abortion-law-supreme-court.html\"}\n",
    "fl_abortion_watimes = {\n",
    "            \"title\": \"Florida Supreme Court upholds state’s 15-week ban on most abortions, paving way for 6-week ban\",\n",
    "            \"published\": \"2024-03-25T00:00:00\",\n",
    "            \"url\": \"https://www.washingtontimes.com/news/2024/apr/1/florida-supreme-court-upholds-states-15-week-ban-2/\"}\n",
    "fl_abortion_wsj = {\n",
    "            \"title\": \"Florida Abortion Rulings to Keep Issue Front and Center in November\",\n",
    "            \"published\": \"2024-03-25T00:00:00\",\n",
    "            \"url\": \"https://www.wsj.com/politics/elections/florida-abortion-rulings-to-keep-issue-front-and-center-in-november-1168511c\"}\n",
    "\n",
    "trump_bond_aljazeera = {\n",
    "            \"title\": \"New York court lowers $454m bond as Trump appeals civil fraud case\",\n",
    "            \"published\": \"2024-03-25T00:00:00\",\n",
    "            \"url\": \"https://www.aljazeera.com/news/2024/3/25/new-york-court-pauses-collection-of-454m-in-trump-civil-fraud-case\"}\n",
    "trump_bond_breitbart = {\n",
    "            \"title\": \"‘Partisan Hacks’: Conservatives React to Trump Bond Ruling\",\n",
    "            \"published\": \"2024-03-25T00:00:00\",\n",
    "            \"url\": \"https://www.breitbart.com/politics/2024/03/25/partisan-hacks-conservatives-react-trump-bond-ruling/\"}\n",
    "trump_bond_cnn = {\n",
    "            \"title\": \"Trump bond lowered to $175 million as he appeals civil fraud judgment in New York\",\n",
    "            \"published\": \"2024-03-25T00:00:00\",\n",
    "            \"url\": \"https://www.cnn.com/2024/03/25/politics/trump-civil-fraud-trial-bond/index.html\"}\n",
    "trump_bond_fox = {\n",
    "            \"title\": \"Trump's $454M judgment bond slashed by more than half in appeals court ruling\",\n",
    "            \"published\": \"2024-03-25T00:00:00\",\n",
    "            \"url\": \"https://www.foxnews.com/politics/trumps-454m-judgment-bond-slashed-more-than-half-appeals-court-ruling\"}\n",
    "trump_bond_huffpost = {\n",
    "            \"title\": \"Judge Reduces Donald Trump's Bond In Civil Fraud Appeal To $175 Million\",\n",
    "            \"published\": \"2024-03-25T00:00:00\",\n",
    "            \"url\": \"https://www.huffpost.com/entry/trump-bond-reduced-fraud-appeal_n_660198c0e4b059750143d44c\"}\n",
    "trump_bond_nyt = {\n",
    "            \"title\": \"Trump’s Bond in Civil Fraud Case Is Reduced to $175 Million\",\n",
    "            \"published\": \"2024-03-25T00:00:00\",\n",
    "            \"url\": \"https://www.nytimes.com/2024/03/25/nyregion/trump-bond-reduced.html\"}\n",
    "trump_bond_watimes = {\n",
    "            \"title\": \"Trump can post smaller bond amount of $175M within 10 days, appeals court rules\",\n",
    "            \"published\": \"2024-03-25T00:00:00\",\n",
    "            \"url\": \"https://www.washingtontimes.com/news/2024/mar/25/donald-trump-can-post-smaller-bond-amount-of-175m-/\"}\n",
    "trump_bond_wsj = {\n",
    "            \"title\": \"Trump Can Post Smaller $175 Million Bond in Civil Fraud Case\",\n",
    "            \"published\": \"2024-03-25T00:00:00\",\n",
    "            \"url\": \"https://www.wsj.com/us-news/law/donald-trump-new-york-fraud-bond-due-05f590e4\"}\n",
    "\n",
    "trump_trial_aljazeera = {\n",
    "            \"title\": \"Six takeaways from first day of Trump’s New York hush money criminal trial\",\n",
    "            \"published\": \"2024-04-15T00:00:00\",\n",
    "            \"url\": \"https://www.aljazeera.com/news/2024/4/15/five-takeaways-from-first-day-of-trumps-historic-new-york-cirminal-trial\"}\n",
    "trump_trial_breitbart = {\n",
    "            \"title\": \"Unprecedented Trump Criminal Trial Begins with Jury Selection\",\n",
    "            \"published\": \"2024-04-15T00:00:00\",\n",
    "            \"url\": \"https://www.breitbart.com/politics/2024/04/15/unprecedented-trump-criminal-trial-begins-with-jury-selection/\"}\n",
    "trump_trial_cnn = {\n",
    "            \"title\": \"Trump has an unusual request on trial Day 1\",\n",
    "            \"published\": \"2024-04-15T00:00:00\",\n",
    "            \"url\": \"https://www.cnn.com/2024/04/15/politics/trump-trial-day-1-what-matters/index.html\"}\n",
    "trump_trial_fox = {\n",
    "            \"title\": \"Trump hush money trial begins in New York City with jury selection\",\n",
    "            \"published\": \"2024-04-15T00:00:00\",\n",
    "            \"url\": \"https://www.foxnews.com/politics/trump-bragg-hush-money-trial-begins-new-york-city-jury-selection\"}\n",
    "trump_trial_huffpost = {\n",
    "            \"title\": \"Manhattan Court To Find Jurors To Hear First-Ever Criminal Case Against An Ex-President\",\n",
    "            \"published\": \"2024-04-12T00:00:00\",\n",
    "            \"url\": \"https://www.huffpost.com/entry/trump-bond-reduced-fraud-appeal_n_660198c0e4b059750143d44c\"}\n",
    "trump_trial_nyt = {\n",
    "            \"title\": \"A Historic Day\",\n",
    "            \"published\": \"2024-04-15T00:00:00\",\n",
    "            \"url\": \"https://www.nytimes.com/2024/04/15/us/politics/trump-trial-manhattan-first-day.html\"}\n",
    "trump_trial_watimes = {\n",
    "            \"title\": \"Trump’s history-making hush-money trial begins with challenge of picking a jury\",\n",
    "            \"published\": \"2024-04-15T00:00:00\",\n",
    "            \"url\": \"https://www.washingtontimes.com/news/2024/apr/15/trumps-hush-money-trial-begins-with-challenge-of-p/\"}\n",
    "trump_trial_wsj = {\n",
    "            \"title\": \"Donald Trump Faces Deep Blue Jury Pool as Hush-Money Case Begins\",\n",
    "            \"published\": \"2024-04-15T00:00:00\",\n",
    "            \"url\": \"https://www.wsj.com/us-news/law/trump-hush-money-trial-jury-2bc58769\"}\n",
    "\n",
    "repos = ['ceasefire', 'fl_abortion', 'trump_bond', 'trump_trial']\n",
    "# 2 ~neutral sources (Al Jazeera, WSJ), 3 right/conservative sources(Breitbart, Fox, WA Times)\n",
    "#    3 left/liberal sources (CNN, Huffington Post, NYT)\n",
    "sources = {'aljazeera': 'Al Jazeera',    # ~ neutral\n",
    "           'wsj': 'Wall Street Journal',\n",
    "           'breitbart': 'Breitbart',     # conservative\n",
    "           'fox': 'Fox News',\n",
    "           'watimes': 'Washington Times',\n",
    "           'cnn': 'CNN',                 # liberal\n",
    "           'huffpost': 'Huffington Post',\n",
    "           'nyt': 'New York Times'}"
   ]
  },
  {
   "cell_type": "code",
   "execution_count": 6,
   "id": "4027a3f0",
   "metadata": {
    "ExecuteTime": {
     "end_time": "2024-04-17T18:45:42.274237Z",
     "start_time": "2024-04-17T18:45:42.270091Z"
    },
    "code_folding": [],
    "scrolled": true
   },
   "outputs": [],
   "source": [
    "# Function to ingest the first 10 sentences of the 8 news articles regarding a specific topic \n",
    "# (ingested to the topic repository)\n",
    "# for repo in repos:\n",
    "def ingest_articles(repo: str): \n",
    "    for source in sources:\n",
    "        repo_source = f'{repo}_{source}'\n",
    "        print('repo_source ', repo_source)\n",
    "        with open(f'articles/{repo_source}.txt', 'r') as news:\n",
    "            news_text = news.read()  \n",
    "        metadata = globals()[repo_source]\n",
    "        req_dict = metadata\n",
    "        req_dict[\"source\"] = sources[source]\n",
    "        req_dict[\"text\"] = news_text\n",
    "        response = requests.post(\n",
    "            f'http://127.0.0.1:5000/dna/v1/repositories/narratives?repository={repo}&sentences=10',\n",
    "            json=req_dict)\n",
    "        print(response)\n",
    "        print(response.status_code, response.json())\n",
    "        print()"
   ]
  },
  {
   "cell_type": "code",
   "execution_count": 7,
   "id": "94250cb7",
   "metadata": {
    "ExecuteTime": {
     "end_time": "2024-04-17T19:48:27.881407Z",
     "start_time": "2024-04-17T18:45:55.397048Z"
    }
   },
   "outputs": [
    {
     "name": "stdout",
     "output_type": "stream",
     "text": [
      "repo_source  ceasefire_aljazeera\n",
      "<Response [201]>\n",
      "201 {'narrativeDetails': {'narrativeId': 'a01d0940', 'narrativeMetadata': {'published': '2024-03-25T00:00:00', 'source': 'Al Jazeera', 'title': 'UN Security Council demands immediate Gaza ceasefire as US abstains', 'url': 'https://www.aljazeera.com/news/2024/3/25/un-security-council-adopts-resolution-calling-for-immediate-gaza-ceasefire'}, 'numberIngested': 10, 'numberOfSentences': 40, 'numberOfTriples': '535', 'processed': '2024-04-17T14:53:07'}, 'repository': 'ceasefire'}\n",
      "\n",
      "repo_source  ceasefire_wsj\n",
      "<Response [201]>\n",
      "201 {'narrativeDetails': {'narrativeId': 'a5bb7e7f', 'narrativeMetadata': {'published': '2024-03-25T00:00:00', 'source': 'Wall Street Journal', 'title': 'Israel Cancels Visit to Washington After U.S. Abstains on U.N. Cease-Fire Resolution', 'url': 'https://www.wsj.com/world/middle-east/hostage-talks-stall-as-israeli-defense-minister-arrives-in-washington-ea36821d?mod=Searchresults_pos2&page=1'}, 'numberIngested': 10, 'numberOfSentences': 46, 'numberOfTriples': '546', 'processed': '2024-04-17T15:00:22'}, 'repository': 'ceasefire'}\n",
      "\n",
      "repo_source  ceasefire_breitbart\n",
      "<Response [201]>\n",
      "201 {'narrativeDetails': {'narrativeId': '66ec47c1', 'narrativeMetadata': {'published': '2024-03-25T00:00:00', 'source': 'Breitbart', 'title': 'GOP Blasts Biden’s ‘Unconscionable’ U.N. Vote Abstention on Gaza', 'url': 'https://www.breitbart.com/politics/2024/03/25/gop-blasts-bidens-unconscionable-un-vote-abstention-gaza-anti-israel-president/'}, 'numberIngested': 10, 'numberOfSentences': 36, 'numberOfTriples': '1258', 'processed': '2024-04-17T15:17:46'}, 'repository': 'ceasefire'}\n",
      "\n",
      "repo_source  ceasefire_fox\n",
      "<Response [201]>\n",
      "201 {'narrativeDetails': {'narrativeId': 'b350e724', 'narrativeMetadata': {'published': '2024-03-25T00:00:00', 'source': 'Fox News', 'title': \"Netanyahu cancels Israeli delegation's trip to Washington after US fails to veto UN cease-fire resolution\", 'url': 'https://www.foxnews.com/politics/netanyahu-cancels-israeli-delegations-trip-washington-us-fails-veto-un-cease-fire-resolution'}, 'numberIngested': 10, 'numberOfSentences': 14, 'numberOfTriples': '399', 'processed': '2024-04-17T15:22:43'}, 'repository': 'ceasefire'}\n",
      "\n",
      "repo_source  ceasefire_watimes\n",
      "<Response [201]>\n",
      "201 {'narrativeDetails': {'narrativeId': '7c368250', 'narrativeMetadata': {'published': '2024-03-25T00:00:00', 'source': 'Washington Times', 'title': 'White House defends its refusal to block U.N. cease-fire resolution', 'url': 'https://www.washingtontimes.com/news/2024/mar/25/white-house-defends-its-refusal-to-block-un-cease-/'}, 'numberIngested': 9, 'numberOfSentences': 10, 'numberOfTriples': '348', 'processed': '2024-04-17T15:27:36'}, 'repository': 'ceasefire'}\n",
      "\n",
      "repo_source  ceasefire_cnn\n",
      "<Response [201]>\n",
      "201 {'narrativeDetails': {'narrativeId': '45945762', 'narrativeMetadata': {'published': '2024-03-25T00:00:00', 'source': 'CNN', 'title': 'Israel cancels Washington visit after US allows UN Gaza ceasefire resolution to pass', 'url': 'https://www.cnn.com/2024/03/25/middleeast/un-security-council-gaza-israel-ceasefire-intl/index.html'}, 'numberIngested': 10, 'numberOfSentences': 36, 'numberOfTriples': '536', 'processed': '2024-04-17T15:34:43'}, 'repository': 'ceasefire'}\n",
      "\n",
      "repo_source  ceasefire_huffpost\n",
      "<Response [201]>\n",
      "201 {'narrativeDetails': {'narrativeId': '53e37076', 'narrativeMetadata': {'published': '2024-03-25T00:00:00', 'source': 'Huffington Post', 'title': 'UN Demand For Gaza Cease-fire Provokes Strongest Clash Between US And Israel Since War Began', 'url': 'https://www.huffpost.com/entry/un-cease-fire-gaza_n_66019107e4b08460c3e7dc60'}, 'numberIngested': 10, 'numberOfSentences': 48, 'numberOfTriples': '496', 'processed': '2024-04-17T15:41:20'}, 'repository': 'ceasefire'}\n",
      "\n",
      "repo_source  ceasefire_nyt\n",
      "<Response [201]>\n",
      "201 {'narrativeDetails': {'narrativeId': '70f13d5e', 'narrativeMetadata': {'published': '2024-03-25T00:00:00', 'source': 'New York Times', 'title': 'U.N. Security Council Calls for Immediate Cease-Fire in Gaza as U.S. Abstains', 'url': 'https://www.nytimes.com/2024/03/25/world/middleeast/un-security-council-gaza-ceasefire.html?searchResultPosition=2'}, 'numberIngested': 10, 'numberOfSentences': 43, 'numberOfTriples': '516', 'processed': '2024-04-17T15:48:07'}, 'repository': 'ceasefire'}\n",
      "\n"
     ]
    }
   ],
   "source": [
    "ingest_articles('ceasefire')"
   ]
  },
  {
   "cell_type": "code",
   "execution_count": 8,
   "id": "74076cba",
   "metadata": {
    "ExecuteTime": {
     "end_time": "2024-04-17T20:49:16.363241Z",
     "start_time": "2024-04-17T19:57:17.941432Z"
    }
   },
   "outputs": [
    {
     "name": "stdout",
     "output_type": "stream",
     "text": [
      "repo_source  fl_abortion_aljazeera\n",
      "<Response [201]>\n",
      "201 {'narrativeDetails': {'narrativeId': '12bc33d1', 'narrativeMetadata': {'published': '2024-04-02T00:00:00', 'source': 'Al Jazeera', 'title': 'Biden denounces Florida abortion ruling as ‘outrageous’ as state vote looms', 'url': 'https://www.aljazeera.com/news/2024/4/2/biden-denounces-florida-abortion-ruling-as-outrageous-as-state-vote-looms'}, 'numberIngested': 10, 'numberOfSentences': 35, 'numberOfTriples': '474', 'processed': '2024-04-17T16:03:41'}, 'repository': 'fl_abortion'}\n",
      "\n",
      "repo_source  fl_abortion_wsj\n",
      "<Response [201]>\n",
      "201 {'narrativeDetails': {'narrativeId': '5cd979f0', 'narrativeMetadata': {'published': '2024-03-25T00:00:00', 'source': 'Wall Street Journal', 'title': 'Florida Abortion Rulings to Keep Issue Front and Center in November', 'url': 'https://www.wsj.com/politics/elections/florida-abortion-rulings-to-keep-issue-front-and-center-in-november-1168511c'}, 'numberIngested': 10, 'numberOfSentences': 33, 'numberOfTriples': '454', 'processed': '2024-04-17T16:09:11'}, 'repository': 'fl_abortion'}\n",
      "\n",
      "repo_source  fl_abortion_breitbart\n",
      "<Response [201]>\n",
      "201 {'narrativeDetails': {'narrativeId': '0b28ef1a', 'narrativeMetadata': {'published': '2024-03-25T00:00:00', 'source': 'Breitbart', 'title': 'Florida Supreme Court Upholds 15-Week Abortion Limit, But Voters Will Decide in November', 'url': 'https://www.breitbart.com/politics/2024/04/01/florida-supreme-court-upholds-15-week-abortion-limit-but-voters-will-decide-in-november/'}, 'numberIngested': 10, 'numberOfSentences': 32, 'numberOfTriples': '478', 'processed': '2024-04-17T16:15:31'}, 'repository': 'fl_abortion'}\n",
      "\n",
      "repo_source  fl_abortion_fox\n",
      "<Response [201]>\n",
      "201 {'narrativeDetails': {'narrativeId': '094a22c7', 'narrativeMetadata': {'published': '2024-03-25T00:00:00', 'source': 'Fox News', 'title': 'Florida Supreme Court approves abortion ballot initiative while upholding 15-week ban', 'url': 'https://www.foxnews.com/politics/florida-supreme-court-approves-abortion-ballot-initiative-upholding-15-week-ban'}, 'numberIngested': 10, 'numberOfSentences': 13, 'numberOfTriples': '445', 'processed': '2024-04-17T16:21:34'}, 'repository': 'fl_abortion'}\n",
      "\n",
      "repo_source  fl_abortion_watimes\n",
      "<Response [201]>\n",
      "201 {'narrativeDetails': {'narrativeId': '2833eaa4', 'narrativeMetadata': {'published': '2024-03-25T00:00:00', 'source': 'Washington Times', 'title': 'Florida Supreme Court upholds state’s 15-week ban on most abortions, paving way for 6-week ban', 'url': 'https://www.washingtontimes.com/news/2024/apr/1/florida-supreme-court-upholds-states-15-week-ban-2/'}, 'numberIngested': 10, 'numberOfSentences': 17, 'numberOfTriples': '336', 'processed': '2024-04-17T16:26:02'}, 'repository': 'fl_abortion'}\n",
      "\n",
      "repo_source  fl_abortion_cnn\n",
      "<Response [201]>\n",
      "201 {'narrativeDetails': {'narrativeId': '3beb11f2', 'narrativeMetadata': {'published': '2024-04-02T00:00:00', 'source': 'CNN', 'title': 'Florida six-week abortion ban will soon become law, but voters will consider a constitutional amendment this fall', 'url': 'https://www.cnn.com/2024/04/01/politics/florida-six-week-abortion-ban/index.html'}, 'numberIngested': 10, 'numberOfSentences': 47, 'numberOfTriples': '612', 'processed': '2024-04-17T16:34:40'}, 'repository': 'fl_abortion'}\n",
      "\n",
      "repo_source  fl_abortion_huffpost\n",
      "<Response [201]>\n",
      "201 {'narrativeDetails': {'narrativeId': 'eb33263b', 'narrativeMetadata': {'published': '2024-03-25T00:00:00', 'source': 'Huffington Post', 'title': 'Top Florida Court Rules Against Protections For Abortion, Greenlights 6-Week Ban', 'url': 'https://www.huffpost.com/entry/florida-court-abortion-6-week-ban_n_65088b87e4b0f04446230d7e'}, 'numberIngested': 10, 'numberOfSentences': 37, 'numberOfTriples': '533', 'processed': '2024-04-17T16:41:58'}, 'repository': 'fl_abortion'}\n",
      "\n",
      "repo_source  fl_abortion_nyt\n",
      "<Response [201]>\n",
      "201 {'narrativeDetails': {'narrativeId': '6691aa77', 'narrativeMetadata': {'published': '2024-03-25T00:00:00', 'source': 'New York Times', 'title': 'Florida Court Allows 6-Week Abortion Ban, but Voters Will Get to Weigh In', 'url': 'https://www.nytimes.com/2024/04/01/us/florida-abortion-law-supreme-court.html?searchResultPosition=1'}, 'numberIngested': 10, 'numberOfSentences': 36, 'numberOfTriples': '546', 'processed': '2024-04-17T16:48:56'}, 'repository': 'fl_abortion'}\n",
      "\n"
     ]
    }
   ],
   "source": [
    "ingest_articles('fl_abortion')"
   ]
  },
  {
   "cell_type": "code",
   "execution_count": 9,
   "id": "44b297a9",
   "metadata": {
    "ExecuteTime": {
     "end_time": "2024-04-17T21:50:44.134416Z",
     "start_time": "2024-04-17T21:03:31.039292Z"
    }
   },
   "outputs": [
    {
     "name": "stdout",
     "output_type": "stream",
     "text": [
      "repo_source  trump_bond_aljazeera\n",
      "<Response [201]>\n",
      "201 {'narrativeDetails': {'narrativeId': 'f9f26f99', 'narrativeMetadata': {'published': '2024-03-25T00:00:00', 'source': 'Al Jazeera', 'title': 'New York court lowers $454m bond as Trump appeals civil fraud case', 'url': 'https://www.aljazeera.com/news/2024/3/25/new-york-court-pauses-collection-of-454m-in-trump-civil-fraud-case'}, 'numberIngested': 10, 'numberOfSentences': 23, 'numberOfTriples': '363', 'processed': '2024-04-17T17:07:48'}, 'repository': 'trump_bond'}\n",
      "\n",
      "repo_source  trump_bond_wsj\n",
      "<Response [201]>\n",
      "201 {'narrativeDetails': {'narrativeId': 'adbb8845', 'narrativeMetadata': {'published': '2024-03-25T00:00:00', 'source': 'Wall Street Journal', 'title': 'Trump Can Post Smaller $175 Million Bond in Civil Fraud Case', 'url': 'https://www.wsj.com/us-news/law/donald-trump-new-york-fraud-bond-due-05f590e4?mod=Searchresults_pos1&page=1'}, 'numberIngested': 10, 'numberOfSentences': 37, 'numberOfTriples': '388', 'processed': '2024-04-17T17:13:35'}, 'repository': 'trump_bond'}\n",
      "\n",
      "repo_source  trump_bond_breitbart\n",
      "<Response [201]>\n",
      "201 {'narrativeDetails': {'narrativeId': '50a22d6a', 'narrativeMetadata': {'published': '2024-03-25T00:00:00', 'source': 'Breitbart', 'title': '‘Partisan Hacks’: Conservatives React to Trump Bond Ruling', 'url': 'https://www.breitbart.com/politics/2024/03/25/partisan-hacks-conservatives-react-trump-bond-ruling/'}, 'numberIngested': 10, 'numberOfSentences': 21, 'numberOfTriples': '520', 'processed': '2024-04-17T17:20:24'}, 'repository': 'trump_bond'}\n",
      "\n",
      "repo_source  trump_bond_fox\n",
      "<Response [201]>\n",
      "201 {'narrativeDetails': {'narrativeId': 'c6123402', 'narrativeMetadata': {'published': '2024-03-25T00:00:00', 'source': 'Fox News', 'title': \"Trump's $454M judgment bond slashed by more than half in appeals court ruling\", 'url': 'https://www.foxnews.com/politics/trumps-454m-judgment-bond-slashed-more-than-half-appeals-court-ruling'}, 'numberIngested': 10, 'numberOfSentences': 39, 'numberOfTriples': '679', 'processed': '2024-04-17T17:29:28'}, 'repository': 'trump_bond'}\n",
      "\n",
      "repo_source  trump_bond_watimes\n",
      "<Response [201]>\n",
      "201 {'narrativeDetails': {'narrativeId': '5ab91ce0', 'narrativeMetadata': {'published': '2024-03-25T00:00:00', 'source': 'Washington Times', 'title': 'Trump can post smaller bond amount of $175M within 10 days, appeals court rules', 'url': 'https://www.washingtontimes.com/news/2024/mar/25/donald-trump-can-post-smaller-bond-amount-of-175m-/'}, 'numberIngested': 10, 'numberOfSentences': 18, 'numberOfTriples': '427', 'processed': '2024-04-17T17:35:30'}, 'repository': 'trump_bond'}\n",
      "\n",
      "repo_source  trump_bond_cnn\n",
      "<Response [201]>\n",
      "201 {'narrativeDetails': {'narrativeId': '823152c1', 'narrativeMetadata': {'published': '2024-03-25T00:00:00', 'source': 'CNN', 'title': 'Trump bond lowered to $175 million as he appeals civil fraud judgment in New York', 'url': 'https://www.cnn.com/2024/03/25/politics/trump-civil-fraud-trial-bond/index.html'}, 'numberIngested': 7, 'numberOfSentences': 8, 'numberOfTriples': '280', 'processed': '2024-04-17T17:39:19'}, 'repository': 'trump_bond'}\n",
      "\n",
      "repo_source  trump_bond_huffpost\n",
      "<Response [201]>\n",
      "201 {'narrativeDetails': {'narrativeId': 'f5dc8e18', 'narrativeMetadata': {'published': '2024-03-25T00:00:00', 'source': 'Huffington Post', 'title': \"Judge Reduces Donald Trump's Bond In Civil Fraud Appeal To $175 Million\", 'url': 'https://www.huffpost.com/entry/trump-bond-reduced-fraud-appeal_n_660198c0e4b059750143d44c'}, 'numberIngested': 10, 'numberOfSentences': 17, 'numberOfTriples': '360', 'processed': '2024-04-17T17:43:50'}, 'repository': 'trump_bond'}\n",
      "\n",
      "repo_source  trump_bond_nyt\n",
      "<Response [201]>\n",
      "201 {'narrativeDetails': {'narrativeId': 'd6ecb0e9', 'narrativeMetadata': {'published': '2024-03-25T00:00:00', 'source': 'New York Times', 'title': 'Trump’s Bond in Civil Fraud Case Is Reduced to $175 Million', 'url': 'https://www.nytimes.com/2024/03/25/nyregion/trump-bond-reduced.html?searchResultPosition=1'}, 'numberIngested': 10, 'numberOfSentences': 47, 'numberOfTriples': '381', 'processed': '2024-04-17T17:50:19'}, 'repository': 'trump_bond'}\n",
      "\n"
     ]
    }
   ],
   "source": [
    "ingest_articles('trump_bond')"
   ]
  },
  {
   "cell_type": "code",
   "execution_count": 10,
   "id": "557f5ed6",
   "metadata": {
    "ExecuteTime": {
     "end_time": "2024-04-17T22:40:51.155897Z",
     "start_time": "2024-04-17T21:52:25.794168Z"
    }
   },
   "outputs": [
    {
     "name": "stdout",
     "output_type": "stream",
     "text": [
      "repo_source  trump_trial_aljazeera\n",
      "<Response [201]>\n",
      "201 {'narrativeDetails': {'narrativeId': '36ba96a2', 'narrativeMetadata': {'published': '2024-04-15T00:00:00', 'source': 'Al Jazeera', 'title': 'Six takeaways from first day of Trump’s New York hush money criminal trial', 'url': 'https://www.aljazeera.com/news/2024/4/15/five-takeaways-from-first-day-of-trumps-historic-new-york-cirminal-trial'}, 'numberIngested': 10, 'numberOfSentences': 65, 'numberOfTriples': '426', 'processed': '2024-04-17T17:57:35'}, 'repository': 'trump_trial'}\n",
      "\n",
      "repo_source  trump_trial_wsj\n",
      "<Response [201]>\n",
      "201 {'narrativeDetails': {'narrativeId': 'deefec89', 'narrativeMetadata': {'published': '2024-04-15T00:00:00', 'source': 'Wall Street Journal', 'title': 'Donald Trump Faces Deep Blue Jury Pool as Hush-Money Case Begins', 'url': 'https://www.wsj.com/us-news/law/trump-hush-money-trial-jury-2bc58769'}, 'numberIngested': 10, 'numberOfSentences': 40, 'numberOfTriples': '398', 'processed': '2024-04-17T18:02:50'}, 'repository': 'trump_trial'}\n",
      "\n",
      "repo_source  trump_trial_breitbart\n",
      "<Response [201]>\n",
      "201 {'narrativeDetails': {'narrativeId': '8a985ae0', 'narrativeMetadata': {'published': '2024-04-15T00:00:00', 'source': 'Breitbart', 'title': 'Unprecedented Trump Criminal Trial Begins with Jury Selection', 'url': 'https://www.breitbart.com/politics/2024/04/15/unprecedented-trump-criminal-trial-begins-with-jury-selection/'}, 'numberIngested': 10, 'numberOfSentences': 20, 'numberOfTriples': '365', 'processed': '2024-04-17T18:07:28'}, 'repository': 'trump_trial'}\n",
      "\n",
      "repo_source  trump_trial_fox\n",
      "<Response [201]>\n",
      "201 {'narrativeDetails': {'narrativeId': '16aab837', 'narrativeMetadata': {'published': '2024-04-15T00:00:00', 'source': 'Fox News', 'title': 'Trump hush money trial begins in New York City with jury selection', 'url': 'https://www.foxnews.com/politics/trump-bragg-hush-money-trial-begins-new-york-city-jury-selection'}, 'numberIngested': 10, 'numberOfSentences': 37, 'numberOfTriples': '538', 'processed': '2024-04-17T18:14:15'}, 'repository': 'trump_trial'}\n",
      "\n",
      "repo_source  trump_trial_watimes\n",
      "<Response [201]>\n",
      "201 {'narrativeDetails': {'narrativeId': '02593301', 'narrativeMetadata': {'published': '2024-04-15T00:00:00', 'source': 'Washington Times', 'title': 'Trump’s history-making hush-money trial begins with challenge of picking a jury', 'url': 'https://www.washingtontimes.com/news/2024/apr/15/trumps-hush-money-trial-begins-with-challenge-of-p/'}, 'numberIngested': 10, 'numberOfSentences': 43, 'numberOfTriples': '486', 'processed': '2024-04-17T18:21:12'}, 'repository': 'trump_trial'}\n",
      "\n",
      "repo_source  trump_trial_cnn\n",
      "<Response [201]>\n",
      "201 {'narrativeDetails': {'narrativeId': '4d050483', 'narrativeMetadata': {'published': '2024-04-15T00:00:00', 'source': 'CNN', 'title': 'Trump has an unusual request on trial Day 1', 'url': 'https://www.cnn.com/2024/04/15/politics/trump-trial-day-1-what-matters/index.html'}, 'numberIngested': 10, 'numberOfSentences': 51, 'numberOfTriples': '436', 'processed': '2024-04-17T18:27:16'}, 'repository': 'trump_trial'}\n",
      "\n",
      "repo_source  trump_trial_huffpost\n",
      "<Response [201]>\n",
      "201 {'narrativeDetails': {'narrativeId': 'b16321b3', 'narrativeMetadata': {'published': '2024-04-12T00:00:00', 'source': 'Huffington Post', 'title': 'Manhattan Court To Find Jurors To Hear First-Ever Criminal Case Against An Ex-President', 'url': 'https://www.huffpost.com/entry/trump-bond-reduced-fraud-appeal_n_660198c0e4b059750143d44c'}, 'numberIngested': 10, 'numberOfSentences': 41, 'numberOfTriples': '471', 'processed': '2024-04-17T18:34:09'}, 'repository': 'trump_trial'}\n",
      "\n",
      "repo_source  trump_trial_nyt\n",
      "<Response [201]>\n",
      "201 {'narrativeDetails': {'narrativeId': '8d73d03a', 'narrativeMetadata': {'published': '2024-04-15T00:00:00', 'source': 'New York Times', 'title': 'A Historic Day', 'url': 'https://www.nytimes.com/2024/04/15/us/politics/trump-trial-manhattan-first-day.html'}, 'numberIngested': 10, 'numberOfSentences': 39, 'numberOfTriples': '345', 'processed': '2024-04-17T18:40:17'}, 'repository': 'trump_trial'}\n",
      "\n"
     ]
    }
   ],
   "source": [
    "ingest_articles('trump_trial')"
   ]
  },
  {
   "cell_type": "code",
   "execution_count": 11,
   "id": "b59749b4",
   "metadata": {
    "ExecuteTime": {
     "end_time": "2024-04-17T22:41:19.355752Z",
     "start_time": "2024-04-17T22:41:18.279472Z"
    }
   },
   "outputs": [
    {
     "name": "stdout",
     "output_type": "stream",
     "text": [
      "200 {\n",
      " \"narratives\": [\n",
      "  {\n",
      "   \"narrativeId\": \"Narrative_36ba96a2\",\n",
      "   \"narrativeMetadata\": {\n",
      "    \"published\": \"2024-04-15T00:00:00\",\n",
      "    \"source\": \"Al Jazeera\",\n",
      "    \"title\": \"Six takeaways from first day of Trump\\u2019s New York hush money criminal trial\",\n",
      "    \"url\": \"https://www.aljazeera.com/news/2024/4/15/five-takeaways-from-first-day-of-trumps-historic-new-york-cirminal-trial\"\n",
      "   },\n",
      "   \"numberIngested\": \"10\",\n",
      "   \"numberOfSentences\": \"65\",\n",
      "   \"numberOfTriples\": \"426\",\n",
      "   \"processed\": \"2024-04-17T17:57:35\"\n",
      "  },\n",
      "  {\n",
      "   \"narrativeId\": \"Narrative_deefec89\",\n",
      "   \"narrativeMetadata\": {\n",
      "    \"published\": \"2024-04-15T00:00:00\",\n",
      "    \"source\": \"Wall Street Journal\",\n",
      "    \"title\": \"Donald Trump Faces Deep Blue Jury Pool as Hush-Money Case Begins\",\n",
      "    \"url\": \"https://www.wsj.com/us-news/law/trump-hush-money-trial-jury-2bc58769\"\n",
      "   },\n",
      "   \"numberIngested\": \"10\",\n",
      "   \"numberOfSentences\": \"40\",\n",
      "   \"numberOfTriples\": \"398\",\n",
      "   \"processed\": \"2024-04-17T18:02:50\"\n",
      "  },\n",
      "  {\n",
      "   \"narrativeId\": \"Narrative_8a985ae0\",\n",
      "   \"narrativeMetadata\": {\n",
      "    \"published\": \"2024-04-15T00:00:00\",\n",
      "    \"source\": \"Breitbart\",\n",
      "    \"title\": \"Unprecedented Trump Criminal Trial Begins with Jury Selection\",\n",
      "    \"url\": \"https://www.breitbart.com/politics/2024/04/15/unprecedented-trump-criminal-trial-begins-with-jury-selection/\"\n",
      "   },\n",
      "   \"numberIngested\": \"10\",\n",
      "   \"numberOfSentences\": \"20\",\n",
      "   \"numberOfTriples\": \"365\",\n",
      "   \"processed\": \"2024-04-17T18:07:28\"\n",
      "  },\n",
      "  {\n",
      "   \"narrativeId\": \"Narrative_16aab837\",\n",
      "   \"narrativeMetadata\": {\n",
      "    \"published\": \"2024-04-15T00:00:00\",\n",
      "    \"source\": \"Fox News\",\n",
      "    \"title\": \"Trump hush money trial begins in New York City with jury selection\",\n",
      "    \"url\": \"https://www.foxnews.com/politics/trump-bragg-hush-money-trial-begins-new-york-city-jury-selection\"\n",
      "   },\n",
      "   \"numberIngested\": \"10\",\n",
      "   \"numberOfSentences\": \"37\",\n",
      "   \"numberOfTriples\": \"538\",\n",
      "   \"processed\": \"2024-04-17T18:14:15\"\n",
      "  },\n",
      "  {\n",
      "   \"narrativeId\": \"Narrative_02593301\",\n",
      "   \"narrativeMetadata\": {\n",
      "    \"published\": \"2024-04-15T00:00:00\",\n",
      "    \"source\": \"Washington Times\",\n",
      "    \"title\": \"Trump\\u2019s history-making hush-money trial begins with challenge of picking a jury\",\n",
      "    \"url\": \"https://www.washingtontimes.com/news/2024/apr/15/trumps-hush-money-trial-begins-with-challenge-of-p/\"\n",
      "   },\n",
      "   \"numberIngested\": \"10\",\n",
      "   \"numberOfSentences\": \"43\",\n",
      "   \"numberOfTriples\": \"486\",\n",
      "   \"processed\": \"2024-04-17T18:21:12\"\n",
      "  },\n",
      "  {\n",
      "   \"narrativeId\": \"Narrative_4d050483\",\n",
      "   \"narrativeMetadata\": {\n",
      "    \"published\": \"2024-04-15T00:00:00\",\n",
      "    \"source\": \"CNN\",\n",
      "    \"title\": \"Trump has an unusual request on trial Day 1\",\n",
      "    \"url\": \"https://www.cnn.com/2024/04/15/politics/trump-trial-day-1-what-matters/index.html\"\n",
      "   },\n",
      "   \"numberIngested\": \"10\",\n",
      "   \"numberOfSentences\": \"51\",\n",
      "   \"numberOfTriples\": \"436\",\n",
      "   \"processed\": \"2024-04-17T18:27:16\"\n",
      "  },\n",
      "  {\n",
      "   \"narrativeId\": \"Narrative_b16321b3\",\n",
      "   \"narrativeMetadata\": {\n",
      "    \"published\": \"2024-04-12T00:00:00\",\n",
      "    \"source\": \"Huffington Post\",\n",
      "    \"title\": \"Manhattan Court To Find Jurors To Hear First-Ever Criminal Case Against An Ex-President\",\n",
      "    \"url\": \"https://www.huffpost.com/entry/trump-bond-reduced-fraud-appeal_n_660198c0e4b059750143d44c\"\n",
      "   },\n",
      "   \"numberIngested\": \"10\",\n",
      "   \"numberOfSentences\": \"41\",\n",
      "   \"numberOfTriples\": \"471\",\n",
      "   \"processed\": \"2024-04-17T18:34:09\"\n",
      "  },\n",
      "  {\n",
      "   \"narrativeId\": \"Narrative_8d73d03a\",\n",
      "   \"narrativeMetadata\": {\n",
      "    \"published\": \"2024-04-15T00:00:00\",\n",
      "    \"source\": \"New York Times\",\n",
      "    \"title\": \"A Historic Day\",\n",
      "    \"url\": \"https://www.nytimes.com/2024/04/15/us/politics/trump-trial-manhattan-first-day.html\"\n",
      "   },\n",
      "   \"numberIngested\": \"10\",\n",
      "   \"numberOfSentences\": \"39\",\n",
      "   \"numberOfTriples\": \"345\",\n",
      "   \"processed\": \"2024-04-17T18:40:17\"\n",
      "  }\n",
      " ],\n",
      " \"repository\": \"trump_trial\"\n",
      "}\n"
     ]
    }
   ],
   "source": [
    "# Check what articles are in the repository \n",
    "response = requests.get('http://127.0.0.1:5000/dna/v1/repositories/narratives?repository=trump_trial')\n",
    "print(response.status_code, json.dumps(response.json(), indent=1))"
   ]
  },
  {
   "cell_type": "code",
   "execution_count": null,
   "id": "0ea68327",
   "metadata": {},
   "outputs": [],
   "source": []
  }
 ],
 "metadata": {
  "kernelspec": {
   "display_name": "Python 3",
   "language": "python",
   "name": "python3"
  },
  "language_info": {
   "codemirror_mode": {
    "name": "ipython",
    "version": 3
   },
   "file_extension": ".py",
   "mimetype": "text/x-python",
   "name": "python",
   "nbconvert_exporter": "python",
   "pygments_lexer": "ipython3",
   "version": "3.8.9"
  },
  "varInspector": {
   "cols": {
    "lenName": 16,
    "lenType": 16,
    "lenVar": 40
   },
   "kernels_config": {
    "python": {
     "delete_cmd_postfix": "",
     "delete_cmd_prefix": "del ",
     "library": "var_list.py",
     "varRefreshCmd": "print(var_dic_list())"
    },
    "r": {
     "delete_cmd_postfix": ") ",
     "delete_cmd_prefix": "rm(",
     "library": "var_list.r",
     "varRefreshCmd": "cat(var_dic_list()) "
    }
   },
   "position": {
    "height": "144.844px",
    "left": "1211px",
    "right": "20px",
    "top": "120px",
    "width": "350px"
   },
   "types_to_exclude": [
    "module",
    "function",
    "builtin_function_or_method",
    "instance",
    "_Feature"
   ],
   "window_display": false
  }
 },
 "nbformat": 4,
 "nbformat_minor": 5
}
