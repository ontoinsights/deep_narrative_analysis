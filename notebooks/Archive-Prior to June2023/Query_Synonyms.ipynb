{
 "cells": [
  {
   "cell_type": "markdown",
   "id": "e3b9de12",
   "metadata": {},
   "source": [
    "# Query Stardog for n-grams and duplicated words in synonyms"
   ]
  },
  {
   "cell_type": "code",
   "execution_count": 1,
   "id": "40fe8226",
   "metadata": {
    "ExecuteTime": {
     "end_time": "2022-12-27T04:27:51.674706Z",
     "start_time": "2022-12-27T04:27:51.560910Z"
    }
   },
   "outputs": [],
   "source": [
    "import stardog\n",
    "\n",
    "# Set Stardog connection details\n",
    "sd_conn_details = {\n",
    "    'endpoint': 'http://localhost:5820',\n",
    "    'username': 'admin',\n",
    "    'password': 'admin'\n",
    "}\n"
   ]
  },
  {
   "cell_type": "code",
   "execution_count": 3,
   "id": "cf7cec9d",
   "metadata": {
    "ExecuteTime": {
     "end_time": "2022-12-27T04:28:32.284313Z",
     "start_time": "2022-12-27T04:28:32.224323Z"
    },
    "scrolled": false
   },
   "outputs": [
    {
     "name": "stdout",
     "output_type": "stream",
     "text": [
      "urn:ontoinsights:dna:AdmirationRespectAndValue, hold in regard\n",
      "urn:ontoinsights:dna:AdmirationRespectAndValue, hold in esteem\n",
      "urn:ontoinsights:dna:AngerAndAnnoyance, get tired of\n",
      "urn:ontoinsights:dna:Arrogance, feeling of superiority\n",
      "urn:ontoinsights:dna:Curiosity, thirst for knowledge\n",
      "urn:ontoinsights:dna:Dislike, hold in disfavor\n",
      "urn:ontoinsights:dna:Dislike, have no liking\n",
      "urn:ontoinsights:dna:Dislike, regard with distaste\n",
      "urn:ontoinsights:dna:Dislike, be unable to tolerate\n",
      "urn:ontoinsights:dna:Dislike, be unable to bear\n",
      "urn:ontoinsights:dna:Dislike, be unable to stand\n",
      "urn:ontoinsights:dna:Dislike, be unable to abide\n",
      "urn:ontoinsights:dna:Fondness, be keen on\n",
      "urn:ontoinsights:dna:Fondness, be partial to\n",
      "urn:ontoinsights:dna:HatredBitternessAndDisgust, regard with disgust\n",
      "urn:ontoinsights:dna:HatredBitternessAndDisgust, be unable to stomach\n",
      "urn:ontoinsights:dna:MurderAndHomicide, put to death\n",
      "urn:ontoinsights:dna:Love, be sweet on\n",
      "urn:ontoinsights:dna:Anxiety, sick with worry\n",
      "urn:ontoinsights:dna:RelaxationAndSerenity, peace of mind\n",
      "urn:ontoinsights:dna:RelaxationAndSerenity, be at peace\n",
      "urn:ontoinsights:dna:Cognition, have in mind\n",
      "urn:ontoinsights:dna:DeceptionAndDishonesty, put one over\n",
      "urn:ontoinsights:dna:SadnessAndDisappointment, heaviness of heart\n",
      "urn:ontoinsights:dna:FriendlyOrSupportiveAct, stand up for\n",
      "urn:ontoinsights:dna:TrustAndTolerance, put up with\n",
      "urn:ontoinsights:dna:MovementTravelAndTransportation, set in motion\n",
      "urn:ontoinsights:dna:Disability, color vision deficiency\n",
      "urn:ontoinsights:dna:Disability, colour vision deficiency\n",
      "urn:ontoinsights:dna:Disability, red-green color blindness\n",
      "urn:ontoinsights:dna:Disability, red-green colour blindness\n",
      "urn:ontoinsights:dna:Disability, yellow-blue color blindness\n",
      "urn:ontoinsights:dna:Disorder, congenital heart defect\n",
      "urn:ontoinsights:dna:ChemicalElementAndCompound, cod liver oil\n",
      "urn:ontoinsights:dna:ChemicalElementAndCompound, balsam of tolu\n",
      "urn:ontoinsights:dna:Vehicle, armored combat vehicle\n",
      "urn:ontoinsights:dna:Vehicle, armoured combat vehicle\n",
      "urn:ontoinsights:dna:GreenhouseGas, carbonic acid gas\n",
      "urn:ontoinsights:dna:SensoryPerception, sense of hearing\n",
      "urn:ontoinsights:dna:SensoryPerception, sense of smell\n",
      "urn:ontoinsights:dna:GamblingAndWagering, game of chance\n",
      "urn:ontoinsights:dna:Cognition, frame of mind\n",
      "urn:ontoinsights:dna:FungusAndPlant, sour cherry tree\n",
      "urn:ontoinsights:dna:StateAndPhysicalChange, wear and tear\n",
      "urn:ontoinsights:dna:PhysicalLocation, field of honor\n",
      "urn:ontoinsights:dna:altitude_meters, altitude in meters\n",
      "urn:ontoinsights:dna:area_sq_kms, area in sq kilometers\n",
      "urn:ontoinsights:dna:city_part_name, name of a part of the city\n",
      "urn:ontoinsights:dna:distance_meters, distance in meters\n",
      "urn:ontoinsights:dna:highest_altitude_meters, highest altitude in meters\n",
      "urn:ontoinsights:dna:longest_distance_meters, longest distance in meters\n",
      "urn:ontoinsights:dna:lowest_altitude_meters, lowest altitude in meters\n",
      "urn:ontoinsights:dna:postal_address_detail, postal address detail\n",
      "urn:ontoinsights:dna:shortest_distance_meters, shortest distance in meters\n",
      "urn:ontoinsights:dna:state_or_region_name, state, province or region name\n",
      "urn:ontoinsights:dna:street_address1, street address, line 1\n",
      "urn:ontoinsights:dna:street_address2, street address, line 2\n",
      "urn:ontoinsights:dna:has_bounding_coordinate, has bounding coordinate\n",
      "urn:ontoinsights:dna:LineOfBusiness, line of work\n",
      "urn:ontoinsights:dna:TechnologyBusiness, research and development\n",
      "urn:ontoinsights:dna:line_of_business, line of business\n",
      "urn:ontoinsights:dna:has_agent_aspect, has agent aspect\n",
      "urn:ontoinsights:dna:has_line_of_business, has line of business\n",
      "urn:ontoinsights:dna:has_political_ideology, has political ideology\n",
      "urn:ontoinsights:dna:ArtAndCollectible, work of art\n",
      "urn:ontoinsights:dna:Schedule, plan of action\n",
      "urn:ontoinsights:dna:Continuation, not give up\n",
      "urn:ontoinsights:dna:has_active_agent, has active agent\n",
      "urn:ontoinsights:dna:has_affected_agent, has affected agent\n",
      "urn:ontoinsights:dna:has_destination, has destination location\n",
      "urn:ontoinsights:dna:has_origin, has origin location\n",
      "urn:ontoinsights:dna:has_provider, has providing agent\n",
      "urn:ontoinsights:dna:has_recipient, has receiving agent\n",
      "urn:ontoinsights:dna:PromiseAndOath, word of honor\n",
      "urn:ontoinsights:dna:number_triples, number of triples\n",
      "urn:ontoinsights:dna:has_component, is part of\n",
      "urn:ontoinsights:dna:reference_to_enumerated_value, reference to enumerated value\n",
      "urn:ontoinsights:dna:Compatibility, is compatible with\n",
      "urn:ontoinsights:dna:Compliance, is in compliance\n",
      "urn:ontoinsights:dna:EndOfBusiness, go out of business\n",
      "urn:ontoinsights:dna:EndOfBusiness, shut its doors\n",
      "urn:ontoinsights:dna:EndOfBusiness, close its doors\n",
      "urn:ontoinsights:dna:EndOfBusiness, close up shop\n",
      "urn:ontoinsights:dna:LackOfReadinessAndAbility, not be ready\n",
      "urn:ontoinsights:dna:War, be at war\n",
      "urn:ontoinsights:dna:ChangeOfPossession, get hold of\n",
      "urn:ontoinsights:dna:ChangeOfPossession, get hands on\n",
      "urn:ontoinsights:dna:DemonstrationStrikeAndRally, go on strike\n",
      "urn:ontoinsights:dna:DemonstrationStrikeAndRally, be on strike\n",
      "urn:ontoinsights:dna:DisagreementAndDispute, difference of opinion\n",
      "urn:ontoinsights:dna:Disaster, act of God\n",
      "urn:ontoinsights:dna:Grooming, put on clothes\n",
      "urn:ontoinsights:dna:LegalEvent, go to court\n",
      "urn:ontoinsights:dna:ProjectAndCampaign, labor of love\n",
      "urn:ontoinsights:dna:RemovalAndRestriction, get rid of\n",
      "urn:ontoinsights:dna:RiskTaking, stick neck out\n",
      "urn:ontoinsights:dna:RiskTaking, take leap in dark\n",
      "urn:ontoinsights:dna:RiskTaking, put on line\n",
      "urn:ontoinsights:dna:RiskTaking, lay on line\n",
      "urn:ontoinsights:dna:Searching, look high and low\n",
      "urn:ontoinsights:dna:Suicide, take one's life\n",
      "urn:ontoinsights:dna:Suicide, take own life\n",
      "urn:ontoinsights:dna:ViolationOfAgreement, breach of contract\n",
      "urn:ontoinsights:dna:has_unit, has unit of measure\n",
      "urn:ontoinsights:dna:Season, time of year\n",
      "urn:ontoinsights:dna:day_of_month, day of month\n",
      "urn:ontoinsights:dna:day_of_week, day of week\n",
      "urn:ontoinsights:dna:hour_of_day, hour of day\n",
      "urn:ontoinsights:dna:minute_of_hour, minute of hour\n",
      "urn:ontoinsights:dna:month_of_year, month of year\n",
      "urn:ontoinsights:dna:second_of_minute, second of minute\n",
      "urn:ontoinsights:dna:week_of_month, week of month\n",
      "urn:ontoinsights:dna:has_approximate_time, has approximate time\n",
      "urn:ontoinsights:dna:has_earliest_beginning, has earliest beginning\n",
      "urn:ontoinsights:dna:has_latest_end, has latest end\n",
      "urn:ontoinsights:dna:has_recurrence_time, has recurrence time\n",
      "urn:ontoinsights:dna:Sunrise, break of day\n",
      "urn:ontoinsights:dna:ReligiousBelief, indigenous Australian mythology\n",
      "urn:ontoinsights:dna:Betrayal, breach of faith\n",
      "urn:ontoinsights:dna:Betrayal, stab in the back\n",
      "urn:ontoinsights:dna:Betrayal, stab in back\n",
      "urn:ontoinsights:dna:Concealment, put up a smoke screen\n",
      "urn:ontoinsights:dna:DecisionMakingAndChoice, course of action\n",
      "urn:ontoinsights:dna:DecisionMakingAndChoice, make up mind\n",
      "urn:ontoinsights:dna:Forgetting, fail to remember\n",
      "urn:ontoinsights:dna:IgnoringAndOverlooking, pay no attention\n",
      "urn:ontoinsights:dna:IgnoringAndOverlooking, bury one's head in the sand\n",
      "urn:ontoinsights:dna:IgnoringAndOverlooking, look the other way\n",
      "urn:ontoinsights:dna:IgnoringAndOverlooking, pay no mind\n",
      "urn:ontoinsights:dna:IgnoringAndOverlooking, turn blind eye\n",
      "urn:ontoinsights:dna:LearningAndEducation, go to school\n",
      "urn:ontoinsights:dna:LearningAndEducation, go to college\n",
      "urn:ontoinsights:dna:MaintenanceAndRepair, put back together\n",
      "urn:ontoinsights:dna:Mistake, show lack of judgment\n",
      "urn:ontoinsights:dna:RobberyAndTheft, breaking and entering\n"
     ]
    }
   ],
   "source": [
    "conn = stardog.Connection('ontologies', **sd_conn_details)\n",
    "query = \"select * where {{{?s rdfs:label ?text} UNION {?s :noun_synonym ?text} UNION {?s :verb_synonym ?text}} FILTER(CONTAINS(?text, ' '))}\"\n",
    "query_results = conn.select(query, content_type='application/sparql-results+json')\n",
    "if 'results' in query_results and 'bindings' in query_results['results']:\n",
    "    for result in query_results['results']['bindings']:\n",
    "        text = result['text']['value'] \n",
    "        subj = result['s']['value']\n",
    "        if text.count(' ') > 1 and text[0].islower() and '(' not in text and 'Ethnicity' not in subj and 'geonames' not in subj and 'PoliticalIdeology' not in subj:\n",
    "            print(f'{subj}, {text}')\n",
    "            "
   ]
  },
  {
   "cell_type": "code",
   "execution_count": 4,
   "id": "90e7baac",
   "metadata": {
    "ExecuteTime": {
     "end_time": "2022-12-27T04:41:46.148033Z",
     "start_time": "2022-12-27T04:41:46.100330Z"
    }
   },
   "outputs": [
    {
     "name": "stdout",
     "output_type": "stream",
     "text": [
      "urn:ontoinsights:dna:Ethnicity, urn:ontoinsights:dna:FoodAndDrink, Irish\n",
      "urn:ontoinsights:dna:PoliticalIdeology, urn:ontoinsights:dna:Radicalism, anarchism\n",
      "urn:ontoinsights:dna:FacismAndNazism, urn:ontoinsights:dna:PoliticalIdeology, fascist\n",
      "urn:ontoinsights:dna:PoliticalIdeology, urn:ontoinsights:dna:SeparatismAndSegregation, anti-semitism\n",
      "urn:ontoinsights:dna:PoliticalIdeology, urn:ontoinsights:dna:ReligiousBelief, Juche idea\n",
      "urn:ontoinsights:dna:PoliticalIdeology, urn:ontoinsights:dna:ReligiousBelief, Juche ideology\n",
      "urn:ontoinsights:dna:Authoritarianism, urn:ontoinsights:dna:PoliticalEnvironment, autocracy\n",
      "urn:ontoinsights:dna:Ethnicity, urn:ontoinsights:dna:PoliticalIdeology, Reche\n",
      "urn:ontoinsights:dna:Ethnicity, urn:ontoinsights:dna:PoliticalIdeology, Araucanians\n",
      "urn:ontoinsights:dna:Ethnicity, urn:ontoinsights:dna:PoliticalIdeology, Reches\n",
      "urn:ontoinsights:dna:Ethnicity, urn:ontoinsights:dna:PoliticalIdeology, Araucanos\n",
      "urn:ontoinsights:dna:Ethnicity, urn:ontoinsights:dna:PoliticalIdeology, Araucans\n",
      "urn:ontoinsights:dna:Communitarianism, urn:ontoinsights:dna:PoliticalIdeology, socialism\n",
      "urn:ontoinsights:dna:PoliticalIdeology, urn:ontoinsights:dna:Populism, populist\n",
      "urn:ontoinsights:dna:PoliticalIdeology, urn:ontoinsights:dna:Populism, syndicalism\n",
      "urn:ontoinsights:dna:Communism, urn:ontoinsights:dna:PoliticalIdeology, autonomism\n",
      "urn:ontoinsights:dna:PoliticalIdeology, urn:ontoinsights:dna:SeparatismAndSegregation, racism\n",
      "urn:ontoinsights:dna:PoliticalIdeology, urn:ontoinsights:dna:Populism, pacifism\n",
      "urn:ontoinsights:dna:PoliticalIdeology, urn:ontoinsights:dna:SeparatismAndSegregation, segregationism\n",
      "urn:ontoinsights:dna:Authoritarianism, urn:ontoinsights:dna:PoliticalIdeology, totalitarianism\n",
      "urn:ontoinsights:dna:Ethnicity, urn:ontoinsights:dna:PoliticalIdeology, Mapuches\n",
      "urn:ontoinsights:dna:Corporatism, urn:ontoinsights:dna:PoliticalIdeology, mutualism\n",
      "urn:ontoinsights:dna:PoliticalIdeology, urn:ontoinsights:dna:ReligiousBelief, Juche\n",
      "urn:ontoinsights:dna:PoliticalIdeology, urn:ontoinsights:dna:PoliticalReligiousIdeology, secularism\n",
      "urn:ontoinsights:dna:PoliticalIdeology, urn:ontoinsights:dna:Populism, egalitarianism\n",
      "urn:ontoinsights:dna:Conservatism, urn:ontoinsights:dna:PoliticalIdeology, alt-right\n",
      "urn:ontoinsights:dna:CameoReligion_BUD, urn:ontoinsights:dna:ReligiousBelief, Buddhist\n",
      "urn:ontoinsights:dna:CameoReligion_CHRANG, urn:ontoinsights:dna:ReligiousBelief, Anglicanism\n",
      "urn:ontoinsights:dna:CameoEthnicity_jew, urn:ontoinsights:dna:CameoReligion_JEW, Hebrew\n",
      "urn:ontoinsights:dna:CameoReligion_MOS, urn:ontoinsights:dna:ReligiousBelief, Muslim\n",
      "urn:ontoinsights:dna:Ethnicity, urn:ontoinsights:geonames:2395170, Dahomey\n",
      "urn:ontoinsights:dna:Ethnicity, urn:ontoinsights:geonames:2260494, Congo\n",
      "urn:ontoinsights:dna:Ethnicity, urn:ontoinsights:geonames:1327865, Burma\n",
      "urn:ontoinsights:dna:LeftWing, urn:ontoinsights:dna:Progressivism, progressive\n",
      "urn:ontoinsights:dna:LeftWing, urn:ontoinsights:dna:Liberalism, liberal\n",
      "urn:ontoinsights:dna:CameoEthnicity_abk, urn:ontoinsights:dna:Ethnicity, Abkhazians\n",
      "urn:ontoinsights:dna:CameoEthnicity_abr, urn:ontoinsights:dna:Ethnicity, Aborigines\n",
      "urn:ontoinsights:dna:CameoEthnicity_aka, urn:ontoinsights:dna:Ethnicity, Asante\n",
      "urn:ontoinsights:dna:CameoEthnicity_aku, urn:ontoinsights:dna:Ethnicity, Creoles\n",
      "urn:ontoinsights:dna:CameoEthnicity_kon, urn:ontoinsights:dna:Ethnicity, Bakongo\n",
      "urn:ontoinsights:dna:CameoEthnicity_bal, urn:ontoinsights:dna:Ethnicity, Baluchis\n",
      "urn:ontoinsights:dna:CameoEthnicity_bas, urn:ontoinsights:dna:Ethnicity, Bassa\n",
      "urn:ontoinsights:dna:CameoEthnicity_bel, urn:ontoinsights:dna:Ethnicity, Byelorussians\n",
      "urn:ontoinsights:dna:CameoEthnicity_ava, urn:ontoinsights:dna:Ethnicity, Avars\n",
      "urn:ontoinsights:dna:CameoEthnicity_cht, urn:ontoinsights:dna:Ethnicity, Chorti\n",
      "urn:ontoinsights:dna:CameoEthnicity_dut, urn:ontoinsights:dna:Ethnicity, Flemings\n",
      "urn:ontoinsights:dna:CameoEthnicity_esh, urn:ontoinsights:dna:Ethnicity, Bapounou\n",
      "urn:ontoinsights:dna:CameoEthnicity_ful, urn:ontoinsights:dna:Ethnicity, Fulani\n",
      "urn:ontoinsights:dna:CameoEthnicity_gba, urn:ontoinsights:dna:Ethnicity, Baya\n",
      "urn:ontoinsights:dna:CameoEthnicity_gel, urn:ontoinsights:dna:Ethnicity, Gelo\n",
      "urn:ontoinsights:dna:CameoEthnicity_hau, urn:ontoinsights:dna:Ethnicity, Hausa-Fulani\n",
      "urn:ontoinsights:dna:CameoEthnicity_jin, urn:ontoinsights:dna:Ethnicity, Jinuo\n",
      "urn:ontoinsights:dna:CameoEthnicity_jol, urn:ontoinsights:dna:Ethnicity, Diola\n",
      "urn:ontoinsights:dna:CameoEthnicity_kby, urn:ontoinsights:dna:Ethnicity, Kabre\n",
      "urn:ontoinsights:dna:CameoEthnicity_kau, urn:ontoinsights:dna:Ethnicity, Kanouri\n",
      "urn:ontoinsights:dna:CameoEthnicity_kpe, urn:ontoinsights:dna:Ethnicity, Guerze\n",
      "urn:ontoinsights:dna:CameoEthnicity_kir, urn:ontoinsights:dna:Ethnicity, Kirghis\n",
      "urn:ontoinsights:dna:CameoEthnicity_kir, urn:ontoinsights:dna:Ethnicity, Kirgiz\n",
      "urn:ontoinsights:dna:CameoEthnicity_lom, urn:ontoinsights:dna:Ethnicity, Nguru\n",
      "urn:ontoinsights:dna:CameoEthnicity_loz, urn:ontoinsights:dna:Ethnicity, Barotse\n",
      "urn:ontoinsights:dna:CameoEthnicity_man, urn:ontoinsights:dna:Ethnicity, Mandingue\n",
      "urn:ontoinsights:dna:CameoEthnicity_mnj, urn:ontoinsights:dna:Ethnicity, Manjaco\n",
      "urn:ontoinsights:dna:CameoEthnicity_mbe, urn:ontoinsights:dna:Ethnicity, Mbede\n",
      "urn:ontoinsights:dna:CameoEthnicity_oss, urn:ontoinsights:dna:Ethnicity, Ossetes\n",
      "urn:ontoinsights:dna:CameoEthnicity_rom, urn:ontoinsights:dna:Ethnicity, Roma\n",
      "urn:ontoinsights:dna:CameoEthnicity_rom, urn:ontoinsights:dna:Ethnicity, Gypsy\n",
      "urn:ontoinsights:dna:CameoEthnicity_sco, urn:ontoinsights:dna:Ethnicity, Scots\n",
      "urn:ontoinsights:dna:CameoEthnicity_tur, urn:ontoinsights:dna:Ethnicity, Turks\n",
      "urn:ontoinsights:dna:CameoEthnicity_uig, urn:ontoinsights:dna:Ethnicity, Uighur\n",
      "urn:ontoinsights:dna:Ethnicity, urn:ontoinsights:dna:ReligiousBelief, Yoruba\n",
      "urn:ontoinsights:dna:Possession, urn:ontoinsights:dna:Resource, asset\n",
      "urn:ontoinsights:dna:Compliance, urn:ontoinsights:dna:Residence, abidance\n",
      "urn:ontoinsights:dna:ChangeOfPossession, urn:ontoinsights:dna:GiftAndDonation, giving\n",
      "urn:ontoinsights:dna:Battle, urn:ontoinsights:dna:EntranceAndExit, incursion\n",
      "urn:ontoinsights:dna:Possession, urn:ontoinsights:dna:Storage, holding\n",
      "urn:ontoinsights:dna:Ethnicity, urn:ontoinsights:dna:ReligiousBelief, Daba\n"
     ]
    }
   ],
   "source": [
    "query = \"select * where {?s1 :noun_synonym ?text . ?s2 :noun_synonym ?text . FILTER(str(?s1) < str(?s2))}\"\n",
    "query_results = conn.select(query, content_type='application/sparql-results+json')\n",
    "if 'results' in query_results and 'bindings' in query_results['results']:\n",
    "    for result in query_results['results']['bindings']:\n",
    "        s1 = result['s1']['value']\n",
    "        s2 = result['s2']['value']\n",
    "        text = result['text']['value'] \n",
    "        print(f'{s1}, {s2}, {text}')"
   ]
  },
  {
   "cell_type": "code",
   "execution_count": 5,
   "id": "5ab9d7cd",
   "metadata": {
    "ExecuteTime": {
     "end_time": "2022-12-27T04:43:09.020535Z",
     "start_time": "2022-12-27T04:43:09.006634Z"
    }
   },
   "outputs": [
    {
     "name": "stdout",
     "output_type": "stream",
     "text": [
      "urn:ontoinsights:dna:DisagreementAndDispute, urn:ontoinsights:dna:Dislike, disagree\n",
      "urn:ontoinsights:dna:End, urn:ontoinsights:dna:Success, fulfill\n",
      "urn:ontoinsights:dna:Cognition, urn:ontoinsights:dna:MeaningImplicationAndInference, interpret\n",
      "urn:ontoinsights:dna:ActOfPublishing, urn:ontoinsights:dna:DistributionAndSupply, circulate\n",
      "urn:ontoinsights:dna:DistributionAndSupply, urn:ontoinsights:dna:IncrementalMovement, spread\n",
      "urn:ontoinsights:dna:DistributionAndSupply, urn:ontoinsights:dna:IncrementalMovement, pass around\n",
      "urn:ontoinsights:dna:Acquisition, urn:ontoinsights:dna:ChangeOfPossession, take\n",
      "urn:ontoinsights:dna:AttackDamageAndAssault, urn:ontoinsights:dna:Pain, hurt\n",
      "urn:ontoinsights:dna:AttackDamageAndAssault, urn:ontoinsights:dna:BodilyInjury, hurt\n",
      "urn:ontoinsights:dna:BodilyInjury, urn:ontoinsights:dna:Pain, hurt\n",
      "urn:ontoinsights:dna:EntranceAndExit, urn:ontoinsights:dna:MovementTravelAndTransportation, go away\n",
      "urn:ontoinsights:dna:DistributionAndSupply, urn:ontoinsights:dna:Separation, apportion\n",
      "urn:ontoinsights:dna:EntranceAndExit, urn:ontoinsights:dna:Income, pull in\n",
      "urn:ontoinsights:dna:SiegeAndSurrounding, urn:ontoinsights:dna:TroubleAndProblem, besiege\n",
      "urn:ontoinsights:dna:ActOfPublishing, urn:ontoinsights:dna:DistributionAndSupply, distribute\n",
      "urn:ontoinsights:dna:EntranceAndExit, urn:ontoinsights:dna:EscapeAndEvasion, get out\n"
     ]
    }
   ],
   "source": [
    "query = \"select * where {?s1 :verb_synonym ?text . ?s2 :verb_synonym ?text . FILTER(str(?s1) < str(?s2))}\"\n",
    "query_results = conn.select(query, content_type='application/sparql-results+json')\n",
    "if 'results' in query_results and 'bindings' in query_results['results']:\n",
    "    for result in query_results['results']['bindings']:\n",
    "        s1 = result['s1']['value']\n",
    "        s2 = result['s2']['value']\n",
    "        text = result['text']['value'] \n",
    "        print(f'{s1}, {s2}, {text}')"
   ]
  },
  {
   "cell_type": "code",
   "execution_count": null,
   "id": "3a6047c5",
   "metadata": {},
   "outputs": [],
   "source": []
  }
 ],
 "metadata": {
  "kernelspec": {
   "display_name": "Python 3 (ipykernel)",
   "language": "python",
   "name": "python3"
  },
  "language_info": {
   "codemirror_mode": {
    "name": "ipython",
    "version": 3
   },
   "file_extension": ".py",
   "mimetype": "text/x-python",
   "name": "python",
   "nbconvert_exporter": "python",
   "pygments_lexer": "ipython3",
   "version": "3.8.8"
  },
  "varInspector": {
   "cols": {
    "lenName": 16,
    "lenType": 16,
    "lenVar": 40
   },
   "kernels_config": {
    "python": {
     "delete_cmd_postfix": "",
     "delete_cmd_prefix": "del ",
     "library": "var_list.py",
     "varRefreshCmd": "print(var_dic_list())"
    },
    "r": {
     "delete_cmd_postfix": ") ",
     "delete_cmd_prefix": "rm(",
     "library": "var_list.r",
     "varRefreshCmd": "cat(var_dic_list()) "
    }
   },
   "types_to_exclude": [
    "module",
    "function",
    "builtin_function_or_method",
    "instance",
    "_Feature"
   ],
   "window_display": false
  }
 },
 "nbformat": 4,
 "nbformat_minor": 5
}
