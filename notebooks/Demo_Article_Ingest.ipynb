{
 "cells": [
  {
   "cell_type": "markdown",
   "id": "80c27981",
   "metadata": {},
   "source": [
    "# Input several news articles into the Stardog DNA repositories\n",
    "\n",
    "There are 7-8 articles from different sources on the topics of the the Trump NY jury conviction (30 May), after-effects of the landslide in Papua New Guinea (26 May), and the FL Supreme Court upholding the 6-week abortion ban (2 April). \n",
    "\n",
    "The Trump conviction and FL Supreme Court ruling likely have strong partisan-related support, while reporting on the landslide should show less partisan influence.\n",
    "\n",
    "Note that a landslide-related WSJ article could not be found in the 25-26 May timeframe.\n",
    "\n",
    "Make sure that: \n",
    "* The DNA flask is running (execute 'flask run' from the dna directory)"
   ]
  },
  {
   "cell_type": "code",
   "execution_count": 1,
   "id": "3e740c1b",
   "metadata": {
    "ExecuteTime": {
     "end_time": "2024-06-05T04:33:24.447196Z",
     "start_time": "2024-06-05T04:33:24.316457Z"
    }
   },
   "outputs": [],
   "source": [
    "import json\n",
    "import requests"
   ]
  },
  {
   "cell_type": "code",
   "execution_count": 2,
   "id": "6821e82a",
   "metadata": {
    "ExecuteTime": {
     "end_time": "2024-06-05T04:33:39.738081Z",
     "start_time": "2024-06-05T04:33:28.488122Z"
    }
   },
   "outputs": [
    {
     "name": "stdout",
     "output_type": "stream",
     "text": [
      "200 <Response [200]>\n",
      "200 <Response [200]>\n",
      "200 <Response [200]>\n"
     ]
    }
   ],
   "source": [
    "# Delete repositories (if they exist)\n",
    "response = requests.delete('http://127.0.0.1:5000/dna/v1/repositories?repository=fl_abortion')\n",
    "print(response.status_code, response) \n",
    "response = requests.delete('http://127.0.0.1:5000/dna/v1/repositories?repository=trump_trial')\n",
    "print(response.status_code, response) \n",
    "response = requests.delete('http://127.0.0.1:5000/dna/v1/repositories?repository=landslide')\n",
    "print(response.status_code, response) "
   ]
  },
  {
   "cell_type": "code",
   "execution_count": 3,
   "id": "5ed2299c",
   "metadata": {
    "ExecuteTime": {
     "end_time": "2024-06-05T04:33:45.184287Z",
     "start_time": "2024-06-05T04:33:41.431924Z"
    }
   },
   "outputs": [
    {
     "name": "stdout",
     "output_type": "stream",
     "text": [
      "201 <Response [201]>\n",
      "201 <Response [201]>\n",
      "201 <Response [201]>\n",
      "200 [{'created': '2024-06-05T00:33:43', 'repository': 'fl_abortion'}, {'created': '2024-06-05T00:33:44', 'repository': 'trump_trial'}, {'created': '2024-06-05T00:33:42', 'repository': 'landslide'}]\n"
     ]
    }
   ],
   "source": [
    "# Create the repositories for the news articles\n",
    "response = requests.post('http://127.0.0.1:5000/dna/v1/repositories?repository=landslide')\n",
    "print(response.status_code, response) \n",
    "response = requests.post('http://127.0.0.1:5000/dna/v1/repositories?repository=fl_abortion')\n",
    "print(response.status_code, response) \n",
    "response = requests.post('http://127.0.0.1:5000/dna/v1/repositories?repository=trump_trial')\n",
    "print(response.status_code, response) \n",
    "# Verify that the repositories were created\n",
    "response = requests.get('http://127.0.0.1:5000/dna/v1/repositories')\n",
    "print(response.status_code, response.json()) "
   ]
  },
  {
   "cell_type": "code",
   "execution_count": 4,
   "id": "2e31485e",
   "metadata": {
    "ExecuteTime": {
     "end_time": "2024-06-05T04:33:47.148756Z",
     "start_time": "2024-06-05T04:33:47.137684Z"
    },
    "code_folding": []
   },
   "outputs": [],
   "source": [
    "# Articles for ingest\n",
    "landslide_aljazeera = {\n",
    "            \"title\": \"UN estimates more than 670 killed in Papua New Guinea landslide\",\n",
    "            \"published\": \"2024-05-26T00:00:00\",\n",
    "            \"url\": \"https://www.aljazeera.com/news/2024/5/26/un-estimates-more-than-670-killed-in-papua-new-guinea-landslide\"}\n",
    "landslide_breitbart = {\n",
    "            \"title\": \"UN raises Papua New Guinea landslide death toll estimate to 670\",\n",
    "            \"published\": \"2024-05-26T00:00:00\",\n",
    "            \"url\": \"https://www.breitbart.com/news/un-raises-papua-new-guinea-landslide-death-toll-estimate-to-670/\"}\n",
    "landslide_cnn = {\n",
    "            \"title\": \"More than 670 people feared dead after Papua New Guinea landslide, UN says\",\n",
    "            \"published\": \"2024-05-26T00:00:00\",\n",
    "            \"url\": \"https://www.cnn.com/2024/05/26/world/papua-new-guinea-landslide-death-toll-intl/index.html\"}\n",
    "landslide_fox = {\n",
    "            \"title\": \"Hundreds reportedly dead after severe landslide strikes Papua New Guinea village\",\n",
    "            \"published\": \"2024-05-24T00:00:00\",\n",
    "            \"url\": \"https://www.foxnews.com/world/hundreds-feared-dead-severe-landslide-strikes-papua-new-guinea-village\"}\n",
    "landslide_huffpost = {\n",
    "            \"title\": \"U.N. Migration Agency Estimates More Than 670 Killed In Papua New Guinea Landslide\",\n",
    "            \"published\": \"2024-05-26T00:00:00\",\n",
    "            \"url\": \"https://www.huffpost.com/entry/bc-as-papua-new-guinea-landslide_n_665327a8e4b09d0995d6dd6f\"}\n",
    "landslide_nyt = {\n",
    "            \"title\": \"Death Toll in Papua New Guinea Landslide Estimated to Be at Least 670\",\n",
    "            \"published\": \"2024-05-26T00:00:00\",\n",
    "            \"url\": \"https://www.nytimes.com/2024/05/26/world/asia/papua-new-guinea-landslide-death.html\"}\n",
    "landslide_watimes = {\n",
    "            \"title\": \"U.N. estimates over 670 people died in a massive Papua New Guinea landslide as survivors seek safety\",\n",
    "            \"published\": \"2024-05-26T00:00:00\",\n",
    "            \"url\": \"https://www.washingtontimes.com/news/2024/may/26/un-estimates-over-670-people-died-in-massive-papua/\"}\n",
    "landslide_wsj = dict()\n",
    "\n",
    "\n",
    "fl_abortion_aljazeera = {\n",
    "            \"title\": \"Biden denounces Florida abortion ruling as ‘outrageous’ as state vote looms\",\n",
    "            \"published\": \"2024-04-02T00:00:00\",\n",
    "            \"url\": \"https://www.aljazeera.com/news/2024/4/2/biden-denounces-florida-abortion-ruling-as-outrageous-as-state-vote-looms\"}\n",
    "fl_abortion_breitbart = {\n",
    "            \"title\": \"Florida Supreme Court Upholds 15-Week Abortion Limit, But Voters Will Decide in November\",\n",
    "            \"published\": \"2024-03-25T00:00:00\",\n",
    "            \"url\": \"https://www.breitbart.com/politics/2024/04/01/florida-supreme-court-upholds-15-week-abortion-limit-but-voters-will-decide-in-november/\"}\n",
    "fl_abortion_cnn = {\n",
    "            \"title\": \"Florida six-week abortion ban will soon become law, but voters will consider a constitutional amendment this fall\",\n",
    "            \"published\": \"2024-04-02T00:00:00\",\n",
    "            \"url\": \"https://www.cnn.com/2024/04/01/politics/florida-six-week-abortion-ban/index.html\"}\n",
    "fl_abortion_fox = {\n",
    "            \"title\": \"Florida Supreme Court approves abortion ballot initiative while upholding 15-week ban\",\n",
    "            \"published\": \"2024-03-25T00:00:00\",\n",
    "            \"url\": \"https://www.foxnews.com/politics/florida-supreme-court-approves-abortion-ballot-initiative-upholding-15-week-ban\"}\n",
    "fl_abortion_huffpost = {\n",
    "            \"title\": \"Top Florida Court Rules Against Protections For Abortion, Greenlights 6-Week Ban\",\n",
    "            \"published\": \"2024-03-25T00:00:00\",\n",
    "            \"url\": \"https://www.huffpost.com/entry/florida-court-abortion-6-week-ban_n_65088b87e4b0f04446230d7e\"}\n",
    "fl_abortion_nyt = {\n",
    "            \"title\": \"Florida Court Allows 6-Week Abortion Ban, but Voters Will Get to Weigh In\",\n",
    "            \"published\": \"2024-03-25T00:00:00\",\n",
    "            \"url\": \"https://www.nytimes.com/2024/04/01/us/florida-abortion-law-supreme-court.html\"}\n",
    "fl_abortion_watimes = {\n",
    "            \"title\": \"Florida Supreme Court upholds state’s 15-week ban on most abortions, paving way for 6-week ban\",\n",
    "            \"published\": \"2024-03-25T00:00:00\",\n",
    "            \"url\": \"https://www.washingtontimes.com/news/2024/apr/1/florida-supreme-court-upholds-states-15-week-ban-2/\"}\n",
    "fl_abortion_wsj = {\n",
    "            \"title\": \"Florida Abortion Rulings to Keep Issue Front and Center in November\",\n",
    "            \"published\": \"2024-03-25T00:00:00\",\n",
    "            \"url\": \"https://www.wsj.com/politics/elections/florida-abortion-rulings-to-keep-issue-front-and-center-in-november-1168511c\"}\n",
    "\n",
    "\n",
    "trump_trial_aljazeera = {\n",
    "            \"title\": \"Donald Trump guilty on all counts in hush-money trial, New York jury finds\",\n",
    "            \"published\": \"2024-05-30T00:00:00\",\n",
    "            \"url\": \"https://www.aljazeera.com/news/2024/5/30/new-york-jury-finds-donald-trump-guilty-in-new-york-hush-money-trial\"}\n",
    "trump_trial_breitbart = {\n",
    "            \"title\": \"Guilty on all counts: Trump criminal conviction makes history\",\n",
    "            \"published\": \"2024-05-30T00:00:00\",\n",
    "            \"url\": \"https://www.breitbart.com/news/donald-trump-convicted-on-all-charges-in-hush-money-trial/\"}\n",
    "trump_trial_cnn = {\n",
    "            \"title\": \"Trump found guilty in hush money trial\",\n",
    "            \"published\": \"2024-05-30T00:00:00\",\n",
    "            \"url\": \"https://www.cnn.com/2024/05/30/politics/donald-trump-hush-money-trial-verdict/index.html\"}\n",
    "trump_trial_fox = {\n",
    "            \"title\": \"Trump guilty on all counts in New York criminal trial\",\n",
    "            \"published\": \"2024-05-30T00:00:00\",\n",
    "            \"url\": \"https://www.foxnews.com/politics/ny-v-trump-jury-verdict-former-presidents-historic-criminal-trial\"}\n",
    "trump_trial_huffpost = {\n",
    "            \"title\": \"The Verdict: Inside The Courtroom As Donald Trump Learned He Had Been Convicted\",\n",
    "            \"published\": \"2024-05-30T00:00:00\",\n",
    "            \"url\": \"https://www.huffpost.com/entry/rump-hush-money-courtroom-scene_n_665941fbe4b0b6cf3f47907b\"}\n",
    "trump_trial_nyt = {\n",
    "            \"title\": \"Trump Convicted on All Counts to Become America’s First Felon President\",\n",
    "            \"published\": \"2024-05-30T00:00:00\",\n",
    "            \"url\": \"https://www.nytimes.com/2024/05/30/nyregion/trump-convicted-hush-money-trial.html\"}\n",
    "trump_trial_watimes = {\n",
    "            \"title\": \"Trump becomes first former president to be convicted of crime\",\n",
    "            \"published\": \"2024-05-30T00:00:00\",\n",
    "            \"url\": \"https://www.washingtontimes.com/news/2024/may/30/manhattan-jury-finds-donald-trump-guilty-on-all-co/\"}\n",
    "trump_trial_wsj = {\n",
    "            \"title\": \"Donald Trump Found Guilty on All 34 Counts in New York Hush-Money Case\",\n",
    "            \"published\": \"2024-05-30T00:00:00\",\n",
    "            \"url\": \"https://www.wsj.com/us-news/law/donald-trump-convicted-87a4e465\"}\n",
    "\n",
    "# repos = ['ceasefire', 'fl_abortion', 'trump_bond', 'trump_trial']\n",
    "repos = ['fl_abortion', 'landslide', 'trump_trial']\n",
    "# 2 ~neutral sources (Al Jazeera, WSJ), 3 right/conservative sources(Breitbart, Fox, WA Times)\n",
    "#    3 left/liberal sources (CNN, Huffington Post, NYT)\n",
    "sources = {'aljazeera': 'Al Jazeera',    # ~ neutral\n",
    "           'wsj': 'Wall Street Journal',\n",
    "           'breitbart': 'Breitbart',     # conservative\n",
    "           'fox': 'Fox News',\n",
    "           'watimes': 'Washington Times',\n",
    "           'cnn': 'CNN',                 # liberal\n",
    "           'huffpost': 'Huffington Post',\n",
    "           'nyt': 'New York Times'}"
   ]
  },
  {
   "cell_type": "code",
   "execution_count": 5,
   "id": "4027a3f0",
   "metadata": {
    "ExecuteTime": {
     "end_time": "2024-06-05T04:33:48.875566Z",
     "start_time": "2024-06-05T04:33:48.870768Z"
    },
    "code_folding": [],
    "scrolled": true
   },
   "outputs": [],
   "source": [
    "# Function to fully ingest the first 7 sentences of each news articles regarding a specific topic \n",
    "# (ingested to the 'topic' repository)\n",
    "# \"Fully ingest\" means that the text is mapped to the DNA ontology\n",
    "# All sentences and quotes are processed to some extent\n",
    "def ingest_articles(repo: str): \n",
    "    for source in sources:\n",
    "        repo_source = f'{repo}_{source}'\n",
    "        print('repo_source ', repo_source)\n",
    "        try:\n",
    "            with open(f'articles/{repo_source}.txt', 'r') as news:\n",
    "                news_text = news.read()  \n",
    "        except:\n",
    "            print(f'No article text for {repo_source}')\n",
    "            print()\n",
    "            continue\n",
    "        metadata = globals()[repo_source]\n",
    "        req_dict = metadata\n",
    "        req_dict[\"source\"] = sources[source]\n",
    "        req_dict[\"text\"] = news_text\n",
    "        response = requests.post(\n",
    "            f'http://127.0.0.1:5000/dna/v1/repositories/narratives?repository={repo}&sentences=7',\n",
    "            json=req_dict)\n",
    "        print(response)\n",
    "        print(response.status_code, response.json())\n",
    "        print()"
   ]
  },
  {
   "cell_type": "code",
   "execution_count": 6,
   "id": "94250cb7",
   "metadata": {
    "ExecuteTime": {
     "end_time": "2024-06-05T05:24:24.071818Z",
     "start_time": "2024-06-05T04:34:00.264697Z"
    }
   },
   "outputs": [
    {
     "name": "stdout",
     "output_type": "stream",
     "text": [
      "repo_source  fl_abortion_aljazeera\n",
      "<Response [201]>\n",
      "201 {'narrativeDetails': {'narrativeId': 'db995877', 'narrativeMetadata': {'published': '2024-04-02T00:00:00', 'source': 'Al Jazeera', 'title': 'Biden denounces Florida abortion ruling as ‘outrageous’ as state vote looms', 'url': 'https://www.aljazeera.com/news/2024/4/2/biden-denounces-florida-abortion-ruling-as-outrageous-as-state-vote-looms'}, 'numberIngested': 7, 'numberOfSentences': 35, 'numberOfTriples': '709', 'processed': '2024-06-05T00:40:08'}, 'repository': 'fl_abortion'}\n",
      "\n",
      "repo_source  fl_abortion_wsj\n",
      "<Response [201]>\n",
      "201 {'narrativeDetails': {'narrativeId': '792b37f1', 'narrativeMetadata': {'published': '2024-03-25T00:00:00', 'source': 'Wall Street Journal', 'title': 'Florida Abortion Rulings to Keep Issue Front and Center in November', 'url': 'https://www.wsj.com/politics/elections/florida-abortion-rulings-to-keep-issue-front-and-center-in-november-1168511c'}, 'numberIngested': 7, 'numberOfSentences': 36, 'numberOfTriples': '745', 'processed': '2024-06-05T00:46:55'}, 'repository': 'fl_abortion'}\n",
      "\n",
      "repo_source  fl_abortion_breitbart\n",
      "<Response [201]>\n",
      "201 {'narrativeDetails': {'narrativeId': '985317e7', 'narrativeMetadata': {'published': '2024-03-25T00:00:00', 'source': 'Breitbart', 'title': 'Florida Supreme Court Upholds 15-Week Abortion Limit, But Voters Will Decide in November', 'url': 'https://www.breitbart.com/politics/2024/04/01/florida-supreme-court-upholds-15-week-abortion-limit-but-voters-will-decide-in-november/'}, 'numberIngested': 7, 'numberOfSentences': 32, 'numberOfTriples': '615', 'processed': '2024-06-05T00:53:24'}, 'repository': 'fl_abortion'}\n",
      "\n",
      "repo_source  fl_abortion_fox\n",
      "<Response [201]>\n",
      "201 {'narrativeDetails': {'narrativeId': '11ceb892', 'narrativeMetadata': {'published': '2024-03-25T00:00:00', 'source': 'Fox News', 'title': 'Florida Supreme Court approves abortion ballot initiative while upholding 15-week ban', 'url': 'https://www.foxnews.com/politics/florida-supreme-court-approves-abortion-ballot-initiative-upholding-15-week-ban'}, 'numberIngested': 7, 'numberOfSentences': 13, 'numberOfTriples': '344', 'processed': '2024-06-05T00:57:45'}, 'repository': 'fl_abortion'}\n",
      "\n",
      "repo_source  fl_abortion_watimes\n",
      "<Response [201]>\n",
      "201 {'narrativeDetails': {'narrativeId': '8e9bfc8e', 'narrativeMetadata': {'published': '2024-03-25T00:00:00', 'source': 'Washington Times', 'title': 'Florida Supreme Court upholds state’s 15-week ban on most abortions, paving way for 6-week ban', 'url': 'https://www.washingtontimes.com/news/2024/apr/1/florida-supreme-court-upholds-states-15-week-ban-2/'}, 'numberIngested': 7, 'numberOfSentences': 17, 'numberOfTriples': '342', 'processed': '2024-06-05T01:01:00'}, 'repository': 'fl_abortion'}\n",
      "\n",
      "repo_source  fl_abortion_cnn\n",
      "<Response [201]>\n",
      "201 {'narrativeDetails': {'narrativeId': '86efb5a2', 'narrativeMetadata': {'published': '2024-04-02T00:00:00', 'source': 'CNN', 'title': 'Florida six-week abortion ban will soon become law, but voters will consider a constitutional amendment this fall', 'url': 'https://www.cnn.com/2024/04/01/politics/florida-six-week-abortion-ban/index.html'}, 'numberIngested': 7, 'numberOfSentences': 47, 'numberOfTriples': '836', 'processed': '2024-06-05T01:10:10'}, 'repository': 'fl_abortion'}\n",
      "\n",
      "repo_source  fl_abortion_huffpost\n",
      "<Response [201]>\n",
      "201 {'narrativeDetails': {'narrativeId': '4045162d', 'narrativeMetadata': {'published': '2024-03-25T00:00:00', 'source': 'Huffington Post', 'title': 'Top Florida Court Rules Against Protections For Abortion, Greenlights 6-Week Ban', 'url': 'https://www.huffpost.com/entry/florida-court-abortion-6-week-ban_n_65088b87e4b0f04446230d7e'}, 'numberIngested': 7, 'numberOfSentences': 37, 'numberOfTriples': '697', 'processed': '2024-06-05T01:17:46'}, 'repository': 'fl_abortion'}\n",
      "\n",
      "repo_source  fl_abortion_nyt\n",
      "<Response [201]>\n",
      "201 {'narrativeDetails': {'narrativeId': 'b52a6517', 'narrativeMetadata': {'published': '2024-03-25T00:00:00', 'source': 'New York Times', 'title': 'Florida Court Allows 6-Week Abortion Ban, but Voters Will Get to Weigh In', 'url': 'https://www.nytimes.com/2024/04/01/us/florida-abortion-law-supreme-court.html'}, 'numberIngested': 7, 'numberOfSentences': 36, 'numberOfTriples': '614', 'processed': '2024-06-05T01:24:07'}, 'repository': 'fl_abortion'}\n",
      "\n"
     ]
    }
   ],
   "source": [
    "# Approx 6-7 mins/article\n",
    "ingest_articles('fl_abortion')"
   ]
  },
  {
   "cell_type": "code",
   "execution_count": 7,
   "id": "b59749b4",
   "metadata": {
    "ExecuteTime": {
     "end_time": "2024-06-05T12:29:12.459551Z",
     "start_time": "2024-06-05T12:29:11.333598Z"
    }
   },
   "outputs": [
    {
     "name": "stdout",
     "output_type": "stream",
     "text": [
      "200 {\n",
      " \"narratives\": [\n",
      "  {\n",
      "   \"narrativeId\": \"db995877\",\n",
      "   \"narrativeMetadata\": {\n",
      "    \"published\": \"2024-04-02T00:00:00\",\n",
      "    \"source\": \"Al Jazeera\",\n",
      "    \"title\": \"Biden denounces Florida abortion ruling as \\u2018outrageous\\u2019 as state vote looms\",\n",
      "    \"url\": \"https://www.aljazeera.com/news/2024/4/2/biden-denounces-florida-abortion-ruling-as-outrageous-as-state-vote-looms\"\n",
      "   },\n",
      "   \"numberIngested\": \"7\",\n",
      "   \"numberOfSentences\": \"35\",\n",
      "   \"numberOfTriples\": \"709\",\n",
      "   \"processed\": \"2024-06-05T00:40:08\"\n",
      "  },\n",
      "  {\n",
      "   \"narrativeId\": \"792b37f1\",\n",
      "   \"narrativeMetadata\": {\n",
      "    \"published\": \"2024-03-25T00:00:00\",\n",
      "    \"source\": \"Wall Street Journal\",\n",
      "    \"title\": \"Florida Abortion Rulings to Keep Issue Front and Center in November\",\n",
      "    \"url\": \"https://www.wsj.com/politics/elections/florida-abortion-rulings-to-keep-issue-front-and-center-in-november-1168511c\"\n",
      "   },\n",
      "   \"numberIngested\": \"7\",\n",
      "   \"numberOfSentences\": \"36\",\n",
      "   \"numberOfTriples\": \"745\",\n",
      "   \"processed\": \"2024-06-05T00:46:55\"\n",
      "  },\n",
      "  {\n",
      "   \"narrativeId\": \"985317e7\",\n",
      "   \"narrativeMetadata\": {\n",
      "    \"published\": \"2024-03-25T00:00:00\",\n",
      "    \"source\": \"Breitbart\",\n",
      "    \"title\": \"Florida Supreme Court Upholds 15-Week Abortion Limit, But Voters Will Decide in November\",\n",
      "    \"url\": \"https://www.breitbart.com/politics/2024/04/01/florida-supreme-court-upholds-15-week-abortion-limit-but-voters-will-decide-in-november/\"\n",
      "   },\n",
      "   \"numberIngested\": \"7\",\n",
      "   \"numberOfSentences\": \"32\",\n",
      "   \"numberOfTriples\": \"615\",\n",
      "   \"processed\": \"2024-06-05T00:53:24\"\n",
      "  },\n",
      "  {\n",
      "   \"narrativeId\": \"11ceb892\",\n",
      "   \"narrativeMetadata\": {\n",
      "    \"published\": \"2024-03-25T00:00:00\",\n",
      "    \"source\": \"Fox News\",\n",
      "    \"title\": \"Florida Supreme Court approves abortion ballot initiative while upholding 15-week ban\",\n",
      "    \"url\": \"https://www.foxnews.com/politics/florida-supreme-court-approves-abortion-ballot-initiative-upholding-15-week-ban\"\n",
      "   },\n",
      "   \"numberIngested\": \"7\",\n",
      "   \"numberOfSentences\": \"13\",\n",
      "   \"numberOfTriples\": \"344\",\n",
      "   \"processed\": \"2024-06-05T00:57:45\"\n",
      "  },\n",
      "  {\n",
      "   \"narrativeId\": \"8e9bfc8e\",\n",
      "   \"narrativeMetadata\": {\n",
      "    \"published\": \"2024-03-25T00:00:00\",\n",
      "    \"source\": \"Washington Times\",\n",
      "    \"title\": \"Florida Supreme Court upholds state\\u2019s 15-week ban on most abortions, paving way for 6-week ban\",\n",
      "    \"url\": \"https://www.washingtontimes.com/news/2024/apr/1/florida-supreme-court-upholds-states-15-week-ban-2/\"\n",
      "   },\n",
      "   \"numberIngested\": \"7\",\n",
      "   \"numberOfSentences\": \"17\",\n",
      "   \"numberOfTriples\": \"342\",\n",
      "   \"processed\": \"2024-06-05T01:01:00\"\n",
      "  },\n",
      "  {\n",
      "   \"narrativeId\": \"86efb5a2\",\n",
      "   \"narrativeMetadata\": {\n",
      "    \"published\": \"2024-04-02T00:00:00\",\n",
      "    \"source\": \"CNN\",\n",
      "    \"title\": \"Florida six-week abortion ban will soon become law, but voters will consider a constitutional amendment this fall\",\n",
      "    \"url\": \"https://www.cnn.com/2024/04/01/politics/florida-six-week-abortion-ban/index.html\"\n",
      "   },\n",
      "   \"numberIngested\": \"7\",\n",
      "   \"numberOfSentences\": \"47\",\n",
      "   \"numberOfTriples\": \"836\",\n",
      "   \"processed\": \"2024-06-05T01:10:10\"\n",
      "  },\n",
      "  {\n",
      "   \"narrativeId\": \"4045162d\",\n",
      "   \"narrativeMetadata\": {\n",
      "    \"published\": \"2024-03-25T00:00:00\",\n",
      "    \"source\": \"Huffington Post\",\n",
      "    \"title\": \"Top Florida Court Rules Against Protections For Abortion, Greenlights 6-Week Ban\",\n",
      "    \"url\": \"https://www.huffpost.com/entry/florida-court-abortion-6-week-ban_n_65088b87e4b0f04446230d7e\"\n",
      "   },\n",
      "   \"numberIngested\": \"7\",\n",
      "   \"numberOfSentences\": \"37\",\n",
      "   \"numberOfTriples\": \"697\",\n",
      "   \"processed\": \"2024-06-05T01:17:46\"\n",
      "  },\n",
      "  {\n",
      "   \"narrativeId\": \"b52a6517\",\n",
      "   \"narrativeMetadata\": {\n",
      "    \"published\": \"2024-03-25T00:00:00\",\n",
      "    \"source\": \"New York Times\",\n",
      "    \"title\": \"Florida Court Allows 6-Week Abortion Ban, but Voters Will Get to Weigh In\",\n",
      "    \"url\": \"https://www.nytimes.com/2024/04/01/us/florida-abortion-law-supreme-court.html\"\n",
      "   },\n",
      "   \"numberIngested\": \"7\",\n",
      "   \"numberOfSentences\": \"36\",\n",
      "   \"numberOfTriples\": \"614\",\n",
      "   \"processed\": \"2024-06-05T01:24:07\"\n",
      "  }\n",
      " ],\n",
      " \"repository\": \"fl_abortion\"\n",
      "}\n"
     ]
    }
   ],
   "source": [
    "# Check what articles are in the fl_abortion repository \n",
    "response = requests.get('http://127.0.0.1:5000/dna/v1/repositories/narratives?repository=fl_abortion')\n",
    "print(response.status_code, json.dumps(response.json(), indent=1))"
   ]
  },
  {
   "cell_type": "code",
   "execution_count": 8,
   "id": "9396ca22",
   "metadata": {
    "ExecuteTime": {
     "end_time": "2024-06-05T13:04:34.797242Z",
     "start_time": "2024-06-05T12:29:17.489233Z"
    },
    "scrolled": true
   },
   "outputs": [
    {
     "name": "stdout",
     "output_type": "stream",
     "text": [
      "repo_source  landslide_aljazeera\n",
      "<Response [201]>\n",
      "201 {'narrativeDetails': {'narrativeId': 'd7b91ba3', 'narrativeMetadata': {'published': '2024-05-26T00:00:00', 'source': 'Al Jazeera', 'title': 'UN estimates more than 670 killed in Papua New Guinea landslide', 'url': 'https://www.aljazeera.com/news/2024/5/26/un-estimates-more-than-670-killed-in-papua-new-guinea-landslide'}, 'numberIngested': 7, 'numberOfSentences': 19, 'numberOfTriples': '394', 'processed': '2024-06-05T08:33:35'}, 'repository': 'landslide'}\n",
      "\n",
      "repo_source  landslide_wsj\n",
      "No article text for landslide_wsj\n",
      "\n",
      "repo_source  landslide_breitbart\n",
      "<Response [201]>\n",
      "201 {'narrativeDetails': {'narrativeId': 'b1448cda', 'narrativeMetadata': {'published': '2024-05-26T00:00:00', 'source': 'Breitbart', 'title': 'UN raises Papua New Guinea landslide death toll estimate to 670', 'url': 'https://www.breitbart.com/news/un-raises-papua-new-guinea-landslide-death-toll-estimate-to-670/'}, 'numberIngested': 7, 'numberOfSentences': 16, 'numberOfTriples': '287', 'processed': '2024-06-05T08:38:35'}, 'repository': 'landslide'}\n",
      "\n",
      "repo_source  landslide_fox\n",
      "<Response [201]>\n",
      "201 {'narrativeDetails': {'narrativeId': '4e81b4bc', 'narrativeMetadata': {'published': '2024-05-24T00:00:00', 'source': 'Fox News', 'title': 'Hundreds reportedly dead after severe landslide strikes Papua New Guinea village', 'url': 'https://www.foxnews.com/world/hundreds-feared-dead-severe-landslide-strikes-papua-new-guinea-village'}, 'numberIngested': 7, 'numberOfSentences': 15, 'numberOfTriples': '398', 'processed': '2024-06-05T08:43:30'}, 'repository': 'landslide'}\n",
      "\n",
      "repo_source  landslide_watimes\n",
      "<Response [201]>\n",
      "201 {'narrativeDetails': {'narrativeId': '81faef89', 'narrativeMetadata': {'published': '2024-05-26T00:00:00', 'source': 'Washington Times', 'title': 'U.N. estimates over 670 people died in a massive Papua New Guinea landslide as survivors seek safety', 'url': 'https://www.washingtontimes.com/news/2024/may/26/un-estimates-over-670-people-died-in-massive-papua/'}, 'numberIngested': 7, 'numberOfSentences': 28, 'numberOfTriples': '429', 'processed': '2024-06-05T08:49:54'}, 'repository': 'landslide'}\n",
      "\n",
      "repo_source  landslide_cnn\n",
      "<Response [201]>\n",
      "201 {'narrativeDetails': {'narrativeId': 'c24bcd25', 'narrativeMetadata': {'published': '2024-05-26T00:00:00', 'source': 'CNN', 'title': 'More than 670 people feared dead after Papua New Guinea landslide, UN says', 'url': 'https://www.cnn.com/2024/05/26/world/papua-new-guinea-landslide-death-toll-intl/index.html'}, 'numberIngested': 7, 'numberOfSentences': 13, 'numberOfTriples': '218', 'processed': '2024-06-05T08:53:44'}, 'repository': 'landslide'}\n",
      "\n",
      "repo_source  landslide_huffpost\n",
      "<Response [201]>\n",
      "201 {'narrativeDetails': {'narrativeId': 'aed8b488', 'narrativeMetadata': {'published': '2024-05-26T00:00:00', 'source': 'Huffington Post', 'title': 'U.N. Migration Agency Estimates More Than 670 Killed In Papua New Guinea Landslide', 'url': 'https://www.huffpost.com/entry/bc-as-papua-new-guinea-landslide_n_665327a8e4b09d0995d6dd6f'}, 'numberIngested': 7, 'numberOfSentences': 32, 'numberOfTriples': '444', 'processed': '2024-06-05T09:00:16'}, 'repository': 'landslide'}\n",
      "\n",
      "repo_source  landslide_nyt\n",
      "<Response [201]>\n",
      "201 {'narrativeDetails': {'narrativeId': '9e4e2718', 'narrativeMetadata': {'published': '2024-05-26T00:00:00', 'source': 'New York Times', 'title': 'Death Toll in Papua New Guinea Landslide Estimated to Be at Least 670', 'url': 'https://www.nytimes.com/2024/05/26/world/asia/papua-new-guinea-landslide-death.html'}, 'numberIngested': 7, 'numberOfSentences': 15, 'numberOfTriples': '223', 'processed': '2024-06-05T09:04:16'}, 'repository': 'landslide'}\n",
      "\n"
     ]
    }
   ],
   "source": [
    "ingest_articles('landslide')"
   ]
  },
  {
   "cell_type": "code",
   "execution_count": 9,
   "id": "ec8e7a87",
   "metadata": {
    "ExecuteTime": {
     "end_time": "2024-06-05T14:40:29.421638Z",
     "start_time": "2024-06-05T13:04:59.224809Z"
    }
   },
   "outputs": [
    {
     "name": "stdout",
     "output_type": "stream",
     "text": [
      "repo_source  trump_trial_aljazeera\n",
      "<Response [201]>\n",
      "201 {'narrativeDetails': {'narrativeId': 'dd9d38a7', 'narrativeMetadata': {'published': '2024-05-30T00:00:00', 'source': 'Al Jazeera', 'title': 'Donald Trump guilty on all counts in hush-money trial, New York jury finds', 'url': 'https://www.aljazeera.com/news/2024/5/30/new-york-jury-finds-donald-trump-guilty-in-new-york-hush-money-trial'}, 'numberIngested': 7, 'numberOfSentences': 51, 'numberOfTriples': '1154', 'processed': '2024-06-05T09:17:46'}, 'repository': 'trump_trial'}\n",
      "\n",
      "repo_source  trump_trial_wsj\n",
      "<Response [201]>\n",
      "201 {'narrativeDetails': {'narrativeId': '98ade1b1', 'narrativeMetadata': {'published': '2024-05-30T00:00:00', 'source': 'Wall Street Journal', 'title': 'Donald Trump Found Guilty on All 34 Counts in New York Hush-Money Case', 'url': 'https://www.wsj.com/us-news/law/donald-trump-convicted-87a4e465'}, 'numberIngested': 7, 'numberOfSentences': 60, 'numberOfTriples': '909', 'processed': '2024-06-05T09:29:42'}, 'repository': 'trump_trial'}\n",
      "\n",
      "repo_source  trump_trial_breitbart\n",
      "<Response [201]>\n",
      "201 {'narrativeDetails': {'narrativeId': '5e0cb9ec', 'narrativeMetadata': {'published': '2024-05-30T00:00:00', 'source': 'Breitbart', 'title': 'Guilty on all counts: Trump criminal conviction makes history', 'url': 'https://www.breitbart.com/news/donald-trump-convicted-on-all-charges-in-hush-money-trial/'}, 'numberIngested': 7, 'numberOfSentences': 28, 'numberOfTriples': '495', 'processed': '2024-06-05T09:36:59'}, 'repository': 'trump_trial'}\n",
      "\n",
      "repo_source  trump_trial_fox\n",
      "<Response [201]>\n",
      "201 {'narrativeDetails': {'narrativeId': '6b8ac871', 'narrativeMetadata': {'published': '2024-05-30T00:00:00', 'source': 'Fox News', 'title': 'Trump guilty on all counts in New York criminal trial', 'url': 'https://www.foxnews.com/politics/ny-v-trump-jury-verdict-former-presidents-historic-criminal-trial'}, 'numberIngested': 7, 'numberOfSentences': 64, 'numberOfTriples': '1075', 'processed': '2024-06-05T09:50:20'}, 'repository': 'trump_trial'}\n",
      "\n",
      "repo_source  trump_trial_watimes\n",
      "<Response [201]>\n",
      "201 {'narrativeDetails': {'narrativeId': '46ed6f32', 'narrativeMetadata': {'published': '2024-05-30T00:00:00', 'source': 'Washington Times', 'title': 'Trump becomes first former president to be convicted of crime', 'url': 'https://www.washingtontimes.com/news/2024/may/30/manhattan-jury-finds-donald-trump-guilty-on-all-co/'}, 'numberIngested': 7, 'numberOfSentences': 50, 'numberOfTriples': '757', 'processed': '2024-06-05T10:01:52'}, 'repository': 'trump_trial'}\n",
      "\n",
      "repo_source  trump_trial_cnn\n",
      "<Response [201]>\n",
      "201 {'narrativeDetails': {'narrativeId': '75dc179d', 'narrativeMetadata': {'published': '2024-05-30T00:00:00', 'source': 'CNN', 'title': 'Trump found guilty in hush money trial', 'url': 'https://www.cnn.com/2024/05/30/politics/donald-trump-hush-money-trial-verdict/index.html'}, 'numberIngested': 7, 'numberOfSentences': 23, 'numberOfTriples': '514', 'processed': '2024-06-05T10:09:10'}, 'repository': 'trump_trial'}\n",
      "\n",
      "repo_source  trump_trial_huffpost\n",
      "<Response [201]>\n",
      "201 {'narrativeDetails': {'narrativeId': '3fcf42db', 'narrativeMetadata': {'published': '2024-05-30T00:00:00', 'source': 'Huffington Post', 'title': 'The Verdict: Inside The Courtroom As Donald Trump Learned He Had Been Convicted', 'url': 'https://www.huffpost.com/entry/rump-hush-money-courtroom-scene_n_665941fbe4b0b6cf3f47907b'}, 'numberIngested': 7, 'numberOfSentences': 44, 'numberOfTriples': '502', 'processed': '2024-06-05T10:16:52'}, 'repository': 'trump_trial'}\n",
      "\n",
      "repo_source  trump_trial_nyt\n",
      "<Response [201]>\n",
      "201 {'narrativeDetails': {'narrativeId': 'eac6dd1f', 'narrativeMetadata': {'published': '2024-05-30T00:00:00', 'source': 'New York Times', 'title': 'Trump Convicted on All Counts to Become America’s First Felon President', 'url': 'https://www.nytimes.com/2024/05/30/nyregion/trump-convicted-hush-money-trial.html'}, 'numberIngested': 7, 'numberOfSentences': 122, 'numberOfTriples': '1711', 'processed': '2024-06-05T10:40:05'}, 'repository': 'trump_trial'}\n",
      "\n"
     ]
    }
   ],
   "source": [
    "ingest_articles('trump_trial')"
   ]
  },
  {
   "cell_type": "code",
   "execution_count": 10,
   "id": "2c5776d8",
   "metadata": {
    "ExecuteTime": {
     "end_time": "2024-06-05T15:07:49.280656Z",
     "start_time": "2024-06-05T15:07:04.973853Z"
    }
   },
   "outputs": [],
   "source": [
    "# Dump of the article meta-data and triples\n",
    "for repo in ('fl_abortion', 'landslide', 'trump_trial'):\n",
    "    response = requests.get(f'http://127.0.0.1:5000/dna/v1/repositories/narratives?repository={repo}')\n",
    "    narr_details = response.json()['narratives']\n",
    "    narr_ids = []\n",
    "    for detail in narr_details:\n",
    "        narr_ids.append(detail['narrativeId'])\n",
    "    for narr_id in narr_ids:\n",
    "        response = requests.get(\n",
    "            f'http://127.0.0.1:5000/dna/v1/repositories/narratives/graphs?repository={repo}&narrativeId={narr_id}')\n",
    "        resp_json = response.json()\n",
    "        with open(f'dumps/{repo}_{narr_id}_details.json', 'w') as detail_out:\n",
    "            detail_out.write(json.dumps(dict(resp_json['narrativeDetails'])))\n",
    "        with open(f'dumps/{repo}_{narr_id}.ttl', 'w') as triples_out:\n",
    "            for triple in resp_json['triples']:\n",
    "                triples_out.write(triple)\n",
    "    "
   ]
  },
  {
   "cell_type": "code",
   "execution_count": null,
   "id": "d99c7662",
   "metadata": {},
   "outputs": [],
   "source": [
    "\n",
    "            "
   ]
  }
 ],
 "metadata": {
  "kernelspec": {
   "display_name": "Python 3",
   "language": "python",
   "name": "python3"
  },
  "language_info": {
   "codemirror_mode": {
    "name": "ipython",
    "version": 3
   },
   "file_extension": ".py",
   "mimetype": "text/x-python",
   "name": "python",
   "nbconvert_exporter": "python",
   "pygments_lexer": "ipython3",
   "version": "3.8.9"
  },
  "varInspector": {
   "cols": {
    "lenName": 16,
    "lenType": 16,
    "lenVar": 40
   },
   "kernels_config": {
    "python": {
     "delete_cmd_postfix": "",
     "delete_cmd_prefix": "del ",
     "library": "var_list.py",
     "varRefreshCmd": "print(var_dic_list())"
    },
    "r": {
     "delete_cmd_postfix": ") ",
     "delete_cmd_prefix": "rm(",
     "library": "var_list.r",
     "varRefreshCmd": "cat(var_dic_list()) "
    }
   },
   "position": {
    "height": "144.844px",
    "left": "1211px",
    "right": "20px",
    "top": "120px",
    "width": "350px"
   },
   "types_to_exclude": [
    "module",
    "function",
    "builtin_function_or_method",
    "instance",
    "_Feature"
   ],
   "window_display": false
  }
 },
 "nbformat": 4,
 "nbformat_minor": 5
}
